{
 "cells": [
  {
   "cell_type": "code",
   "execution_count": 6,
   "metadata": {},
   "outputs": [],
   "source": [
    "using DataFrames, JLD, FileIO"
   ]
  },
  {
   "cell_type": "markdown",
   "metadata": {},
   "source": [
    "# Energy data set"
   ]
  },
  {
   "cell_type": "code",
   "execution_count": 7,
   "metadata": {},
   "outputs": [],
   "source": [
    "data = readtable(\"../data/uci/energy.csv\");\n",
    "\n",
    "X = Float64.(Array(data[[:X1, :X2, :X3, :X4, :X5, :X6, :X7, :X8]]));\n",
    "X .-= minimum(X, 1)\n",
    "X ./= maximum(X, 1);\n",
    "X .-= mean(X, 1);\n",
    "\n",
    "y = Array(data[[:Y1, :Y2]]);\n",
    "y .-= mean(y, 1);\n",
    "\n",
    "# save to file\n",
    "f = File(format\"JLD\",\"../data/uci/energy\")\n",
    "save(f, \"X\", X, \"y\",  y)"
   ]
  },
  {
   "cell_type": "markdown",
   "metadata": {},
   "source": [
    "test"
   ]
  },
  {
   "cell_type": "code",
   "execution_count": 9,
   "metadata": {},
   "outputs": [],
   "source": [
    "f = File(format\"JLD\",\"../data/uci/energy\")\n",
    "data = load(f)\n",
    "\n",
    "@assert haskey(data, \"X\")\n",
    "@assert haskey(data, \"y\")"
   ]
  },
  {
   "cell_type": "markdown",
   "metadata": {},
   "source": [
    "# Concrete"
   ]
  },
  {
   "cell_type": "code",
   "execution_count": 10,
   "metadata": {},
   "outputs": [],
   "source": [
    "data = readtable(\"../data/uci/concrete.csv\");\n",
    "\n",
    "X = Float64.(Array(data[[:X1, :X2, :X3, :X4, :X5, :X6, :X7, :X8]]));\n",
    "X .-= minimum(X, 1)\n",
    "X ./= maximum(X, 1);\n",
    "X .-= mean(X, 1);\n",
    "\n",
    "y = Array(data[[:Y1]]);\n",
    "y .-= mean(y, 1);\n",
    "\n",
    "# save to file\n",
    "f = File(format\"JLD\",\"../data/uci/concrete\")\n",
    "save(f, \"X\", X, \"y\",  y)"
   ]
  },
  {
   "cell_type": "code",
   "execution_count": 11,
   "metadata": {},
   "outputs": [],
   "source": [
    "f = File(format\"JLD\",\"../data/uci/concrete\")\n",
    "data = load(f)\n",
    "\n",
    "@assert haskey(data, \"X\")\n",
    "@assert haskey(data, \"y\")"
   ]
  },
  {
   "cell_type": "markdown",
   "metadata": {},
   "source": [
    "# CCPP"
   ]
  },
  {
   "cell_type": "code",
   "execution_count": 12,
   "metadata": {},
   "outputs": [],
   "source": [
    "data = readtable(\"../data/uci/ccpp.csv\");\n",
    "\n",
    "X = Float64.(Array(data[[:X1, :X2, :X3, :X4]]));\n",
    "X .-= minimum(X, 1)\n",
    "X ./= maximum(X, 1);\n",
    "X .-= mean(X, 1);\n",
    "\n",
    "y = Array(data[[:Y]]);\n",
    "y .-= mean(y, 1);\n",
    "\n",
    "# save to file\n",
    "f = File(format\"JLD\",\"../data/uci/ccpp\")\n",
    "save(f, \"X\", X, \"y\",  y)"
   ]
  },
  {
   "cell_type": "code",
   "execution_count": 13,
   "metadata": {},
   "outputs": [],
   "source": [
    "f = File(format\"JLD\",\"../data/uci/ccpp\")\n",
    "data = load(f)\n",
    "\n",
    "@assert haskey(data, \"X\")\n",
    "@assert haskey(data, \"y\")"
   ]
  }
 ],
 "metadata": {
  "anaconda-cloud": {},
  "kernelspec": {
   "display_name": "Julia 0.6.2",
   "language": "julia",
   "name": "julia-0.6"
  },
  "language_info": {
   "file_extension": ".jl",
   "mimetype": "application/julia",
   "name": "julia",
   "version": "0.6.2"
  }
 },
 "nbformat": 4,
 "nbformat_minor": 2
}
