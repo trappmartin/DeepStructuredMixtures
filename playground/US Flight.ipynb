{
 "cells": [
  {
   "cell_type": "code",
   "execution_count": 505,
   "metadata": {},
   "outputs": [],
   "source": [
    "using GaussianProcesses, PGFPlots, SumProductNetworks\n",
    "using StatsFuns, Distributions, JLD, ProgressMeter, MultivariateStats\n",
    "import SumProductNetworks.add!"
   ]
  },
  {
   "cell_type": "markdown",
   "metadata": {},
   "source": [
    "### Load the scripts / functions used for SPNs with GP leaves"
   ]
  },
  {
   "cell_type": "code",
   "execution_count": 214,
   "metadata": {},
   "outputs": [
    {
     "data": {
      "text/plain": [
       "optimize2! (generic function with 1 method)"
      ]
     },
     "execution_count": 214,
     "metadata": {},
     "output_type": "execute_result"
    }
   ],
   "source": [
    "include(\"utilFunctions.jl\")\n",
    "include(\"dataTypes.jl\")\n",
    "include(\"dataTypeUtilFunctions.jl\")\n",
    "include(\"computationFunctions.jl\")\n",
    "include(\"regionGraph.jl\")\n",
    "include(\"regionGraphUtils.jl\")\n",
    "include(\"gpUtils.jl\")"
   ]
  },
  {
   "cell_type": "markdown",
   "metadata": {},
   "source": [
    "## Load the data set"
   ]
  },
  {
   "cell_type": "code",
   "execution_count": 521,
   "metadata": {},
   "outputs": [],
   "source": [
    "#data = load(\"../../../../datasets/us_flight_2008/dataset_1M.jld\");\n",
    "X = readcsv(\"../data/flight/X.csv\")\n",
    "y = readcsv(\"../data/flight/y.csv\");"
   ]
  },
  {
   "cell_type": "code",
   "execution_count": 522,
   "metadata": {},
   "outputs": [
    {
     "name": "stdout",
     "output_type": "stream",
     "text": [
      "(800000, 8)\n"
     ]
    }
   ],
   "source": [
    "println(size(X))"
   ]
  },
  {
   "cell_type": "code",
   "execution_count": 523,
   "metadata": {},
   "outputs": [
    {
     "name": "stdout",
     "output_type": "stream",
     "text": [
      "! Interruption.\n",
      "\\pgfmathparse@@ ...and \\pgfmath@bgroup@stripped @@\n",
      "                                                  @@\\pgfmath@parse@stop \n",
      "l.800014 };\n",
      "         \n",
      "Error saving as SVG\n"
     ]
    },
    {
     "name": "stderr",
     "output_type": "stream",
     "text": [
      "\u001b[91mERROR (unhandled task failure): \u001b[91mInterruptException:\u001b[39m\n",
      "Stacktrace:\n",
      " [1] \u001b[1mprocess_events\u001b[22m\u001b[22m at \u001b[1m./libuv.jl:82\u001b[22m\u001b[22m [inlined]\n",
      " [2] \u001b[1mwait\u001b[22m\u001b[22m\u001b[1m(\u001b[22m\u001b[22m\u001b[1m)\u001b[22m\u001b[22m at \u001b[1m./event.jl:216\u001b[22m\u001b[22m\n",
      " [3] \u001b[1mwait\u001b[22m\u001b[22m\u001b[1m(\u001b[22m\u001b[22m::Condition\u001b[1m)\u001b[22m\u001b[22m at \u001b[1m./event.jl:27\u001b[22m\u001b[22m\n",
      " [4] \u001b[1mstream_wait\u001b[22m\u001b[22m\u001b[1m(\u001b[22m\u001b[22m::Timer, ::Condition, ::Vararg{Condition,N} where N\u001b[1m)\u001b[22m\u001b[22m at \u001b[1m./stream.jl:42\u001b[22m\u001b[22m\n",
      " [5] \u001b[1mwait\u001b[22m\u001b[22m\u001b[1m(\u001b[22m\u001b[22m::Timer\u001b[1m)\u001b[22m\u001b[22m at \u001b[1m./event.jl:357\u001b[22m\u001b[22m\n",
      " [6] \u001b[1m(::Base.##300#301{IJulia.#send_stdout,Timer})\u001b[22m\u001b[22m\u001b[1m(\u001b[22m\u001b[22m\u001b[1m)\u001b[22m\u001b[22m at \u001b[1m./event.jl:430\u001b[22m\u001b[22m\n",
      "\u001b[39m"
     ]
    },
    {
     "ename": "ErrorException",
     "evalue": "\u001b[91mLaTeX error\u001b[39m",
     "output_type": "error",
     "traceback": [
      "\u001b[91mLaTeX error\u001b[39m",
      ""
     ]
    }
   ],
   "source": [
    "PGFPlots.Linear(X[:,1], y[:, 1], onlyMarks=true)"
   ]
  },
  {
   "cell_type": "markdown",
   "metadata": {},
   "source": [
    "## Split data set"
   ]
  },
  {
   "cell_type": "code",
   "execution_count": 524,
   "metadata": {},
   "outputs": [
    {
     "data": {
      "text/html": [
       "800000"
      ],
      "text/plain": [
       "800000"
      ]
     },
     "execution_count": 524,
     "metadata": {},
     "output_type": "execute_result"
    }
   ],
   "source": [
    "N = size(X, 1)"
   ]
  },
  {
   "cell_type": "code",
   "execution_count": 525,
   "metadata": {},
   "outputs": [
    {
     "data": {
      "text/html": [
       "640000"
      ],
      "text/plain": [
       "640000"
      ]
     },
     "execution_count": 525,
     "metadata": {},
     "output_type": "execute_result"
    }
   ],
   "source": [
    "Int(ceil(N * 0.8))"
   ]
  },
  {
   "cell_type": "code",
   "execution_count": 526,
   "metadata": {},
   "outputs": [],
   "source": [
    "Ntrain = 700_000\n",
    "\n",
    "srand(1234)\n",
    "\n",
    "ids = collect(1:size(X, 1))\n",
    "trainingIds = shuffle(ids)[1:Ntrain]\n",
    "testingIds = shuffle(setdiff(ids, trainingIds))[1:100_000];"
   ]
  },
  {
   "cell_type": "code",
   "execution_count": 527,
   "metadata": {},
   "outputs": [],
   "source": [
    "Xtest = X[testingIds,:]\n",
    "ytest = y[testingIds, :]\n",
    "\n",
    "Xtrain = X[trainingIds, :]\n",
    "ytrain = y[trainingIds, :];"
   ]
  },
  {
   "cell_type": "code",
   "execution_count": 528,
   "metadata": {},
   "outputs": [
    {
     "name": "stdout",
     "output_type": "stream",
     "text": [
      "RMSE (Mean): 30.965821920780662\n",
      "RMSE (Mean) Gal et al.: 36.61\n"
     ]
    }
   ],
   "source": [
    "meanY = mean(ytrain,1)\n",
    "rmse = sqrt(mean((ytest .- meanY).^2))\n",
    "\n",
    "println(\"RMSE (Mean): \", rmse)\n",
    "println(\"RMSE (Mean) Gal et al.: 36.61\")"
   ]
  },
  {
   "cell_type": "code",
   "execution_count": 529,
   "metadata": {},
   "outputs": [
    {
     "name": "stdout",
     "output_type": "stream",
     "text": [
      "RMSE (LLS): 29.421745742962788\n",
      "RMSE (LLS) Gal et al.: 34.94\n"
     ]
    }
   ],
   "source": [
    "a = llsq(Xtrain, ytrain, bias = false)\n",
    "\n",
    "yhat = Xtest * a\n",
    "rmse = sqrt(mean((yhat .- ytest).^2))\n",
    "\n",
    "println(\"RMSE (LLS): \", rmse)\n",
    "println(\"RMSE (LLS) Gal et al.: 34.94\")"
   ]
  },
  {
   "cell_type": "code",
   "execution_count": 530,
   "metadata": {},
   "outputs": [
    {
     "name": "stdout",
     "output_type": "stream",
     "text": [
      "RMSE (Ridge): 29.421745742962784\n",
      "RMSE (Ridge) Gal et al.: 34.94\n"
     ]
    }
   ],
   "source": [
    "α = 0.001\n",
    "a = ridge(Xtrain, ytrain, α, bias = false)\n",
    "\n",
    "yhat = Xtest * a\n",
    "rmse = sqrt(mean((yhat .- ytest).^2))\n",
    "\n",
    "println(\"RMSE (Ridge): \", rmse)\n",
    "println(\"RMSE (Ridge) Gal et al.: 34.94\")"
   ]
  },
  {
   "cell_type": "markdown",
   "metadata": {},
   "source": [
    "## create SPN"
   ]
  },
  {
   "cell_type": "code",
   "execution_count": 547,
   "metadata": {},
   "outputs": [
    {
     "name": "stdout",
     "output_type": "stream",
     "text": [
      "Samples: 128\n",
      "Samples: 456\n",
      "Samples: 369\n",
      "Samples: 404\n",
      "Samples: 306\n",
      "Samples: 134\n",
      "Samples: 1\n"
     ]
    },
    {
     "ename": "LoadError",
     "evalue": "\u001b[91mAssertionError: [5.6, 15.1, 3.1, 1199.6, 1199.6, 204.1, 1115.1, 20.1] -> [5.6, 15.1, 3.1, 1199.6, 1199.6, 204.1, 1115.1, 20.1]\u001b[39m",
     "output_type": "error",
     "traceback": [
      "\u001b[91mAssertionError: [5.6, 15.1, 3.1, 1199.6, 1199.6, 204.1, 1115.1, 20.1] -> [5.6, 15.1, 3.1, 1199.6, 1199.6, 204.1, 1115.1, 20.1]\u001b[39m",
      "",
      "Stacktrace:",
      " [1] \u001b[1mpoonDomingos_ND\u001b[22m\u001b[22m\u001b[1m(\u001b[22m\u001b[22m::Array{Float64,1}, ::Array{Float64,1}, ::Array{Float64,1}, ::Int64, ::Int64, ::Array{Float64,2}\u001b[1m)\u001b[22m\u001b[22m at \u001b[1m/charming/martint/code/SPNs/GP-SPN/playground/regionGraph.jl:189\u001b[22m\u001b[22m"
     ]
    }
   ],
   "source": [
    "(N, D) = size(Xtrain)\n",
    "\n",
    "global gID = 1\n",
    "\n",
    "numSums = 1\n",
    "meanFunction = MeanZero();\n",
    "kernelFunctions = [LinArd(ones(D)*log(5.0)), Mat32Ard(ones(D)*log(5.0), log(1.0)), SE(log(5.0), log(1.0))]\n",
    "kernelFunctions = [LinIso(log(5.0)), SE(-1., 0.), Mat32Iso(log(5.0), log(1.0))]\n",
    "\n",
    "kernelPriors = [ [Normal(-2.0,4.0),Normal(-2.0,4.0)] ]\n",
    "\n",
    "noise = -1.;\n",
    "\n",
    "# data range\n",
    "minX = vec(minimum(X, 1)) - 0.1\n",
    "maxX = vec(maximum(X, 1)) + 0.1\n",
    "\n",
    "# split size\n",
    "δ = (maxX - minX) ./ 2\n",
    "\n",
    "# maximum depth\n",
    "max_depth = 2\n",
    "min_samples = 500\n",
    "\n",
    "overlap = 0.0\n",
    "\n",
    "srand(1234)\n",
    "\n",
    "(rootRegion, sumRegions, gpRegions, allPartitions) = poonDomingos_ND(δ, minX, maxX, max_depth, min_samples, Xtrain);\n",
    "RegionIDs = Dict(r[2] => r[1] for r in enumerate(union(sumRegions, gpRegions)));\n",
    "PartitionIDS = Dict(p[2] => p[1] + maximum(values(RegionIDs)) for p in enumerate(allPartitions));\n",
    "\n",
    "println(\"gpRegions: \", length(gpRegions))\n",
    "\n",
    "#root = convertToSPN_ND(rootRegion, gpRegions, Xtrain, ytrain, meanFunction, kernelFunctions, noise; overlap = overlap)\n",
    "\n",
    "#(rootRegion, sumRegions, gpRegions, allPartitions) = poonDomingos_ND(δ, minX .+ (δ ./ 2), maxX .+ (δ ./ 2), max_depth);\n",
    "#RegionIDs = Dict(r[2] => r[1] for r in enumerate(union(sumRegions, gpRegions)));\n",
    "#PartitionIDS = Dict(p[2] => p[1] + maximum(values(RegionIDs)) for p in enumerate(allPartitions));\n",
    "#root2 = convertToSPN_ND(rootRegion, gpRegions, Xtrain, ytrain, meanFunction, kernelFunctions, noise; overlap = overlap)"
   ]
  },
  {
   "cell_type": "code",
   "execution_count": 545,
   "metadata": {},
   "outputs": [
    {
     "ename": "LoadError",
     "evalue": "\u001b[91mOutOfMemoryError()\u001b[39m",
     "output_type": "error",
     "traceback": [
      "\u001b[91mOutOfMemoryError()\u001b[39m",
      "",
      "Stacktrace:",
      " [1] \u001b[1mAt_mul_B\u001b[22m\u001b[22m\u001b[1m(\u001b[22m\u001b[22m::Array{Float64,2}, ::Array{Float64,2}\u001b[1m)\u001b[22m\u001b[22m at \u001b[1m./linalg/matmul.jl:182\u001b[22m\u001b[22m",
      " [2] \u001b[1mType\u001b[22m\u001b[22m at \u001b[1m/raid/user/martint/.julia/v0.6/GaussianProcesses/src/kernels/lin_iso.jl:22\u001b[22m\u001b[22m [inlined]",
      " [3] \u001b[1mGaussianProcesses.GPE\u001b[22m\u001b[22m\u001b[1m(\u001b[22m\u001b[22m::Array{Float64,2}, ::Array{Float64,1}, ::GaussianProcesses.MeanZero, ::GaussianProcesses.LinIso, ::Float64\u001b[1m)\u001b[22m\u001b[22m at \u001b[1m/raid/user/martint/.julia/v0.6/GaussianProcesses/src/GPE.jl:45\u001b[22m\u001b[22m",
      " [4] \u001b[1mGP\u001b[22m\u001b[22m\u001b[1m(\u001b[22m\u001b[22m::Array{Float64,2}, ::Array{Float64,1}, ::GaussianProcesses.MeanZero, ::GaussianProcesses.LinIso, ::Float64\u001b[1m)\u001b[22m\u001b[22m at \u001b[1m/raid/user/martint/.julia/v0.6/GaussianProcesses/src/GPE.jl:54\u001b[22m\u001b[22m",
      " [5] \u001b[1mmacro expansion\u001b[22m\u001b[22m at \u001b[1m/charming/martint/code/SPNs/GP-SPN/playground/regionGraphUtils.jl:62\u001b[22m\u001b[22m [inlined]",
      " [6] \u001b[1mmacro expansion\u001b[22m\u001b[22m at \u001b[1m/raid/user/martint/.julia/v0.6/ProgressMeter/src/ProgressMeter.jl:478\u001b[22m\u001b[22m [inlined]",
      " [7] \u001b[1m#convertToSPN_ND#745\u001b[22m\u001b[22m\u001b[1m(\u001b[22m\u001b[22m::Float64, ::Bool, ::Function, ::NDSumRegion, ::Array{AbstractRegion,1}, ::Array{Float64,2}, ::Array{Float64,2}, ::GaussianProcesses.MeanZero, ::Array{GaussianProcesses.Kernel,1}, ::Array{Array{Distributions.Normal{Float64},1},1}, ::Float64\u001b[1m)\u001b[22m\u001b[22m at \u001b[1m/charming/martint/code/SPNs/GP-SPN/playground/regionGraphUtils.jl:31\u001b[22m\u001b[22m",
      " [8] \u001b[1m(::#kw##convertToSPN_ND)\u001b[22m\u001b[22m\u001b[1m(\u001b[22m\u001b[22m::Array{Any,1}, ::#convertToSPN_ND, ::NDSumRegion, ::Array{AbstractRegion,1}, ::Array{Float64,2}, ::Array{Float64,2}, ::GaussianProcesses.MeanZero, ::Array{GaussianProcesses.Kernel,1}, ::Array{Array{Distributions.Normal{Float64},1},1}, ::Float64\u001b[1m)\u001b[22m\u001b[22m at \u001b[1m./<missing>:0\u001b[22m\u001b[22m"
     ]
    }
   ],
   "source": [
    "root = convertToSPN_ND(rootRegion, gpRegions, Xtrain, ytrain, meanFunction, \n",
    "    kernelFunctions, kernelPriors, noise; overlap = overlap, do_mcmc = false)"
   ]
  },
  {
   "cell_type": "code",
   "execution_count": 461,
   "metadata": {},
   "outputs": [
    {
     "name": "stdout",
     "output_type": "stream",
     "text": [
      "Base.LinAlg.PosDefException(10)\n",
      "Base.LinAlg.PosDefException(10)\n",
      "Base.LinAlg.PosDefException(8)\n",
      "Base.LinAlg.PosDefException(8)\n",
      "Base.LinAlg.PosDefException(6)\n",
      "Base.LinAlg.PosDefException(6)\n"
     ]
    }
   ],
   "source": [
    "#gpnodes = unique(filter(n -> isa(n, GPLeaf), SumProductNetworks.getOrderedNodes(root_1)));\n",
    "#map(gnode -> optimize2!(gnode.gp, mean = false, kern = true, noise = true, lik=false), gpnodes);"
   ]
  },
  {
   "cell_type": "code",
   "execution_count": 463,
   "metadata": {},
   "outputs": [
    {
     "name": "stdout",
     "output_type": "stream",
     "text": [
      "-1351.1404721621793\n",
      "-1491.7926488871135\n"
     ]
    }
   ],
   "source": [
    "fill!(root.prior_weights, 1. / length(root))\n",
    "fill!(root.posterior_weights, 1. / length(root))\n",
    "\n",
    "spn_update!(root)\n",
    "spn_posterior(root)"
   ]
  },
  {
   "cell_type": "code",
   "execution_count": 464,
   "metadata": {},
   "outputs": [
    {
     "name": "stdout",
     "output_type": "stream",
     "text": [
      "1.453069745127591\n"
     ]
    }
   ],
   "source": [
    "yhat = zeros(size(ytest))\n",
    "    \n",
    "for (yi, root_) in enumerate([root_1, root_2])\n",
    "    μ = predict_spn!(root_, Xtest);\n",
    "    yhat[:,yi] = μ\n",
    "end\n",
    "\n",
    "println(sqrt(mean((yhat - ytest).^2)))"
   ]
  },
  {
   "cell_type": "markdown",
   "metadata": {},
   "source": [
    "## Run the code several times..."
   ]
  },
  {
   "cell_type": "code",
   "execution_count": null,
   "metadata": {},
   "outputs": [],
   "source": [
    "Ntrain = 7_000\n",
    "\n",
    "@showprogress 1 \"Running experiments...\" for run in 1:20\n",
    "\n",
    "    ids = collect(1:size(X, 1))\n",
    "    trainingIds = shuffle(ids)[1:Ntrain]\n",
    "    testingIds = shuffle(setdiff(ids, trainingIds))[1:100_000];\n",
    "\n",
    "    Xtest = X[testingIds,:]\n",
    "    ytest = y[testingIds]\n",
    "\n",
    "    Xtrain = X[trainingIds, :]\n",
    "    ytrain = y[trainingIds];\n",
    "\n",
    "    global gID = 1\n",
    "\n",
    "    numSums = 1\n",
    "    meanFunction = MeanZero();\n",
    "    kernelFunctions = [LinIso(log(5.0)), Mat12Iso(log(5.0), log(1.0)), SE(log(5.0), log(1.0))]\n",
    "\n",
    "    noise = log(0.5);\n",
    "\n",
    "    # dimensionsality of data\n",
    "    D = size(X, 2)\n",
    "\n",
    "    # split size\n",
    "    δ = ones(Int, D) * 50\n",
    "\n",
    "    # data range\n",
    "    minX = vec(minimum(X, 1)) - 1\n",
    "    maxX = vec(maximum(X, 1)) + 1\n",
    "\n",
    "    # maximum depth\n",
    "    max_depth = 6\n",
    "    min_samples = 200\n",
    "\n",
    "    overlap = 5\n",
    "\n",
    "    (rootRegion, sumRegions, gpRegions, allPartitions) = poonDomingos_ND(δ, minX, maxX, max_depth, min_samples, Xtrain);\n",
    "    RegionIDs = Dict(r[2] => r[1] for r in enumerate(union(sumRegions, gpRegions)));\n",
    "    PartitionIDS = Dict(p[2] => p[1] + maximum(values(RegionIDs)) for p in enumerate(allPartitions));\n",
    "    root = convertToSPN_ND(rootRegion, gpRegions, Xtrain, ytrain, meanFunction, kernelFunctions, noise; overlap = overlap)\n",
    "\n",
    "    for gpnode in unique(filter(n -> isa(n, GPLeaf), SumProductNetworks.getOrderedNodes(root)))\n",
    "\n",
    "        if size(gpnode.gp.X, 2) > 0\n",
    "\n",
    "            try\n",
    "                optimize2!(gpnode.gp, mean = false, kern = true, noise = true, lik=false)\n",
    "            catch err\n",
    "                println(\"exception: \", err)\n",
    "                gpnode.gp.logNoise = noise\n",
    "                for kernel in kernelFunctions\n",
    "                    if isa(gpnode.gp.k, typeof(kernel))\n",
    "                            gpnode.gp.k = deepcopy(kernel)\n",
    "                    end\n",
    "                end\n",
    "                optimize2!(gpnode.gp, mean = false, kern = true, noise = false, lik=false)\n",
    "            end\n",
    "        end\n",
    "    end\n",
    "\n",
    "    fill!(root.prior_weights, 1. / length(root))\n",
    "    fill!(root.posterior_weights, 1. / length(root))\n",
    "\n",
    "    spn_update!(root)\n",
    "    spn_posterior(root)\n",
    "\n",
    "    test_rmse = spn_rmse(root, Xtest, ytest)\n",
    "\n",
    "    # save result\n",
    "    writecsv(\"flight_$(run)_7K.csv\", [test_rmse])\n",
    "    \n",
    "end"
   ]
  }
 ],
 "metadata": {
  "anaconda-cloud": {},
  "kernelspec": {
   "display_name": "Julia 0.6.2",
   "language": "julia",
   "name": "julia-0.6"
  },
  "language_info": {
   "file_extension": ".jl",
   "mimetype": "application/julia",
   "name": "julia",
   "version": "0.6.2"
  }
 },
 "nbformat": 4,
 "nbformat_minor": 2
}
