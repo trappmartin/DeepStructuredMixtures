{
 "cells": [
  {
   "cell_type": "code",
   "execution_count": 1,
   "metadata": {},
   "outputs": [
    {
     "name": "stderr",
     "output_type": "stream",
     "text": [
      "WARNING: using SumProductNetworks.eval in module Main conflicts with an existing identifier.\n"
     ]
    }
   ],
   "source": [
    "using GaussianProcesses, Plots, SumProductNetworks, StatsFuns, Distributions\n",
    "import SumProductNetworks.add!"
   ]
  },
  {
   "cell_type": "markdown",
   "metadata": {},
   "source": [
    "#### Include own implementations"
   ]
  },
  {
   "cell_type": "code",
   "execution_count": 2,
   "metadata": {},
   "outputs": [
    {
     "data": {
      "text/plain": [
       "spn_rand (generic function with 3 methods)"
      ]
     },
     "execution_count": 2,
     "metadata": {},
     "output_type": "execute_result"
    }
   ],
   "source": [
    "include(\"utilFunctions.jl\")\n",
    "include(\"dataTypes.jl\")\n",
    "include(\"dataTypeUtilFunctions.jl\")\n",
    "include(\"computationFunctions.jl\")"
   ]
  },
  {
   "cell_type": "markdown",
   "metadata": {},
   "source": [
    "#### Data set"
   ]
  },
  {
   "cell_type": "code",
   "execution_count": 3,
   "metadata": {},
   "outputs": [
    {
     "data": {
      "text/plain": [
       "Plots.GRBackend()"
      ]
     },
     "execution_count": 3,
     "metadata": {},
     "output_type": "execute_result"
    }
   ],
   "source": [
    "gr(size = (1024, 768))"
   ]
  },
  {
   "cell_type": "code",
   "execution_count": 4,
   "metadata": {},
   "outputs": [
    {
     "data": {
      "text/plain": [
       "\"../data/clean/motor.csv\""
      ]
     },
     "execution_count": 4,
     "metadata": {},
     "output_type": "execute_result"
    }
   ],
   "source": [
    "datapath = \"../data/clean/motor.csv\""
   ]
  },
  {
   "cell_type": "code",
   "execution_count": 12,
   "metadata": {},
   "outputs": [
    {
     "data": {
      "text/plain": [
       "([2.4 0.0 1.0 3.7; 2.6 -1.3 1.0 3.7; … ; 55.4 -2.7 3.0 138.0; 57.6 10.7 3.0 138.0], AbstractString[\"times\" \"accel\" \"strata\" \"v\"])"
      ]
     },
     "execution_count": 12,
     "metadata": {},
     "output_type": "execute_result"
    }
   ],
   "source": [
    "(data, header) = readcsv(datapath, header = true)"
   ]
  },
  {
   "cell_type": "code",
   "execution_count": 13,
   "metadata": {},
   "outputs": [
    {
     "data": {
      "text/plain": [
       "Dict{SubString{String},Int64} with 4 entries:\n",
       "  \"v\"      => 4\n",
       "  \"times\"  => 1\n",
       "  \"accel\"  => 2\n",
       "  \"strata\" => 3"
      ]
     },
     "execution_count": 13,
     "metadata": {},
     "output_type": "execute_result"
    }
   ],
   "source": [
    "headerDict = Dict(col[2] => col[1] for col in enumerate(header))"
   ]
  },
  {
   "cell_type": "code",
   "execution_count": 14,
   "metadata": {},
   "outputs": [],
   "source": [
    "X = convert(Vector, data[:,headerDict[\"times\"]])\n",
    "y = convert(Vector, data[:,headerDict[\"accel\"]]);"
   ]
  },
  {
   "cell_type": "code",
   "execution_count": 15,
   "metadata": {},
   "outputs": [],
   "source": [
    "y /= maximum(y);"
   ]
  },
  {
   "cell_type": "code",
   "execution_count": 16,
   "metadata": {},
   "outputs": [
    {
     "data": {
      "text/html": [
       "94"
      ],
      "text/plain": [
       "94"
      ]
     },
     "execution_count": 16,
     "metadata": {},
     "output_type": "execute_result"
    }
   ],
   "source": [
    "N = length(X)"
   ]
  },
  {
   "cell_type": "code",
   "execution_count": 17,
   "metadata": {},
   "outputs": [
    {
     "data": {
      "text/html": [
       "<?xml version=\"1.0\" encoding=\"utf-8\"?>\n",
       "<svg xmlns=\"http://www.w3.org/2000/svg\" xmlns:xlink=\"http://www.w3.org/1999/xlink\" width=\"1024\" height=\"768\" viewBox=\"0 0 1024 768\">\n",
       "<defs>\n",
       "  <clipPath id=\"clip1800\">\n",
       "    <rect x=\"0\" y=\"0\" width=\"1024\" height=\"768\"/>\n",
       "  </clipPath>\n",
       "</defs>\n",
       "<polygon clip-path=\"url(#clip1800)\" points=\"\n",
       "0,768 1024,768 1024,0 0,0 \n",
       "  \" fill=\"#ffffff\" fill-opacity=\"1\"/>\n",
       "<defs>\n",
       "  <clipPath id=\"clip1801\">\n",
       "    <rect x=\"204\" y=\"0\" width=\"718\" height=\"718\"/>\n",
       "  </clipPath>\n",
       "</defs>\n",
       "<polygon clip-path=\"url(#clip1800)\" points=\"\n",
       "39.1436,743.813 1004.31,743.813 1004.31,11.811 39.1436,11.811 \n",
       "  \" fill=\"#ffffff\" fill-opacity=\"1\"/>\n",
       "<defs>\n",
       "  <clipPath id=\"clip1802\">\n",
       "    <rect x=\"39\" y=\"11\" width=\"966\" height=\"733\"/>\n",
       "  </clipPath>\n",
       "</defs>\n",
       "<polyline clip-path=\"url(#clip1802)\" style=\"stroke:#000000; stroke-width:0.5; stroke-opacity:0.1; fill:none\" points=\"\n",
       "  191.824,743.813 191.824,11.811 \n",
       "  \"/>\n",
       "<polyline clip-path=\"url(#clip1802)\" style=\"stroke:#000000; stroke-width:0.5; stroke-opacity:0.1; fill:none\" points=\"\n",
       "  356.777,743.813 356.777,11.811 \n",
       "  \"/>\n",
       "<polyline clip-path=\"url(#clip1802)\" style=\"stroke:#000000; stroke-width:0.5; stroke-opacity:0.1; fill:none\" points=\"\n",
       "  521.729,743.813 521.729,11.811 \n",
       "  \"/>\n",
       "<polyline clip-path=\"url(#clip1802)\" style=\"stroke:#000000; stroke-width:0.5; stroke-opacity:0.1; fill:none\" points=\"\n",
       "  686.682,743.813 686.682,11.811 \n",
       "  \"/>\n",
       "<polyline clip-path=\"url(#clip1802)\" style=\"stroke:#000000; stroke-width:0.5; stroke-opacity:0.1; fill:none\" points=\"\n",
       "  851.635,743.813 851.635,11.811 \n",
       "  \"/>\n",
       "<polyline clip-path=\"url(#clip1802)\" style=\"stroke:#000000; stroke-width:0.5; stroke-opacity:0.1; fill:none\" points=\"\n",
       "  39.1436,652.057 1004.31,652.057 \n",
       "  \"/>\n",
       "<polyline clip-path=\"url(#clip1802)\" style=\"stroke:#000000; stroke-width:0.5; stroke-opacity:0.1; fill:none\" points=\"\n",
       "  39.1436,528.151 1004.31,528.151 \n",
       "  \"/>\n",
       "<polyline clip-path=\"url(#clip1802)\" style=\"stroke:#000000; stroke-width:0.5; stroke-opacity:0.1; fill:none\" points=\"\n",
       "  39.1436,404.245 1004.31,404.245 \n",
       "  \"/>\n",
       "<polyline clip-path=\"url(#clip1802)\" style=\"stroke:#000000; stroke-width:0.5; stroke-opacity:0.1; fill:none\" points=\"\n",
       "  39.1436,280.34 1004.31,280.34 \n",
       "  \"/>\n",
       "<polyline clip-path=\"url(#clip1802)\" style=\"stroke:#000000; stroke-width:0.5; stroke-opacity:0.1; fill:none\" points=\"\n",
       "  39.1436,156.434 1004.31,156.434 \n",
       "  \"/>\n",
       "<polyline clip-path=\"url(#clip1802)\" style=\"stroke:#000000; stroke-width:0.5; stroke-opacity:0.1; fill:none\" points=\"\n",
       "  39.1436,32.5281 1004.31,32.5281 \n",
       "  \"/>\n",
       "<polyline clip-path=\"url(#clip1800)\" style=\"stroke:#000000; stroke-width:1; stroke-opacity:1; fill:none\" points=\"\n",
       "  39.1436,743.813 1004.31,743.813 \n",
       "  \"/>\n",
       "<polyline clip-path=\"url(#clip1800)\" style=\"stroke:#000000; stroke-width:1; stroke-opacity:1; fill:none\" points=\"\n",
       "  39.1436,743.813 39.1436,11.811 \n",
       "  \"/>\n",
       "<polyline clip-path=\"url(#clip1800)\" style=\"stroke:#000000; stroke-width:1; stroke-opacity:1; fill:none\" points=\"\n",
       "  191.824,743.813 191.824,732.833 \n",
       "  \"/>\n",
       "<polyline clip-path=\"url(#clip1800)\" style=\"stroke:#000000; stroke-width:1; stroke-opacity:1; fill:none\" points=\"\n",
       "  356.777,743.813 356.777,732.833 \n",
       "  \"/>\n",
       "<polyline clip-path=\"url(#clip1800)\" style=\"stroke:#000000; stroke-width:1; stroke-opacity:1; fill:none\" points=\"\n",
       "  521.729,743.813 521.729,732.833 \n",
       "  \"/>\n",
       "<polyline clip-path=\"url(#clip1800)\" style=\"stroke:#000000; stroke-width:1; stroke-opacity:1; fill:none\" points=\"\n",
       "  686.682,743.813 686.682,732.833 \n",
       "  \"/>\n",
       "<polyline clip-path=\"url(#clip1800)\" style=\"stroke:#000000; stroke-width:1; stroke-opacity:1; fill:none\" points=\"\n",
       "  851.635,743.813 851.635,732.833 \n",
       "  \"/>\n",
       "<polyline clip-path=\"url(#clip1800)\" style=\"stroke:#000000; stroke-width:1; stroke-opacity:1; fill:none\" points=\"\n",
       "  39.1436,652.057 53.6212,652.057 \n",
       "  \"/>\n",
       "<polyline clip-path=\"url(#clip1800)\" style=\"stroke:#000000; stroke-width:1; stroke-opacity:1; fill:none\" points=\"\n",
       "  39.1436,528.151 53.6212,528.151 \n",
       "  \"/>\n",
       "<polyline clip-path=\"url(#clip1800)\" style=\"stroke:#000000; stroke-width:1; stroke-opacity:1; fill:none\" points=\"\n",
       "  39.1436,404.245 53.6212,404.245 \n",
       "  \"/>\n",
       "<polyline clip-path=\"url(#clip1800)\" style=\"stroke:#000000; stroke-width:1; stroke-opacity:1; fill:none\" points=\"\n",
       "  39.1436,280.34 53.6212,280.34 \n",
       "  \"/>\n",
       "<polyline clip-path=\"url(#clip1800)\" style=\"stroke:#000000; stroke-width:1; stroke-opacity:1; fill:none\" points=\"\n",
       "  39.1436,156.434 53.6212,156.434 \n",
       "  \"/>\n",
       "<polyline clip-path=\"url(#clip1800)\" style=\"stroke:#000000; stroke-width:1; stroke-opacity:1; fill:none\" points=\"\n",
       "  39.1436,32.5281 53.6212,32.5281 \n",
       "  \"/>\n",
       "<g clip-path=\"url(#clip1800)\">\n",
       "<text style=\"fill:#000000; fill-opacity:1; font-family:Arial,Helvetica Neue,Helvetica,sans-serif; font-size:12; text-anchor:middle;\" transform=\"rotate(0, 191.824, 759.733)\" x=\"191.824\" y=\"759.733\">10</text>\n",
       "</g>\n",
       "<g clip-path=\"url(#clip1800)\">\n",
       "<text style=\"fill:#000000; fill-opacity:1; font-family:Arial,Helvetica Neue,Helvetica,sans-serif; font-size:12; text-anchor:middle;\" transform=\"rotate(0, 356.777, 759.733)\" x=\"356.777\" y=\"759.733\">20</text>\n",
       "</g>\n",
       "<g clip-path=\"url(#clip1800)\">\n",
       "<text style=\"fill:#000000; fill-opacity:1; font-family:Arial,Helvetica Neue,Helvetica,sans-serif; font-size:12; text-anchor:middle;\" transform=\"rotate(0, 521.729, 759.733)\" x=\"521.729\" y=\"759.733\">30</text>\n",
       "</g>\n",
       "<g clip-path=\"url(#clip1800)\">\n",
       "<text style=\"fill:#000000; fill-opacity:1; font-family:Arial,Helvetica Neue,Helvetica,sans-serif; font-size:12; text-anchor:middle;\" transform=\"rotate(0, 686.682, 759.733)\" x=\"686.682\" y=\"759.733\">40</text>\n",
       "</g>\n",
       "<g clip-path=\"url(#clip1800)\">\n",
       "<text style=\"fill:#000000; fill-opacity:1; font-family:Arial,Helvetica Neue,Helvetica,sans-serif; font-size:12; text-anchor:middle;\" transform=\"rotate(0, 851.635, 759.733)\" x=\"851.635\" y=\"759.733\">50</text>\n",
       "</g>\n",
       "<g clip-path=\"url(#clip1800)\">\n",
       "<text style=\"fill:#000000; fill-opacity:1; font-family:Arial,Helvetica Neue,Helvetica,sans-serif; font-size:12; text-anchor:end;\" transform=\"rotate(0, 28.9036, 656.557)\" x=\"28.9036\" y=\"656.557\">-1.5</text>\n",
       "</g>\n",
       "<g clip-path=\"url(#clip1800)\">\n",
       "<text style=\"fill:#000000; fill-opacity:1; font-family:Arial,Helvetica Neue,Helvetica,sans-serif; font-size:12; text-anchor:end;\" transform=\"rotate(0, 28.9036, 532.651)\" x=\"28.9036\" y=\"532.651\">-1.0</text>\n",
       "</g>\n",
       "<g clip-path=\"url(#clip1800)\">\n",
       "<text style=\"fill:#000000; fill-opacity:1; font-family:Arial,Helvetica Neue,Helvetica,sans-serif; font-size:12; text-anchor:end;\" transform=\"rotate(0, 28.9036, 408.745)\" x=\"28.9036\" y=\"408.745\">-0.5</text>\n",
       "</g>\n",
       "<g clip-path=\"url(#clip1800)\">\n",
       "<text style=\"fill:#000000; fill-opacity:1; font-family:Arial,Helvetica Neue,Helvetica,sans-serif; font-size:12; text-anchor:end;\" transform=\"rotate(0, 28.9036, 284.84)\" x=\"28.9036\" y=\"284.84\">0.0</text>\n",
       "</g>\n",
       "<g clip-path=\"url(#clip1800)\">\n",
       "<text style=\"fill:#000000; fill-opacity:1; font-family:Arial,Helvetica Neue,Helvetica,sans-serif; font-size:12; text-anchor:end;\" transform=\"rotate(0, 28.9036, 160.934)\" x=\"28.9036\" y=\"160.934\">0.5</text>\n",
       "</g>\n",
       "<g clip-path=\"url(#clip1800)\">\n",
       "<text style=\"fill:#000000; fill-opacity:1; font-family:Arial,Helvetica Neue,Helvetica,sans-serif; font-size:12; text-anchor:end;\" transform=\"rotate(0, 28.9036, 37.0281)\" x=\"28.9036\" y=\"37.0281\">1.0</text>\n",
       "</g>\n",
       "<circle clip-path=\"url(#clip1802)\" style=\"fill:#000000; stroke:none; fill-opacity:1\" cx=\"66.4598\" cy=\"280.34\" r=\"4\"/>\n",
       "<circle clip-path=\"url(#clip1802)\" style=\"fill:#009af9; stroke:none; fill-opacity:1\" cx=\"66.4598\" cy=\"280.34\" r=\"3\"/>\n",
       "<circle clip-path=\"url(#clip1802)\" style=\"fill:#000000; stroke:none; fill-opacity:1\" cx=\"69.7588\" cy=\"284.635\" r=\"4\"/>\n",
       "<circle clip-path=\"url(#clip1802)\" style=\"fill:#009af9; stroke:none; fill-opacity:1\" cx=\"69.7588\" cy=\"284.635\" r=\"3\"/>\n",
       "<circle clip-path=\"url(#clip1802)\" style=\"fill:#000000; stroke:none; fill-opacity:1\" cx=\"79.656\" cy=\"289.261\" r=\"4\"/>\n",
       "<circle clip-path=\"url(#clip1802)\" style=\"fill:#009af9; stroke:none; fill-opacity:1\" cx=\"79.656\" cy=\"289.261\" r=\"3\"/>\n",
       "<circle clip-path=\"url(#clip1802)\" style=\"fill:#000000; stroke:none; fill-opacity:1\" cx=\"86.2541\" cy=\"280.34\" r=\"4\"/>\n",
       "<circle clip-path=\"url(#clip1802)\" style=\"fill:#009af9; stroke:none; fill-opacity:1\" cx=\"86.2541\" cy=\"280.34\" r=\"3\"/>\n",
       "<circle clip-path=\"url(#clip1802)\" style=\"fill:#000000; stroke:none; fill-opacity:1\" cx=\"92.8522\" cy=\"289.261\" r=\"4\"/>\n",
       "<circle clip-path=\"url(#clip1802)\" style=\"fill:#009af9; stroke:none; fill-opacity:1\" cx=\"92.8522\" cy=\"289.261\" r=\"3\"/>\n",
       "<circle clip-path=\"url(#clip1802)\" style=\"fill:#000000; stroke:none; fill-opacity:1\" cx=\"129.142\" cy=\"289.261\" r=\"4\"/>\n",
       "<circle clip-path=\"url(#clip1802)\" style=\"fill:#009af9; stroke:none; fill-opacity:1\" cx=\"129.142\" cy=\"289.261\" r=\"3\"/>\n",
       "<circle clip-path=\"url(#clip1802)\" style=\"fill:#000000; stroke:none; fill-opacity:1\" cx=\"135.74\" cy=\"289.261\" r=\"4\"/>\n",
       "<circle clip-path=\"url(#clip1802)\" style=\"fill:#009af9; stroke:none; fill-opacity:1\" cx=\"135.74\" cy=\"289.261\" r=\"3\"/>\n",
       "<circle clip-path=\"url(#clip1802)\" style=\"fill:#000000; stroke:none; fill-opacity:1\" cx=\"139.039\" cy=\"284.635\" r=\"4\"/>\n",
       "<circle clip-path=\"url(#clip1802)\" style=\"fill:#009af9; stroke:none; fill-opacity:1\" cx=\"139.039\" cy=\"284.635\" r=\"3\"/>\n",
       "<circle clip-path=\"url(#clip1802)\" style=\"fill:#000000; stroke:none; fill-opacity:1\" cx=\"155.534\" cy=\"289.261\" r=\"4\"/>\n",
       "<circle clip-path=\"url(#clip1802)\" style=\"fill:#009af9; stroke:none; fill-opacity:1\" cx=\"155.534\" cy=\"289.261\" r=\"3\"/>\n",
       "<circle clip-path=\"url(#clip1802)\" style=\"fill:#000000; stroke:none; fill-opacity:1\" cx=\"162.132\" cy=\"289.261\" r=\"4\"/>\n",
       "<circle clip-path=\"url(#clip1802)\" style=\"fill:#009af9; stroke:none; fill-opacity:1\" cx=\"162.132\" cy=\"289.261\" r=\"3\"/>\n",
       "<circle clip-path=\"url(#clip1802)\" style=\"fill:#000000; stroke:none; fill-opacity:1\" cx=\"172.03\" cy=\"284.635\" r=\"4\"/>\n",
       "<circle clip-path=\"url(#clip1802)\" style=\"fill:#009af9; stroke:none; fill-opacity:1\" cx=\"172.03\" cy=\"284.635\" r=\"3\"/>\n",
       "<circle clip-path=\"url(#clip1802)\" style=\"fill:#000000; stroke:none; fill-opacity:1\" cx=\"185.226\" cy=\"289.261\" r=\"4\"/>\n",
       "<circle clip-path=\"url(#clip1802)\" style=\"fill:#009af9; stroke:none; fill-opacity:1\" cx=\"185.226\" cy=\"289.261\" r=\"3\"/>\n",
       "<circle clip-path=\"url(#clip1802)\" style=\"fill:#000000; stroke:none; fill-opacity:1\" cx=\"191.824\" cy=\"289.261\" r=\"4\"/>\n",
       "<circle clip-path=\"url(#clip1802)\" style=\"fill:#009af9; stroke:none; fill-opacity:1\" cx=\"191.824\" cy=\"289.261\" r=\"3\"/>\n",
       "<circle clip-path=\"url(#clip1802)\" style=\"fill:#000000; stroke:none; fill-opacity:1\" cx=\"195.123\" cy=\"298.182\" r=\"4\"/>\n",
       "<circle clip-path=\"url(#clip1802)\" style=\"fill:#009af9; stroke:none; fill-opacity:1\" cx=\"195.123\" cy=\"298.182\" r=\"3\"/>\n",
       "<circle clip-path=\"url(#clip1802)\" style=\"fill:#000000; stroke:none; fill-opacity:1\" cx=\"201.721\" cy=\"289.261\" r=\"4\"/>\n",
       "<circle clip-path=\"url(#clip1802)\" style=\"fill:#009af9; stroke:none; fill-opacity:1\" cx=\"201.721\" cy=\"289.261\" r=\"3\"/>\n",
       "<circle clip-path=\"url(#clip1802)\" style=\"fill:#000000; stroke:none; fill-opacity:1\" cx=\"208.319\" cy=\"298.182\" r=\"4\"/>\n",
       "<circle clip-path=\"url(#clip1802)\" style=\"fill:#009af9; stroke:none; fill-opacity:1\" cx=\"208.319\" cy=\"298.182\" r=\"3\"/>\n",
       "<circle clip-path=\"url(#clip1802)\" style=\"fill:#000000; stroke:none; fill-opacity:1\" cx=\"214.917\" cy=\"280.34\" r=\"4\"/>\n",
       "<circle clip-path=\"url(#clip1802)\" style=\"fill:#009af9; stroke:none; fill-opacity:1\" cx=\"214.917\" cy=\"280.34\" r=\"3\"/>\n",
       "<circle clip-path=\"url(#clip1802)\" style=\"fill:#000000; stroke:none; fill-opacity:1\" cx=\"244.609\" cy=\"289.261\" r=\"4\"/>\n",
       "<circle clip-path=\"url(#clip1802)\" style=\"fill:#009af9; stroke:none; fill-opacity:1\" cx=\"244.609\" cy=\"289.261\" r=\"3\"/>\n",
       "<circle clip-path=\"url(#clip1802)\" style=\"fill:#000000; stroke:none; fill-opacity:1\" cx=\"251.207\" cy=\"289.261\" r=\"4\"/>\n",
       "<circle clip-path=\"url(#clip1802)\" style=\"fill:#009af9; stroke:none; fill-opacity:1\" cx=\"251.207\" cy=\"289.261\" r=\"3\"/>\n",
       "<circle clip-path=\"url(#clip1802)\" style=\"fill:#000000; stroke:none; fill-opacity:1\" cx=\"254.506\" cy=\"280.34\" r=\"4\"/>\n",
       "<circle clip-path=\"url(#clip1802)\" style=\"fill:#009af9; stroke:none; fill-opacity:1\" cx=\"254.506\" cy=\"280.34\" r=\"3\"/>\n",
       "<circle clip-path=\"url(#clip1802)\" style=\"fill:#000000; stroke:none; fill-opacity:1\" cx=\"267.702\" cy=\"324.285\" r=\"4\"/>\n",
       "<circle clip-path=\"url(#clip1802)\" style=\"fill:#009af9; stroke:none; fill-opacity:1\" cx=\"267.702\" cy=\"324.285\" r=\"3\"/>\n",
       "<circle clip-path=\"url(#clip1802)\" style=\"fill:#000000; stroke:none; fill-opacity:1\" cx=\"271.001\" cy=\"289.261\" r=\"4\"/>\n",
       "<circle clip-path=\"url(#clip1802)\" style=\"fill:#009af9; stroke:none; fill-opacity:1\" cx=\"271.001\" cy=\"289.261\" r=\"3\"/>\n",
       "<circle clip-path=\"url(#clip1802)\" style=\"fill:#000000; stroke:none; fill-opacity:1\" cx=\"280.898\" cy=\"355.674\" r=\"4\"/>\n",
       "<circle clip-path=\"url(#clip1802)\" style=\"fill:#009af9; stroke:none; fill-opacity:1\" cx=\"280.898\" cy=\"355.674\" r=\"3\"/>\n",
       "<circle clip-path=\"url(#clip1802)\" style=\"fill:#000000; stroke:none; fill-opacity:1\" cx=\"284.197\" cy=\"413.167\" r=\"4\"/>\n",
       "<circle clip-path=\"url(#clip1802)\" style=\"fill:#009af9; stroke:none; fill-opacity:1\" cx=\"284.197\" cy=\"413.167\" r=\"3\"/>\n",
       "<circle clip-path=\"url(#clip1802)\" style=\"fill:#000000; stroke:none; fill-opacity:1\" cx=\"287.496\" cy=\"351.379\" r=\"4\"/>\n",
       "<circle clip-path=\"url(#clip1802)\" style=\"fill:#009af9; stroke:none; fill-opacity:1\" cx=\"287.496\" cy=\"351.379\" r=\"3\"/>\n",
       "<circle clip-path=\"url(#clip1802)\" style=\"fill:#000000; stroke:none; fill-opacity:1\" cx=\"290.795\" cy=\"422.088\" r=\"4\"/>\n",
       "<circle clip-path=\"url(#clip1802)\" style=\"fill:#009af9; stroke:none; fill-opacity:1\" cx=\"290.795\" cy=\"422.088\" r=\"3\"/>\n",
       "<circle clip-path=\"url(#clip1802)\" style=\"fill:#000000; stroke:none; fill-opacity:1\" cx=\"294.095\" cy=\"351.379\" r=\"4\"/>\n",
       "<circle clip-path=\"url(#clip1802)\" style=\"fill:#009af9; stroke:none; fill-opacity:1\" cx=\"294.095\" cy=\"351.379\" r=\"3\"/>\n",
       "<circle clip-path=\"url(#clip1802)\" style=\"fill:#000000; stroke:none; fill-opacity:1\" cx=\"297.394\" cy=\"298.182\" r=\"4\"/>\n",
       "<circle clip-path=\"url(#clip1802)\" style=\"fill:#009af9; stroke:none; fill-opacity:1\" cx=\"297.394\" cy=\"298.182\" r=\"3\"/>\n",
       "<circle clip-path=\"url(#clip1802)\" style=\"fill:#000000; stroke:none; fill-opacity:1\" cx=\"300.693\" cy=\"475.285\" r=\"4\"/>\n",
       "<circle clip-path=\"url(#clip1802)\" style=\"fill:#009af9; stroke:none; fill-opacity:1\" cx=\"300.693\" cy=\"475.285\" r=\"3\"/>\n",
       "<circle clip-path=\"url(#clip1802)\" style=\"fill:#000000; stroke:none; fill-opacity:1\" cx=\"303.992\" cy=\"514.935\" r=\"4\"/>\n",
       "<circle clip-path=\"url(#clip1802)\" style=\"fill:#009af9; stroke:none; fill-opacity:1\" cx=\"303.992\" cy=\"514.935\" r=\"3\"/>\n",
       "<circle clip-path=\"url(#clip1802)\" style=\"fill:#000000; stroke:none; fill-opacity:1\" cx=\"317.188\" cy=\"404.245\" r=\"4\"/>\n",
       "<circle clip-path=\"url(#clip1802)\" style=\"fill:#009af9; stroke:none; fill-opacity:1\" cx=\"317.188\" cy=\"404.245\" r=\"3\"/>\n",
       "<circle clip-path=\"url(#clip1802)\" style=\"fill:#000000; stroke:none; fill-opacity:1\" cx=\"320.487\" cy=\"607.781\" r=\"4\"/>\n",
       "<circle clip-path=\"url(#clip1802)\" style=\"fill:#009af9; stroke:none; fill-opacity:1\" cx=\"320.487\" cy=\"607.781\" r=\"3\"/>\n",
       "<circle clip-path=\"url(#clip1802)\" style=\"fill:#000000; stroke:none; fill-opacity:1\" cx=\"333.683\" cy=\"652.057\" r=\"4\"/>\n",
       "<circle clip-path=\"url(#clip1802)\" style=\"fill:#009af9; stroke:none; fill-opacity:1\" cx=\"333.683\" cy=\"652.057\" r=\"3\"/>\n",
       "<circle clip-path=\"url(#clip1802)\" style=\"fill:#000000; stroke:none; fill-opacity:1\" cx=\"343.58\" cy=\"687.081\" r=\"4\"/>\n",
       "<circle clip-path=\"url(#clip1802)\" style=\"fill:#009af9; stroke:none; fill-opacity:1\" cx=\"343.58\" cy=\"687.081\" r=\"3\"/>\n",
       "<circle clip-path=\"url(#clip1802)\" style=\"fill:#000000; stroke:none; fill-opacity:1\" cx=\"346.879\" cy=\"563.175\" r=\"4\"/>\n",
       "<circle clip-path=\"url(#clip1802)\" style=\"fill:#009af9; stroke:none; fill-opacity:1\" cx=\"346.879\" cy=\"563.175\" r=\"3\"/>\n",
       "<circle clip-path=\"url(#clip1802)\" style=\"fill:#000000; stroke:none; fill-opacity:1\" cx=\"350.178\" cy=\"700.628\" r=\"4\"/>\n",
       "<circle clip-path=\"url(#clip1802)\" style=\"fill:#009af9; stroke:none; fill-opacity:1\" cx=\"350.178\" cy=\"700.628\" r=\"3\"/>\n",
       "<circle clip-path=\"url(#clip1802)\" style=\"fill:#000000; stroke:none; fill-opacity:1\" cx=\"360.076\" cy=\"687.081\" r=\"4\"/>\n",
       "<circle clip-path=\"url(#clip1802)\" style=\"fill:#009af9; stroke:none; fill-opacity:1\" cx=\"360.076\" cy=\"687.081\" r=\"3\"/>\n",
       "<circle clip-path=\"url(#clip1802)\" style=\"fill:#000000; stroke:none; fill-opacity:1\" cx=\"363.375\" cy=\"669.9\" r=\"4\"/>\n",
       "<circle clip-path=\"url(#clip1802)\" style=\"fill:#009af9; stroke:none; fill-opacity:1\" cx=\"363.375\" cy=\"669.9\" r=\"3\"/>\n",
       "<circle clip-path=\"url(#clip1802)\" style=\"fill:#000000; stroke:none; fill-opacity:1\" cx=\"376.571\" cy=\"723.096\" r=\"4\"/>\n",
       "<circle clip-path=\"url(#clip1802)\" style=\"fill:#009af9; stroke:none; fill-opacity:1\" cx=\"376.571\" cy=\"723.096\" r=\"3\"/>\n",
       "<circle clip-path=\"url(#clip1802)\" style=\"fill:#000000; stroke:none; fill-opacity:1\" cx=\"379.87\" cy=\"617.033\" r=\"4\"/>\n",
       "<circle clip-path=\"url(#clip1802)\" style=\"fill:#009af9; stroke:none; fill-opacity:1\" cx=\"379.87\" cy=\"617.033\" r=\"3\"/>\n",
       "<circle clip-path=\"url(#clip1802)\" style=\"fill:#000000; stroke:none; fill-opacity:1\" cx=\"386.468\" cy=\"638.51\" r=\"4\"/>\n",
       "<circle clip-path=\"url(#clip1802)\" style=\"fill:#009af9; stroke:none; fill-opacity:1\" cx=\"386.468\" cy=\"638.51\" r=\"3\"/>\n",
       "<circle clip-path=\"url(#clip1802)\" style=\"fill:#000000; stroke:none; fill-opacity:1\" cx=\"389.767\" cy=\"687.081\" r=\"4\"/>\n",
       "<circle clip-path=\"url(#clip1802)\" style=\"fill:#009af9; stroke:none; fill-opacity:1\" cx=\"389.767\" cy=\"687.081\" r=\"3\"/>\n",
       "<circle clip-path=\"url(#clip1802)\" style=\"fill:#000000; stroke:none; fill-opacity:1\" cx=\"409.561\" cy=\"687.081\" r=\"4\"/>\n",
       "<circle clip-path=\"url(#clip1802)\" style=\"fill:#009af9; stroke:none; fill-opacity:1\" cx=\"409.561\" cy=\"687.081\" r=\"3\"/>\n",
       "<circle clip-path=\"url(#clip1802)\" style=\"fill:#000000; stroke:none; fill-opacity:1\" cx=\"412.86\" cy=\"704.924\" r=\"4\"/>\n",
       "<circle clip-path=\"url(#clip1802)\" style=\"fill:#009af9; stroke:none; fill-opacity:1\" cx=\"412.86\" cy=\"704.924\" r=\"3\"/>\n",
       "<circle clip-path=\"url(#clip1802)\" style=\"fill:#000000; stroke:none; fill-opacity:1\" cx=\"422.758\" cy=\"652.057\" r=\"4\"/>\n",
       "<circle clip-path=\"url(#clip1802)\" style=\"fill:#009af9; stroke:none; fill-opacity:1\" cx=\"422.758\" cy=\"652.057\" r=\"3\"/>\n",
       "<circle clip-path=\"url(#clip1802)\" style=\"fill:#000000; stroke:none; fill-opacity:1\" cx=\"426.057\" cy=\"594.565\" r=\"4\"/>\n",
       "<circle clip-path=\"url(#clip1802)\" style=\"fill:#009af9; stroke:none; fill-opacity:1\" cx=\"426.057\" cy=\"594.565\" r=\"3\"/>\n",
       "<circle clip-path=\"url(#clip1802)\" style=\"fill:#000000; stroke:none; fill-opacity:1\" cx=\"432.655\" cy=\"457.112\" r=\"4\"/>\n",
       "<circle clip-path=\"url(#clip1802)\" style=\"fill:#009af9; stroke:none; fill-opacity:1\" cx=\"432.655\" cy=\"457.112\" r=\"3\"/>\n",
       "<circle clip-path=\"url(#clip1802)\" style=\"fill:#000000; stroke:none; fill-opacity:1\" cx=\"439.253\" cy=\"493.127\" r=\"4\"/>\n",
       "<circle clip-path=\"url(#clip1802)\" style=\"fill:#009af9; stroke:none; fill-opacity:1\" cx=\"439.253\" cy=\"493.127\" r=\"3\"/>\n",
       "<circle clip-path=\"url(#clip1802)\" style=\"fill:#000000; stroke:none; fill-opacity:1\" cx=\"445.851\" cy=\"519.23\" r=\"4\"/>\n",
       "<circle clip-path=\"url(#clip1802)\" style=\"fill:#009af9; stroke:none; fill-opacity:1\" cx=\"445.851\" cy=\"519.23\" r=\"3\"/>\n",
       "<circle clip-path=\"url(#clip1802)\" style=\"fill:#000000; stroke:none; fill-opacity:1\" cx=\"449.15\" cy=\"368.891\" r=\"4\"/>\n",
       "<circle clip-path=\"url(#clip1802)\" style=\"fill:#009af9; stroke:none; fill-opacity:1\" cx=\"449.15\" cy=\"368.891\" r=\"3\"/>\n",
       "<circle clip-path=\"url(#clip1802)\" style=\"fill:#000000; stroke:none; fill-opacity:1\" cx=\"455.748\" cy=\"298.182\" r=\"4\"/>\n",
       "<circle clip-path=\"url(#clip1802)\" style=\"fill:#009af9; stroke:none; fill-opacity:1\" cx=\"455.748\" cy=\"298.182\" r=\"3\"/>\n",
       "<circle clip-path=\"url(#clip1802)\" style=\"fill:#000000; stroke:none; fill-opacity:1\" cx=\"459.047\" cy=\"634.215\" r=\"4\"/>\n",
       "<circle clip-path=\"url(#clip1802)\" style=\"fill:#009af9; stroke:none; fill-opacity:1\" cx=\"459.047\" cy=\"634.215\" r=\"3\"/>\n",
       "<circle clip-path=\"url(#clip1802)\" style=\"fill:#000000; stroke:none; fill-opacity:1\" cx=\"462.346\" cy=\"497.092\" r=\"4\"/>\n",
       "<circle clip-path=\"url(#clip1802)\" style=\"fill:#009af9; stroke:none; fill-opacity:1\" cx=\"462.346\" cy=\"497.092\" r=\"3\"/>\n",
       "<circle clip-path=\"url(#clip1802)\" style=\"fill:#000000; stroke:none; fill-opacity:1\" cx=\"472.243\" cy=\"333.206\" r=\"4\"/>\n",
       "<circle clip-path=\"url(#clip1802)\" style=\"fill:#009af9; stroke:none; fill-opacity:1\" cx=\"472.243\" cy=\"333.206\" r=\"3\"/>\n",
       "<circle clip-path=\"url(#clip1802)\" style=\"fill:#000000; stroke:none; fill-opacity:1\" cx=\"475.543\" cy=\"431.009\" r=\"4\"/>\n",
       "<circle clip-path=\"url(#clip1802)\" style=\"fill:#009af9; stroke:none; fill-opacity:1\" cx=\"475.543\" cy=\"431.009\" r=\"3\"/>\n",
       "<circle clip-path=\"url(#clip1802)\" style=\"fill:#000000; stroke:none; fill-opacity:1\" cx=\"482.141\" cy=\"267.123\" r=\"4\"/>\n",
       "<circle clip-path=\"url(#clip1802)\" style=\"fill:#009af9; stroke:none; fill-opacity:1\" cx=\"482.141\" cy=\"267.123\" r=\"3\"/>\n",
       "<circle clip-path=\"url(#clip1802)\" style=\"fill:#000000; stroke:none; fill-opacity:1\" cx=\"492.038\" cy=\"240.69\" r=\"4\"/>\n",
       "<circle clip-path=\"url(#clip1802)\" style=\"fill:#009af9; stroke:none; fill-opacity:1\" cx=\"492.038\" cy=\"240.69\" r=\"3\"/>\n",
       "<circle clip-path=\"url(#clip1802)\" style=\"fill:#000000; stroke:none; fill-opacity:1\" cx=\"495.337\" cy=\"351.379\" r=\"4\"/>\n",
       "<circle clip-path=\"url(#clip1802)\" style=\"fill:#009af9; stroke:none; fill-opacity:1\" cx=\"495.337\" cy=\"351.379\" r=\"3\"/>\n",
       "<circle clip-path=\"url(#clip1802)\" style=\"fill:#000000; stroke:none; fill-opacity:1\" cx=\"498.636\" cy=\"125.375\" r=\"4\"/>\n",
       "<circle clip-path=\"url(#clip1802)\" style=\"fill:#009af9; stroke:none; fill-opacity:1\" cx=\"498.636\" cy=\"125.375\" r=\"3\"/>\n",
       "<circle clip-path=\"url(#clip1802)\" style=\"fill:#000000; stroke:none; fill-opacity:1\" cx=\"511.832\" cy=\"337.832\" r=\"4\"/>\n",
       "<circle clip-path=\"url(#clip1802)\" style=\"fill:#009af9; stroke:none; fill-opacity:1\" cx=\"511.832\" cy=\"337.832\" r=\"3\"/>\n",
       "<circle clip-path=\"url(#clip1802)\" style=\"fill:#000000; stroke:none; fill-opacity:1\" cx=\"525.028\" cy=\"160.729\" r=\"4\"/>\n",
       "<circle clip-path=\"url(#clip1802)\" style=\"fill:#009af9; stroke:none; fill-opacity:1\" cx=\"525.028\" cy=\"160.729\" r=\"3\"/>\n",
       "<circle clip-path=\"url(#clip1802)\" style=\"fill:#000000; stroke:none; fill-opacity:1\" cx=\"538.225\" cy=\"32.5281\" r=\"4\"/>\n",
       "<circle clip-path=\"url(#clip1802)\" style=\"fill:#009af9; stroke:none; fill-opacity:1\" cx=\"538.225\" cy=\"32.5281\" r=\"3\"/>\n",
       "<circle clip-path=\"url(#clip1802)\" style=\"fill:#000000; stroke:none; fill-opacity:1\" cx=\"541.524\" cy=\"253.576\" r=\"4\"/>\n",
       "<circle clip-path=\"url(#clip1802)\" style=\"fill:#009af9; stroke:none; fill-opacity:1\" cx=\"541.524\" cy=\"253.576\" r=\"3\"/>\n",
       "<circle clip-path=\"url(#clip1802)\" style=\"fill:#000000; stroke:none; fill-opacity:1\" cx=\"554.72\" cy=\"98.9416\" r=\"4\"/>\n",
       "<circle clip-path=\"url(#clip1802)\" style=\"fill:#009af9; stroke:none; fill-opacity:1\" cx=\"554.72\" cy=\"98.9416\" r=\"3\"/>\n",
       "<circle clip-path=\"url(#clip1802)\" style=\"fill:#000000; stroke:none; fill-opacity:1\" cx=\"567.916\" cy=\"125.375\" r=\"4\"/>\n",
       "<circle clip-path=\"url(#clip1802)\" style=\"fill:#009af9; stroke:none; fill-opacity:1\" cx=\"567.916\" cy=\"125.375\" r=\"3\"/>\n",
       "<circle clip-path=\"url(#clip1802)\" style=\"fill:#000000; stroke:none; fill-opacity:1\" cx=\"577.813\" cy=\"227.473\" r=\"4\"/>\n",
       "<circle clip-path=\"url(#clip1802)\" style=\"fill:#009af9; stroke:none; fill-opacity:1\" cx=\"577.813\" cy=\"227.473\" r=\"3\"/>\n",
       "<circle clip-path=\"url(#clip1802)\" style=\"fill:#000000; stroke:none; fill-opacity:1\" cx=\"584.411\" cy=\"129.67\" r=\"4\"/>\n",
       "<circle clip-path=\"url(#clip1802)\" style=\"fill:#009af9; stroke:none; fill-opacity:1\" cx=\"584.411\" cy=\"129.67\" r=\"3\"/>\n",
       "<circle clip-path=\"url(#clip1802)\" style=\"fill:#000000; stroke:none; fill-opacity:1\" cx=\"594.308\" cy=\"276.044\" r=\"4\"/>\n",
       "<circle clip-path=\"url(#clip1802)\" style=\"fill:#009af9; stroke:none; fill-opacity:1\" cx=\"594.308\" cy=\"276.044\" r=\"3\"/>\n",
       "<circle clip-path=\"url(#clip1802)\" style=\"fill:#000000; stroke:none; fill-opacity:1\" cx=\"600.907\" cy=\"32.5281\" r=\"4\"/>\n",
       "<circle clip-path=\"url(#clip1802)\" style=\"fill:#009af9; stroke:none; fill-opacity:1\" cx=\"600.907\" cy=\"32.5281\" r=\"3\"/>\n",
       "<circle clip-path=\"url(#clip1802)\" style=\"fill:#000000; stroke:none; fill-opacity:1\" cx=\"607.505\" cy=\"333.206\" r=\"4\"/>\n",
       "<circle clip-path=\"url(#clip1802)\" style=\"fill:#009af9; stroke:none; fill-opacity:1\" cx=\"607.505\" cy=\"333.206\" r=\"3\"/>\n",
       "<circle clip-path=\"url(#clip1802)\" style=\"fill:#000000; stroke:none; fill-opacity:1\" cx=\"610.804\" cy=\"50.3705\" r=\"4\"/>\n",
       "<circle clip-path=\"url(#clip1802)\" style=\"fill:#009af9; stroke:none; fill-opacity:1\" cx=\"610.804\" cy=\"50.3705\" r=\"3\"/>\n",
       "<circle clip-path=\"url(#clip1802)\" style=\"fill:#000000; stroke:none; fill-opacity:1\" cx=\"614.103\" cy=\"165.355\" r=\"4\"/>\n",
       "<circle clip-path=\"url(#clip1802)\" style=\"fill:#009af9; stroke:none; fill-opacity:1\" cx=\"614.103\" cy=\"165.355\" r=\"3\"/>\n",
       "<circle clip-path=\"url(#clip1802)\" style=\"fill:#000000; stroke:none; fill-opacity:1\" cx=\"624\" cy=\"404.245\" r=\"4\"/>\n",
       "<circle clip-path=\"url(#clip1802)\" style=\"fill:#009af9; stroke:none; fill-opacity:1\" cx=\"624\" cy=\"404.245\" r=\"3\"/>\n",
       "<circle clip-path=\"url(#clip1802)\" style=\"fill:#000000; stroke:none; fill-opacity:1\" cx=\"653.691\" cy=\"125.375\" r=\"4\"/>\n",
       "<circle clip-path=\"url(#clip1802)\" style=\"fill:#009af9; stroke:none; fill-opacity:1\" cx=\"653.691\" cy=\"125.375\" r=\"3\"/>\n",
       "<circle clip-path=\"url(#clip1802)\" style=\"fill:#000000; stroke:none; fill-opacity:1\" cx=\"673.486\" cy=\"262.497\" r=\"4\"/>\n",
       "<circle clip-path=\"url(#clip1802)\" style=\"fill:#009af9; stroke:none; fill-opacity:1\" cx=\"673.486\" cy=\"262.497\" r=\"3\"/>\n",
       "<circle clip-path=\"url(#clip1802)\" style=\"fill:#000000; stroke:none; fill-opacity:1\" cx=\"676.785\" cy=\"284.635\" r=\"4\"/>\n",
       "<circle clip-path=\"url(#clip1802)\" style=\"fill:#009af9; stroke:none; fill-opacity:1\" cx=\"676.785\" cy=\"284.635\" r=\"3\"/>\n",
       "<circle clip-path=\"url(#clip1802)\" style=\"fill:#000000; stroke:none; fill-opacity:1\" cx=\"686.682\" cy=\"351.379\" r=\"4\"/>\n",
       "<circle clip-path=\"url(#clip1802)\" style=\"fill:#009af9; stroke:none; fill-opacity:1\" cx=\"686.682\" cy=\"351.379\" r=\"3\"/>\n",
       "<circle clip-path=\"url(#clip1802)\" style=\"fill:#000000; stroke:none; fill-opacity:1\" cx=\"693.28\" cy=\"324.285\" r=\"4\"/>\n",
       "<circle clip-path=\"url(#clip1802)\" style=\"fill:#009af9; stroke:none; fill-opacity:1\" cx=\"693.28\" cy=\"324.285\" r=\"3\"/>\n",
       "<circle clip-path=\"url(#clip1802)\" style=\"fill:#000000; stroke:none; fill-opacity:1\" cx=\"713.074\" cy=\"178.572\" r=\"4\"/>\n",
       "<circle clip-path=\"url(#clip1802)\" style=\"fill:#009af9; stroke:none; fill-opacity:1\" cx=\"713.074\" cy=\"178.572\" r=\"3\"/>\n",
       "<circle clip-path=\"url(#clip1802)\" style=\"fill:#000000; stroke:none; fill-opacity:1\" cx=\"726.271\" cy=\"183.198\" r=\"4\"/>\n",
       "<circle clip-path=\"url(#clip1802)\" style=\"fill:#009af9; stroke:none; fill-opacity:1\" cx=\"726.271\" cy=\"183.198\" r=\"3\"/>\n",
       "<circle clip-path=\"url(#clip1802)\" style=\"fill:#000000; stroke:none; fill-opacity:1\" cx=\"732.869\" cy=\"280.34\" r=\"4\"/>\n",
       "<circle clip-path=\"url(#clip1802)\" style=\"fill:#009af9; stroke:none; fill-opacity:1\" cx=\"732.869\" cy=\"280.34\" r=\"3\"/>\n",
       "<circle clip-path=\"url(#clip1802)\" style=\"fill:#000000; stroke:none; fill-opacity:1\" cx=\"736.168\" cy=\"231.769\" r=\"4\"/>\n",
       "<circle clip-path=\"url(#clip1802)\" style=\"fill:#009af9; stroke:none; fill-opacity:1\" cx=\"736.168\" cy=\"231.769\" r=\"3\"/>\n",
       "<circle clip-path=\"url(#clip1802)\" style=\"fill:#000000; stroke:none; fill-opacity:1\" cx=\"752.663\" cy=\"284.635\" r=\"4\"/>\n",
       "<circle clip-path=\"url(#clip1802)\" style=\"fill:#009af9; stroke:none; fill-opacity:1\" cx=\"752.663\" cy=\"284.635\" r=\"3\"/>\n",
       "<circle clip-path=\"url(#clip1802)\" style=\"fill:#000000; stroke:none; fill-opacity:1\" cx=\"759.261\" cy=\"280.34\" r=\"4\"/>\n",
       "<circle clip-path=\"url(#clip1802)\" style=\"fill:#009af9; stroke:none; fill-opacity:1\" cx=\"759.261\" cy=\"280.34\" r=\"3\"/>\n",
       "<circle clip-path=\"url(#clip1802)\" style=\"fill:#000000; stroke:none; fill-opacity:1\" cx=\"769.158\" cy=\"244.985\" r=\"4\"/>\n",
       "<circle clip-path=\"url(#clip1802)\" style=\"fill:#009af9; stroke:none; fill-opacity:1\" cx=\"769.158\" cy=\"244.985\" r=\"3\"/>\n",
       "<circle clip-path=\"url(#clip1802)\" style=\"fill:#000000; stroke:none; fill-opacity:1\" cx=\"795.551\" cy=\"244.985\" r=\"4\"/>\n",
       "<circle clip-path=\"url(#clip1802)\" style=\"fill:#009af9; stroke:none; fill-opacity:1\" cx=\"795.551\" cy=\"244.985\" r=\"3\"/>\n",
       "<circle clip-path=\"url(#clip1802)\" style=\"fill:#000000; stroke:none; fill-opacity:1\" cx=\"815.345\" cy=\"368.891\" r=\"4\"/>\n",
       "<circle clip-path=\"url(#clip1802)\" style=\"fill:#009af9; stroke:none; fill-opacity:1\" cx=\"815.345\" cy=\"368.891\" r=\"3\"/>\n",
       "<circle clip-path=\"url(#clip1802)\" style=\"fill:#000000; stroke:none; fill-opacity:1\" cx=\"831.84\" cy=\"324.285\" r=\"4\"/>\n",
       "<circle clip-path=\"url(#clip1802)\" style=\"fill:#009af9; stroke:none; fill-opacity:1\" cx=\"831.84\" cy=\"324.285\" r=\"3\"/>\n",
       "<circle clip-path=\"url(#clip1802)\" style=\"fill:#000000; stroke:none; fill-opacity:1\" cx=\"861.532\" cy=\"280.34\" r=\"4\"/>\n",
       "<circle clip-path=\"url(#clip1802)\" style=\"fill:#009af9; stroke:none; fill-opacity:1\" cx=\"861.532\" cy=\"280.34\" r=\"3\"/>\n",
       "<circle clip-path=\"url(#clip1802)\" style=\"fill:#000000; stroke:none; fill-opacity:1\" cx=\"884.625\" cy=\"244.985\" r=\"4\"/>\n",
       "<circle clip-path=\"url(#clip1802)\" style=\"fill:#009af9; stroke:none; fill-opacity:1\" cx=\"884.625\" cy=\"244.985\" r=\"3\"/>\n",
       "<circle clip-path=\"url(#clip1802)\" style=\"fill:#000000; stroke:none; fill-opacity:1\" cx=\"904.42\" cy=\"328.911\" r=\"4\"/>\n",
       "<circle clip-path=\"url(#clip1802)\" style=\"fill:#009af9; stroke:none; fill-opacity:1\" cx=\"904.42\" cy=\"328.911\" r=\"3\"/>\n",
       "<circle clip-path=\"url(#clip1802)\" style=\"fill:#000000; stroke:none; fill-opacity:1\" cx=\"934.111\" cy=\"289.261\" r=\"4\"/>\n",
       "<circle clip-path=\"url(#clip1802)\" style=\"fill:#009af9; stroke:none; fill-opacity:1\" cx=\"934.111\" cy=\"289.261\" r=\"3\"/>\n",
       "<circle clip-path=\"url(#clip1802)\" style=\"fill:#000000; stroke:none; fill-opacity:1\" cx=\"940.709\" cy=\"289.261\" r=\"4\"/>\n",
       "<circle clip-path=\"url(#clip1802)\" style=\"fill:#009af9; stroke:none; fill-opacity:1\" cx=\"940.709\" cy=\"289.261\" r=\"3\"/>\n",
       "<circle clip-path=\"url(#clip1802)\" style=\"fill:#000000; stroke:none; fill-opacity:1\" cx=\"976.999\" cy=\"244.985\" r=\"4\"/>\n",
       "<circle clip-path=\"url(#clip1802)\" style=\"fill:#009af9; stroke:none; fill-opacity:1\" cx=\"976.999\" cy=\"244.985\" r=\"3\"/>\n",
       "<polygon clip-path=\"url(#clip1800)\" points=\"\n",
       "858.679,88.371 973.595,88.371 973.595,58.131 858.679,58.131 \n",
       "  \" fill=\"#ffffff\" fill-opacity=\"1\"/>\n",
       "<polyline clip-path=\"url(#clip1800)\" style=\"stroke:#000000; stroke-width:1; stroke-opacity:1; fill:none\" points=\"\n",
       "  858.679,88.371 973.595,88.371 973.595,58.131 858.679,58.131 858.679,88.371 \n",
       "  \"/>\n",
       "<circle clip-path=\"url(#clip1800)\" style=\"fill:#000000; stroke:none; fill-opacity:1\" cx=\"904.759\" cy=\"73.251\" r=\"6\"/>\n",
       "<circle clip-path=\"url(#clip1800)\" style=\"fill:#009af9; stroke:none; fill-opacity:1\" cx=\"904.759\" cy=\"73.251\" r=\"5\"/>\n",
       "<g clip-path=\"url(#clip1800)\">\n",
       "<text style=\"fill:#000000; fill-opacity:1; font-family:Arial,Helvetica Neue,Helvetica,sans-serif; font-size:12; text-anchor:start;\" transform=\"rotate(0, 940.599, 77.751)\" x=\"940.599\" y=\"77.751\">y1</text>\n",
       "</g>\n",
       "</svg>\n"
      ]
     },
     "execution_count": 17,
     "metadata": {},
     "output_type": "execute_result"
    }
   ],
   "source": [
    "scatter(X, y)"
   ]
  },
  {
   "cell_type": "markdown",
   "metadata": {},
   "source": [
    "## Learn a full GP"
   ]
  },
  {
   "cell_type": "code",
   "execution_count": 18,
   "metadata": {},
   "outputs": [
    {
     "data": {
      "text/plain": [
       "Type: GaussianProcesses.SEIso, Params: [0.0, 0.0]\n"
      ]
     },
     "execution_count": 18,
     "metadata": {},
     "output_type": "execute_result"
    }
   ],
   "source": [
    "mZero = MeanZero()                   #Zero mean function\n",
    "kern = SE(0.0,0.0)                   #Sqaured exponential kernel (note that hyperparameters are on the log scale)"
   ]
  },
  {
   "cell_type": "code",
   "execution_count": 19,
   "metadata": {},
   "outputs": [
    {
     "data": {
      "text/html": [
       "-1.0"
      ],
      "text/plain": [
       "-1.0"
      ]
     },
     "execution_count": 19,
     "metadata": {},
     "output_type": "execute_result"
    }
   ],
   "source": [
    "logObsNoise = -1.0                        # log standard deviation of observation noise (this is optional)"
   ]
  },
  {
   "cell_type": "code",
   "execution_count": 56,
   "metadata": {},
   "outputs": [
    {
     "data": {
      "text/html": [
       "1.6094379124341003"
      ],
      "text/plain": [
       "1.6094379124341003"
      ]
     },
     "execution_count": 56,
     "metadata": {},
     "output_type": "execute_result"
    }
   ],
   "source": [
    "log(5)"
   ]
  },
  {
   "cell_type": "code",
   "execution_count": 61,
   "metadata": {},
   "outputs": [
    {
     "data": {
      "text/plain": [
       "GP Exact object:\n",
       "  Dim = 1\n",
       "  Number of observations = 94\n",
       "  Mean function:\n",
       "    Type: GaussianProcesses.MeanZero, Params: Float64[]\n",
       "  Kernel:\n",
       "    Type: GaussianProcesses.SEIso, Params: [1.60944, 0.0]\n",
       "  Input observations = \n",
       "[2.4 2.6 … 55.4 57.6]\n",
       "  Output observations = [0.0, -0.0173333, -0.036, 0.0, -0.036, -0.036, -0.036, -0.0173333, -0.036, -0.036  …  0.142667, 0.142667, -0.357333, -0.177333, 0.0, 0.142667, -0.196, -0.036, -0.036, 0.142667]\n",
       "  Variance of observation noise = 0.01831563888873418\n",
       "  Marginal Log-Likelihood = -125.001"
      ]
     },
     "execution_count": 61,
     "metadata": {},
     "output_type": "execute_result"
    }
   ],
   "source": [
    "gp = GP(reshape(X, 1, N), y, MeanZero(), SE(log(5.0),log(1.0)), -2.)       #Fit the GP"
   ]
  },
  {
   "cell_type": "code",
   "execution_count": 54,
   "metadata": {},
   "outputs": [],
   "source": [
    "μ, σ² = predict_y(gp,linspace(minimum(X),maximum(X),100));"
   ]
  },
  {
   "cell_type": "code",
   "execution_count": 55,
   "metadata": {},
   "outputs": [
    {
     "data": {
      "text/html": [
       "<?xml version=\"1.0\" encoding=\"utf-8\"?>\n",
       "<svg xmlns=\"http://www.w3.org/2000/svg\" xmlns:xlink=\"http://www.w3.org/1999/xlink\" width=\"1024\" height=\"768\" viewBox=\"0 0 1024 768\">\n",
       "<defs>\n",
       "  <clipPath id=\"clip2400\">\n",
       "    <rect x=\"0\" y=\"0\" width=\"1024\" height=\"768\"/>\n",
       "  </clipPath>\n",
       "</defs>\n",
       "<polygon clip-path=\"url(#clip2400)\" points=\"\n",
       "0,768 1024,768 1024,0 0,0 \n",
       "  \" fill=\"#ffffff\" fill-opacity=\"1\"/>\n",
       "<defs>\n",
       "  <clipPath id=\"clip2401\">\n",
       "    <rect x=\"204\" y=\"0\" width=\"718\" height=\"718\"/>\n",
       "  </clipPath>\n",
       "</defs>\n",
       "<polygon clip-path=\"url(#clip2400)\" points=\"\n",
       "29.2591,742.759 1004.31,742.759 1004.31,31.4961 29.2591,31.4961 \n",
       "  \" fill=\"#ffffff\" fill-opacity=\"1\"/>\n",
       "<defs>\n",
       "  <clipPath id=\"clip2402\">\n",
       "    <rect x=\"29\" y=\"31\" width=\"976\" height=\"712\"/>\n",
       "  </clipPath>\n",
       "</defs>\n",
       "<polyline clip-path=\"url(#clip2402)\" style=\"stroke:#000000; stroke-width:0.5; stroke-opacity:0.1; fill:none\" points=\"\n",
       "  183.503,742.759 183.503,31.4961 \n",
       "  \"/>\n",
       "<polyline clip-path=\"url(#clip2402)\" style=\"stroke:#000000; stroke-width:0.5; stroke-opacity:0.1; fill:none\" points=\"\n",
       "  350.145,742.759 350.145,31.4961 \n",
       "  \"/>\n",
       "<polyline clip-path=\"url(#clip2402)\" style=\"stroke:#000000; stroke-width:0.5; stroke-opacity:0.1; fill:none\" points=\"\n",
       "  516.787,742.759 516.787,31.4961 \n",
       "  \"/>\n",
       "<polyline clip-path=\"url(#clip2402)\" style=\"stroke:#000000; stroke-width:0.5; stroke-opacity:0.1; fill:none\" points=\"\n",
       "  683.429,742.759 683.429,31.4961 \n",
       "  \"/>\n",
       "<polyline clip-path=\"url(#clip2402)\" style=\"stroke:#000000; stroke-width:0.5; stroke-opacity:0.1; fill:none\" points=\"\n",
       "  850.071,742.759 850.071,31.4961 \n",
       "  \"/>\n",
       "<polyline clip-path=\"url(#clip2402)\" style=\"stroke:#000000; stroke-width:0.5; stroke-opacity:0.1; fill:none\" points=\"\n",
       "  29.2591,678.033 1004.31,678.033 \n",
       "  \"/>\n",
       "<polyline clip-path=\"url(#clip2402)\" style=\"stroke:#000000; stroke-width:0.5; stroke-opacity:0.1; fill:none\" points=\"\n",
       "  29.2591,478.855 1004.31,478.855 \n",
       "  \"/>\n",
       "<polyline clip-path=\"url(#clip2402)\" style=\"stroke:#000000; stroke-width:0.5; stroke-opacity:0.1; fill:none\" points=\"\n",
       "  29.2591,279.677 1004.31,279.677 \n",
       "  \"/>\n",
       "<polyline clip-path=\"url(#clip2402)\" style=\"stroke:#000000; stroke-width:0.5; stroke-opacity:0.1; fill:none\" points=\"\n",
       "  29.2591,80.4992 1004.31,80.4992 \n",
       "  \"/>\n",
       "<polyline clip-path=\"url(#clip2400)\" style=\"stroke:#000000; stroke-width:1; stroke-opacity:1; fill:none\" points=\"\n",
       "  29.2591,742.759 1004.31,742.759 \n",
       "  \"/>\n",
       "<polyline clip-path=\"url(#clip2400)\" style=\"stroke:#000000; stroke-width:1; stroke-opacity:1; fill:none\" points=\"\n",
       "  29.2591,742.759 29.2591,31.4961 \n",
       "  \"/>\n",
       "<polyline clip-path=\"url(#clip2400)\" style=\"stroke:#000000; stroke-width:1; stroke-opacity:1; fill:none\" points=\"\n",
       "  183.503,742.759 183.503,732.09 \n",
       "  \"/>\n",
       "<polyline clip-path=\"url(#clip2400)\" style=\"stroke:#000000; stroke-width:1; stroke-opacity:1; fill:none\" points=\"\n",
       "  350.145,742.759 350.145,732.09 \n",
       "  \"/>\n",
       "<polyline clip-path=\"url(#clip2400)\" style=\"stroke:#000000; stroke-width:1; stroke-opacity:1; fill:none\" points=\"\n",
       "  516.787,742.759 516.787,732.09 \n",
       "  \"/>\n",
       "<polyline clip-path=\"url(#clip2400)\" style=\"stroke:#000000; stroke-width:1; stroke-opacity:1; fill:none\" points=\"\n",
       "  683.429,742.759 683.429,732.09 \n",
       "  \"/>\n",
       "<polyline clip-path=\"url(#clip2400)\" style=\"stroke:#000000; stroke-width:1; stroke-opacity:1; fill:none\" points=\"\n",
       "  850.071,742.759 850.071,732.09 \n",
       "  \"/>\n",
       "<polyline clip-path=\"url(#clip2400)\" style=\"stroke:#000000; stroke-width:1; stroke-opacity:1; fill:none\" points=\"\n",
       "  29.2591,678.033 43.885,678.033 \n",
       "  \"/>\n",
       "<polyline clip-path=\"url(#clip2400)\" style=\"stroke:#000000; stroke-width:1; stroke-opacity:1; fill:none\" points=\"\n",
       "  29.2591,478.855 43.885,478.855 \n",
       "  \"/>\n",
       "<polyline clip-path=\"url(#clip2400)\" style=\"stroke:#000000; stroke-width:1; stroke-opacity:1; fill:none\" points=\"\n",
       "  29.2591,279.677 43.885,279.677 \n",
       "  \"/>\n",
       "<polyline clip-path=\"url(#clip2400)\" style=\"stroke:#000000; stroke-width:1; stroke-opacity:1; fill:none\" points=\"\n",
       "  29.2591,80.4992 43.885,80.4992 \n",
       "  \"/>\n",
       "<g clip-path=\"url(#clip2400)\">\n",
       "<text style=\"fill:#000000; fill-opacity:1; font-family:Arial,Helvetica Neue,Helvetica,sans-serif; font-size:12; text-anchor:middle;\" transform=\"rotate(0, 183.503, 758.679)\" x=\"183.503\" y=\"758.679\">10</text>\n",
       "</g>\n",
       "<g clip-path=\"url(#clip2400)\">\n",
       "<text style=\"fill:#000000; fill-opacity:1; font-family:Arial,Helvetica Neue,Helvetica,sans-serif; font-size:12; text-anchor:middle;\" transform=\"rotate(0, 350.145, 758.679)\" x=\"350.145\" y=\"758.679\">20</text>\n",
       "</g>\n",
       "<g clip-path=\"url(#clip2400)\">\n",
       "<text style=\"fill:#000000; fill-opacity:1; font-family:Arial,Helvetica Neue,Helvetica,sans-serif; font-size:12; text-anchor:middle;\" transform=\"rotate(0, 516.787, 758.679)\" x=\"516.787\" y=\"758.679\">30</text>\n",
       "</g>\n",
       "<g clip-path=\"url(#clip2400)\">\n",
       "<text style=\"fill:#000000; fill-opacity:1; font-family:Arial,Helvetica Neue,Helvetica,sans-serif; font-size:12; text-anchor:middle;\" transform=\"rotate(0, 683.429, 758.679)\" x=\"683.429\" y=\"758.679\">40</text>\n",
       "</g>\n",
       "<g clip-path=\"url(#clip2400)\">\n",
       "<text style=\"fill:#000000; fill-opacity:1; font-family:Arial,Helvetica Neue,Helvetica,sans-serif; font-size:12; text-anchor:middle;\" transform=\"rotate(0, 850.071, 758.679)\" x=\"850.071\" y=\"758.679\">50</text>\n",
       "</g>\n",
       "<g clip-path=\"url(#clip2400)\">\n",
       "<text style=\"fill:#000000; fill-opacity:1; font-family:Arial,Helvetica Neue,Helvetica,sans-serif; font-size:12; text-anchor:end;\" transform=\"rotate(0, 19.0191, 682.533)\" x=\"19.0191\" y=\"682.533\">-2</text>\n",
       "</g>\n",
       "<g clip-path=\"url(#clip2400)\">\n",
       "<text style=\"fill:#000000; fill-opacity:1; font-family:Arial,Helvetica Neue,Helvetica,sans-serif; font-size:12; text-anchor:end;\" transform=\"rotate(0, 19.0191, 483.355)\" x=\"19.0191\" y=\"483.355\">-1</text>\n",
       "</g>\n",
       "<g clip-path=\"url(#clip2400)\">\n",
       "<text style=\"fill:#000000; fill-opacity:1; font-family:Arial,Helvetica Neue,Helvetica,sans-serif; font-size:12; text-anchor:end;\" transform=\"rotate(0, 19.0191, 284.177)\" x=\"19.0191\" y=\"284.177\">0</text>\n",
       "</g>\n",
       "<g clip-path=\"url(#clip2400)\">\n",
       "<text style=\"fill:#000000; fill-opacity:1; font-family:Arial,Helvetica Neue,Helvetica,sans-serif; font-size:12; text-anchor:end;\" transform=\"rotate(0, 19.0191, 84.9992)\" x=\"19.0191\" y=\"84.9992\">1</text>\n",
       "</g>\n",
       "<g clip-path=\"url(#clip2400)\">\n",
       "<text style=\"fill:#000000; fill-opacity:1; font-family:Arial,Helvetica Neue,Helvetica,sans-serif; font-size:21; text-anchor:middle;\" transform=\"rotate(0, 516.787, 18)\" x=\"516.787\" y=\"18\">Full GP with SE Kernel and LLH: -36.41658636106447</text>\n",
       "</g>\n",
       "<circle clip-path=\"url(#clip2402)\" style=\"fill:#000000; stroke:none; fill-opacity:1\" cx=\"56.8551\" cy=\"279.677\" r=\"4\"/>\n",
       "<circle clip-path=\"url(#clip2402)\" style=\"fill:#009af9; stroke:none; fill-opacity:1\" cx=\"56.8551\" cy=\"279.677\" r=\"3\"/>\n",
       "<circle clip-path=\"url(#clip2402)\" style=\"fill:#000000; stroke:none; fill-opacity:1\" cx=\"60.1879\" cy=\"283.13\" r=\"4\"/>\n",
       "<circle clip-path=\"url(#clip2402)\" style=\"fill:#009af9; stroke:none; fill-opacity:1\" cx=\"60.1879\" cy=\"283.13\" r=\"3\"/>\n",
       "<circle clip-path=\"url(#clip2402)\" style=\"fill:#000000; stroke:none; fill-opacity:1\" cx=\"70.1864\" cy=\"286.848\" r=\"4\"/>\n",
       "<circle clip-path=\"url(#clip2402)\" style=\"fill:#009af9; stroke:none; fill-opacity:1\" cx=\"70.1864\" cy=\"286.848\" r=\"3\"/>\n",
       "<circle clip-path=\"url(#clip2402)\" style=\"fill:#000000; stroke:none; fill-opacity:1\" cx=\"76.8521\" cy=\"279.677\" r=\"4\"/>\n",
       "<circle clip-path=\"url(#clip2402)\" style=\"fill:#009af9; stroke:none; fill-opacity:1\" cx=\"76.8521\" cy=\"279.677\" r=\"3\"/>\n",
       "<circle clip-path=\"url(#clip2402)\" style=\"fill:#000000; stroke:none; fill-opacity:1\" cx=\"83.5178\" cy=\"286.848\" r=\"4\"/>\n",
       "<circle clip-path=\"url(#clip2402)\" style=\"fill:#009af9; stroke:none; fill-opacity:1\" cx=\"83.5178\" cy=\"286.848\" r=\"3\"/>\n",
       "<circle clip-path=\"url(#clip2402)\" style=\"fill:#000000; stroke:none; fill-opacity:1\" cx=\"120.179\" cy=\"286.848\" r=\"4\"/>\n",
       "<circle clip-path=\"url(#clip2402)\" style=\"fill:#009af9; stroke:none; fill-opacity:1\" cx=\"120.179\" cy=\"286.848\" r=\"3\"/>\n",
       "<circle clip-path=\"url(#clip2402)\" style=\"fill:#000000; stroke:none; fill-opacity:1\" cx=\"126.845\" cy=\"286.848\" r=\"4\"/>\n",
       "<circle clip-path=\"url(#clip2402)\" style=\"fill:#009af9; stroke:none; fill-opacity:1\" cx=\"126.845\" cy=\"286.848\" r=\"3\"/>\n",
       "<circle clip-path=\"url(#clip2402)\" style=\"fill:#000000; stroke:none; fill-opacity:1\" cx=\"130.178\" cy=\"283.13\" r=\"4\"/>\n",
       "<circle clip-path=\"url(#clip2402)\" style=\"fill:#009af9; stroke:none; fill-opacity:1\" cx=\"130.178\" cy=\"283.13\" r=\"3\"/>\n",
       "<circle clip-path=\"url(#clip2402)\" style=\"fill:#000000; stroke:none; fill-opacity:1\" cx=\"146.842\" cy=\"286.848\" r=\"4\"/>\n",
       "<circle clip-path=\"url(#clip2402)\" style=\"fill:#009af9; stroke:none; fill-opacity:1\" cx=\"146.842\" cy=\"286.848\" r=\"3\"/>\n",
       "<circle clip-path=\"url(#clip2402)\" style=\"fill:#000000; stroke:none; fill-opacity:1\" cx=\"153.507\" cy=\"286.848\" r=\"4\"/>\n",
       "<circle clip-path=\"url(#clip2402)\" style=\"fill:#009af9; stroke:none; fill-opacity:1\" cx=\"153.507\" cy=\"286.848\" r=\"3\"/>\n",
       "<circle clip-path=\"url(#clip2402)\" style=\"fill:#000000; stroke:none; fill-opacity:1\" cx=\"163.506\" cy=\"283.13\" r=\"4\"/>\n",
       "<circle clip-path=\"url(#clip2402)\" style=\"fill:#009af9; stroke:none; fill-opacity:1\" cx=\"163.506\" cy=\"283.13\" r=\"3\"/>\n",
       "<circle clip-path=\"url(#clip2402)\" style=\"fill:#000000; stroke:none; fill-opacity:1\" cx=\"176.837\" cy=\"286.848\" r=\"4\"/>\n",
       "<circle clip-path=\"url(#clip2402)\" style=\"fill:#009af9; stroke:none; fill-opacity:1\" cx=\"176.837\" cy=\"286.848\" r=\"3\"/>\n",
       "<circle clip-path=\"url(#clip2402)\" style=\"fill:#000000; stroke:none; fill-opacity:1\" cx=\"183.503\" cy=\"286.848\" r=\"4\"/>\n",
       "<circle clip-path=\"url(#clip2402)\" style=\"fill:#009af9; stroke:none; fill-opacity:1\" cx=\"183.503\" cy=\"286.848\" r=\"3\"/>\n",
       "<circle clip-path=\"url(#clip2402)\" style=\"fill:#000000; stroke:none; fill-opacity:1\" cx=\"186.836\" cy=\"294.018\" r=\"4\"/>\n",
       "<circle clip-path=\"url(#clip2402)\" style=\"fill:#009af9; stroke:none; fill-opacity:1\" cx=\"186.836\" cy=\"294.018\" r=\"3\"/>\n",
       "<circle clip-path=\"url(#clip2402)\" style=\"fill:#000000; stroke:none; fill-opacity:1\" cx=\"193.502\" cy=\"286.848\" r=\"4\"/>\n",
       "<circle clip-path=\"url(#clip2402)\" style=\"fill:#009af9; stroke:none; fill-opacity:1\" cx=\"193.502\" cy=\"286.848\" r=\"3\"/>\n",
       "<circle clip-path=\"url(#clip2402)\" style=\"fill:#000000; stroke:none; fill-opacity:1\" cx=\"200.167\" cy=\"294.018\" r=\"4\"/>\n",
       "<circle clip-path=\"url(#clip2402)\" style=\"fill:#009af9; stroke:none; fill-opacity:1\" cx=\"200.167\" cy=\"294.018\" r=\"3\"/>\n",
       "<circle clip-path=\"url(#clip2402)\" style=\"fill:#000000; stroke:none; fill-opacity:1\" cx=\"206.833\" cy=\"279.677\" r=\"4\"/>\n",
       "<circle clip-path=\"url(#clip2402)\" style=\"fill:#009af9; stroke:none; fill-opacity:1\" cx=\"206.833\" cy=\"279.677\" r=\"3\"/>\n",
       "<circle clip-path=\"url(#clip2402)\" style=\"fill:#000000; stroke:none; fill-opacity:1\" cx=\"236.828\" cy=\"286.848\" r=\"4\"/>\n",
       "<circle clip-path=\"url(#clip2402)\" style=\"fill:#009af9; stroke:none; fill-opacity:1\" cx=\"236.828\" cy=\"286.848\" r=\"3\"/>\n",
       "<circle clip-path=\"url(#clip2402)\" style=\"fill:#000000; stroke:none; fill-opacity:1\" cx=\"243.494\" cy=\"286.848\" r=\"4\"/>\n",
       "<circle clip-path=\"url(#clip2402)\" style=\"fill:#009af9; stroke:none; fill-opacity:1\" cx=\"243.494\" cy=\"286.848\" r=\"3\"/>\n",
       "<circle clip-path=\"url(#clip2402)\" style=\"fill:#000000; stroke:none; fill-opacity:1\" cx=\"246.827\" cy=\"279.677\" r=\"4\"/>\n",
       "<circle clip-path=\"url(#clip2402)\" style=\"fill:#009af9; stroke:none; fill-opacity:1\" cx=\"246.827\" cy=\"279.677\" r=\"3\"/>\n",
       "<circle clip-path=\"url(#clip2402)\" style=\"fill:#000000; stroke:none; fill-opacity:1\" cx=\"260.158\" cy=\"314.998\" r=\"4\"/>\n",
       "<circle clip-path=\"url(#clip2402)\" style=\"fill:#009af9; stroke:none; fill-opacity:1\" cx=\"260.158\" cy=\"314.998\" r=\"3\"/>\n",
       "<circle clip-path=\"url(#clip2402)\" style=\"fill:#000000; stroke:none; fill-opacity:1\" cx=\"263.491\" cy=\"286.848\" r=\"4\"/>\n",
       "<circle clip-path=\"url(#clip2402)\" style=\"fill:#009af9; stroke:none; fill-opacity:1\" cx=\"263.491\" cy=\"286.848\" r=\"3\"/>\n",
       "<circle clip-path=\"url(#clip2402)\" style=\"fill:#000000; stroke:none; fill-opacity:1\" cx=\"273.49\" cy=\"340.227\" r=\"4\"/>\n",
       "<circle clip-path=\"url(#clip2402)\" style=\"fill:#009af9; stroke:none; fill-opacity:1\" cx=\"273.49\" cy=\"340.227\" r=\"3\"/>\n",
       "<circle clip-path=\"url(#clip2402)\" style=\"fill:#000000; stroke:none; fill-opacity:1\" cx=\"276.823\" cy=\"386.437\" r=\"4\"/>\n",
       "<circle clip-path=\"url(#clip2402)\" style=\"fill:#009af9; stroke:none; fill-opacity:1\" cx=\"276.823\" cy=\"386.437\" r=\"3\"/>\n",
       "<circle clip-path=\"url(#clip2402)\" style=\"fill:#000000; stroke:none; fill-opacity:1\" cx=\"280.155\" cy=\"336.775\" r=\"4\"/>\n",
       "<circle clip-path=\"url(#clip2402)\" style=\"fill:#009af9; stroke:none; fill-opacity:1\" cx=\"280.155\" cy=\"336.775\" r=\"3\"/>\n",
       "<circle clip-path=\"url(#clip2402)\" style=\"fill:#000000; stroke:none; fill-opacity:1\" cx=\"283.488\" cy=\"393.607\" r=\"4\"/>\n",
       "<circle clip-path=\"url(#clip2402)\" style=\"fill:#009af9; stroke:none; fill-opacity:1\" cx=\"283.488\" cy=\"393.607\" r=\"3\"/>\n",
       "<circle clip-path=\"url(#clip2402)\" style=\"fill:#000000; stroke:none; fill-opacity:1\" cx=\"286.821\" cy=\"336.775\" r=\"4\"/>\n",
       "<circle clip-path=\"url(#clip2402)\" style=\"fill:#009af9; stroke:none; fill-opacity:1\" cx=\"286.821\" cy=\"336.775\" r=\"3\"/>\n",
       "<circle clip-path=\"url(#clip2402)\" style=\"fill:#000000; stroke:none; fill-opacity:1\" cx=\"290.154\" cy=\"294.018\" r=\"4\"/>\n",
       "<circle clip-path=\"url(#clip2402)\" style=\"fill:#009af9; stroke:none; fill-opacity:1\" cx=\"290.154\" cy=\"294.018\" r=\"3\"/>\n",
       "<circle clip-path=\"url(#clip2402)\" style=\"fill:#000000; stroke:none; fill-opacity:1\" cx=\"293.487\" cy=\"436.364\" r=\"4\"/>\n",
       "<circle clip-path=\"url(#clip2402)\" style=\"fill:#009af9; stroke:none; fill-opacity:1\" cx=\"293.487\" cy=\"436.364\" r=\"3\"/>\n",
       "<circle clip-path=\"url(#clip2402)\" style=\"fill:#000000; stroke:none; fill-opacity:1\" cx=\"296.82\" cy=\"468.233\" r=\"4\"/>\n",
       "<circle clip-path=\"url(#clip2402)\" style=\"fill:#009af9; stroke:none; fill-opacity:1\" cx=\"296.82\" cy=\"468.233\" r=\"3\"/>\n",
       "<circle clip-path=\"url(#clip2402)\" style=\"fill:#000000; stroke:none; fill-opacity:1\" cx=\"310.151\" cy=\"379.266\" r=\"4\"/>\n",
       "<circle clip-path=\"url(#clip2402)\" style=\"fill:#009af9; stroke:none; fill-opacity:1\" cx=\"310.151\" cy=\"379.266\" r=\"3\"/>\n",
       "<circle clip-path=\"url(#clip2402)\" style=\"fill:#000000; stroke:none; fill-opacity:1\" cx=\"313.484\" cy=\"542.858\" r=\"4\"/>\n",
       "<circle clip-path=\"url(#clip2402)\" style=\"fill:#009af9; stroke:none; fill-opacity:1\" cx=\"313.484\" cy=\"542.858\" r=\"3\"/>\n",
       "<circle clip-path=\"url(#clip2402)\" style=\"fill:#000000; stroke:none; fill-opacity:1\" cx=\"326.815\" cy=\"578.444\" r=\"4\"/>\n",
       "<circle clip-path=\"url(#clip2402)\" style=\"fill:#009af9; stroke:none; fill-opacity:1\" cx=\"326.815\" cy=\"578.444\" r=\"3\"/>\n",
       "<circle clip-path=\"url(#clip2402)\" style=\"fill:#000000; stroke:none; fill-opacity:1\" cx=\"336.814\" cy=\"606.595\" r=\"4\"/>\n",
       "<circle clip-path=\"url(#clip2402)\" style=\"fill:#009af9; stroke:none; fill-opacity:1\" cx=\"336.814\" cy=\"606.595\" r=\"3\"/>\n",
       "<circle clip-path=\"url(#clip2402)\" style=\"fill:#000000; stroke:none; fill-opacity:1\" cx=\"340.147\" cy=\"507.006\" r=\"4\"/>\n",
       "<circle clip-path=\"url(#clip2402)\" style=\"fill:#009af9; stroke:none; fill-opacity:1\" cx=\"340.147\" cy=\"507.006\" r=\"3\"/>\n",
       "<circle clip-path=\"url(#clip2402)\" style=\"fill:#000000; stroke:none; fill-opacity:1\" cx=\"343.479\" cy=\"617.483\" r=\"4\"/>\n",
       "<circle clip-path=\"url(#clip2402)\" style=\"fill:#009af9; stroke:none; fill-opacity:1\" cx=\"343.479\" cy=\"617.483\" r=\"3\"/>\n",
       "<circle clip-path=\"url(#clip2402)\" style=\"fill:#000000; stroke:none; fill-opacity:1\" cx=\"353.478\" cy=\"606.595\" r=\"4\"/>\n",
       "<circle clip-path=\"url(#clip2402)\" style=\"fill:#009af9; stroke:none; fill-opacity:1\" cx=\"353.478\" cy=\"606.595\" r=\"3\"/>\n",
       "<circle clip-path=\"url(#clip2402)\" style=\"fill:#000000; stroke:none; fill-opacity:1\" cx=\"356.811\" cy=\"592.785\" r=\"4\"/>\n",
       "<circle clip-path=\"url(#clip2402)\" style=\"fill:#009af9; stroke:none; fill-opacity:1\" cx=\"356.811\" cy=\"592.785\" r=\"3\"/>\n",
       "<circle clip-path=\"url(#clip2402)\" style=\"fill:#000000; stroke:none; fill-opacity:1\" cx=\"370.142\" cy=\"635.542\" r=\"4\"/>\n",
       "<circle clip-path=\"url(#clip2402)\" style=\"fill:#009af9; stroke:none; fill-opacity:1\" cx=\"370.142\" cy=\"635.542\" r=\"3\"/>\n",
       "<circle clip-path=\"url(#clip2402)\" style=\"fill:#000000; stroke:none; fill-opacity:1\" cx=\"373.475\" cy=\"550.294\" r=\"4\"/>\n",
       "<circle clip-path=\"url(#clip2402)\" style=\"fill:#009af9; stroke:none; fill-opacity:1\" cx=\"373.475\" cy=\"550.294\" r=\"3\"/>\n",
       "<circle clip-path=\"url(#clip2402)\" style=\"fill:#000000; stroke:none; fill-opacity:1\" cx=\"380.141\" cy=\"567.556\" r=\"4\"/>\n",
       "<circle clip-path=\"url(#clip2402)\" style=\"fill:#009af9; stroke:none; fill-opacity:1\" cx=\"380.141\" cy=\"567.556\" r=\"3\"/>\n",
       "<circle clip-path=\"url(#clip2402)\" style=\"fill:#000000; stroke:none; fill-opacity:1\" cx=\"383.473\" cy=\"606.595\" r=\"4\"/>\n",
       "<circle clip-path=\"url(#clip2402)\" style=\"fill:#009af9; stroke:none; fill-opacity:1\" cx=\"383.473\" cy=\"606.595\" r=\"3\"/>\n",
       "<circle clip-path=\"url(#clip2402)\" style=\"fill:#000000; stroke:none; fill-opacity:1\" cx=\"403.47\" cy=\"606.595\" r=\"4\"/>\n",
       "<circle clip-path=\"url(#clip2402)\" style=\"fill:#009af9; stroke:none; fill-opacity:1\" cx=\"403.47\" cy=\"606.595\" r=\"3\"/>\n",
       "<circle clip-path=\"url(#clip2402)\" style=\"fill:#000000; stroke:none; fill-opacity:1\" cx=\"406.803\" cy=\"620.936\" r=\"4\"/>\n",
       "<circle clip-path=\"url(#clip2402)\" style=\"fill:#009af9; stroke:none; fill-opacity:1\" cx=\"406.803\" cy=\"620.936\" r=\"3\"/>\n",
       "<circle clip-path=\"url(#clip2402)\" style=\"fill:#000000; stroke:none; fill-opacity:1\" cx=\"416.802\" cy=\"578.444\" r=\"4\"/>\n",
       "<circle clip-path=\"url(#clip2402)\" style=\"fill:#009af9; stroke:none; fill-opacity:1\" cx=\"416.802\" cy=\"578.444\" r=\"3\"/>\n",
       "<circle clip-path=\"url(#clip2402)\" style=\"fill:#000000; stroke:none; fill-opacity:1\" cx=\"420.135\" cy=\"532.235\" r=\"4\"/>\n",
       "<circle clip-path=\"url(#clip2402)\" style=\"fill:#009af9; stroke:none; fill-opacity:1\" cx=\"420.135\" cy=\"532.235\" r=\"3\"/>\n",
       "<circle clip-path=\"url(#clip2402)\" style=\"fill:#000000; stroke:none; fill-opacity:1\" cx=\"426.8\" cy=\"421.758\" r=\"4\"/>\n",
       "<circle clip-path=\"url(#clip2402)\" style=\"fill:#009af9; stroke:none; fill-opacity:1\" cx=\"426.8\" cy=\"421.758\" r=\"3\"/>\n",
       "<circle clip-path=\"url(#clip2402)\" style=\"fill:#000000; stroke:none; fill-opacity:1\" cx=\"433.466\" cy=\"450.705\" r=\"4\"/>\n",
       "<circle clip-path=\"url(#clip2402)\" style=\"fill:#009af9; stroke:none; fill-opacity:1\" cx=\"433.466\" cy=\"450.705\" r=\"3\"/>\n",
       "<circle clip-path=\"url(#clip2402)\" style=\"fill:#000000; stroke:none; fill-opacity:1\" cx=\"440.132\" cy=\"471.685\" r=\"4\"/>\n",
       "<circle clip-path=\"url(#clip2402)\" style=\"fill:#009af9; stroke:none; fill-opacity:1\" cx=\"440.132\" cy=\"471.685\" r=\"3\"/>\n",
       "<circle clip-path=\"url(#clip2402)\" style=\"fill:#000000; stroke:none; fill-opacity:1\" cx=\"443.465\" cy=\"350.85\" r=\"4\"/>\n",
       "<circle clip-path=\"url(#clip2402)\" style=\"fill:#009af9; stroke:none; fill-opacity:1\" cx=\"443.465\" cy=\"350.85\" r=\"3\"/>\n",
       "<circle clip-path=\"url(#clip2402)\" style=\"fill:#000000; stroke:none; fill-opacity:1\" cx=\"450.13\" cy=\"294.018\" r=\"4\"/>\n",
       "<circle clip-path=\"url(#clip2402)\" style=\"fill:#009af9; stroke:none; fill-opacity:1\" cx=\"450.13\" cy=\"294.018\" r=\"3\"/>\n",
       "<circle clip-path=\"url(#clip2402)\" style=\"fill:#000000; stroke:none; fill-opacity:1\" cx=\"453.463\" cy=\"564.104\" r=\"4\"/>\n",
       "<circle clip-path=\"url(#clip2402)\" style=\"fill:#009af9; stroke:none; fill-opacity:1\" cx=\"453.463\" cy=\"564.104\" r=\"3\"/>\n",
       "<circle clip-path=\"url(#clip2402)\" style=\"fill:#000000; stroke:none; fill-opacity:1\" cx=\"456.796\" cy=\"453.892\" r=\"4\"/>\n",
       "<circle clip-path=\"url(#clip2402)\" style=\"fill:#009af9; stroke:none; fill-opacity:1\" cx=\"456.796\" cy=\"453.892\" r=\"3\"/>\n",
       "<circle clip-path=\"url(#clip2402)\" style=\"fill:#000000; stroke:none; fill-opacity:1\" cx=\"466.794\" cy=\"322.169\" r=\"4\"/>\n",
       "<circle clip-path=\"url(#clip2402)\" style=\"fill:#009af9; stroke:none; fill-opacity:1\" cx=\"466.794\" cy=\"322.169\" r=\"3\"/>\n",
       "<circle clip-path=\"url(#clip2402)\" style=\"fill:#000000; stroke:none; fill-opacity:1\" cx=\"470.127\" cy=\"400.778\" r=\"4\"/>\n",
       "<circle clip-path=\"url(#clip2402)\" style=\"fill:#009af9; stroke:none; fill-opacity:1\" cx=\"470.127\" cy=\"400.778\" r=\"3\"/>\n",
       "<circle clip-path=\"url(#clip2402)\" style=\"fill:#000000; stroke:none; fill-opacity:1\" cx=\"476.793\" cy=\"269.054\" r=\"4\"/>\n",
       "<circle clip-path=\"url(#clip2402)\" style=\"fill:#009af9; stroke:none; fill-opacity:1\" cx=\"476.793\" cy=\"269.054\" r=\"3\"/>\n",
       "<circle clip-path=\"url(#clip2402)\" style=\"fill:#000000; stroke:none; fill-opacity:1\" cx=\"486.791\" cy=\"247.809\" r=\"4\"/>\n",
       "<circle clip-path=\"url(#clip2402)\" style=\"fill:#009af9; stroke:none; fill-opacity:1\" cx=\"486.791\" cy=\"247.809\" r=\"3\"/>\n",
       "<circle clip-path=\"url(#clip2402)\" style=\"fill:#000000; stroke:none; fill-opacity:1\" cx=\"490.124\" cy=\"336.775\" r=\"4\"/>\n",
       "<circle clip-path=\"url(#clip2402)\" style=\"fill:#009af9; stroke:none; fill-opacity:1\" cx=\"490.124\" cy=\"336.775\" r=\"3\"/>\n",
       "<circle clip-path=\"url(#clip2402)\" style=\"fill:#000000; stroke:none; fill-opacity:1\" cx=\"493.457\" cy=\"155.125\" r=\"4\"/>\n",
       "<circle clip-path=\"url(#clip2402)\" style=\"fill:#009af9; stroke:none; fill-opacity:1\" cx=\"493.457\" cy=\"155.125\" r=\"3\"/>\n",
       "<circle clip-path=\"url(#clip2402)\" style=\"fill:#000000; stroke:none; fill-opacity:1\" cx=\"506.789\" cy=\"325.887\" r=\"4\"/>\n",
       "<circle clip-path=\"url(#clip2402)\" style=\"fill:#009af9; stroke:none; fill-opacity:1\" cx=\"506.789\" cy=\"325.887\" r=\"3\"/>\n",
       "<circle clip-path=\"url(#clip2402)\" style=\"fill:#000000; stroke:none; fill-opacity:1\" cx=\"520.12\" cy=\"183.541\" r=\"4\"/>\n",
       "<circle clip-path=\"url(#clip2402)\" style=\"fill:#009af9; stroke:none; fill-opacity:1\" cx=\"520.12\" cy=\"183.541\" r=\"3\"/>\n",
       "<circle clip-path=\"url(#clip2402)\" style=\"fill:#000000; stroke:none; fill-opacity:1\" cx=\"533.451\" cy=\"80.4992\" r=\"4\"/>\n",
       "<circle clip-path=\"url(#clip2402)\" style=\"fill:#009af9; stroke:none; fill-opacity:1\" cx=\"533.451\" cy=\"80.4992\" r=\"3\"/>\n",
       "<circle clip-path=\"url(#clip2402)\" style=\"fill:#000000; stroke:none; fill-opacity:1\" cx=\"536.784\" cy=\"258.166\" r=\"4\"/>\n",
       "<circle clip-path=\"url(#clip2402)\" style=\"fill:#009af9; stroke:none; fill-opacity:1\" cx=\"536.784\" cy=\"258.166\" r=\"3\"/>\n",
       "<circle clip-path=\"url(#clip2402)\" style=\"fill:#000000; stroke:none; fill-opacity:1\" cx=\"550.115\" cy=\"133.879\" r=\"4\"/>\n",
       "<circle clip-path=\"url(#clip2402)\" style=\"fill:#009af9; stroke:none; fill-opacity:1\" cx=\"550.115\" cy=\"133.879\" r=\"3\"/>\n",
       "<circle clip-path=\"url(#clip2402)\" style=\"fill:#000000; stroke:none; fill-opacity:1\" cx=\"563.447\" cy=\"155.125\" r=\"4\"/>\n",
       "<circle clip-path=\"url(#clip2402)\" style=\"fill:#009af9; stroke:none; fill-opacity:1\" cx=\"563.447\" cy=\"155.125\" r=\"3\"/>\n",
       "<circle clip-path=\"url(#clip2402)\" style=\"fill:#000000; stroke:none; fill-opacity:1\" cx=\"573.445\" cy=\"237.186\" r=\"4\"/>\n",
       "<circle clip-path=\"url(#clip2402)\" style=\"fill:#009af9; stroke:none; fill-opacity:1\" cx=\"573.445\" cy=\"237.186\" r=\"3\"/>\n",
       "<circle clip-path=\"url(#clip2402)\" style=\"fill:#000000; stroke:none; fill-opacity:1\" cx=\"580.111\" cy=\"158.577\" r=\"4\"/>\n",
       "<circle clip-path=\"url(#clip2402)\" style=\"fill:#009af9; stroke:none; fill-opacity:1\" cx=\"580.111\" cy=\"158.577\" r=\"3\"/>\n",
       "<circle clip-path=\"url(#clip2402)\" style=\"fill:#000000; stroke:none; fill-opacity:1\" cx=\"590.11\" cy=\"276.225\" r=\"4\"/>\n",
       "<circle clip-path=\"url(#clip2402)\" style=\"fill:#009af9; stroke:none; fill-opacity:1\" cx=\"590.11\" cy=\"276.225\" r=\"3\"/>\n",
       "<circle clip-path=\"url(#clip2402)\" style=\"fill:#000000; stroke:none; fill-opacity:1\" cx=\"596.775\" cy=\"80.4992\" r=\"4\"/>\n",
       "<circle clip-path=\"url(#clip2402)\" style=\"fill:#009af9; stroke:none; fill-opacity:1\" cx=\"596.775\" cy=\"80.4992\" r=\"3\"/>\n",
       "<circle clip-path=\"url(#clip2402)\" style=\"fill:#000000; stroke:none; fill-opacity:1\" cx=\"603.441\" cy=\"322.169\" r=\"4\"/>\n",
       "<circle clip-path=\"url(#clip2402)\" style=\"fill:#009af9; stroke:none; fill-opacity:1\" cx=\"603.441\" cy=\"322.169\" r=\"3\"/>\n",
       "<circle clip-path=\"url(#clip2402)\" style=\"fill:#000000; stroke:none; fill-opacity:1\" cx=\"606.774\" cy=\"94.84\" r=\"4\"/>\n",
       "<circle clip-path=\"url(#clip2402)\" style=\"fill:#009af9; stroke:none; fill-opacity:1\" cx=\"606.774\" cy=\"94.84\" r=\"3\"/>\n",
       "<circle clip-path=\"url(#clip2402)\" style=\"fill:#000000; stroke:none; fill-opacity:1\" cx=\"610.107\" cy=\"187.259\" r=\"4\"/>\n",
       "<circle clip-path=\"url(#clip2402)\" style=\"fill:#009af9; stroke:none; fill-opacity:1\" cx=\"610.107\" cy=\"187.259\" r=\"3\"/>\n",
       "<circle clip-path=\"url(#clip2402)\" style=\"fill:#000000; stroke:none; fill-opacity:1\" cx=\"620.105\" cy=\"379.266\" r=\"4\"/>\n",
       "<circle clip-path=\"url(#clip2402)\" style=\"fill:#009af9; stroke:none; fill-opacity:1\" cx=\"620.105\" cy=\"379.266\" r=\"3\"/>\n",
       "<circle clip-path=\"url(#clip2402)\" style=\"fill:#000000; stroke:none; fill-opacity:1\" cx=\"650.101\" cy=\"155.125\" r=\"4\"/>\n",
       "<circle clip-path=\"url(#clip2402)\" style=\"fill:#009af9; stroke:none; fill-opacity:1\" cx=\"650.101\" cy=\"155.125\" r=\"3\"/>\n",
       "<circle clip-path=\"url(#clip2402)\" style=\"fill:#000000; stroke:none; fill-opacity:1\" cx=\"670.098\" cy=\"265.336\" r=\"4\"/>\n",
       "<circle clip-path=\"url(#clip2402)\" style=\"fill:#009af9; stroke:none; fill-opacity:1\" cx=\"670.098\" cy=\"265.336\" r=\"3\"/>\n",
       "<circle clip-path=\"url(#clip2402)\" style=\"fill:#000000; stroke:none; fill-opacity:1\" cx=\"673.431\" cy=\"283.13\" r=\"4\"/>\n",
       "<circle clip-path=\"url(#clip2402)\" style=\"fill:#009af9; stroke:none; fill-opacity:1\" cx=\"673.431\" cy=\"283.13\" r=\"3\"/>\n",
       "<circle clip-path=\"url(#clip2402)\" style=\"fill:#000000; stroke:none; fill-opacity:1\" cx=\"683.429\" cy=\"336.775\" r=\"4\"/>\n",
       "<circle clip-path=\"url(#clip2402)\" style=\"fill:#009af9; stroke:none; fill-opacity:1\" cx=\"683.429\" cy=\"336.775\" r=\"3\"/>\n",
       "<circle clip-path=\"url(#clip2402)\" style=\"fill:#000000; stroke:none; fill-opacity:1\" cx=\"690.095\" cy=\"314.998\" r=\"4\"/>\n",
       "<circle clip-path=\"url(#clip2402)\" style=\"fill:#009af9; stroke:none; fill-opacity:1\" cx=\"690.095\" cy=\"314.998\" r=\"3\"/>\n",
       "<circle clip-path=\"url(#clip2402)\" style=\"fill:#000000; stroke:none; fill-opacity:1\" cx=\"710.092\" cy=\"197.881\" r=\"4\"/>\n",
       "<circle clip-path=\"url(#clip2402)\" style=\"fill:#009af9; stroke:none; fill-opacity:1\" cx=\"710.092\" cy=\"197.881\" r=\"3\"/>\n",
       "<circle clip-path=\"url(#clip2402)\" style=\"fill:#000000; stroke:none; fill-opacity:1\" cx=\"723.423\" cy=\"201.599\" r=\"4\"/>\n",
       "<circle clip-path=\"url(#clip2402)\" style=\"fill:#009af9; stroke:none; fill-opacity:1\" cx=\"723.423\" cy=\"201.599\" r=\"3\"/>\n",
       "<circle clip-path=\"url(#clip2402)\" style=\"fill:#000000; stroke:none; fill-opacity:1\" cx=\"730.089\" cy=\"279.677\" r=\"4\"/>\n",
       "<circle clip-path=\"url(#clip2402)\" style=\"fill:#009af9; stroke:none; fill-opacity:1\" cx=\"730.089\" cy=\"279.677\" r=\"3\"/>\n",
       "<circle clip-path=\"url(#clip2402)\" style=\"fill:#000000; stroke:none; fill-opacity:1\" cx=\"733.422\" cy=\"240.638\" r=\"4\"/>\n",
       "<circle clip-path=\"url(#clip2402)\" style=\"fill:#009af9; stroke:none; fill-opacity:1\" cx=\"733.422\" cy=\"240.638\" r=\"3\"/>\n",
       "<circle clip-path=\"url(#clip2402)\" style=\"fill:#000000; stroke:none; fill-opacity:1\" cx=\"750.086\" cy=\"283.13\" r=\"4\"/>\n",
       "<circle clip-path=\"url(#clip2402)\" style=\"fill:#009af9; stroke:none; fill-opacity:1\" cx=\"750.086\" cy=\"283.13\" r=\"3\"/>\n",
       "<circle clip-path=\"url(#clip2402)\" style=\"fill:#000000; stroke:none; fill-opacity:1\" cx=\"756.752\" cy=\"279.677\" r=\"4\"/>\n",
       "<circle clip-path=\"url(#clip2402)\" style=\"fill:#009af9; stroke:none; fill-opacity:1\" cx=\"756.752\" cy=\"279.677\" r=\"3\"/>\n",
       "<circle clip-path=\"url(#clip2402)\" style=\"fill:#000000; stroke:none; fill-opacity:1\" cx=\"766.75\" cy=\"251.261\" r=\"4\"/>\n",
       "<circle clip-path=\"url(#clip2402)\" style=\"fill:#009af9; stroke:none; fill-opacity:1\" cx=\"766.75\" cy=\"251.261\" r=\"3\"/>\n",
       "<circle clip-path=\"url(#clip2402)\" style=\"fill:#000000; stroke:none; fill-opacity:1\" cx=\"793.413\" cy=\"251.261\" r=\"4\"/>\n",
       "<circle clip-path=\"url(#clip2402)\" style=\"fill:#009af9; stroke:none; fill-opacity:1\" cx=\"793.413\" cy=\"251.261\" r=\"3\"/>\n",
       "<circle clip-path=\"url(#clip2402)\" style=\"fill:#000000; stroke:none; fill-opacity:1\" cx=\"813.41\" cy=\"350.85\" r=\"4\"/>\n",
       "<circle clip-path=\"url(#clip2402)\" style=\"fill:#009af9; stroke:none; fill-opacity:1\" cx=\"813.41\" cy=\"350.85\" r=\"3\"/>\n",
       "<circle clip-path=\"url(#clip2402)\" style=\"fill:#000000; stroke:none; fill-opacity:1\" cx=\"830.074\" cy=\"314.998\" r=\"4\"/>\n",
       "<circle clip-path=\"url(#clip2402)\" style=\"fill:#009af9; stroke:none; fill-opacity:1\" cx=\"830.074\" cy=\"314.998\" r=\"3\"/>\n",
       "<circle clip-path=\"url(#clip2402)\" style=\"fill:#000000; stroke:none; fill-opacity:1\" cx=\"860.07\" cy=\"279.677\" r=\"4\"/>\n",
       "<circle clip-path=\"url(#clip2402)\" style=\"fill:#009af9; stroke:none; fill-opacity:1\" cx=\"860.07\" cy=\"279.677\" r=\"3\"/>\n",
       "<circle clip-path=\"url(#clip2402)\" style=\"fill:#000000; stroke:none; fill-opacity:1\" cx=\"883.4\" cy=\"251.261\" r=\"4\"/>\n",
       "<circle clip-path=\"url(#clip2402)\" style=\"fill:#009af9; stroke:none; fill-opacity:1\" cx=\"883.4\" cy=\"251.261\" r=\"3\"/>\n",
       "<circle clip-path=\"url(#clip2402)\" style=\"fill:#000000; stroke:none; fill-opacity:1\" cx=\"903.397\" cy=\"318.716\" r=\"4\"/>\n",
       "<circle clip-path=\"url(#clip2402)\" style=\"fill:#009af9; stroke:none; fill-opacity:1\" cx=\"903.397\" cy=\"318.716\" r=\"3\"/>\n",
       "<circle clip-path=\"url(#clip2402)\" style=\"fill:#000000; stroke:none; fill-opacity:1\" cx=\"933.392\" cy=\"286.848\" r=\"4\"/>\n",
       "<circle clip-path=\"url(#clip2402)\" style=\"fill:#009af9; stroke:none; fill-opacity:1\" cx=\"933.392\" cy=\"286.848\" r=\"3\"/>\n",
       "<circle clip-path=\"url(#clip2402)\" style=\"fill:#000000; stroke:none; fill-opacity:1\" cx=\"940.058\" cy=\"286.848\" r=\"4\"/>\n",
       "<circle clip-path=\"url(#clip2402)\" style=\"fill:#009af9; stroke:none; fill-opacity:1\" cx=\"940.058\" cy=\"286.848\" r=\"3\"/>\n",
       "<circle clip-path=\"url(#clip2402)\" style=\"fill:#000000; stroke:none; fill-opacity:1\" cx=\"976.719\" cy=\"251.261\" r=\"4\"/>\n",
       "<circle clip-path=\"url(#clip2402)\" style=\"fill:#009af9; stroke:none; fill-opacity:1\" cx=\"976.719\" cy=\"251.261\" r=\"3\"/>\n",
       "<polygon clip-path=\"url(#clip2402)\" points=\"\n",
       "56.8551,412.775 66.1466,410.086 75.4382,409.133 84.7297,409.408 94.0213,410.355 103.313,411.515 112.604,412.595 121.896,413.443 131.188,413.988 140.479,414.17 \n",
       "  149.771,413.912 159.062,413.121 168.354,411.733 177.645,409.768 186.937,407.369 196.228,404.83 205.52,402.607 214.812,401.308 224.103,401.682 233.395,404.576 \n",
       "  242.686,410.864 251.978,421.34 261.269,436.584 270.561,456.832 279.852,481.87 289.144,510.998 298.436,543.061 307.727,576.564 317.019,609.827 326.31,641.144 \n",
       "  335.602,668.94 344.893,691.868 354.185,708.882 363.476,719.263 372.768,722.629 382.059,718.924 391.351,708.41 400.643,691.628 409.934,669.358 419.226,642.555 \n",
       "  428.517,612.276 437.809,579.608 447.1,545.616 456.392,511.294 465.683,477.552 474.975,445.202 484.267,414.964 493.558,387.462 502.85,363.219 512.141,342.652 \n",
       "  521.433,326.055 530.724,313.587 540.016,305.265 549.307,300.966 558.599,300.444 567.891,303.352 577.182,309.257 586.474,317.642 595.765,327.899 605.057,339.319 \n",
       "  614.348,351.109 623.64,362.442 632.931,372.551 642.223,380.828 651.515,386.902 660.806,390.672 670.098,392.291 679.389,392.11 688.681,390.613 697.972,388.351 \n",
       "  707.264,385.905 716.555,383.849 725.847,382.717 735.139,382.939 744.43,384.783 753.722,388.293 763.013,393.275 772.305,399.323 781.596,405.9 790.888,412.429 \n",
       "  800.179,418.387 809.471,423.37 818.763,427.121 828.054,429.534 837.346,430.636 846.637,430.56 855.929,429.517 865.22,427.76 874.512,425.549 883.803,423.116 \n",
       "  893.095,420.641 902.387,418.238 911.678,415.974 920.97,413.891 930.261,412.054 939.553,410.578 948.844,409.655 958.136,409.534 967.427,410.48 976.719,412.707 \n",
       "  976.719,127.195 967.427,133.619 958.136,139.017 948.844,143.402 939.553,146.9 930.261,149.709 920.97,152.049 911.678,154.131 902.387,156.13 893.095,158.167 \n",
       "  883.803,160.294 874.512,162.478 865.22,164.602 855.929,166.461 846.637,167.792 837.346,168.311 828.054,167.773 818.763,166.032 809.471,163.089 800.179,159.106 \n",
       "  790.888,154.389 781.596,149.34 772.305,144.395 763.013,139.966 753.722,136.401 744.43,133.95 735.139,132.747 725.847,132.786 716.555,133.897 707.264,135.739 \n",
       "  697.972,137.823 688.681,139.574 679.389,140.42 670.098,139.891 660.806,137.678 651.515,133.657 642.223,127.861 632.931,120.445 623.64,111.645 614.348,101.777 \n",
       "  605.057,91.2556 595.765,80.6195 586.474,70.5447 577.182,61.815 567.891,55.2541 558.599,51.6398 549.307,51.6261 540.016,55.6925 530.724,64.1228 521.433,77.0091 \n",
       "  512.141,94.2667 502.85,115.654 493.558,140.788 484.267,169.167 474.975,200.178 465.683,233.117 456.392,267.201 447.1,301.582 437.809,335.363 428.517,367.61 \n",
       "  419.226,397.369 409.934,423.677 400.643,445.591 391.351,462.216 382.059,472.759 372.768,476.604 363.476,473.395 354.185,463.119 344.893,446.157 335.602,423.295 \n",
       "  326.31,395.682 317.019,364.729 307.727,331.993 298.436,299.044 289.144,267.351 279.852,238.194 270.561,212.605 261.269,191.319 251.978,174.748 242.686,162.954 \n",
       "  233.395,155.653 224.103,152.245 214.812,151.891 205.52,153.62 196.228,156.46 186.937,159.552 177.645,162.239 168.354,164.103 159.062,164.959 149.771,164.821 \n",
       "  140.479,163.861 131.188,162.36 121.896,160.664 112.604,159.106 103.313,157.928 94.0213,157.184 84.7297,156.678 75.4382,155.956 66.1466,154.393 56.8551,151.378 \n",
       "  \n",
       "  \" fill=\"#e26f46\" fill-opacity=\"0.5\"/>\n",
       "<polyline clip-path=\"url(#clip2402)\" style=\"stroke:#e26f46; stroke-width:1; stroke-opacity:1; fill:none\" points=\"\n",
       "  56.8551,282.077 66.1466,282.239 75.4382,282.544 84.7297,283.043 94.0213,283.769 103.313,284.721 112.604,285.85 121.896,287.053 131.188,288.174 140.479,289.016 \n",
       "  149.771,289.367 159.062,289.04 168.354,287.918 177.645,286.004 186.937,283.46 196.228,280.645 205.52,278.113 214.812,276.599 224.103,276.963 233.395,280.114 \n",
       "  242.686,286.909 251.978,298.044 261.269,313.951 270.561,334.718 279.852,360.032 289.144,389.174 298.436,421.052 307.727,454.279 317.019,487.278 326.31,518.413 \n",
       "  335.602,546.118 344.893,569.013 354.185,586.001 363.476,596.329 372.768,599.616 382.059,595.841 391.351,585.313 400.643,568.609 409.934,546.518 419.226,519.962 \n",
       "  428.517,489.943 437.809,457.486 447.1,423.599 456.392,389.247 465.683,355.334 474.975,322.69 484.267,292.066 493.558,264.125 502.85,239.436 512.141,218.459 \n",
       "  521.433,201.532 530.724,188.855 540.016,180.479 549.307,176.296 558.599,176.042 567.891,179.303 577.182,185.536 586.474,194.093 595.765,204.259 605.057,215.287 \n",
       "  614.348,226.443 623.64,237.043 632.931,246.498 642.223,254.345 651.515,260.28 660.806,264.175 670.098,266.091 679.389,266.265 688.681,265.093 697.972,263.087 \n",
       "  707.264,260.822 716.555,258.873 725.847,257.751 735.139,257.843 744.43,259.367 753.722,262.347 763.013,266.621 772.305,271.859 781.596,277.62 790.888,283.409 \n",
       "  800.179,288.747 809.471,293.23 818.763,296.577 828.054,298.654 837.346,299.474 846.637,299.176 855.929,297.989 865.22,296.181 874.512,294.013 883.803,291.705 \n",
       "  893.095,289.404 902.387,287.184 911.678,285.052 920.97,282.97 930.261,280.881 939.553,278.739 948.844,276.528 958.136,274.275 967.427,272.049 976.719,269.951 \n",
       "  \n",
       "  \"/>\n",
       "<polygon clip-path=\"url(#clip2400)\" points=\"\n",
       "742.756,123.176 973.595,123.176 973.595,77.8161 742.756,77.8161 \n",
       "  \" fill=\"#ffffff\" fill-opacity=\"1\"/>\n",
       "<polyline clip-path=\"url(#clip2400)\" style=\"stroke:#000000; stroke-width:1; stroke-opacity:1; fill:none\" points=\"\n",
       "  742.756,123.176 973.595,123.176 973.595,77.8161 742.756,77.8161 742.756,123.176 \n",
       "  \"/>\n",
       "<circle clip-path=\"url(#clip2400)\" style=\"fill:#000000; stroke:none; fill-opacity:1\" cx=\"788.836\" cy=\"92.9361\" r=\"6\"/>\n",
       "<circle clip-path=\"url(#clip2400)\" style=\"fill:#009af9; stroke:none; fill-opacity:1\" cx=\"788.836\" cy=\"92.9361\" r=\"5\"/>\n",
       "<g clip-path=\"url(#clip2400)\">\n",
       "<text style=\"fill:#000000; fill-opacity:1; font-family:Arial,Helvetica Neue,Helvetica,sans-serif; font-size:12; text-anchor:start;\" transform=\"rotate(0, 824.676, 97.4361)\" x=\"824.676\" y=\"97.4361\">observations</text>\n",
       "</g>\n",
       "<polyline clip-path=\"url(#clip2400)\" style=\"stroke:#e26f46; stroke-width:1; stroke-opacity:1; fill:none\" points=\"\n",
       "  752.996,108.056 814.436,108.056 \n",
       "  \"/>\n",
       "<g clip-path=\"url(#clip2400)\">\n",
       "<text style=\"fill:#000000; fill-opacity:1; font-family:Arial,Helvetica Neue,Helvetica,sans-serif; font-size:12; text-anchor:start;\" transform=\"rotate(0, 824.676, 112.556)\" x=\"824.676\" y=\"112.556\">full GP with 95% interval</text>\n",
       "</g>\n",
       "</svg>\n"
      ]
     },
     "execution_count": 55,
     "metadata": {},
     "output_type": "execute_result"
    },
    {
     "name": "stderr",
     "output_type": "stream",
     "text": [
      "WARNING: both SumProductNetworks and Base export \"normalize!\"; uses of it in module Main must be qualified\n"
     ]
    }
   ],
   "source": [
    "scatter(X, y, label = \"observations\", title = \"Full GP with SE Kernel and LLH: $(gp.target)\")\n",
    "plot!(linspace(minimum(X),maximum(X),100), μ, ribbon=2*sqrt.(σ²), label = \"full GP with 95% interval\")"
   ]
  },
  {
   "cell_type": "code",
   "execution_count": 545,
   "metadata": {},
   "outputs": [
    {
     "data": {
      "text/plain": [
       "(10000,)"
      ]
     },
     "execution_count": 545,
     "metadata": {},
     "output_type": "execute_result"
    }
   ],
   "source": [
    "yhat = reduce(vcat, [rand(gp, linspace(minimum(X),maximum(X),100)) for k in 1:100]);\n",
    "yhat += rand() * 0.2\n",
    "size(yhat)"
   ]
  },
  {
   "cell_type": "code",
   "execution_count": 671,
   "metadata": {
    "collapsed": true
   },
   "outputs": [],
   "source": [
    "μ, σ = predict_y(gp,linspace(minimum(X),maximum(X),100));\n",
    "yhat = reduce(hcat, [rand(gp, linspace(minimum(X),maximum(X),100)) for k in 1:100]);\n",
    "\n",
    "scatter(X, y, label = \"observations\", title = \"Full GP with SE Kernel and LLH: $(gp.target)\")\n",
    "plot!(reduce(hcat, [linspace(minimum(X),maximum(X),100) for k in 1:100]), yhat, markersize = 2, markerstrokewidth = 0, legend =false)\n",
    "plot!(linspace(minimum(X),maximum(X),100), μ + 2*σ, color = :green, w = 4, label = \"Full GP mean + 2*std\")\n",
    "plot!(linspace(minimum(X),maximum(X),100), μ - 2*σ, color = :green, w = 4, label = \"Full GP mean - 2*std\")\n",
    "savefig(\"../plots/full_gp_draws.png\")"
   ]
  },
  {
   "cell_type": "markdown",
   "metadata": {},
   "source": [
    "## optimize a full GP"
   ]
  },
  {
   "cell_type": "code",
   "execution_count": 62,
   "metadata": {},
   "outputs": [
    {
     "data": {
      "text/plain": [
       "Results of Optimization Algorithm\n",
       " * Algorithm: L-BFGS\n",
       " * Starting Point: [-2.0,1.6094379124341003,0.0]\n",
       " * Minimizer: [-1.2282746156639472,1.6156825479807833, ...]\n",
       " * Minimum: 3.510034e+01\n",
       " * Iterations: 12\n",
       " * Convergence: true\n",
       "   * |x - x'| < 1.0e-32: false\n",
       "   * |f(x) - f(x')| / |f(x)| < 1.0e-32: false\n",
       "   * |g(x)| < 1.0e-08: true\n",
       "   * f(x) > f(x'): false\n",
       "   * Reached Maximum Number of Iterations: false\n",
       " * Objective Function Calls: 56\n",
       " * Gradient Calls: 56"
      ]
     },
     "execution_count": 62,
     "metadata": {},
     "output_type": "execute_result"
    }
   ],
   "source": [
    "optimize!(gp)"
   ]
  },
  {
   "cell_type": "code",
   "execution_count": 63,
   "metadata": {},
   "outputs": [
    {
     "data": {
      "text/html": [
       "-35.100343169513074"
      ],
      "text/plain": [
       "-35.100343169513074"
      ]
     },
     "execution_count": 63,
     "metadata": {},
     "output_type": "execute_result"
    }
   ],
   "source": [
    "gp.target"
   ]
  },
  {
   "cell_type": "code",
   "execution_count": 198,
   "metadata": {
    "collapsed": true
   },
   "outputs": [],
   "source": [
    "μ, σ² = predict_y(gp,linspace(minimum(X),maximum(X),100));"
   ]
  },
  {
   "cell_type": "code",
   "execution_count": 199,
   "metadata": {
    "collapsed": true
   },
   "outputs": [],
   "source": [
    "scatter(X, y, label = \"observations\", title = \"Marginal LLH optimized full GP with SE Kernel and LLH: $(gp.target)\")\n",
    "plot!(linspace(minimum(X),maximum(X),100), μ, ribbon=2*sqrt.(σ²), label = \"optimized full GP with 95% interval\")\n",
    "savefig(\"../plots/optimized_fullGP.png\")"
   ]
  },
  {
   "cell_type": "markdown",
   "metadata": {},
   "source": [
    "# Make a SPN with GP leaves"
   ]
  },
  {
   "cell_type": "code",
   "execution_count": 22,
   "metadata": {},
   "outputs": [
    {
     "data": {
      "text/html": [
       "0"
      ],
      "text/plain": [
       "0"
      ]
     },
     "execution_count": 22,
     "metadata": {},
     "output_type": "execute_result"
    }
   ],
   "source": [
    "global gID = 0"
   ]
  },
  {
   "cell_type": "markdown",
   "metadata": {},
   "source": [
    "Hand-coded 2-layer example"
   ]
  },
  {
   "cell_type": "code",
   "execution_count": 557,
   "metadata": {
    "collapsed": true
   },
   "outputs": [],
   "source": [
    "srand(12345678)\n",
    "K = 10;\n",
    "numSamples = 0.25;\n",
    "meanFunction = MeanZero();\n",
    "kernelFunction = SE(log(5.0),log(1.0));\n",
    "noise = -1.;"
   ]
  },
  {
   "cell_type": "code",
   "execution_count": 558,
   "metadata": {
    "collapsed": true
   },
   "outputs": [],
   "source": [
    "root = GPSumNode(nextID(), Int[]);\n",
    "\n",
    "for k in 1:K\n",
    "    \n",
    "    # make random (1D) split\n",
    "    split = rand() * maximum(X) + minimum(X)\n",
    "    n = min(sum(X .>= split), sum(X .< split))\n",
    "    c = 0\n",
    "    \n",
    "    while n < (N * numSamples)\n",
    "        @assert c < 100 \"Could not find a split\"\n",
    "        split = rand() * maximum(X) + minimum(X)\n",
    "        n = min(sum(X .>= split), sum(X .< split))\n",
    "        c += 1\n",
    "    end\n",
    "    \n",
    "    child = FiniteSplitNode(nextID(), Float64[split])\n",
    "    \n",
    "    # append two GP leaves\n",
    "    leaf1 = GPLeaf{Any}(nextID(),\n",
    "            GP(reshape(X[X .<= split], 1, sum(X .<= split)), y[X .<= split], meanFunction, kernelFunction, noise))\n",
    "    leaf1.parents = SPNNode[]\n",
    "    \n",
    "    leaf2 = GPLeaf{Any}(nextID(),\n",
    "            GP(reshape(X[X .> split], 1, sum(X .> split)), y[X .> split], meanFunction, kernelFunction, noise))\n",
    "    leaf2.parents = SPNNode[]\n",
    "    \n",
    "    add!(child, leaf1)\n",
    "    add!(child, leaf2)\n",
    "    \n",
    "    add!(root, child)\n",
    "end"
   ]
  },
  {
   "cell_type": "markdown",
   "metadata": {},
   "source": [
    "## Visualize splits"
   ]
  },
  {
   "cell_type": "code",
   "execution_count": 207,
   "metadata": {
    "collapsed": true
   },
   "outputs": [],
   "source": [
    "plt = scatter(X, y, label = \"observations\", title = \"Random splits of SPN-GP\")\n",
    "plotSplits!(plt, getAllSplits(root))\n",
    "savefig(\"../plots/randomSplits.png\")"
   ]
  },
  {
   "cell_type": "markdown",
   "metadata": {},
   "source": [
    "## Likelihood of product nodes"
   ]
  },
  {
   "cell_type": "code",
   "execution_count": 477,
   "metadata": {
    "collapsed": true
   },
   "outputs": [],
   "source": [
    "\n",
    "for (pi, pnode) in enumerate(root.children)\n",
    "    \n",
    "    μ, σ² = spn_predict(pnode, linspace(minimum(X),maximum(X),100));\n",
    "    \n",
    "    plt = scatter(X, y, label = \"observations\", title =\"Prediction of product node $(pi), w: $(root.posterior_weights[pi]), LLH: $(spn_likelihood(pnode))\")\n",
    "    plot!(plt, linspace(minimum(X),maximum(X),100), μ, ribbon=2*sqrt.(σ²), label = \"MoE GP with 95% interval\")\n",
    "    plotSplits!(plt, getAllSplits(pnode))\n",
    "    savefig(\"../plots/productNode$(pi).png\")\n",
    "\n",
    "end"
   ]
  },
  {
   "cell_type": "markdown",
   "metadata": {},
   "source": [
    "## Compute likelihoods"
   ]
  },
  {
   "cell_type": "code",
   "execution_count": 209,
   "metadata": {},
   "outputs": [
    {
     "data": {
      "text/html": [
       "-41.1350265676093"
      ],
      "text/plain": [
       "-41.1350265676093"
      ]
     },
     "execution_count": 209,
     "metadata": {},
     "output_type": "execute_result"
    }
   ],
   "source": [
    "# test\n",
    "n = GPLeaf{Any}(0, GP(reshape(X, 1, N), y, meanFunction, kernelFunction, noise))\n",
    "spn_likelihood(n)"
   ]
  },
  {
   "cell_type": "code",
   "execution_count": 211,
   "metadata": {},
   "outputs": [
    {
     "data": {
      "text/html": [
       "-42.28561685154945"
      ],
      "text/plain": [
       "-42.28561685154945"
      ]
     },
     "execution_count": 211,
     "metadata": {},
     "output_type": "execute_result"
    }
   ],
   "source": [
    "# test\n",
    "n = root.children[3]\n",
    "spn_likelihood(n)"
   ]
  },
  {
   "cell_type": "code",
   "execution_count": 314,
   "metadata": {},
   "outputs": [
    {
     "data": {
      "text/html": [
       "-42.830715836609755"
      ],
      "text/plain": [
       "-42.830715836609755"
      ]
     },
     "execution_count": 314,
     "metadata": {},
     "output_type": "execute_result"
    }
   ],
   "source": [
    "# test\n",
    "spn_likelihood(root)"
   ]
  },
  {
   "cell_type": "markdown",
   "metadata": {},
   "source": [
    "## Update posterior weights"
   ]
  },
  {
   "cell_type": "code",
   "execution_count": 473,
   "metadata": {
    "collapsed": true
   },
   "outputs": [],
   "source": [
    "root.prior_weights = ones(length(root)) / length(root);"
   ]
  },
  {
   "cell_type": "code",
   "execution_count": 474,
   "metadata": {},
   "outputs": [
    {
     "data": {
      "text/html": [
       "-42.830715836609755"
      ],
      "text/plain": [
       "-42.830715836609755"
      ]
     },
     "execution_count": 474,
     "metadata": {},
     "output_type": "execute_result"
    }
   ],
   "source": [
    "spn_update(root)"
   ]
  },
  {
   "cell_type": "code",
   "execution_count": 476,
   "metadata": {},
   "outputs": [
    {
     "name": "stdout",
     "output_type": "stream",
     "text": [
      "Gaussian Process Sum Node [ID: 2992175, \n",
      "\t w_prior: [0.1, 0.1, 0.1, 0.1, 0.1, 0.1, 0.1, 0.1, 0.1, 0.1], \n",
      "\t w_posterior: [0.034, 0.039, 0.172, 0.164, 0.108, 0.059, 0.053, 0.152, 0.108, 0.11]]\n"
     ]
    }
   ],
   "source": [
    "println(root)"
   ]
  },
  {
   "cell_type": "markdown",
   "metadata": {},
   "source": [
    "## Predictions under the model"
   ]
  },
  {
   "cell_type": "code",
   "execution_count": 223,
   "metadata": {
    "collapsed": true
   },
   "outputs": [],
   "source": [
    "# test\n",
    "n = root.children[3]\n",
    "μ, σ² = spn_predict(n, linspace(minimum(X),maximum(X),100));\n",
    "\n",
    "plt = scatter(X, y, label = \"observations\", title =\"Prediction of product node 3 only\")\n",
    "plot!(plt, linspace(minimum(X),maximum(X),100), μ, ribbon=2*sqrt.(σ²), label = \"MoE GP with 95% interval\")\n",
    "plotSplits!(plt, getAllSplits(n))\n",
    "savefig(\"../plots/productNode3.png\")"
   ]
  },
  {
   "cell_type": "code",
   "execution_count": 225,
   "metadata": {
    "collapsed": true
   },
   "outputs": [],
   "source": [
    "@assert sum(root.prior_weights) ≈ 1.\n",
    "@assert sum(root.posterior_weights) ≈ 1."
   ]
  },
  {
   "cell_type": "code",
   "execution_count": 313,
   "metadata": {
    "collapsed": true
   },
   "outputs": [],
   "source": [
    "# test\n",
    "n = root\n",
    "μ, σ² = spn_predict(n, linspace(minimum(X),maximum(X),100));\n",
    "\n",
    "plt = scatter(X, y, label = \"observations\", title=\"SPN-GP with $(K) splits and LLH: $(spn_likelihood(root))\")\n",
    "plot!(plt, linspace(minimum(X),maximum(X),100), μ, ribbon=2*sqrt.(σ²), label = \"SPN-GP with 95% interval\")\n",
    "plotSplits!(plt, getAllSplits(n))\n",
    "savefig(\"../plots/spn_gp.png\")"
   ]
  },
  {
   "cell_type": "markdown",
   "metadata": {},
   "source": [
    "## Print SPN"
   ]
  },
  {
   "cell_type": "code",
   "execution_count": 560,
   "metadata": {},
   "outputs": [
    {
     "name": "stdout",
     "output_type": "stream",
     "text": [
      " Gaussian Process Sum Node [ID: 3051227, \n",
      "\t w_prior: [0.002, 0.002, 0.004, 0.008, 0.016, 0.031, 0.062, 0.125, 0.25, 0.5], \n",
      "\t w_posterior: [0.002, 0.002, 0.004, 0.008, 0.016, 0.031, 0.062, 0.125, 0.25, 0.5]]\n",
      "\t Split (Product) Node [ID: 3051255, split: [27.793]]\n",
      "\t\t Gaussian Process Leaf Node [ID: 3051257, LLH: -22.783]\n",
      "\t\t Gaussian Process Leaf Node [ID: 3051256, LLH: -19.95]\n",
      "\t Split (Product) Node [ID: 3051252, split: [28.692]]\n",
      "\t\t Gaussian Process Leaf Node [ID: 3051254, LLH: -20.958]\n",
      "\t\t Gaussian Process Leaf Node [ID: 3051253, LLH: -21.797]\n",
      "\t Split (Product) Node [ID: 3051249, split: [31.754]]\n",
      "\t\t Gaussian Process Leaf Node [ID: 3051251, LLH: -17.589]\n",
      "\t\t Gaussian Process Leaf Node [ID: 3051250, LLH: -24.821]\n",
      "\t Split (Product) Node [ID: 3051246, split: [25.601]]\n",
      "\t\t Gaussian Process Leaf Node [ID: 3051248, LLH: -28.753]\n",
      "\t\t Gaussian Process Leaf Node [ID: 3051247, LLH: -14.707]\n",
      "\t Split (Product) Node [ID: 3051243, split: [25.262]]\n",
      "\t\t Gaussian Process Leaf Node [ID: 3051245, LLH: -29.492]\n",
      "\t\t Gaussian Process Leaf Node [ID: 3051244, LLH: -13.873]\n",
      "\t Split (Product) Node [ID: 3051240, split: [29.131]]\n",
      "\t\t Gaussian Process Leaf Node [ID: 3051242, LLH: -20.958]\n",
      "\t\t Gaussian Process Leaf Node [ID: 3051241, LLH: -21.797]\n",
      "\t Split (Product) Node [ID: 3051237, split: [35.194]]\n",
      "\t\t Gaussian Process Leaf Node [ID: 3051239, LLH: -14.292]\n",
      "\t\t Gaussian Process Leaf Node [ID: 3051238, LLH: -28.044]\n",
      "\t Split (Product) Node [ID: 3051234, split: [30.203]]\n",
      "\t\t Gaussian Process Leaf Node [ID: 3051236, LLH: -19.348]\n",
      "\t\t Gaussian Process Leaf Node [ID: 3051235, LLH: -22.938]\n",
      "\t Split (Product) Node [ID: 3051231, split: [19.545]]\n",
      "\t\t Gaussian Process Leaf Node [ID: 3051233, LLH: -33.254]\n",
      "\t\t Gaussian Process Leaf Node [ID: 3051232, LLH: -10.507]\n",
      "\t Split (Product) Node [ID: 3051228, split: [20.337]]\n",
      "\t\t Gaussian Process Leaf Node [ID: 3051230, LLH: -32.958]\n",
      "\t\t Gaussian Process Leaf Node [ID: 3051229, LLH: -10.953]\n"
     ]
    }
   ],
   "source": [
    "rDepth = depth(root)\n",
    "for node in reverse(SumProductNetworks.order(root))\n",
    "    print(repeat(\"\\t\", rDepth - depth(node)), \" \", node, \"\\n\")\n",
    "end"
   ]
  },
  {
   "cell_type": "markdown",
   "metadata": {},
   "source": [
    "## Create SPN-GP with flexible depth"
   ]
  },
  {
   "cell_type": "code",
   "execution_count": 594,
   "metadata": {},
   "outputs": [
    {
     "data": {
      "text/plain": [
       "Gaussian Process Sum Node [ID: 3067551, \n",
       "\t w_prior: [0.2, 0.2, 0.2, 0.2, 0.2], \n",
       "\t w_posterior: [0.2, 0.2, 0.2, 0.2, 0.2]]"
      ]
     },
     "execution_count": 594,
     "metadata": {},
     "output_type": "execute_result"
    }
   ],
   "source": [
    "K = 5;\n",
    "numSamples = 0.25;\n",
    "minSamples = 40;\n",
    "meanFunction = MeanZero();\n",
    "kernelFunction = SE(log(5.0),log(1.0));\n",
    "noise = -1.;\n",
    "maximumDepth = 1\n",
    "\n",
    "param = SPNParameters(K, numSamples, minSamples, kernelFunction, meanFunction, noise)\n",
    "\n",
    "root = makeSumNode(X, y, param, 1, maximumDepth)"
   ]
  },
  {
   "cell_type": "code",
   "execution_count": 595,
   "metadata": {},
   "outputs": [
    {
     "data": {
      "text/html": [
       "-42.29047283482476"
      ],
      "text/plain": [
       "-42.29047283482476"
      ]
     },
     "execution_count": 595,
     "metadata": {},
     "output_type": "execute_result"
    }
   ],
   "source": [
    "spn_update(root)"
   ]
  },
  {
   "cell_type": "code",
   "execution_count": 596,
   "metadata": {},
   "outputs": [
    {
     "data": {
      "text/html": [
       "-42.29047283482476"
      ],
      "text/plain": [
       "-42.29047283482476"
      ]
     },
     "execution_count": 596,
     "metadata": {},
     "output_type": "execute_result"
    }
   ],
   "source": [
    "spn_likelihood(root)"
   ]
  },
  {
   "cell_type": "code",
   "execution_count": 570,
   "metadata": {},
   "outputs": [
    {
     "data": {
      "text/plain": [
       "Gaussian Process Sum Node [ID: 3051258, \n",
       "\t w_prior: [0.1, 0.1, 0.1, 0.1, 0.1, 0.1, 0.1, 0.1, 0.1, 0.1], \n",
       "\t w_posterior: [0.181, 0.028, 0.08, 0.134, 0.176, 0.016, 0.026, 0.071, 0.198, 0.09]]"
      ]
     },
     "execution_count": 570,
     "metadata": {},
     "output_type": "execute_result"
    }
   ],
   "source": [
    "root"
   ]
  },
  {
   "cell_type": "code",
   "execution_count": 571,
   "metadata": {},
   "outputs": [
    {
     "data": {
      "text/html": [
       "4"
      ],
      "text/plain": [
       "4"
      ]
     },
     "execution_count": 571,
     "metadata": {},
     "output_type": "execute_result"
    }
   ],
   "source": [
    "depth(root)"
   ]
  },
  {
   "cell_type": "code",
   "execution_count": 572,
   "metadata": {},
   "outputs": [
    {
     "data": {
      "text/html": [
       "21"
      ],
      "text/plain": [
       "21"
      ]
     },
     "execution_count": 572,
     "metadata": {},
     "output_type": "execute_result"
    }
   ],
   "source": [
    "sum(isa.(SumProductNetworks.order(root), SumNode))"
   ]
  },
  {
   "cell_type": "code",
   "execution_count": 525,
   "metadata": {
    "collapsed": true
   },
   "outputs": [],
   "source": [
    "# test\n",
    "n = root\n",
    "μ, σ² = spn_predict(n, linspace(minimum(X),maximum(X),100));\n",
    "\n",
    "\n",
    "plt = scatter(X, y, label = \"observations\", title=\"SPN-GP with depth $(depth(root)) and $(K) splits and LLH: $(spn_likelihood(root))\")\n",
    "plot!(plt, linspace(minimum(X),maximum(X),100), μ, ribbon=2*sqrt.(σ²), label = \"SPN-GP with 95% interval\")\n",
    "#plotSplits!(plt, getSplits(n, 1))\n",
    "savefig(\"../plots/deep_spn_gp.png\")\n",
    "\n",
    "plt = scatter(X, y, label = \"observations\", title=\"SPN-GP with depth $(depth(root)) and $(K) splits and LLH: $(spn_likelihood(root))\")\n",
    "plot!(plt, linspace(minimum(X),maximum(X),100), μ, ribbon=2*sqrt.(σ²), label = \"SPN-GP with 95% interval\")\n",
    "plotSplits!(plt, getSplits(n, 1))\n",
    "savefig(\"../plots/deep_spn_gp_splits.png\")"
   ]
  },
  {
   "cell_type": "code",
   "execution_count": 500,
   "metadata": {},
   "outputs": [
    {
     "data": {
      "text/plain": [
       "spn2graphviz (generic function with 1 method)"
      ]
     },
     "execution_count": 500,
     "metadata": {},
     "output_type": "execute_result"
    }
   ],
   "source": [
    "include(\"../../infinitesumproductnetworks/src/plotSPN.jl\")"
   ]
  },
  {
   "cell_type": "code",
   "execution_count": 552,
   "metadata": {},
   "outputs": [
    {
     "name": "stdout",
     "output_type": "stream",
     "text": [
      "Gaussian Process Sum Node [ID: 3035894, \n",
      "\t w_prior: [0.02, 0.02, 0.02, 0.02, 0.02, 0.02, 0.02, 0.02, 0.02, 0.02, 0.02, 0.02, 0.02, 0.02, 0.02, 0.02, 0.02, 0.02, 0.02, 0.02, 0.02, 0.02, 0.02, 0.02, 0.02, 0.02, 0.02, 0.02, 0.02, 0.02, 0.02, 0.02, 0.02, 0.02, 0.02, 0.02, 0.02, 0.02, 0.02, 0.02, 0.02, 0.02, 0.02, 0.02, 0.02, 0.02, 0.02, 0.02, 0.02, 0.02], \n",
      "\t w_posterior: [0.03, 0.03, 0.026, 0.019, 0.029, 0.007, 0.014, 0.012, 0.022, 0.007, 0.007, 0.009, 0.032, 0.028, 0.006, 0.017, 0.016, 0.007, 0.016, 0.023, 0.032, 0.021, 0.018, 0.028, 0.019, 0.085, 0.006, 0.008, 0.029, 0.007, 0.006, 0.018, 0.029, 0.03, 0.03, 0.026, 0.02, 0.007, 0.007, 0.03, 0.027, 0.021, 0.018, 0.006, 0.034, 0.027, 0.008, 0.007, 0.022, 0.017]]"
     ]
    }
   ],
   "source": [
    "print(root)"
   ]
  },
  {
   "cell_type": "markdown",
   "metadata": {},
   "source": [
    "## some plots"
   ]
  },
  {
   "cell_type": "markdown",
   "metadata": {},
   "source": [
    "#### Flat SPN"
   ]
  },
  {
   "cell_type": "code",
   "execution_count": 652,
   "metadata": {},
   "outputs": [
    {
     "data": {
      "text/html": [
       "-42.75693752401281"
      ],
      "text/plain": [
       "-42.75693752401281"
      ]
     },
     "execution_count": 652,
     "metadata": {},
     "output_type": "execute_result"
    }
   ],
   "source": [
    "K = 10000;\n",
    "numSamples = 0.25;\n",
    "minSamples = 40;\n",
    "meanFunction = MeanZero();\n",
    "kernelFunction = SE(log(5.0),log(1.0));\n",
    "noise = -1.;\n",
    "maximumDepth = 1\n",
    "\n",
    "param = SPNParameters(K, numSamples, minSamples, kernelFunction, meanFunction, noise)\n",
    "\n",
    "root = makeSumNode(X, y, param, 1, maximumDepth)\n",
    "spn_update(root)"
   ]
  },
  {
   "cell_type": "code",
   "execution_count": null,
   "metadata": {
    "collapsed": true
   },
   "outputs": [],
   "source": [
    "for K in [5, 50, 500, 5_000, 10_000, 50_000]\n",
    "\n",
    "    numSamples = 0.25;\n",
    "    minSamples = 40;\n",
    "    meanFunction = MeanZero();\n",
    "    kernelFunction = SE(log(5.0),log(1.0));\n",
    "    noise = -1.;\n",
    "    maximumDepth = 3\n",
    "\n",
    "    param = SPNParameters(K, numSamples, minSamples, kernelFunction, meanFunction, noise)\n",
    "\n",
    "    root = makeSumNode(X, y, param, 1, maximumDepth)\n",
    "    spn_update(root)\n",
    "\n",
    "    S = 100\n",
    "\n",
    "    x = linspace(minimum(X),maximum(X),100)\n",
    "    xx = reduce(hcat, x for k in 1:S)\n",
    "    yy = reduce(hcat, spn_rand(root, x) for k in 1:S)\n",
    "\n",
    "    μ, σ = predict_y(gp,linspace(minimum(X),maximum(X),100));\n",
    "\n",
    "    plt = scatter(X, y, label = \"observations\", legend = false)\n",
    "    plot!(xx, yy, markersize = 2, markerstrokewidth = 0, label = \"Posterior samples from SPN-GP\");\n",
    "    plot!(linspace(minimum(X),maximum(X),100), w =4, μ + 2*σ, color = :green, label = \"Full GP mean + 2*std\")\n",
    "    plot!(linspace(minimum(X),maximum(X),100), w =4, μ - 2*σ, color = :green, label = \"Full GP mean - 2*std\")\n",
    "    \n",
    "    splits = [child.split[1] for child in children(root)]\n",
    "    \n",
    "    vline!([minimum(splits), maximum(splits)], color = :yellow, w = 4)\n",
    "\n",
    "    plot(plt, size = (1024, 1024), title=\"SPN-GPs with differen $(K) splits\")\n",
    "    savefig(\"../plots/spn_gp_splits_$(K)_$(maximumDepth).png\")\n",
    "    \n",
    "end"
   ]
  },
  {
   "cell_type": "code",
   "execution_count": 670,
   "metadata": {
    "collapsed": true
   },
   "outputs": [],
   "source": [
    "plot(\n",
    "histogram([child.split[1] for child in children(root)], weightss = root.posterior_weights, title= \"posterior weighted\"), \n",
    "histogram([child.split[1] for child in children(root)], title = \"prior over splits\"))\n",
    "savefig(\"../plots/split_weights.png\")"
   ]
  },
  {
   "cell_type": "markdown",
   "metadata": {},
   "source": [
    "#### Deep SPN"
   ]
  },
  {
   "cell_type": "code",
   "execution_count": 625,
   "metadata": {},
   "outputs": [
    {
     "data": {
      "text/html": [
       "-47.93831375543295"
      ],
      "text/plain": [
       "-47.93831375543295"
      ]
     },
     "execution_count": 625,
     "metadata": {},
     "output_type": "execute_result"
    }
   ],
   "source": [
    "K = 5;\n",
    "numSamples = 0.25;\n",
    "minSamples = 40;\n",
    "meanFunction = MeanZero();\n",
    "kernelFunction = SE(log(5.0),log(1.0));\n",
    "noise = -1.;\n",
    "maximumDepth = 100\n",
    "\n",
    "param = SPNParameters(K, numSamples, minSamples, kernelFunction, meanFunction, noise)\n",
    "\n",
    "root = makeSumNode(X, y, param, 1, maximumDepth)\n",
    "spn_update(root)"
   ]
  },
  {
   "cell_type": "code",
   "execution_count": 631,
   "metadata": {
    "collapsed": true
   },
   "outputs": [],
   "source": [
    "S = 100\n",
    "\n",
    "x = linspace(minimum(X),maximum(X),100)\n",
    "xx = reduce(hcat, x for k in 1:S)\n",
    "yy = reduce(hcat, spn_rand(root, x) for k in 1:S)\n",
    "\n",
    "μ, σ = predict_y(gp,linspace(minimum(X),maximum(X),100));\n",
    "\n",
    "plt1 = scatter(X, y, label = \"observations\", legend = false)\n",
    "plot!(xx, yy, markersize = 2, markerstrokewidth = 0, label = \"Posterior samples from SPN-GP\");\n",
    "plot!(linspace(minimum(X),maximum(X),100), μ + 2*σ, color = :green, label = \"Full GP mean + 2*std\")\n",
    "plot!(linspace(minimum(X),maximum(X),100), μ - 2*σ, color = :green, label = \"Full GP mean - 2*std\")\n",
    "\n",
    "plt2 = scatter(X, y, label = \"observations\")\n",
    "plot!(xx, yy, markersize = 2, markerstrokewidth = 0, label = \"Posterior samples from SPN-GP\");\n",
    "plot!(linspace(minimum(X),maximum(X),100), μ + 2*σ, color = :green, label = \"Full GP mean + 2*std\")\n",
    "plot!(linspace(minimum(X),maximum(X),100), μ - 2*σ, color = :green, label = \"Full GP mean - 2*std\")\n",
    "plotSplits!(plt2, getAllSplits(root))\n",
    "\n",
    "plot(plt1, plt2, size = (2024, 768), title=\"SPN-GP with depth $(depth(root) - 1) and $(K) splits per sum node (LLH: $(spn_likelihood(root)))\")\n",
    "savefig(\"../plots/spn_gp_deep.png\")"
   ]
  }
 ],
 "metadata": {
  "kernelspec": {
   "display_name": "Julia 0.6.1",
   "language": "julia",
   "name": "julia-0.6"
  },
  "language_info": {
   "file_extension": ".jl",
   "mimetype": "application/julia",
   "name": "julia",
   "version": "0.6.1"
  }
 },
 "nbformat": 4,
 "nbformat_minor": 2
}
