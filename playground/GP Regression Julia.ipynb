{
 "cells": [
  {
   "cell_type": "code",
   "execution_count": 134,
   "metadata": {},
   "outputs": [],
   "source": [
    "using GaussianProcesses, Plots, SumProductNetworks, StatsFuns\n",
    "import SumProductNetworks.add!"
   ]
  },
  {
   "cell_type": "markdown",
   "metadata": {},
   "source": [
    "Data set"
   ]
  },
  {
   "cell_type": "code",
   "execution_count": 188,
   "metadata": {},
   "outputs": [
    {
     "data": {
      "text/plain": [
       "Plots.GRBackend()"
      ]
     },
     "execution_count": 188,
     "metadata": {},
     "output_type": "execute_result"
    }
   ],
   "source": [
    "gr(size = (1024, 768))"
   ]
  },
  {
   "cell_type": "code",
   "execution_count": 3,
   "metadata": {},
   "outputs": [
    {
     "data": {
      "text/plain": [
       "\"../data/clean/motor.csv\""
      ]
     },
     "execution_count": 3,
     "metadata": {},
     "output_type": "execute_result"
    }
   ],
   "source": [
    "datapath = \"../data/clean/motor.csv\""
   ]
  },
  {
   "cell_type": "code",
   "execution_count": 7,
   "metadata": {},
   "outputs": [
    {
     "data": {
      "text/plain": [
       "([2.4 0.0 1.0 3.7; 2.6 -1.3 1.0 3.7; … ; 55.4 -2.7 3.0 138.0; 57.6 10.7 3.0 138.0], AbstractString[\"times\" \"accel\" \"strata\" \"v\"])"
      ]
     },
     "execution_count": 7,
     "metadata": {},
     "output_type": "execute_result"
    }
   ],
   "source": [
    "(data, header) = readcsv(datapath, header = true)"
   ]
  },
  {
   "cell_type": "code",
   "execution_count": 8,
   "metadata": {},
   "outputs": [
    {
     "data": {
      "text/plain": [
       "Dict{SubString{String},Int64} with 4 entries:\n",
       "  \"v\"      => 4\n",
       "  \"times\"  => 1\n",
       "  \"accel\"  => 2\n",
       "  \"strata\" => 3"
      ]
     },
     "execution_count": 8,
     "metadata": {},
     "output_type": "execute_result"
    }
   ],
   "source": [
    "headerDict = Dict(col[2] => col[1] for col in enumerate(header))"
   ]
  },
  {
   "cell_type": "code",
   "execution_count": 9,
   "metadata": {},
   "outputs": [],
   "source": [
    "X = convert(Vector, data[:,headerDict[\"times\"]])\n",
    "y = convert(Vector, data[:,headerDict[\"accel\"]]);"
   ]
  },
  {
   "cell_type": "code",
   "execution_count": 10,
   "metadata": {},
   "outputs": [],
   "source": [
    "y /= maximum(y);"
   ]
  },
  {
   "cell_type": "code",
   "execution_count": 11,
   "metadata": {},
   "outputs": [
    {
     "data": {
      "text/html": [
       "94"
      ],
      "text/plain": [
       "94"
      ]
     },
     "execution_count": 11,
     "metadata": {},
     "output_type": "execute_result"
    }
   ],
   "source": [
    "N = length(X)"
   ]
  },
  {
   "cell_type": "code",
   "execution_count": 187,
   "metadata": {},
   "outputs": [
    {
     "data": {
      "text/html": [
       "<?xml version=\"1.0\" encoding=\"utf-8\"?>\n",
       "<svg xmlns=\"http://www.w3.org/2000/svg\" xmlns:xlink=\"http://www.w3.org/1999/xlink\" width=\"640\" height=\"480\" viewBox=\"0 0 640 480\">\n",
       "<defs>\n",
       "  <clipPath id=\"clip2400\">\n",
       "    <rect x=\"0\" y=\"0\" width=\"640\" height=\"480\"/>\n",
       "  </clipPath>\n",
       "</defs>\n",
       "<polygon clip-path=\"url(#clip2400)\" points=\"\n",
       "0,480 640,480 640,0 0,0 \n",
       "  \" fill=\"#ffffff\" fill-opacity=\"1\"/>\n",
       "<defs>\n",
       "  <clipPath id=\"clip2401\">\n",
       "    <rect x=\"128\" y=\"0\" width=\"449\" height=\"449\"/>\n",
       "  </clipPath>\n",
       "</defs>\n",
       "<polygon clip-path=\"url(#clip2400)\" points=\"\n",
       "39.1436,454.759 620.315,454.759 620.315,11.811 39.1436,11.811 \n",
       "  \" fill=\"#ffffff\" fill-opacity=\"1\"/>\n",
       "<defs>\n",
       "  <clipPath id=\"clip2402\">\n",
       "    <rect x=\"39\" y=\"11\" width=\"582\" height=\"444\"/>\n",
       "  </clipPath>\n",
       "</defs>\n",
       "<polyline clip-path=\"url(#clip2402)\" style=\"stroke:#000000; stroke-width:0.5; stroke-opacity:0.1; fill:none\" points=\"\n",
       "  131.079,454.759 131.079,11.811 \n",
       "  \"/>\n",
       "<polyline clip-path=\"url(#clip2402)\" style=\"stroke:#000000; stroke-width:0.5; stroke-opacity:0.1; fill:none\" points=\"\n",
       "  230.404,454.759 230.404,11.811 \n",
       "  \"/>\n",
       "<polyline clip-path=\"url(#clip2402)\" style=\"stroke:#000000; stroke-width:0.5; stroke-opacity:0.1; fill:none\" points=\"\n",
       "  329.729,454.759 329.729,11.811 \n",
       "  \"/>\n",
       "<polyline clip-path=\"url(#clip2402)\" style=\"stroke:#000000; stroke-width:0.5; stroke-opacity:0.1; fill:none\" points=\"\n",
       "  429.054,454.759 429.054,11.811 \n",
       "  \"/>\n",
       "<polyline clip-path=\"url(#clip2402)\" style=\"stroke:#000000; stroke-width:0.5; stroke-opacity:0.1; fill:none\" points=\"\n",
       "  528.38,454.759 528.38,11.811 \n",
       "  \"/>\n",
       "<polyline clip-path=\"url(#clip2402)\" style=\"stroke:#000000; stroke-width:0.5; stroke-opacity:0.1; fill:none\" points=\"\n",
       "  39.1436,399.235 620.315,399.235 \n",
       "  \"/>\n",
       "<polyline clip-path=\"url(#clip2402)\" style=\"stroke:#000000; stroke-width:0.5; stroke-opacity:0.1; fill:none\" points=\"\n",
       "  39.1436,324.258 620.315,324.258 \n",
       "  \"/>\n",
       "<polyline clip-path=\"url(#clip2402)\" style=\"stroke:#000000; stroke-width:0.5; stroke-opacity:0.1; fill:none\" points=\"\n",
       "  39.1436,249.28 620.315,249.28 \n",
       "  \"/>\n",
       "<polyline clip-path=\"url(#clip2402)\" style=\"stroke:#000000; stroke-width:0.5; stroke-opacity:0.1; fill:none\" points=\"\n",
       "  39.1436,174.302 620.315,174.302 \n",
       "  \"/>\n",
       "<polyline clip-path=\"url(#clip2402)\" style=\"stroke:#000000; stroke-width:0.5; stroke-opacity:0.1; fill:none\" points=\"\n",
       "  39.1436,99.3249 620.315,99.3249 \n",
       "  \"/>\n",
       "<polyline clip-path=\"url(#clip2402)\" style=\"stroke:#000000; stroke-width:0.5; stroke-opacity:0.1; fill:none\" points=\"\n",
       "  39.1436,24.3473 620.315,24.3473 \n",
       "  \"/>\n",
       "<polyline clip-path=\"url(#clip2400)\" style=\"stroke:#000000; stroke-width:1; stroke-opacity:1; fill:none\" points=\"\n",
       "  39.1436,454.759 620.315,454.759 \n",
       "  \"/>\n",
       "<polyline clip-path=\"url(#clip2400)\" style=\"stroke:#000000; stroke-width:1; stroke-opacity:1; fill:none\" points=\"\n",
       "  39.1436,454.759 39.1436,11.811 \n",
       "  \"/>\n",
       "<polyline clip-path=\"url(#clip2400)\" style=\"stroke:#000000; stroke-width:1; stroke-opacity:1; fill:none\" points=\"\n",
       "  131.079,454.759 131.079,448.114 \n",
       "  \"/>\n",
       "<polyline clip-path=\"url(#clip2400)\" style=\"stroke:#000000; stroke-width:1; stroke-opacity:1; fill:none\" points=\"\n",
       "  230.404,454.759 230.404,448.114 \n",
       "  \"/>\n",
       "<polyline clip-path=\"url(#clip2400)\" style=\"stroke:#000000; stroke-width:1; stroke-opacity:1; fill:none\" points=\"\n",
       "  329.729,454.759 329.729,448.114 \n",
       "  \"/>\n",
       "<polyline clip-path=\"url(#clip2400)\" style=\"stroke:#000000; stroke-width:1; stroke-opacity:1; fill:none\" points=\"\n",
       "  429.054,454.759 429.054,448.114 \n",
       "  \"/>\n",
       "<polyline clip-path=\"url(#clip2400)\" style=\"stroke:#000000; stroke-width:1; stroke-opacity:1; fill:none\" points=\"\n",
       "  528.38,454.759 528.38,448.114 \n",
       "  \"/>\n",
       "<polyline clip-path=\"url(#clip2400)\" style=\"stroke:#000000; stroke-width:1; stroke-opacity:1; fill:none\" points=\"\n",
       "  39.1436,399.235 47.8612,399.235 \n",
       "  \"/>\n",
       "<polyline clip-path=\"url(#clip2400)\" style=\"stroke:#000000; stroke-width:1; stroke-opacity:1; fill:none\" points=\"\n",
       "  39.1436,324.258 47.8612,324.258 \n",
       "  \"/>\n",
       "<polyline clip-path=\"url(#clip2400)\" style=\"stroke:#000000; stroke-width:1; stroke-opacity:1; fill:none\" points=\"\n",
       "  39.1436,249.28 47.8612,249.28 \n",
       "  \"/>\n",
       "<polyline clip-path=\"url(#clip2400)\" style=\"stroke:#000000; stroke-width:1; stroke-opacity:1; fill:none\" points=\"\n",
       "  39.1436,174.302 47.8612,174.302 \n",
       "  \"/>\n",
       "<polyline clip-path=\"url(#clip2400)\" style=\"stroke:#000000; stroke-width:1; stroke-opacity:1; fill:none\" points=\"\n",
       "  39.1436,99.3249 47.8612,99.3249 \n",
       "  \"/>\n",
       "<polyline clip-path=\"url(#clip2400)\" style=\"stroke:#000000; stroke-width:1; stroke-opacity:1; fill:none\" points=\"\n",
       "  39.1436,24.3473 47.8612,24.3473 \n",
       "  \"/>\n",
       "<g clip-path=\"url(#clip2400)\">\n",
       "<text style=\"fill:#000000; fill-opacity:1; font-family:Arial,Helvetica Neue,Helvetica,sans-serif; font-size:12; text-anchor:middle;\" transform=\"rotate(0, 131.079, 468.759)\" x=\"131.079\" y=\"468.759\">10</text>\n",
       "</g>\n",
       "<g clip-path=\"url(#clip2400)\">\n",
       "<text style=\"fill:#000000; fill-opacity:1; font-family:Arial,Helvetica Neue,Helvetica,sans-serif; font-size:12; text-anchor:middle;\" transform=\"rotate(0, 230.404, 468.759)\" x=\"230.404\" y=\"468.759\">20</text>\n",
       "</g>\n",
       "<g clip-path=\"url(#clip2400)\">\n",
       "<text style=\"fill:#000000; fill-opacity:1; font-family:Arial,Helvetica Neue,Helvetica,sans-serif; font-size:12; text-anchor:middle;\" transform=\"rotate(0, 329.729, 468.759)\" x=\"329.729\" y=\"468.759\">30</text>\n",
       "</g>\n",
       "<g clip-path=\"url(#clip2400)\">\n",
       "<text style=\"fill:#000000; fill-opacity:1; font-family:Arial,Helvetica Neue,Helvetica,sans-serif; font-size:12; text-anchor:middle;\" transform=\"rotate(0, 429.054, 468.759)\" x=\"429.054\" y=\"468.759\">40</text>\n",
       "</g>\n",
       "<g clip-path=\"url(#clip2400)\">\n",
       "<text style=\"fill:#000000; fill-opacity:1; font-family:Arial,Helvetica Neue,Helvetica,sans-serif; font-size:12; text-anchor:middle;\" transform=\"rotate(0, 528.38, 468.759)\" x=\"528.38\" y=\"468.759\">50</text>\n",
       "</g>\n",
       "<g clip-path=\"url(#clip2400)\">\n",
       "<text style=\"fill:#000000; fill-opacity:1; font-family:Arial,Helvetica Neue,Helvetica,sans-serif; font-size:12; text-anchor:end;\" transform=\"rotate(0, 32.7436, 403.735)\" x=\"32.7436\" y=\"403.735\">-1.5</text>\n",
       "</g>\n",
       "<g clip-path=\"url(#clip2400)\">\n",
       "<text style=\"fill:#000000; fill-opacity:1; font-family:Arial,Helvetica Neue,Helvetica,sans-serif; font-size:12; text-anchor:end;\" transform=\"rotate(0, 32.7436, 328.758)\" x=\"32.7436\" y=\"328.758\">-1.0</text>\n",
       "</g>\n",
       "<g clip-path=\"url(#clip2400)\">\n",
       "<text style=\"fill:#000000; fill-opacity:1; font-family:Arial,Helvetica Neue,Helvetica,sans-serif; font-size:12; text-anchor:end;\" transform=\"rotate(0, 32.7436, 253.78)\" x=\"32.7436\" y=\"253.78\">-0.5</text>\n",
       "</g>\n",
       "<g clip-path=\"url(#clip2400)\">\n",
       "<text style=\"fill:#000000; fill-opacity:1; font-family:Arial,Helvetica Neue,Helvetica,sans-serif; font-size:12; text-anchor:end;\" transform=\"rotate(0, 32.7436, 178.802)\" x=\"32.7436\" y=\"178.802\">0.0</text>\n",
       "</g>\n",
       "<g clip-path=\"url(#clip2400)\">\n",
       "<text style=\"fill:#000000; fill-opacity:1; font-family:Arial,Helvetica Neue,Helvetica,sans-serif; font-size:12; text-anchor:end;\" transform=\"rotate(0, 32.7436, 103.825)\" x=\"32.7436\" y=\"103.825\">0.5</text>\n",
       "</g>\n",
       "<g clip-path=\"url(#clip2400)\">\n",
       "<text style=\"fill:#000000; fill-opacity:1; font-family:Arial,Helvetica Neue,Helvetica,sans-serif; font-size:12; text-anchor:end;\" transform=\"rotate(0, 32.7436, 28.8473)\" x=\"32.7436\" y=\"28.8473\">1.0</text>\n",
       "</g>\n",
       "<circle clip-path=\"url(#clip2402)\" style=\"fill:#000000; stroke:none; fill-opacity:1\" cx=\"55.5918\" cy=\"174.302\" r=\"4\"/>\n",
       "<circle clip-path=\"url(#clip2402)\" style=\"fill:#009af9; stroke:none; fill-opacity:1\" cx=\"55.5918\" cy=\"174.302\" r=\"3\"/>\n",
       "<circle clip-path=\"url(#clip2402)\" style=\"fill:#000000; stroke:none; fill-opacity:1\" cx=\"57.5783\" cy=\"176.902\" r=\"4\"/>\n",
       "<circle clip-path=\"url(#clip2402)\" style=\"fill:#009af9; stroke:none; fill-opacity:1\" cx=\"57.5783\" cy=\"176.902\" r=\"3\"/>\n",
       "<circle clip-path=\"url(#clip2402)\" style=\"fill:#000000; stroke:none; fill-opacity:1\" cx=\"63.5378\" cy=\"179.701\" r=\"4\"/>\n",
       "<circle clip-path=\"url(#clip2402)\" style=\"fill:#009af9; stroke:none; fill-opacity:1\" cx=\"63.5378\" cy=\"179.701\" r=\"3\"/>\n",
       "<circle clip-path=\"url(#clip2402)\" style=\"fill:#000000; stroke:none; fill-opacity:1\" cx=\"67.5109\" cy=\"174.302\" r=\"4\"/>\n",
       "<circle clip-path=\"url(#clip2402)\" style=\"fill:#009af9; stroke:none; fill-opacity:1\" cx=\"67.5109\" cy=\"174.302\" r=\"3\"/>\n",
       "<circle clip-path=\"url(#clip2402)\" style=\"fill:#000000; stroke:none; fill-opacity:1\" cx=\"71.4839\" cy=\"179.701\" r=\"4\"/>\n",
       "<circle clip-path=\"url(#clip2402)\" style=\"fill:#009af9; stroke:none; fill-opacity:1\" cx=\"71.4839\" cy=\"179.701\" r=\"3\"/>\n",
       "<circle clip-path=\"url(#clip2402)\" style=\"fill:#000000; stroke:none; fill-opacity:1\" cx=\"93.3354\" cy=\"179.701\" r=\"4\"/>\n",
       "<circle clip-path=\"url(#clip2402)\" style=\"fill:#009af9; stroke:none; fill-opacity:1\" cx=\"93.3354\" cy=\"179.701\" r=\"3\"/>\n",
       "<circle clip-path=\"url(#clip2402)\" style=\"fill:#000000; stroke:none; fill-opacity:1\" cx=\"97.3084\" cy=\"179.701\" r=\"4\"/>\n",
       "<circle clip-path=\"url(#clip2402)\" style=\"fill:#009af9; stroke:none; fill-opacity:1\" cx=\"97.3084\" cy=\"179.701\" r=\"3\"/>\n",
       "<circle clip-path=\"url(#clip2402)\" style=\"fill:#000000; stroke:none; fill-opacity:1\" cx=\"99.2949\" cy=\"176.902\" r=\"4\"/>\n",
       "<circle clip-path=\"url(#clip2402)\" style=\"fill:#009af9; stroke:none; fill-opacity:1\" cx=\"99.2949\" cy=\"176.902\" r=\"3\"/>\n",
       "<circle clip-path=\"url(#clip2402)\" style=\"fill:#000000; stroke:none; fill-opacity:1\" cx=\"109.227\" cy=\"179.701\" r=\"4\"/>\n",
       "<circle clip-path=\"url(#clip2402)\" style=\"fill:#009af9; stroke:none; fill-opacity:1\" cx=\"109.227\" cy=\"179.701\" r=\"3\"/>\n",
       "<circle clip-path=\"url(#clip2402)\" style=\"fill:#000000; stroke:none; fill-opacity:1\" cx=\"113.2\" cy=\"179.701\" r=\"4\"/>\n",
       "<circle clip-path=\"url(#clip2402)\" style=\"fill:#009af9; stroke:none; fill-opacity:1\" cx=\"113.2\" cy=\"179.701\" r=\"3\"/>\n",
       "<circle clip-path=\"url(#clip2402)\" style=\"fill:#000000; stroke:none; fill-opacity:1\" cx=\"119.16\" cy=\"176.902\" r=\"4\"/>\n",
       "<circle clip-path=\"url(#clip2402)\" style=\"fill:#009af9; stroke:none; fill-opacity:1\" cx=\"119.16\" cy=\"176.902\" r=\"3\"/>\n",
       "<circle clip-path=\"url(#clip2402)\" style=\"fill:#000000; stroke:none; fill-opacity:1\" cx=\"127.106\" cy=\"179.701\" r=\"4\"/>\n",
       "<circle clip-path=\"url(#clip2402)\" style=\"fill:#009af9; stroke:none; fill-opacity:1\" cx=\"127.106\" cy=\"179.701\" r=\"3\"/>\n",
       "<circle clip-path=\"url(#clip2402)\" style=\"fill:#000000; stroke:none; fill-opacity:1\" cx=\"131.079\" cy=\"179.701\" r=\"4\"/>\n",
       "<circle clip-path=\"url(#clip2402)\" style=\"fill:#009af9; stroke:none; fill-opacity:1\" cx=\"131.079\" cy=\"179.701\" r=\"3\"/>\n",
       "<circle clip-path=\"url(#clip2402)\" style=\"fill:#000000; stroke:none; fill-opacity:1\" cx=\"133.065\" cy=\"185.099\" r=\"4\"/>\n",
       "<circle clip-path=\"url(#clip2402)\" style=\"fill:#009af9; stroke:none; fill-opacity:1\" cx=\"133.065\" cy=\"185.099\" r=\"3\"/>\n",
       "<circle clip-path=\"url(#clip2402)\" style=\"fill:#000000; stroke:none; fill-opacity:1\" cx=\"137.038\" cy=\"179.701\" r=\"4\"/>\n",
       "<circle clip-path=\"url(#clip2402)\" style=\"fill:#009af9; stroke:none; fill-opacity:1\" cx=\"137.038\" cy=\"179.701\" r=\"3\"/>\n",
       "<circle clip-path=\"url(#clip2402)\" style=\"fill:#000000; stroke:none; fill-opacity:1\" cx=\"141.011\" cy=\"185.099\" r=\"4\"/>\n",
       "<circle clip-path=\"url(#clip2402)\" style=\"fill:#009af9; stroke:none; fill-opacity:1\" cx=\"141.011\" cy=\"185.099\" r=\"3\"/>\n",
       "<circle clip-path=\"url(#clip2402)\" style=\"fill:#000000; stroke:none; fill-opacity:1\" cx=\"144.984\" cy=\"174.302\" r=\"4\"/>\n",
       "<circle clip-path=\"url(#clip2402)\" style=\"fill:#009af9; stroke:none; fill-opacity:1\" cx=\"144.984\" cy=\"174.302\" r=\"3\"/>\n",
       "<circle clip-path=\"url(#clip2402)\" style=\"fill:#000000; stroke:none; fill-opacity:1\" cx=\"162.863\" cy=\"179.701\" r=\"4\"/>\n",
       "<circle clip-path=\"url(#clip2402)\" style=\"fill:#009af9; stroke:none; fill-opacity:1\" cx=\"162.863\" cy=\"179.701\" r=\"3\"/>\n",
       "<circle clip-path=\"url(#clip2402)\" style=\"fill:#000000; stroke:none; fill-opacity:1\" cx=\"166.836\" cy=\"179.701\" r=\"4\"/>\n",
       "<circle clip-path=\"url(#clip2402)\" style=\"fill:#009af9; stroke:none; fill-opacity:1\" cx=\"166.836\" cy=\"179.701\" r=\"3\"/>\n",
       "<circle clip-path=\"url(#clip2402)\" style=\"fill:#000000; stroke:none; fill-opacity:1\" cx=\"168.823\" cy=\"174.302\" r=\"4\"/>\n",
       "<circle clip-path=\"url(#clip2402)\" style=\"fill:#009af9; stroke:none; fill-opacity:1\" cx=\"168.823\" cy=\"174.302\" r=\"3\"/>\n",
       "<circle clip-path=\"url(#clip2402)\" style=\"fill:#000000; stroke:none; fill-opacity:1\" cx=\"176.769\" cy=\"200.895\" r=\"4\"/>\n",
       "<circle clip-path=\"url(#clip2402)\" style=\"fill:#009af9; stroke:none; fill-opacity:1\" cx=\"176.769\" cy=\"200.895\" r=\"3\"/>\n",
       "<circle clip-path=\"url(#clip2402)\" style=\"fill:#000000; stroke:none; fill-opacity:1\" cx=\"178.755\" cy=\"179.701\" r=\"4\"/>\n",
       "<circle clip-path=\"url(#clip2402)\" style=\"fill:#009af9; stroke:none; fill-opacity:1\" cx=\"178.755\" cy=\"179.701\" r=\"3\"/>\n",
       "<circle clip-path=\"url(#clip2402)\" style=\"fill:#000000; stroke:none; fill-opacity:1\" cx=\"184.715\" cy=\"219.889\" r=\"4\"/>\n",
       "<circle clip-path=\"url(#clip2402)\" style=\"fill:#009af9; stroke:none; fill-opacity:1\" cx=\"184.715\" cy=\"219.889\" r=\"3\"/>\n",
       "<circle clip-path=\"url(#clip2402)\" style=\"fill:#000000; stroke:none; fill-opacity:1\" cx=\"186.701\" cy=\"254.678\" r=\"4\"/>\n",
       "<circle clip-path=\"url(#clip2402)\" style=\"fill:#009af9; stroke:none; fill-opacity:1\" cx=\"186.701\" cy=\"254.678\" r=\"3\"/>\n",
       "<circle clip-path=\"url(#clip2402)\" style=\"fill:#000000; stroke:none; fill-opacity:1\" cx=\"188.688\" cy=\"217.29\" r=\"4\"/>\n",
       "<circle clip-path=\"url(#clip2402)\" style=\"fill:#009af9; stroke:none; fill-opacity:1\" cx=\"188.688\" cy=\"217.29\" r=\"3\"/>\n",
       "<circle clip-path=\"url(#clip2402)\" style=\"fill:#000000; stroke:none; fill-opacity:1\" cx=\"190.674\" cy=\"260.077\" r=\"4\"/>\n",
       "<circle clip-path=\"url(#clip2402)\" style=\"fill:#009af9; stroke:none; fill-opacity:1\" cx=\"190.674\" cy=\"260.077\" r=\"3\"/>\n",
       "<circle clip-path=\"url(#clip2402)\" style=\"fill:#000000; stroke:none; fill-opacity:1\" cx=\"192.661\" cy=\"217.29\" r=\"4\"/>\n",
       "<circle clip-path=\"url(#clip2402)\" style=\"fill:#009af9; stroke:none; fill-opacity:1\" cx=\"192.661\" cy=\"217.29\" r=\"3\"/>\n",
       "<circle clip-path=\"url(#clip2402)\" style=\"fill:#000000; stroke:none; fill-opacity:1\" cx=\"194.647\" cy=\"185.099\" r=\"4\"/>\n",
       "<circle clip-path=\"url(#clip2402)\" style=\"fill:#009af9; stroke:none; fill-opacity:1\" cx=\"194.647\" cy=\"185.099\" r=\"3\"/>\n",
       "<circle clip-path=\"url(#clip2402)\" style=\"fill:#000000; stroke:none; fill-opacity:1\" cx=\"196.634\" cy=\"292.267\" r=\"4\"/>\n",
       "<circle clip-path=\"url(#clip2402)\" style=\"fill:#009af9; stroke:none; fill-opacity:1\" cx=\"196.634\" cy=\"292.267\" r=\"3\"/>\n",
       "<circle clip-path=\"url(#clip2402)\" style=\"fill:#000000; stroke:none; fill-opacity:1\" cx=\"198.62\" cy=\"316.26\" r=\"4\"/>\n",
       "<circle clip-path=\"url(#clip2402)\" style=\"fill:#009af9; stroke:none; fill-opacity:1\" cx=\"198.62\" cy=\"316.26\" r=\"3\"/>\n",
       "<circle clip-path=\"url(#clip2402)\" style=\"fill:#000000; stroke:none; fill-opacity:1\" cx=\"206.566\" cy=\"249.28\" r=\"4\"/>\n",
       "<circle clip-path=\"url(#clip2402)\" style=\"fill:#009af9; stroke:none; fill-opacity:1\" cx=\"206.566\" cy=\"249.28\" r=\"3\"/>\n",
       "<circle clip-path=\"url(#clip2402)\" style=\"fill:#000000; stroke:none; fill-opacity:1\" cx=\"208.553\" cy=\"372.443\" r=\"4\"/>\n",
       "<circle clip-path=\"url(#clip2402)\" style=\"fill:#009af9; stroke:none; fill-opacity:1\" cx=\"208.553\" cy=\"372.443\" r=\"3\"/>\n",
       "<circle clip-path=\"url(#clip2402)\" style=\"fill:#000000; stroke:none; fill-opacity:1\" cx=\"216.499\" cy=\"399.235\" r=\"4\"/>\n",
       "<circle clip-path=\"url(#clip2402)\" style=\"fill:#009af9; stroke:none; fill-opacity:1\" cx=\"216.499\" cy=\"399.235\" r=\"3\"/>\n",
       "<circle clip-path=\"url(#clip2402)\" style=\"fill:#000000; stroke:none; fill-opacity:1\" cx=\"222.458\" cy=\"420.429\" r=\"4\"/>\n",
       "<circle clip-path=\"url(#clip2402)\" style=\"fill:#009af9; stroke:none; fill-opacity:1\" cx=\"222.458\" cy=\"420.429\" r=\"3\"/>\n",
       "<circle clip-path=\"url(#clip2402)\" style=\"fill:#000000; stroke:none; fill-opacity:1\" cx=\"224.445\" cy=\"345.451\" r=\"4\"/>\n",
       "<circle clip-path=\"url(#clip2402)\" style=\"fill:#009af9; stroke:none; fill-opacity:1\" cx=\"224.445\" cy=\"345.451\" r=\"3\"/>\n",
       "<circle clip-path=\"url(#clip2402)\" style=\"fill:#000000; stroke:none; fill-opacity:1\" cx=\"226.431\" cy=\"428.626\" r=\"4\"/>\n",
       "<circle clip-path=\"url(#clip2402)\" style=\"fill:#009af9; stroke:none; fill-opacity:1\" cx=\"226.431\" cy=\"428.626\" r=\"3\"/>\n",
       "<circle clip-path=\"url(#clip2402)\" style=\"fill:#000000; stroke:none; fill-opacity:1\" cx=\"232.391\" cy=\"420.429\" r=\"4\"/>\n",
       "<circle clip-path=\"url(#clip2402)\" style=\"fill:#009af9; stroke:none; fill-opacity:1\" cx=\"232.391\" cy=\"420.429\" r=\"3\"/>\n",
       "<circle clip-path=\"url(#clip2402)\" style=\"fill:#000000; stroke:none; fill-opacity:1\" cx=\"234.377\" cy=\"410.032\" r=\"4\"/>\n",
       "<circle clip-path=\"url(#clip2402)\" style=\"fill:#009af9; stroke:none; fill-opacity:1\" cx=\"234.377\" cy=\"410.032\" r=\"3\"/>\n",
       "<circle clip-path=\"url(#clip2402)\" style=\"fill:#000000; stroke:none; fill-opacity:1\" cx=\"242.323\" cy=\"442.222\" r=\"4\"/>\n",
       "<circle clip-path=\"url(#clip2402)\" style=\"fill:#009af9; stroke:none; fill-opacity:1\" cx=\"242.323\" cy=\"442.222\" r=\"3\"/>\n",
       "<circle clip-path=\"url(#clip2402)\" style=\"fill:#000000; stroke:none; fill-opacity:1\" cx=\"244.31\" cy=\"378.042\" r=\"4\"/>\n",
       "<circle clip-path=\"url(#clip2402)\" style=\"fill:#009af9; stroke:none; fill-opacity:1\" cx=\"244.31\" cy=\"378.042\" r=\"3\"/>\n",
       "<circle clip-path=\"url(#clip2402)\" style=\"fill:#000000; stroke:none; fill-opacity:1\" cx=\"248.283\" cy=\"391.038\" r=\"4\"/>\n",
       "<circle clip-path=\"url(#clip2402)\" style=\"fill:#009af9; stroke:none; fill-opacity:1\" cx=\"248.283\" cy=\"391.038\" r=\"3\"/>\n",
       "<circle clip-path=\"url(#clip2402)\" style=\"fill:#000000; stroke:none; fill-opacity:1\" cx=\"250.269\" cy=\"420.429\" r=\"4\"/>\n",
       "<circle clip-path=\"url(#clip2402)\" style=\"fill:#009af9; stroke:none; fill-opacity:1\" cx=\"250.269\" cy=\"420.429\" r=\"3\"/>\n",
       "<circle clip-path=\"url(#clip2402)\" style=\"fill:#000000; stroke:none; fill-opacity:1\" cx=\"262.188\" cy=\"420.429\" r=\"4\"/>\n",
       "<circle clip-path=\"url(#clip2402)\" style=\"fill:#009af9; stroke:none; fill-opacity:1\" cx=\"262.188\" cy=\"420.429\" r=\"3\"/>\n",
       "<circle clip-path=\"url(#clip2402)\" style=\"fill:#000000; stroke:none; fill-opacity:1\" cx=\"264.175\" cy=\"431.226\" r=\"4\"/>\n",
       "<circle clip-path=\"url(#clip2402)\" style=\"fill:#009af9; stroke:none; fill-opacity:1\" cx=\"264.175\" cy=\"431.226\" r=\"3\"/>\n",
       "<circle clip-path=\"url(#clip2402)\" style=\"fill:#000000; stroke:none; fill-opacity:1\" cx=\"270.134\" cy=\"399.235\" r=\"4\"/>\n",
       "<circle clip-path=\"url(#clip2402)\" style=\"fill:#009af9; stroke:none; fill-opacity:1\" cx=\"270.134\" cy=\"399.235\" r=\"3\"/>\n",
       "<circle clip-path=\"url(#clip2402)\" style=\"fill:#000000; stroke:none; fill-opacity:1\" cx=\"272.121\" cy=\"364.446\" r=\"4\"/>\n",
       "<circle clip-path=\"url(#clip2402)\" style=\"fill:#009af9; stroke:none; fill-opacity:1\" cx=\"272.121\" cy=\"364.446\" r=\"3\"/>\n",
       "<circle clip-path=\"url(#clip2402)\" style=\"fill:#000000; stroke:none; fill-opacity:1\" cx=\"276.094\" cy=\"281.27\" r=\"4\"/>\n",
       "<circle clip-path=\"url(#clip2402)\" style=\"fill:#009af9; stroke:none; fill-opacity:1\" cx=\"276.094\" cy=\"281.27\" r=\"3\"/>\n",
       "<circle clip-path=\"url(#clip2402)\" style=\"fill:#000000; stroke:none; fill-opacity:1\" cx=\"280.067\" cy=\"303.064\" r=\"4\"/>\n",
       "<circle clip-path=\"url(#clip2402)\" style=\"fill:#009af9; stroke:none; fill-opacity:1\" cx=\"280.067\" cy=\"303.064\" r=\"3\"/>\n",
       "<circle clip-path=\"url(#clip2402)\" style=\"fill:#000000; stroke:none; fill-opacity:1\" cx=\"284.04\" cy=\"318.859\" r=\"4\"/>\n",
       "<circle clip-path=\"url(#clip2402)\" style=\"fill:#009af9; stroke:none; fill-opacity:1\" cx=\"284.04\" cy=\"318.859\" r=\"3\"/>\n",
       "<circle clip-path=\"url(#clip2402)\" style=\"fill:#000000; stroke:none; fill-opacity:1\" cx=\"286.026\" cy=\"227.886\" r=\"4\"/>\n",
       "<circle clip-path=\"url(#clip2402)\" style=\"fill:#009af9; stroke:none; fill-opacity:1\" cx=\"286.026\" cy=\"227.886\" r=\"3\"/>\n",
       "<circle clip-path=\"url(#clip2402)\" style=\"fill:#000000; stroke:none; fill-opacity:1\" cx=\"289.999\" cy=\"185.099\" r=\"4\"/>\n",
       "<circle clip-path=\"url(#clip2402)\" style=\"fill:#009af9; stroke:none; fill-opacity:1\" cx=\"289.999\" cy=\"185.099\" r=\"3\"/>\n",
       "<circle clip-path=\"url(#clip2402)\" style=\"fill:#000000; stroke:none; fill-opacity:1\" cx=\"291.986\" cy=\"388.438\" r=\"4\"/>\n",
       "<circle clip-path=\"url(#clip2402)\" style=\"fill:#009af9; stroke:none; fill-opacity:1\" cx=\"291.986\" cy=\"388.438\" r=\"3\"/>\n",
       "<circle clip-path=\"url(#clip2402)\" style=\"fill:#000000; stroke:none; fill-opacity:1\" cx=\"293.972\" cy=\"305.463\" r=\"4\"/>\n",
       "<circle clip-path=\"url(#clip2402)\" style=\"fill:#009af9; stroke:none; fill-opacity:1\" cx=\"293.972\" cy=\"305.463\" r=\"3\"/>\n",
       "<circle clip-path=\"url(#clip2402)\" style=\"fill:#000000; stroke:none; fill-opacity:1\" cx=\"299.932\" cy=\"206.293\" r=\"4\"/>\n",
       "<circle clip-path=\"url(#clip2402)\" style=\"fill:#009af9; stroke:none; fill-opacity:1\" cx=\"299.932\" cy=\"206.293\" r=\"3\"/>\n",
       "<circle clip-path=\"url(#clip2402)\" style=\"fill:#000000; stroke:none; fill-opacity:1\" cx=\"301.918\" cy=\"265.475\" r=\"4\"/>\n",
       "<circle clip-path=\"url(#clip2402)\" style=\"fill:#009af9; stroke:none; fill-opacity:1\" cx=\"301.918\" cy=\"265.475\" r=\"3\"/>\n",
       "<circle clip-path=\"url(#clip2402)\" style=\"fill:#000000; stroke:none; fill-opacity:1\" cx=\"305.891\" cy=\"166.305\" r=\"4\"/>\n",
       "<circle clip-path=\"url(#clip2402)\" style=\"fill:#009af9; stroke:none; fill-opacity:1\" cx=\"305.891\" cy=\"166.305\" r=\"3\"/>\n",
       "<circle clip-path=\"url(#clip2402)\" style=\"fill:#000000; stroke:none; fill-opacity:1\" cx=\"311.851\" cy=\"150.31\" r=\"4\"/>\n",
       "<circle clip-path=\"url(#clip2402)\" style=\"fill:#009af9; stroke:none; fill-opacity:1\" cx=\"311.851\" cy=\"150.31\" r=\"3\"/>\n",
       "<circle clip-path=\"url(#clip2402)\" style=\"fill:#000000; stroke:none; fill-opacity:1\" cx=\"313.837\" cy=\"217.29\" r=\"4\"/>\n",
       "<circle clip-path=\"url(#clip2402)\" style=\"fill:#009af9; stroke:none; fill-opacity:1\" cx=\"313.837\" cy=\"217.29\" r=\"3\"/>\n",
       "<circle clip-path=\"url(#clip2402)\" style=\"fill:#000000; stroke:none; fill-opacity:1\" cx=\"315.824\" cy=\"80.5305\" r=\"4\"/>\n",
       "<circle clip-path=\"url(#clip2402)\" style=\"fill:#009af9; stroke:none; fill-opacity:1\" cx=\"315.824\" cy=\"80.5305\" r=\"3\"/>\n",
       "<circle clip-path=\"url(#clip2402)\" style=\"fill:#000000; stroke:none; fill-opacity:1\" cx=\"323.77\" cy=\"209.092\" r=\"4\"/>\n",
       "<circle clip-path=\"url(#clip2402)\" style=\"fill:#009af9; stroke:none; fill-opacity:1\" cx=\"323.77\" cy=\"209.092\" r=\"3\"/>\n",
       "<circle clip-path=\"url(#clip2402)\" style=\"fill:#000000; stroke:none; fill-opacity:1\" cx=\"331.716\" cy=\"101.924\" r=\"4\"/>\n",
       "<circle clip-path=\"url(#clip2402)\" style=\"fill:#009af9; stroke:none; fill-opacity:1\" cx=\"331.716\" cy=\"101.924\" r=\"3\"/>\n",
       "<circle clip-path=\"url(#clip2402)\" style=\"fill:#000000; stroke:none; fill-opacity:1\" cx=\"339.662\" cy=\"24.3473\" r=\"4\"/>\n",
       "<circle clip-path=\"url(#clip2402)\" style=\"fill:#009af9; stroke:none; fill-opacity:1\" cx=\"339.662\" cy=\"24.3473\" r=\"3\"/>\n",
       "<circle clip-path=\"url(#clip2402)\" style=\"fill:#000000; stroke:none; fill-opacity:1\" cx=\"341.648\" cy=\"158.107\" r=\"4\"/>\n",
       "<circle clip-path=\"url(#clip2402)\" style=\"fill:#009af9; stroke:none; fill-opacity:1\" cx=\"341.648\" cy=\"158.107\" r=\"3\"/>\n",
       "<circle clip-path=\"url(#clip2402)\" style=\"fill:#000000; stroke:none; fill-opacity:1\" cx=\"349.594\" cy=\"64.5353\" r=\"4\"/>\n",
       "<circle clip-path=\"url(#clip2402)\" style=\"fill:#009af9; stroke:none; fill-opacity:1\" cx=\"349.594\" cy=\"64.5353\" r=\"3\"/>\n",
       "<circle clip-path=\"url(#clip2402)\" style=\"fill:#000000; stroke:none; fill-opacity:1\" cx=\"357.54\" cy=\"80.5305\" r=\"4\"/>\n",
       "<circle clip-path=\"url(#clip2402)\" style=\"fill:#009af9; stroke:none; fill-opacity:1\" cx=\"357.54\" cy=\"80.5305\" r=\"3\"/>\n",
       "<circle clip-path=\"url(#clip2402)\" style=\"fill:#000000; stroke:none; fill-opacity:1\" cx=\"363.5\" cy=\"142.312\" r=\"4\"/>\n",
       "<circle clip-path=\"url(#clip2402)\" style=\"fill:#009af9; stroke:none; fill-opacity:1\" cx=\"363.5\" cy=\"142.312\" r=\"3\"/>\n",
       "<circle clip-path=\"url(#clip2402)\" style=\"fill:#000000; stroke:none; fill-opacity:1\" cx=\"367.473\" cy=\"83.1297\" r=\"4\"/>\n",
       "<circle clip-path=\"url(#clip2402)\" style=\"fill:#009af9; stroke:none; fill-opacity:1\" cx=\"367.473\" cy=\"83.1297\" r=\"3\"/>\n",
       "<circle clip-path=\"url(#clip2402)\" style=\"fill:#000000; stroke:none; fill-opacity:1\" cx=\"373.432\" cy=\"171.703\" r=\"4\"/>\n",
       "<circle clip-path=\"url(#clip2402)\" style=\"fill:#009af9; stroke:none; fill-opacity:1\" cx=\"373.432\" cy=\"171.703\" r=\"3\"/>\n",
       "<circle clip-path=\"url(#clip2402)\" style=\"fill:#000000; stroke:none; fill-opacity:1\" cx=\"377.405\" cy=\"24.3473\" r=\"4\"/>\n",
       "<circle clip-path=\"url(#clip2402)\" style=\"fill:#009af9; stroke:none; fill-opacity:1\" cx=\"377.405\" cy=\"24.3473\" r=\"3\"/>\n",
       "<circle clip-path=\"url(#clip2402)\" style=\"fill:#000000; stroke:none; fill-opacity:1\" cx=\"381.378\" cy=\"206.293\" r=\"4\"/>\n",
       "<circle clip-path=\"url(#clip2402)\" style=\"fill:#009af9; stroke:none; fill-opacity:1\" cx=\"381.378\" cy=\"206.293\" r=\"3\"/>\n",
       "<circle clip-path=\"url(#clip2402)\" style=\"fill:#000000; stroke:none; fill-opacity:1\" cx=\"383.365\" cy=\"35.144\" r=\"4\"/>\n",
       "<circle clip-path=\"url(#clip2402)\" style=\"fill:#009af9; stroke:none; fill-opacity:1\" cx=\"383.365\" cy=\"35.144\" r=\"3\"/>\n",
       "<circle clip-path=\"url(#clip2402)\" style=\"fill:#000000; stroke:none; fill-opacity:1\" cx=\"385.351\" cy=\"104.723\" r=\"4\"/>\n",
       "<circle clip-path=\"url(#clip2402)\" style=\"fill:#009af9; stroke:none; fill-opacity:1\" cx=\"385.351\" cy=\"104.723\" r=\"3\"/>\n",
       "<circle clip-path=\"url(#clip2402)\" style=\"fill:#000000; stroke:none; fill-opacity:1\" cx=\"391.311\" cy=\"249.28\" r=\"4\"/>\n",
       "<circle clip-path=\"url(#clip2402)\" style=\"fill:#009af9; stroke:none; fill-opacity:1\" cx=\"391.311\" cy=\"249.28\" r=\"3\"/>\n",
       "<circle clip-path=\"url(#clip2402)\" style=\"fill:#000000; stroke:none; fill-opacity:1\" cx=\"409.189\" cy=\"80.5305\" r=\"4\"/>\n",
       "<circle clip-path=\"url(#clip2402)\" style=\"fill:#009af9; stroke:none; fill-opacity:1\" cx=\"409.189\" cy=\"80.5305\" r=\"3\"/>\n",
       "<circle clip-path=\"url(#clip2402)\" style=\"fill:#000000; stroke:none; fill-opacity:1\" cx=\"421.108\" cy=\"163.506\" r=\"4\"/>\n",
       "<circle clip-path=\"url(#clip2402)\" style=\"fill:#009af9; stroke:none; fill-opacity:1\" cx=\"421.108\" cy=\"163.506\" r=\"3\"/>\n",
       "<circle clip-path=\"url(#clip2402)\" style=\"fill:#000000; stroke:none; fill-opacity:1\" cx=\"423.095\" cy=\"176.902\" r=\"4\"/>\n",
       "<circle clip-path=\"url(#clip2402)\" style=\"fill:#009af9; stroke:none; fill-opacity:1\" cx=\"423.095\" cy=\"176.902\" r=\"3\"/>\n",
       "<circle clip-path=\"url(#clip2402)\" style=\"fill:#000000; stroke:none; fill-opacity:1\" cx=\"429.054\" cy=\"217.29\" r=\"4\"/>\n",
       "<circle clip-path=\"url(#clip2402)\" style=\"fill:#009af9; stroke:none; fill-opacity:1\" cx=\"429.054\" cy=\"217.29\" r=\"3\"/>\n",
       "<circle clip-path=\"url(#clip2402)\" style=\"fill:#000000; stroke:none; fill-opacity:1\" cx=\"433.027\" cy=\"200.895\" r=\"4\"/>\n",
       "<circle clip-path=\"url(#clip2402)\" style=\"fill:#009af9; stroke:none; fill-opacity:1\" cx=\"433.027\" cy=\"200.895\" r=\"3\"/>\n",
       "<circle clip-path=\"url(#clip2402)\" style=\"fill:#000000; stroke:none; fill-opacity:1\" cx=\"444.946\" cy=\"112.721\" r=\"4\"/>\n",
       "<circle clip-path=\"url(#clip2402)\" style=\"fill:#009af9; stroke:none; fill-opacity:1\" cx=\"444.946\" cy=\"112.721\" r=\"3\"/>\n",
       "<circle clip-path=\"url(#clip2402)\" style=\"fill:#000000; stroke:none; fill-opacity:1\" cx=\"452.892\" cy=\"115.52\" r=\"4\"/>\n",
       "<circle clip-path=\"url(#clip2402)\" style=\"fill:#009af9; stroke:none; fill-opacity:1\" cx=\"452.892\" cy=\"115.52\" r=\"3\"/>\n",
       "<circle clip-path=\"url(#clip2402)\" style=\"fill:#000000; stroke:none; fill-opacity:1\" cx=\"456.865\" cy=\"174.302\" r=\"4\"/>\n",
       "<circle clip-path=\"url(#clip2402)\" style=\"fill:#009af9; stroke:none; fill-opacity:1\" cx=\"456.865\" cy=\"174.302\" r=\"3\"/>\n",
       "<circle clip-path=\"url(#clip2402)\" style=\"fill:#000000; stroke:none; fill-opacity:1\" cx=\"458.852\" cy=\"144.911\" r=\"4\"/>\n",
       "<circle clip-path=\"url(#clip2402)\" style=\"fill:#009af9; stroke:none; fill-opacity:1\" cx=\"458.852\" cy=\"144.911\" r=\"3\"/>\n",
       "<circle clip-path=\"url(#clip2402)\" style=\"fill:#000000; stroke:none; fill-opacity:1\" cx=\"468.784\" cy=\"176.902\" r=\"4\"/>\n",
       "<circle clip-path=\"url(#clip2402)\" style=\"fill:#009af9; stroke:none; fill-opacity:1\" cx=\"468.784\" cy=\"176.902\" r=\"3\"/>\n",
       "<circle clip-path=\"url(#clip2402)\" style=\"fill:#000000; stroke:none; fill-opacity:1\" cx=\"472.758\" cy=\"174.302\" r=\"4\"/>\n",
       "<circle clip-path=\"url(#clip2402)\" style=\"fill:#009af9; stroke:none; fill-opacity:1\" cx=\"472.758\" cy=\"174.302\" r=\"3\"/>\n",
       "<circle clip-path=\"url(#clip2402)\" style=\"fill:#000000; stroke:none; fill-opacity:1\" cx=\"478.717\" cy=\"152.909\" r=\"4\"/>\n",
       "<circle clip-path=\"url(#clip2402)\" style=\"fill:#009af9; stroke:none; fill-opacity:1\" cx=\"478.717\" cy=\"152.909\" r=\"3\"/>\n",
       "<circle clip-path=\"url(#clip2402)\" style=\"fill:#000000; stroke:none; fill-opacity:1\" cx=\"494.609\" cy=\"152.909\" r=\"4\"/>\n",
       "<circle clip-path=\"url(#clip2402)\" style=\"fill:#009af9; stroke:none; fill-opacity:1\" cx=\"494.609\" cy=\"152.909\" r=\"3\"/>\n",
       "<circle clip-path=\"url(#clip2402)\" style=\"fill:#000000; stroke:none; fill-opacity:1\" cx=\"506.528\" cy=\"227.886\" r=\"4\"/>\n",
       "<circle clip-path=\"url(#clip2402)\" style=\"fill:#009af9; stroke:none; fill-opacity:1\" cx=\"506.528\" cy=\"227.886\" r=\"3\"/>\n",
       "<circle clip-path=\"url(#clip2402)\" style=\"fill:#000000; stroke:none; fill-opacity:1\" cx=\"516.461\" cy=\"200.895\" r=\"4\"/>\n",
       "<circle clip-path=\"url(#clip2402)\" style=\"fill:#009af9; stroke:none; fill-opacity:1\" cx=\"516.461\" cy=\"200.895\" r=\"3\"/>\n",
       "<circle clip-path=\"url(#clip2402)\" style=\"fill:#000000; stroke:none; fill-opacity:1\" cx=\"534.339\" cy=\"174.302\" r=\"4\"/>\n",
       "<circle clip-path=\"url(#clip2402)\" style=\"fill:#009af9; stroke:none; fill-opacity:1\" cx=\"534.339\" cy=\"174.302\" r=\"3\"/>\n",
       "<circle clip-path=\"url(#clip2402)\" style=\"fill:#000000; stroke:none; fill-opacity:1\" cx=\"548.245\" cy=\"152.909\" r=\"4\"/>\n",
       "<circle clip-path=\"url(#clip2402)\" style=\"fill:#009af9; stroke:none; fill-opacity:1\" cx=\"548.245\" cy=\"152.909\" r=\"3\"/>\n",
       "<circle clip-path=\"url(#clip2402)\" style=\"fill:#000000; stroke:none; fill-opacity:1\" cx=\"560.164\" cy=\"203.694\" r=\"4\"/>\n",
       "<circle clip-path=\"url(#clip2402)\" style=\"fill:#009af9; stroke:none; fill-opacity:1\" cx=\"560.164\" cy=\"203.694\" r=\"3\"/>\n",
       "<circle clip-path=\"url(#clip2402)\" style=\"fill:#000000; stroke:none; fill-opacity:1\" cx=\"578.042\" cy=\"179.701\" r=\"4\"/>\n",
       "<circle clip-path=\"url(#clip2402)\" style=\"fill:#009af9; stroke:none; fill-opacity:1\" cx=\"578.042\" cy=\"179.701\" r=\"3\"/>\n",
       "<circle clip-path=\"url(#clip2402)\" style=\"fill:#000000; stroke:none; fill-opacity:1\" cx=\"582.015\" cy=\"179.701\" r=\"4\"/>\n",
       "<circle clip-path=\"url(#clip2402)\" style=\"fill:#009af9; stroke:none; fill-opacity:1\" cx=\"582.015\" cy=\"179.701\" r=\"3\"/>\n",
       "<circle clip-path=\"url(#clip2402)\" style=\"fill:#000000; stroke:none; fill-opacity:1\" cx=\"603.867\" cy=\"152.909\" r=\"4\"/>\n",
       "<circle clip-path=\"url(#clip2402)\" style=\"fill:#009af9; stroke:none; fill-opacity:1\" cx=\"603.867\" cy=\"152.909\" r=\"3\"/>\n",
       "<polygon clip-path=\"url(#clip2400)\" points=\"\n",
       "524.599,65.331 601.115,65.331 601.115,35.091 524.599,35.091 \n",
       "  \" fill=\"#ffffff\" fill-opacity=\"1\"/>\n",
       "<polyline clip-path=\"url(#clip2400)\" style=\"stroke:#000000; stroke-width:1; stroke-opacity:1; fill:none\" points=\"\n",
       "  524.599,65.331 601.115,65.331 601.115,35.091 524.599,35.091 524.599,65.331 \n",
       "  \"/>\n",
       "<circle clip-path=\"url(#clip2400)\" style=\"fill:#000000; stroke:none; fill-opacity:1\" cx=\"553.399\" cy=\"50.211\" r=\"6\"/>\n",
       "<circle clip-path=\"url(#clip2400)\" style=\"fill:#009af9; stroke:none; fill-opacity:1\" cx=\"553.399\" cy=\"50.211\" r=\"5\"/>\n",
       "<g clip-path=\"url(#clip2400)\">\n",
       "<text style=\"fill:#000000; fill-opacity:1; font-family:Arial,Helvetica Neue,Helvetica,sans-serif; font-size:12; text-anchor:start;\" transform=\"rotate(0, 575.799, 54.711)\" x=\"575.799\" y=\"54.711\">y1</text>\n",
       "</g>\n",
       "</svg>\n"
      ]
     },
     "execution_count": 187,
     "metadata": {},
     "output_type": "execute_result"
    }
   ],
   "source": [
    "scatter(X, y)"
   ]
  },
  {
   "cell_type": "markdown",
   "metadata": {},
   "source": [
    "## Learn a full GP"
   ]
  },
  {
   "cell_type": "code",
   "execution_count": 189,
   "metadata": {},
   "outputs": [
    {
     "data": {
      "text/plain": [
       "Type: GaussianProcesses.SEIso, Params: [0.0, 0.0]\n"
      ]
     },
     "execution_count": 189,
     "metadata": {},
     "output_type": "execute_result"
    }
   ],
   "source": [
    "mZero = MeanZero()                   #Zero mean function\n",
    "kern = SE(0.0,0.0)                   #Sqaured exponential kernel (note that hyperparameters are on the log scale)"
   ]
  },
  {
   "cell_type": "code",
   "execution_count": 190,
   "metadata": {},
   "outputs": [
    {
     "data": {
      "text/html": [
       "-1.0"
      ],
      "text/plain": [
       "-1.0"
      ]
     },
     "execution_count": 190,
     "metadata": {},
     "output_type": "execute_result"
    }
   ],
   "source": [
    "logObsNoise = -1.0                        # log standard deviation of observation noise (this is optional)"
   ]
  },
  {
   "cell_type": "code",
   "execution_count": 191,
   "metadata": {},
   "outputs": [
    {
     "data": {
      "text/html": [
       "0.36787944117144233"
      ],
      "text/plain": [
       "0.36787944117144233"
      ]
     },
     "execution_count": 191,
     "metadata": {},
     "output_type": "execute_result"
    }
   ],
   "source": [
    "exp(-1)"
   ]
  },
  {
   "cell_type": "code",
   "execution_count": 179,
   "metadata": {},
   "outputs": [
    {
     "data": {
      "text/plain": [
       "GP Exact object:\n",
       "  Dim = 1\n",
       "  Number of observations = 94\n",
       "  Mean function:\n",
       "    Type: GaussianProcesses.MeanZero, Params: Float64[]\n",
       "  Kernel:\n",
       "    Type: GaussianProcesses.SEIso, Params: [1.60944, 0.0]\n",
       "  Input observations = \n",
       "[2.4 2.6 … 55.4 57.6]\n",
       "  Output observations = [0.0, -0.0173333, -0.036, 0.0, -0.036, -0.036, -0.036, -0.0173333, -0.036, -0.036  …  0.142667, 0.142667, -0.357333, -0.177333, 0.0, 0.142667, -0.196, -0.036, -0.036, 0.142667]\n",
       "  Variance of observation noise = 0.1353352832366127\n",
       "  Marginal Log-Likelihood = -41.135"
      ]
     },
     "execution_count": 179,
     "metadata": {},
     "output_type": "execute_result"
    }
   ],
   "source": [
    "gp = GP(reshape(X, 1, N), y, MeanZero(), SE(log(5.0),log(1.0)), -1.)       #Fit the GP"
   ]
  },
  {
   "cell_type": "code",
   "execution_count": 192,
   "metadata": {},
   "outputs": [
    {
     "data": {
      "text/html": [
       "-41.1350265676093"
      ],
      "text/plain": [
       "-41.1350265676093"
      ]
     },
     "execution_count": 192,
     "metadata": {},
     "output_type": "execute_result"
    }
   ],
   "source": [
    "gp.target"
   ]
  },
  {
   "cell_type": "code",
   "execution_count": 193,
   "metadata": {},
   "outputs": [],
   "source": [
    "μ, σ² = predict_y(gp,linspace(minimum(X),maximum(X),100));"
   ]
  },
  {
   "cell_type": "code",
   "execution_count": 195,
   "metadata": {},
   "outputs": [],
   "source": [
    "scatter(X, y, label = \"observations\", title = \"Full GP with SE Kernel and LLH: $(gp.target)\")\n",
    "plot!(linspace(minimum(X),maximum(X),100), μ, ribbon=2*sqrt.(σ²), label = \"full GP with 95% interval\")\n",
    "savefig(\"../plots/fullGP.png\")"
   ]
  },
  {
   "cell_type": "markdown",
   "metadata": {},
   "source": [
    "## optimize a full GP"
   ]
  },
  {
   "cell_type": "code",
   "execution_count": 196,
   "metadata": {},
   "outputs": [
    {
     "data": {
      "text/plain": [
       "Results of Optimization Algorithm\n",
       " * Algorithm: L-BFGS\n",
       " * Starting Point: [-1.0,1.6094379124341003,0.0]\n",
       " * Minimizer: [-1.2282746156641002,1.6156825479816077, ...]\n",
       " * Minimum: 3.510034e+01\n",
       " * Iterations: 9\n",
       " * Convergence: true\n",
       "   * |x - x'| < 1.0e-32: false\n",
       "   * |f(x) - f(x')| / |f(x)| < 1.0e-32: false\n",
       "   * |g(x)| < 1.0e-08: true\n",
       "   * f(x) > f(x'): false\n",
       "   * Reached Maximum Number of Iterations: false\n",
       " * Objective Function Calls: 37\n",
       " * Gradient Calls: 37"
      ]
     },
     "execution_count": 196,
     "metadata": {},
     "output_type": "execute_result"
    }
   ],
   "source": [
    "optimize!(gp)"
   ]
  },
  {
   "cell_type": "code",
   "execution_count": 198,
   "metadata": {
    "collapsed": true
   },
   "outputs": [],
   "source": [
    "μ, σ² = predict_y(gp,linspace(minimum(X),maximum(X),100));"
   ]
  },
  {
   "cell_type": "code",
   "execution_count": 199,
   "metadata": {},
   "outputs": [],
   "source": [
    "scatter(X, y, label = \"observations\", title = \"Marginal LLH optimized full GP with SE Kernel and LLH: $(gp.target)\")\n",
    "plot!(linspace(minimum(X),maximum(X),100), μ, ribbon=2*sqrt.(σ²), label = \"optimized full GP with 95% interval\")\n",
    "savefig(\"../plots/optimized_fullGP.png\")"
   ]
  },
  {
   "cell_type": "markdown",
   "metadata": {},
   "source": [
    "# Make a SPN with GP leaves"
   ]
  },
  {
   "cell_type": "code",
   "execution_count": 22,
   "metadata": {},
   "outputs": [
    {
     "data": {
      "text/html": [
       "0"
      ],
      "text/plain": [
       "0"
      ]
     },
     "execution_count": 22,
     "metadata": {},
     "output_type": "execute_result"
    }
   ],
   "source": [
    "global gID = 0"
   ]
  },
  {
   "cell_type": "code",
   "execution_count": 23,
   "metadata": {},
   "outputs": [
    {
     "data": {
      "text/plain": [
       "nextID (generic function with 1 method)"
      ]
     },
     "execution_count": 23,
     "metadata": {},
     "output_type": "execute_result"
    }
   ],
   "source": [
    "function nextID()\n",
    "    global gID\n",
    "    gID += 1\n",
    "    return gID\n",
    "end"
   ]
  },
  {
   "cell_type": "markdown",
   "metadata": {},
   "source": [
    "### Make a struct for sum GP nodes"
   ]
  },
  {
   "cell_type": "code",
   "execution_count": 106,
   "metadata": {},
   "outputs": [],
   "source": [
    "mutable struct GPSumNode <: SumNode{Any}\n",
    "    id::Int\n",
    "    parents::Vector{SPNNode}\n",
    "    children::Vector{SPNNode}\n",
    "    prior_weights::Vector{Float64}\n",
    "    posterior_weights::Vector{Float64}\n",
    "\n",
    "    function GPSumNode(id, split; parents = SPNNode[])\n",
    "        new(id, parents, SPNNode[], Float64[], Float64[])\n",
    "    end\n",
    "end"
   ]
  },
  {
   "cell_type": "code",
   "execution_count": 171,
   "metadata": {},
   "outputs": [
    {
     "data": {
      "text/plain": [
       "add! (generic function with 7 methods)"
      ]
     },
     "execution_count": 171,
     "metadata": {},
     "output_type": "execute_result"
    }
   ],
   "source": [
    "function add!(parent::GPSumNode, child::SPNNode)\n",
    "    if !(child in parent.children)\n",
    "        push!(parent.children, child)\n",
    "        push!(parent.prior_weights, 1.)\n",
    "        push!(parent.posterior_weights, 1.)\n",
    "        push!(child.parents, parent)\n",
    "        \n",
    "        parent.prior_weights ./= sum(parent.prior_weights)\n",
    "        parent.posterior_weights ./= sum(parent.posterior_weights)\n",
    "    end\n",
    "    \n",
    "    @assert sum(parent.prior_weights) ≈ 1. \"Weights should sum up to one, sum(w) = $(sum(parent.prior_weights))\"\n",
    "    @assert sum(parent.posterior_weights) ≈ 1. \"Weights should sum up to one, sum(w) = $(sum(parent.prior_weights))\"\n",
    " end"
   ]
  },
  {
   "cell_type": "markdown",
   "metadata": {},
   "source": [
    "### Make a struct for split nodes, i.e. products that split the support"
   ]
  },
  {
   "cell_type": "code",
   "execution_count": 24,
   "metadata": {},
   "outputs": [],
   "source": [
    "mutable struct FiniteSplitNode <: ProductNode\n",
    "    id::Int\n",
    "    parents::Vector{SPNNode}\n",
    "    children::Vector{SPNNode}\n",
    "    split::Vector{Float64}\n",
    "\n",
    "    function FiniteSplitNode(id, split; parents = SPNNode[])\n",
    "        new(id, parents, SPNNode[], split)\n",
    "    end\n",
    "end"
   ]
  },
  {
   "cell_type": "code",
   "execution_count": 25,
   "metadata": {},
   "outputs": [
    {
     "data": {
      "text/plain": [
       "add! (generic function with 5 methods)"
      ]
     },
     "execution_count": 25,
     "metadata": {},
     "output_type": "execute_result"
    }
   ],
   "source": [
    "function add!(parent::FiniteSplitNode, child::SPNNode)\n",
    "     if !(child in parent.children)\n",
    "         push!(parent.children, child)\n",
    "         push!(child.parents, parent)\n",
    "     end\n",
    " end"
   ]
  },
  {
   "cell_type": "markdown",
   "metadata": {},
   "source": [
    "### Make a struct for leaf nodes with GPs as distributions"
   ]
  },
  {
   "cell_type": "code",
   "execution_count": 26,
   "metadata": {},
   "outputs": [],
   "source": [
    "mutable struct GPLeaf{T} <: Leaf{Any}\n",
    "    id::Int\n",
    "    gp::GaussianProcesses.GPE\n",
    "    parents::Vector{SPNNode}\n",
    "    \n",
    "    function GPLeaf{T}(id, gp) where T <: Any\n",
    "        new(id, gp)\n",
    "    end\n",
    "end"
   ]
  },
  {
   "cell_type": "markdown",
   "metadata": {},
   "source": [
    "### Construct a SPN with GP leaves using random splits"
   ]
  },
  {
   "cell_type": "markdown",
   "metadata": {},
   "source": [
    "Hand-coded 2-layer example"
   ]
  },
  {
   "cell_type": "code",
   "execution_count": 201,
   "metadata": {},
   "outputs": [],
   "source": [
    "srand(12345678)\n",
    "K = 10;\n",
    "numSamples = 0.25;\n",
    "meanFunction = MeanZero();\n",
    "kernelFunction = SE(log(5.0),log(1.0));\n",
    "noise = -1.;"
   ]
  },
  {
   "cell_type": "code",
   "execution_count": 202,
   "metadata": {},
   "outputs": [],
   "source": [
    "root = GPSumNode(nextID(), Int[]);\n",
    "\n",
    "for k in 1:K\n",
    "    \n",
    "    # make random (1D) split\n",
    "    split = rand() * maximum(X) + minimum(X)\n",
    "    n = min(sum(X .>= split), sum(X .< split))\n",
    "    c = 0\n",
    "    \n",
    "    while n < (N * numSamples)\n",
    "        @assert c < 100 \"Could not find a split\"\n",
    "        split = rand() * maximum(X) + minimum(X)\n",
    "        n = min(sum(X .>= split), sum(X .< split))\n",
    "        c += 1\n",
    "    end\n",
    "    \n",
    "    child = FiniteSplitNode(nextID(), Float64[split])\n",
    "    \n",
    "    # append two GP leaves\n",
    "    leaf1 = GPLeaf{Any}(nextID(),\n",
    "            GP(reshape(X[X .<= split], 1, sum(X .<= split)), y[X .<= split], meanFunction, kernelFunction, noise))\n",
    "    leaf1.parents = SPNNode[]\n",
    "    \n",
    "    leaf2 = GPLeaf{Any}(nextID(),\n",
    "            GP(reshape(X[X .> split], 1, sum(X .> split)), y[X .> split], meanFunction, kernelFunction, noise))\n",
    "    leaf2.parents = SPNNode[]\n",
    "    \n",
    "    add!(child, leaf1)\n",
    "    add!(child, leaf2)\n",
    "    \n",
    "    add!(root, child)\n",
    "end"
   ]
  },
  {
   "cell_type": "markdown",
   "metadata": {},
   "source": [
    "### some helper functions"
   ]
  },
  {
   "cell_type": "code",
   "execution_count": 203,
   "metadata": {},
   "outputs": [
    {
     "data": {
      "text/plain": [
       "getAllSplits (generic function with 1 method)"
      ]
     },
     "execution_count": 203,
     "metadata": {},
     "output_type": "execute_result"
    }
   ],
   "source": [
    "function getAllSplits(spn)\n",
    "\n",
    "    splitNodes = filter(n -> isa(n, FiniteSplitNode), SumProductNetworks.order(spn))\n",
    "    allSplits = Dict{Int, Vector{Vector{Float64}}}()\n",
    "\n",
    "    for splitNode in splitNodes\n",
    "        d = depth(splitNode)\n",
    "        if !haskey(allSplits, d)\n",
    "            allSplits[d] = Vector{Vector{Float64}}(0)\n",
    "        end\n",
    "\n",
    "        push!(allSplits[d], splitNode.split)    \n",
    "    end\n",
    "    \n",
    "    return allSplits\n",
    "end"
   ]
  },
  {
   "cell_type": "code",
   "execution_count": 204,
   "metadata": {},
   "outputs": [
    {
     "data": {
      "text/plain": [
       "Dict{Int64,Array{Array{Float64,1},1}} with 1 entry:\n",
       "  1 => Array{Float64,1}[[20.3374], [19.5447], [30.2027], [35.1944], [29.1312], …"
      ]
     },
     "execution_count": 204,
     "metadata": {},
     "output_type": "execute_result"
    }
   ],
   "source": [
    "splits = getAllSplits(root)"
   ]
  },
  {
   "cell_type": "code",
   "execution_count": 205,
   "metadata": {},
   "outputs": [
    {
     "data": {
      "text/plain": [
       "plotSplits! (generic function with 1 method)"
      ]
     },
     "execution_count": 205,
     "metadata": {},
     "output_type": "execute_result"
    }
   ],
   "source": [
    "function plotSplits!(plt, splits)\n",
    "    depths = sort(collect(keys(splits)))\n",
    "    for d in depths\n",
    "        vline!(plt, [s[1] for s in splits[d]], label = \"depth $(d) splits\")\n",
    "    end\n",
    "    plt\n",
    "end"
   ]
  },
  {
   "cell_type": "code",
   "execution_count": 207,
   "metadata": {},
   "outputs": [],
   "source": [
    "plt = scatter(X, y, label = \"observations\", title = \"Random splits of SPN-GP\")\n",
    "plotSplits!(plt, splits)\n",
    "savefig(\"../plots/randomSplits.png\")"
   ]
  },
  {
   "cell_type": "markdown",
   "metadata": {},
   "source": [
    "## Compute likelihoods"
   ]
  },
  {
   "cell_type": "code",
   "execution_count": 208,
   "metadata": {},
   "outputs": [
    {
     "data": {
      "text/plain": [
       "spn_likelihood (generic function with 3 methods)"
      ]
     },
     "execution_count": 208,
     "metadata": {},
     "output_type": "execute_result"
    }
   ],
   "source": [
    "function spn_likelihood(node::GPLeaf)\n",
    "    return node.gp.target\n",
    "end"
   ]
  },
  {
   "cell_type": "code",
   "execution_count": 209,
   "metadata": {},
   "outputs": [
    {
     "data": {
      "text/html": [
       "-41.1350265676093"
      ],
      "text/plain": [
       "-41.1350265676093"
      ]
     },
     "execution_count": 209,
     "metadata": {},
     "output_type": "execute_result"
    }
   ],
   "source": [
    "# test\n",
    "n = GPLeaf{Any}(0, GP(reshape(X, 1, N), y, meanFunction, kernelFunction, noise))\n",
    "spn_likelihood(n)"
   ]
  },
  {
   "cell_type": "code",
   "execution_count": 210,
   "metadata": {},
   "outputs": [
    {
     "data": {
      "text/plain": [
       "spn_likelihood (generic function with 3 methods)"
      ]
     },
     "execution_count": 210,
     "metadata": {},
     "output_type": "execute_result"
    }
   ],
   "source": [
    "function spn_likelihood(node::FiniteSplitNode)\n",
    "    return sum(spn_likelihood(child) for child in children(node))\n",
    "end"
   ]
  },
  {
   "cell_type": "code",
   "execution_count": 211,
   "metadata": {},
   "outputs": [
    {
     "data": {
      "text/html": [
       "-42.28561685154945"
      ],
      "text/plain": [
       "-42.28561685154945"
      ]
     },
     "execution_count": 211,
     "metadata": {},
     "output_type": "execute_result"
    }
   ],
   "source": [
    "# test\n",
    "n = root.children[3]\n",
    "spn_likelihood(n)"
   ]
  },
  {
   "cell_type": "code",
   "execution_count": 212,
   "metadata": {},
   "outputs": [
    {
     "data": {
      "text/plain": [
       "spn_likelihood (generic function with 3 methods)"
      ]
     },
     "execution_count": 212,
     "metadata": {},
     "output_type": "execute_result"
    }
   ],
   "source": [
    "function spn_likelihood(node::GPSumNode)\n",
    "    logw = log.(node.prior_weights)\n",
    "    return logsumexp(logw + [spn_likelihood(child) for child in children(node)])\n",
    "end"
   ]
  },
  {
   "cell_type": "code",
   "execution_count": 213,
   "metadata": {},
   "outputs": [
    {
     "data": {
      "text/html": [
       "-42.73473978487567"
      ],
      "text/plain": [
       "-42.73473978487567"
      ]
     },
     "execution_count": 213,
     "metadata": {},
     "output_type": "execute_result"
    }
   ],
   "source": [
    "# test\n",
    "spn_likelihood(root)"
   ]
  },
  {
   "cell_type": "markdown",
   "metadata": {},
   "source": [
    "## update posterior weights"
   ]
  },
  {
   "cell_type": "code",
   "execution_count": 214,
   "metadata": {},
   "outputs": [
    {
     "data": {
      "text/plain": [
       "spn_update (generic function with 3 methods)"
      ]
     },
     "execution_count": 214,
     "metadata": {},
     "output_type": "execute_result"
    }
   ],
   "source": [
    "function spn_update(node::GPLeaf)\n",
    "    return spn_likelihood(node)\n",
    "end"
   ]
  },
  {
   "cell_type": "code",
   "execution_count": 215,
   "metadata": {},
   "outputs": [
    {
     "data": {
      "text/plain": [
       "spn_update (generic function with 3 methods)"
      ]
     },
     "execution_count": 215,
     "metadata": {},
     "output_type": "execute_result"
    }
   ],
   "source": [
    "function spn_update(node::FiniteSplitNode)\n",
    "    return sum(spn_update(child) for child in children(node))\n",
    "end"
   ]
  },
  {
   "cell_type": "code",
   "execution_count": 216,
   "metadata": {},
   "outputs": [
    {
     "data": {
      "text/plain": [
       "spn_update (generic function with 3 methods)"
      ]
     },
     "execution_count": 216,
     "metadata": {},
     "output_type": "execute_result"
    }
   ],
   "source": [
    "function spn_update(node::GPSumNode)\n",
    "    logw_prior = log.(node.prior_weights)\n",
    "    logw_posterior = logw_prior + [spn_update(child) for child in children(node)]\n",
    "    Z = logsumexp(logw_posterior)\n",
    "    node.posterior_weights = exp.(logw_posterior - Z)\n",
    "    return Z\n",
    "end"
   ]
  },
  {
   "cell_type": "code",
   "execution_count": 217,
   "metadata": {},
   "outputs": [
    {
     "data": {
      "text/html": [
       "-42.73473978487567"
      ],
      "text/plain": [
       "-42.73473978487567"
      ]
     },
     "execution_count": 217,
     "metadata": {},
     "output_type": "execute_result"
    }
   ],
   "source": [
    "spn_update(root)"
   ]
  },
  {
   "cell_type": "markdown",
   "metadata": {},
   "source": [
    "## Functions for making predictions under the model"
   ]
  },
  {
   "cell_type": "markdown",
   "metadata": {},
   "source": [
    "Leaf"
   ]
  },
  {
   "cell_type": "code",
   "execution_count": 218,
   "metadata": {},
   "outputs": [
    {
     "data": {
      "text/plain": [
       "spn_predict (generic function with 3 methods)"
      ]
     },
     "execution_count": 218,
     "metadata": {},
     "output_type": "execute_result"
    }
   ],
   "source": [
    "function spn_predict(node::GPLeaf, x)\n",
    "    return predict_y(node.gp, x)\n",
    "end"
   ]
  },
  {
   "cell_type": "code",
   "execution_count": 219,
   "metadata": {},
   "outputs": [],
   "source": [
    "# test\n",
    "n = GPLeaf{Any}(0, GP(reshape(X, 1, N), y, meanFunction, kernelFunction, noise))\n",
    "μ, σ2 = spn_predict(n, linspace(0, 5, 100));"
   ]
  },
  {
   "cell_type": "markdown",
   "metadata": {},
   "source": [
    "Product"
   ]
  },
  {
   "cell_type": "code",
   "execution_count": 220,
   "metadata": {},
   "outputs": [
    {
     "data": {
      "text/plain": [
       "spn_predict (generic function with 3 methods)"
      ]
     },
     "execution_count": 220,
     "metadata": {},
     "output_type": "execute_result"
    }
   ],
   "source": [
    "function spn_predict(node::FiniteSplitNode, x)\n",
    "    \n",
    "    s = x .<= node.split\n",
    "    \n",
    "    μ = zeros(length(x))\n",
    "    σ2 = zeros(length(x))\n",
    "    \n",
    "    pred1 = spn_predict(children(node)[1], x[s])\n",
    "    pred2 = spn_predict(children(node)[2], x[.!s])\n",
    "    \n",
    "    μ[s] = pred1[1]\n",
    "    μ[.!s] = pred2[1]\n",
    "    \n",
    "    σ2[s] = pred1[2]\n",
    "    σ2[.!s] = pred2[2]\n",
    "    \n",
    "    \n",
    "    return (μ, σ2)\n",
    "end"
   ]
  },
  {
   "cell_type": "code",
   "execution_count": 223,
   "metadata": {},
   "outputs": [],
   "source": [
    "# test\n",
    "n = root.children[3]\n",
    "μ, σ² = spn_predict(n, linspace(minimum(X),maximum(X),100));\n",
    "\n",
    "plt = scatter(X, y, label = \"observations\", title =\"Prediction of product node 3 only\")\n",
    "plot!(plt, linspace(minimum(X),maximum(X),100), μ, ribbon=2*sqrt.(σ²), label = \"MoE GP with 95% interval\")\n",
    "plotSplits!(plt, getAllSplits(n))\n",
    "savefig(\"../plots/productNode3.png\")"
   ]
  },
  {
   "cell_type": "markdown",
   "metadata": {},
   "source": [
    "Prediction under a sum node in the SPN:\n",
    "$$ \\mu = \\sum_k w_k \\mu_k $$\n",
    "$$ \\sigma^2 = \\sum_k w_k \\sigma^2_k + \\sum_k w_k \\mu^2_k - (\\mu)^2 $$"
   ]
  },
  {
   "cell_type": "code",
   "execution_count": 224,
   "metadata": {},
   "outputs": [
    {
     "data": {
      "text/plain": [
       "spn_predict (generic function with 3 methods)"
      ]
     },
     "execution_count": 224,
     "metadata": {},
     "output_type": "execute_result"
    }
   ],
   "source": [
    "function spn_predict(node::GPSumNode, x)\n",
    "    childPredictions = [spn_predict(child, x) for child in children(node)]\n",
    "    \n",
    "    μs = [pred[1] for pred in childPredictions]\n",
    "    σ2s = [pred[2] for pred in childPredictions]\n",
    "    \n",
    "    μ = zeros(length(x))\n",
    "    σ2 = zeros(length(x))\n",
    "    \n",
    "    for k in 1:length(node)\n",
    "       μ += μs[k] .* node.posterior_weights[k]\n",
    "       σ2 += σ2s[k] .* node.posterior_weights[k]\n",
    "       σ2 += μs[k].^2 .* node.posterior_weights[k]\n",
    "    end\n",
    "    \n",
    "    σ2 .-= μ.^2\n",
    "    \n",
    "    return (μ, σ2)\n",
    "end"
   ]
  },
  {
   "cell_type": "code",
   "execution_count": 225,
   "metadata": {
    "collapsed": true
   },
   "outputs": [],
   "source": [
    "@assert sum(root.prior_weights) ≈ 1.\n",
    "@assert sum(root.posterior_weights) ≈ 1."
   ]
  },
  {
   "cell_type": "code",
   "execution_count": 229,
   "metadata": {},
   "outputs": [],
   "source": [
    "# test\n",
    "n = root\n",
    "μ, σ² = spn_predict(n, linspace(minimum(X),maximum(X),100));\n",
    "\n",
    "plt = scatter(X, y, label = \"observations\", title=\"SPN-GP with $(K) splits and LLH: $(spn_likelihood(root))\")\n",
    "plot!(plt, linspace(minimum(X),maximum(X),100), μ, ribbon=2*sqrt.(σ²), label = \"SPN-GP with 95% interval\")\n",
    "plotSplits!(plt, getAllSplits(n))\n",
    "savefig(\"../plots/spn_gp.png\")"
   ]
  },
  {
   "cell_type": "code",
   "execution_count": 241,
   "metadata": {},
   "outputs": [
    {
     "data": {
      "text/html": [
       "<?xml version=\"1.0\" encoding=\"utf-8\"?>\n",
       "<svg xmlns=\"http://www.w3.org/2000/svg\" xmlns:xlink=\"http://www.w3.org/1999/xlink\" width=\"1024\" height=\"768\" viewBox=\"0 0 1024 768\">\n",
       "<defs>\n",
       "  <clipPath id=\"clip6300\">\n",
       "    <rect x=\"0\" y=\"0\" width=\"1024\" height=\"768\"/>\n",
       "  </clipPath>\n",
       "</defs>\n",
       "<polygon clip-path=\"url(#clip6300)\" points=\"\n",
       "0,768 1024,768 1024,0 0,0 \n",
       "  \" fill=\"#ffffff\" fill-opacity=\"1\"/>\n",
       "<defs>\n",
       "  <clipPath id=\"clip6301\">\n",
       "    <rect x=\"204\" y=\"0\" width=\"718\" height=\"718\"/>\n",
       "  </clipPath>\n",
       "</defs>\n",
       "<polygon clip-path=\"url(#clip6300)\" points=\"\n",
       "32.2221,742.759 1004.31,742.759 1004.31,11.811 32.2221,11.811 \n",
       "  \" fill=\"#ffffff\" fill-opacity=\"1\"/>\n",
       "<defs>\n",
       "  <clipPath id=\"clip6302\">\n",
       "    <rect x=\"32\" y=\"11\" width=\"973\" height=\"732\"/>\n",
       "  </clipPath>\n",
       "</defs>\n",
       "<polyline clip-path=\"url(#clip6302)\" style=\"stroke:#000000; stroke-width:0.5; stroke-opacity:0.1; fill:none\" points=\"\n",
       "  32.2221,742.759 32.2221,11.811 \n",
       "  \"/>\n",
       "<polyline clip-path=\"url(#clip6302)\" style=\"stroke:#000000; stroke-width:0.5; stroke-opacity:0.1; fill:none\" points=\"\n",
       "  275.245,742.759 275.245,11.811 \n",
       "  \"/>\n",
       "<polyline clip-path=\"url(#clip6302)\" style=\"stroke:#000000; stroke-width:0.5; stroke-opacity:0.1; fill:none\" points=\"\n",
       "  518.269,742.759 518.269,11.811 \n",
       "  \"/>\n",
       "<polyline clip-path=\"url(#clip6302)\" style=\"stroke:#000000; stroke-width:0.5; stroke-opacity:0.1; fill:none\" points=\"\n",
       "  761.292,742.759 761.292,11.811 \n",
       "  \"/>\n",
       "<polyline clip-path=\"url(#clip6302)\" style=\"stroke:#000000; stroke-width:0.5; stroke-opacity:0.1; fill:none\" points=\"\n",
       "  1004.31,742.759 1004.31,11.811 \n",
       "  \"/>\n",
       "<polyline clip-path=\"url(#clip6302)\" style=\"stroke:#000000; stroke-width:0.5; stroke-opacity:0.1; fill:none\" points=\"\n",
       "  32.2221,742.759 1004.31,742.759 \n",
       "  \"/>\n",
       "<polyline clip-path=\"url(#clip6302)\" style=\"stroke:#000000; stroke-width:0.5; stroke-opacity:0.1; fill:none\" points=\"\n",
       "  32.2221,596.569 1004.31,596.569 \n",
       "  \"/>\n",
       "<polyline clip-path=\"url(#clip6302)\" style=\"stroke:#000000; stroke-width:0.5; stroke-opacity:0.1; fill:none\" points=\"\n",
       "  32.2221,450.38 1004.31,450.38 \n",
       "  \"/>\n",
       "<polyline clip-path=\"url(#clip6302)\" style=\"stroke:#000000; stroke-width:0.5; stroke-opacity:0.1; fill:none\" points=\"\n",
       "  32.2221,304.19 1004.31,304.19 \n",
       "  \"/>\n",
       "<polyline clip-path=\"url(#clip6302)\" style=\"stroke:#000000; stroke-width:0.5; stroke-opacity:0.1; fill:none\" points=\"\n",
       "  32.2221,158.001 1004.31,158.001 \n",
       "  \"/>\n",
       "<polyline clip-path=\"url(#clip6302)\" style=\"stroke:#000000; stroke-width:0.5; stroke-opacity:0.1; fill:none\" points=\"\n",
       "  32.2221,11.811 1004.31,11.811 \n",
       "  \"/>\n",
       "<polyline clip-path=\"url(#clip6300)\" style=\"stroke:#000000; stroke-width:1; stroke-opacity:1; fill:none\" points=\"\n",
       "  32.2221,742.759 1004.31,742.759 \n",
       "  \"/>\n",
       "<polyline clip-path=\"url(#clip6300)\" style=\"stroke:#000000; stroke-width:1; stroke-opacity:1; fill:none\" points=\"\n",
       "  32.2221,742.759 32.2221,11.811 \n",
       "  \"/>\n",
       "<polyline clip-path=\"url(#clip6300)\" style=\"stroke:#000000; stroke-width:1; stroke-opacity:1; fill:none\" points=\"\n",
       "  32.2221,742.759 32.2221,731.794 \n",
       "  \"/>\n",
       "<polyline clip-path=\"url(#clip6300)\" style=\"stroke:#000000; stroke-width:1; stroke-opacity:1; fill:none\" points=\"\n",
       "  275.245,742.759 275.245,731.794 \n",
       "  \"/>\n",
       "<polyline clip-path=\"url(#clip6300)\" style=\"stroke:#000000; stroke-width:1; stroke-opacity:1; fill:none\" points=\"\n",
       "  518.269,742.759 518.269,731.794 \n",
       "  \"/>\n",
       "<polyline clip-path=\"url(#clip6300)\" style=\"stroke:#000000; stroke-width:1; stroke-opacity:1; fill:none\" points=\"\n",
       "  761.292,742.759 761.292,731.794 \n",
       "  \"/>\n",
       "<polyline clip-path=\"url(#clip6300)\" style=\"stroke:#000000; stroke-width:1; stroke-opacity:1; fill:none\" points=\"\n",
       "  1004.31,742.759 1004.31,731.794 \n",
       "  \"/>\n",
       "<polyline clip-path=\"url(#clip6300)\" style=\"stroke:#000000; stroke-width:1; stroke-opacity:1; fill:none\" points=\"\n",
       "  32.2221,742.759 46.8035,742.759 \n",
       "  \"/>\n",
       "<polyline clip-path=\"url(#clip6300)\" style=\"stroke:#000000; stroke-width:1; stroke-opacity:1; fill:none\" points=\"\n",
       "  32.2221,596.569 46.8035,596.569 \n",
       "  \"/>\n",
       "<polyline clip-path=\"url(#clip6300)\" style=\"stroke:#000000; stroke-width:1; stroke-opacity:1; fill:none\" points=\"\n",
       "  32.2221,450.38 46.8035,450.38 \n",
       "  \"/>\n",
       "<polyline clip-path=\"url(#clip6300)\" style=\"stroke:#000000; stroke-width:1; stroke-opacity:1; fill:none\" points=\"\n",
       "  32.2221,304.19 46.8035,304.19 \n",
       "  \"/>\n",
       "<polyline clip-path=\"url(#clip6300)\" style=\"stroke:#000000; stroke-width:1; stroke-opacity:1; fill:none\" points=\"\n",
       "  32.2221,158.001 46.8035,158.001 \n",
       "  \"/>\n",
       "<polyline clip-path=\"url(#clip6300)\" style=\"stroke:#000000; stroke-width:1; stroke-opacity:1; fill:none\" points=\"\n",
       "  32.2221,11.811 46.8035,11.811 \n",
       "  \"/>\n",
       "<g clip-path=\"url(#clip6300)\">\n",
       "<text style=\"fill:#000000; fill-opacity:1; font-family:Arial,Helvetica Neue,Helvetica,sans-serif; font-size:12; text-anchor:middle;\" transform=\"rotate(0, 32.2221, 758.679)\" x=\"32.2221\" y=\"758.679\">1.0</text>\n",
       "</g>\n",
       "<g clip-path=\"url(#clip6300)\">\n",
       "<text style=\"fill:#000000; fill-opacity:1; font-family:Arial,Helvetica Neue,Helvetica,sans-serif; font-size:12; text-anchor:middle;\" transform=\"rotate(0, 275.245, 758.679)\" x=\"275.245\" y=\"758.679\">1.5</text>\n",
       "</g>\n",
       "<g clip-path=\"url(#clip6300)\">\n",
       "<text style=\"fill:#000000; fill-opacity:1; font-family:Arial,Helvetica Neue,Helvetica,sans-serif; font-size:12; text-anchor:middle;\" transform=\"rotate(0, 518.269, 758.679)\" x=\"518.269\" y=\"758.679\">2.0</text>\n",
       "</g>\n",
       "<g clip-path=\"url(#clip6300)\">\n",
       "<text style=\"fill:#000000; fill-opacity:1; font-family:Arial,Helvetica Neue,Helvetica,sans-serif; font-size:12; text-anchor:middle;\" transform=\"rotate(0, 761.292, 758.679)\" x=\"761.292\" y=\"758.679\">2.5</text>\n",
       "</g>\n",
       "<g clip-path=\"url(#clip6300)\">\n",
       "<text style=\"fill:#000000; fill-opacity:1; font-family:Arial,Helvetica Neue,Helvetica,sans-serif; font-size:12; text-anchor:middle;\" transform=\"rotate(0, 1004.31, 758.679)\" x=\"1004.31\" y=\"758.679\">3.0</text>\n",
       "</g>\n",
       "<g clip-path=\"url(#clip6300)\">\n",
       "<text style=\"fill:#000000; fill-opacity:1; font-family:Arial,Helvetica Neue,Helvetica,sans-serif; font-size:12; text-anchor:end;\" transform=\"rotate(0, 21.9821, 747.259)\" x=\"21.9821\" y=\"747.259\">0.0</text>\n",
       "</g>\n",
       "<g clip-path=\"url(#clip6300)\">\n",
       "<text style=\"fill:#000000; fill-opacity:1; font-family:Arial,Helvetica Neue,Helvetica,sans-serif; font-size:12; text-anchor:end;\" transform=\"rotate(0, 21.9821, 601.069)\" x=\"21.9821\" y=\"601.069\">0.2</text>\n",
       "</g>\n",
       "<g clip-path=\"url(#clip6300)\">\n",
       "<text style=\"fill:#000000; fill-opacity:1; font-family:Arial,Helvetica Neue,Helvetica,sans-serif; font-size:12; text-anchor:end;\" transform=\"rotate(0, 21.9821, 454.88)\" x=\"21.9821\" y=\"454.88\">0.4</text>\n",
       "</g>\n",
       "<g clip-path=\"url(#clip6300)\">\n",
       "<text style=\"fill:#000000; fill-opacity:1; font-family:Arial,Helvetica Neue,Helvetica,sans-serif; font-size:12; text-anchor:end;\" transform=\"rotate(0, 21.9821, 308.69)\" x=\"21.9821\" y=\"308.69\">0.6</text>\n",
       "</g>\n",
       "<g clip-path=\"url(#clip6300)\">\n",
       "<text style=\"fill:#000000; fill-opacity:1; font-family:Arial,Helvetica Neue,Helvetica,sans-serif; font-size:12; text-anchor:end;\" transform=\"rotate(0, 21.9821, 162.501)\" x=\"21.9821\" y=\"162.501\">0.8</text>\n",
       "</g>\n",
       "<g clip-path=\"url(#clip6300)\">\n",
       "<text style=\"fill:#000000; fill-opacity:1; font-family:Arial,Helvetica Neue,Helvetica,sans-serif; font-size:12; text-anchor:end;\" transform=\"rotate(0, 21.9821, 16.311)\" x=\"21.9821\" y=\"16.311\">1.0</text>\n",
       "</g>\n",
       "<polyline clip-path=\"url(#clip6302)\" style=\"stroke:#009af9; stroke-width:10; stroke-opacity:1; fill:none\" points=\"\n",
       "  32.2221,742.759 32.2221,11.811 \n",
       "  \"/>\n",
       "<polyline clip-path=\"url(#clip6302)\" style=\"stroke:#009af9; stroke-width:10; stroke-opacity:1; fill:none\" points=\"\n",
       "  518.269,742.759 518.269,11.811 \n",
       "  \"/>\n",
       "<polyline clip-path=\"url(#clip6302)\" style=\"stroke:#009af9; stroke-width:10; stroke-opacity:1; fill:none\" points=\"\n",
       "  1004.31,742.759 1004.31,11.811 \n",
       "  \"/>\n",
       "<polygon clip-path=\"url(#clip6300)\" points=\"\n",
       "858.679,88.371 973.595,88.371 973.595,58.131 858.679,58.131 \n",
       "  \" fill=\"#ffffff\" fill-opacity=\"1\"/>\n",
       "<polyline clip-path=\"url(#clip6300)\" style=\"stroke:#000000; stroke-width:1; stroke-opacity:1; fill:none\" points=\"\n",
       "  858.679,88.371 973.595,88.371 973.595,58.131 858.679,58.131 858.679,88.371 \n",
       "  \"/>\n",
       "<polyline clip-path=\"url(#clip6300)\" style=\"stroke:#009af9; stroke-width:10; stroke-opacity:1; fill:none\" points=\"\n",
       "  868.919,73.251 930.359,73.251 \n",
       "  \"/>\n",
       "<g clip-path=\"url(#clip6300)\">\n",
       "<text style=\"fill:#000000; fill-opacity:1; font-family:Arial,Helvetica Neue,Helvetica,sans-serif; font-size:12; text-anchor:start;\" transform=\"rotate(0, 940.599, 77.751)\" x=\"940.599\" y=\"77.751\">y1</text>\n",
       "</g>\n",
       "</svg>\n"
      ]
     },
     "execution_count": 241,
     "metadata": {},
     "output_type": "execute_result"
    }
   ],
   "source": [
    "vline([1, 2, 3], linewidth=(10))\n"
   ]
  },
  {
   "cell_type": "code",
   "execution_count": null,
   "metadata": {
    "collapsed": true
   },
   "outputs": [],
   "source": [
    "function plotSplits!(plt, splits, weights)\n",
    "    depths = sort(collect(keys(splits)))\n",
    "    for d in depths\n",
    "        vline!(plt, [s[1] for s in splits[d]], label = \"depth $(d) splits\")\n",
    "    end\n",
    "    plt\n",
    "end"
   ]
  }
 ],
 "metadata": {
  "kernelspec": {
   "display_name": "Julia 0.6.1",
   "language": "julia",
   "name": "julia-0.6"
  },
  "language_info": {
   "file_extension": ".jl",
   "mimetype": "application/julia",
   "name": "julia",
   "version": "0.6.1"
  }
 },
 "nbformat": 4,
 "nbformat_minor": 2
}
