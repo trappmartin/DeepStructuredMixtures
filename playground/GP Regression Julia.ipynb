{
 "cells": [
  {
   "cell_type": "code",
   "execution_count": 4,
   "metadata": {},
   "outputs": [],
   "source": [
    "using GaussianProcesses, Plots, SumProductNetworks, StatsFuns, Distributions, StatsBase, DataFrames\n",
    "import SumProductNetworks.add!"
   ]
  },
  {
   "cell_type": "code",
   "execution_count": 6,
   "metadata": {},
   "outputs": [
    {
     "data": {
      "text/plain": [
       "optimize2! (generic function with 1 method)"
      ]
     },
     "execution_count": 6,
     "metadata": {},
     "output_type": "execute_result"
    }
   ],
   "source": [
    "include(\"gpUtils.jl\")"
   ]
  },
  {
   "cell_type": "markdown",
   "metadata": {},
   "source": [
    "#### Data set"
   ]
  },
  {
   "cell_type": "code",
   "execution_count": 3,
   "metadata": {},
   "outputs": [
    {
     "data": {
      "text/plain": [
       "\"../data/uci/energy.csv\""
      ]
     },
     "execution_count": 3,
     "metadata": {},
     "output_type": "execute_result"
    }
   ],
   "source": [
    "datapath = \"../data/uci/energy.csv\""
   ]
  },
  {
   "cell_type": "code",
   "execution_count": 7,
   "metadata": {},
   "outputs": [],
   "source": [
    "data = readtable(\"../data/uci/energy.csv\");"
   ]
  },
  {
   "cell_type": "code",
   "execution_count": 164,
   "metadata": {},
   "outputs": [],
   "source": [
    "X = Float64.(Array(data[[:X1, :X2, :X3, :X4, :X5, :X6, :X7, :X8]]));\n",
    "X .-= minimum(X, 1)\n",
    "X ./= maximum(X, 1);\n",
    "X .-= mean(X, 1);\n"
   ]
  },
  {
   "cell_type": "code",
   "execution_count": 165,
   "metadata": {},
   "outputs": [],
   "source": [
    "y = Array(data[[:Y1, :Y2]]);\n",
    "\n",
    "y .-= mean(y, 1);"
   ]
  },
  {
   "cell_type": "code",
   "execution_count": 166,
   "metadata": {},
   "outputs": [
    {
     "data": {
      "text/html": [
       "768"
      ],
      "text/plain": [
       "768"
      ]
     },
     "execution_count": 166,
     "metadata": {},
     "output_type": "execute_result"
    }
   ],
   "source": [
    "N = size(X, 1)"
   ]
  },
  {
   "cell_type": "code",
   "execution_count": 167,
   "metadata": {},
   "outputs": [],
   "source": [
    "Ntrain = Int(ceil(N * 0.8))  # 1_000\n",
    "\n",
    "srand(1234)\n",
    "\n",
    "ids = collect(1:size(X, 1))\n",
    "trainingIds = shuffle(ids)[1:Ntrain]\n",
    "testingIds = shuffle(setdiff(ids, trainingIds));"
   ]
  },
  {
   "cell_type": "code",
   "execution_count": 168,
   "metadata": {},
   "outputs": [],
   "source": [
    "Xtest = X[testingIds,:]\n",
    "ytest = y[testingIds, :]\n",
    "\n",
    "Xtrain = X[trainingIds, :]\n",
    "ytrain = y[trainingIds, :];"
   ]
  },
  {
   "cell_type": "code",
   "execution_count": 169,
   "metadata": {},
   "outputs": [
    {
     "name": "stdout",
     "output_type": "stream",
     "text": [
      "BasicMCJob:\n",
      "  Variable [1]: p (BasicContMuvParameter)\n",
      "  GenericModel: 1 variables, 0 dependencies (directed graph)\n",
      "  HMC sampler: number of leaps = 10, leap step = 0.1\n",
      "  VanillaMCTuner: period = 100, verbose = false\n",
      "  BasicMCRange: number of steps = 91, burnin = 0, thinning = 10"
     ]
    }
   ],
   "source": [
    "mZero = MeanZero()\n",
    "kern = SE(-1.0,0.0) \n",
    "logObsNoise = -1.0 \n",
    "\n",
    "gp = GP(Xtrain', vec(ytrain[:,1]), mZero, kern, logObsNoise)\n",
    "set_priors!(gp.k,[Normal(-2.0,4.0),Normal(-2.0,4.0)])\n",
    "\n",
    "samples = mcmc(gp; nIter=100,burnin=0,thin=10);"
   ]
  },
  {
   "cell_type": "code",
   "execution_count": 150,
   "metadata": {},
   "outputs": [],
   "source": [
    "#Set the parameters to the posterior values the sample random function\n",
    "fsamples = [];\n",
    "for i in 1:size(samples,2)\n",
    "    set_params!(gp, samples[:,i])\n",
    "    update_target!(gp)\n",
    "    μ, σ² = predict_y(gp, Xtest');\n",
    "    push!(fsamples, μ)\n",
    "end"
   ]
  },
  {
   "cell_type": "code",
   "execution_count": 151,
   "metadata": {},
   "outputs": [
    {
     "data": {
      "text/plain": [
       "153×1 Array{Float64,2}:\n",
       " -7.79041\n",
       " 12.1846 \n",
       "  6.63563\n",
       " -8.71989\n",
       " -4.20884\n",
       " 12.7829 \n",
       " -7.6357 \n",
       "  2.82111\n",
       " 17.2644 \n",
       " -9.74916\n",
       " 13.2508 \n",
       " -8.76915\n",
       " 10.7798 \n",
       "  ⋮      \n",
       " -9.14533\n",
       " -6.8803 \n",
       " -4.88192\n",
       "  1.89881\n",
       " 18.1786 \n",
       " 14.4113 \n",
       " 15.1019 \n",
       " -9.9823 \n",
       " 12.4038 \n",
       " -6.29291\n",
       " -8.18436\n",
       " -7.90336"
      ]
     },
     "execution_count": 151,
     "metadata": {},
     "output_type": "execute_result"
    }
   ],
   "source": [
    "μ = mean(reduce(hcat, fsamples), 2)"
   ]
  },
  {
   "cell_type": "code",
   "execution_count": 209,
   "metadata": {},
   "outputs": [
    {
     "name": "stdout",
     "output_type": "stream",
     "text": [
      "1.0683756852622335\n"
     ]
    },
    {
     "data": {
      "text/plain": [
       "GP Exact object:\n",
       "  Dim = 8\n",
       "  Number of observations = 615\n",
       "  Mean function:\n",
       "    Type: GaussianProcesses.MeanZero, Params: Float64[]\n",
       "  Kernel:\n",
       "    Type: GaussianProcesses.SEIso, Params: [-1.0, 0.0]\n",
       "  Input observations = \n",
       "[0.377315 -0.206019 … -0.206019 -0.344907; -0.368056 0.215278 … 0.215278 0.381944; … ; 0.0390625 -0.335938 … -0.335938 0.0390625; -0.1625 0.4375 … 0.0375 -0.1625]\n",
       "  Output observations = [8.05224, -10.1978, -10.0478, 6.55224, -10.4478, 5.31224, -9.02776, -7.59776, -8.81776, -9.48776  …  -10.3178, -9.18776, -5.10776, 23.0022, -5.29776, 18.2722, 8.45224, -2.09776, -9.91776, -4.11776]\n",
       "  Variance of observation noise = 0.1353352832366127\n",
       "  Marginal Log-Likelihood = -8682.592"
      ]
     },
     "execution_count": 209,
     "metadata": {},
     "output_type": "execute_result"
    }
   ],
   "source": [
    "mZero = MeanZero()\n",
    "kern = SE(-1.0,0.0) \n",
    "logObsNoise = -1.0 \n",
    "\n",
    "gp_1 = GP(Xtrain', vec(ytrain[:,1]), mZero, kern, logObsNoise)\n",
    "\n",
    "\n",
    "μ, σ² = predict_y(gp_1, Xtrain');\n",
    "#println(sqrt(mean((μ .- ytrain[:,1]).^2)))\n",
    "#optimize2!(gp_1, mean = false, kern = true, noise = false, lik=false, lowerBound = -100)\n",
    "\n",
    "μ, σ² = predict_y(gp_1, Xtrain');\n",
    "println(sqrt(mean((μ .- ytrain[:,1]).^2)))\n",
    "\n",
    "gp_2 = GP(Xtrain', vec(ytrain[:,2]), mZero, kern, logObsNoise)\n",
    "#optimize2!(gp_2, mean = false, kern = true, noise = false, lik=false, lowerBound = -100)"
   ]
  },
  {
   "cell_type": "code",
   "execution_count": 210,
   "metadata": {},
   "outputs": [],
   "source": [
    "yhat = zeros(size(ytest))\n",
    "\n",
    "μ, σ² = predict_y(gp_1, Xtest');\n",
    "yhat[:,1] = μ\n",
    "\n",
    "μ, σ² = predict_y(gp_2, Xtest');\n",
    "yhat[:,2] = μ;"
   ]
  },
  {
   "cell_type": "code",
   "execution_count": 211,
   "metadata": {},
   "outputs": [
    {
     "data": {
      "text/html": [
       "2.0427949615273278"
      ],
      "text/plain": [
       "2.0427949615273278"
      ]
     },
     "execution_count": 211,
     "metadata": {},
     "output_type": "execute_result"
    }
   ],
   "source": [
    "sqrt(mean((yhat .- ytest).^2))"
   ]
  },
  {
   "cell_type": "markdown",
   "metadata": {},
   "source": [
    "## Learn a full GP"
   ]
  },
  {
   "cell_type": "code",
   "execution_count": 11,
   "metadata": {},
   "outputs": [
    {
     "data": {
      "text/plain": [
       "Type: GaussianProcesses.SEIso, Params: [0.0, 0.0]\n"
      ]
     },
     "execution_count": 11,
     "metadata": {},
     "output_type": "execute_result"
    }
   ],
   "source": [
    "mZero = MeanZero()                   #Zero mean function\n",
    "kern = SE(0.0,0.0)                   #Sqaured exponential kernel (note that hyperparameters are on the log scale)"
   ]
  },
  {
   "cell_type": "code",
   "execution_count": 12,
   "metadata": {},
   "outputs": [
    {
     "data": {
      "text/html": [
       "-1.0"
      ],
      "text/plain": [
       "-1.0"
      ]
     },
     "execution_count": 12,
     "metadata": {},
     "output_type": "execute_result"
    }
   ],
   "source": [
    "logObsNoise = -1.0                        # log standard deviation of observation noise (this is optional)"
   ]
  },
  {
   "cell_type": "code",
   "execution_count": 13,
   "metadata": {},
   "outputs": [
    {
     "data": {
      "text/html": [
       "1.6094379124341003"
      ],
      "text/plain": [
       "1.6094379124341003"
      ]
     },
     "execution_count": 13,
     "metadata": {},
     "output_type": "execute_result"
    }
   ],
   "source": [
    "log(5)"
   ]
  },
  {
   "cell_type": "code",
   "execution_count": 170,
   "metadata": {},
   "outputs": [
    {
     "ename": "LoadError",
     "evalue": "\u001b[91mDimensionMismatch(\"new dimensions (1, 768) must be consistent with array size 6144\")\u001b[39m",
     "output_type": "error",
     "traceback": [
      "\u001b[91mDimensionMismatch(\"new dimensions (1, 768) must be consistent with array size 6144\")\u001b[39m",
      "",
      "Stacktrace:",
      " [1] \u001b[1mreshape\u001b[22m\u001b[22m\u001b[1m(\u001b[22m\u001b[22m::Array{Float64,2}, ::Tuple{Int64,Int64}\u001b[1m)\u001b[22m\u001b[22m at \u001b[1m./array.jl:171\u001b[22m\u001b[22m",
      " [2] \u001b[1mreshape\u001b[22m\u001b[22m\u001b[1m(\u001b[22m\u001b[22m::Array{Float64,2}, ::Int64, ::Int64, ::Vararg{Int64,N} where N\u001b[1m)\u001b[22m\u001b[22m at \u001b[1m./reshapedarray.jl:95\u001b[22m\u001b[22m"
     ]
    }
   ],
   "source": [
    "gp = GP(reshape(X, 1, N), y, MeanZero(), SE(log(5.0),log(1.0)), -2.)       #Fit the GP"
   ]
  },
  {
   "cell_type": "code",
   "execution_count": 171,
   "metadata": {},
   "outputs": [
    {
     "ename": "LoadError",
     "evalue": "\u001b[91mArgumentError: Gaussian Process object and input observations do not have consistent dimensions\u001b[39m",
     "output_type": "error",
     "traceback": [
      "\u001b[91mArgumentError: Gaussian Process object and input observations do not have consistent dimensions\u001b[39m",
      "",
      "Stacktrace:",
      " [1] \u001b[1m#predict_f#89\u001b[22m\u001b[22m\u001b[1m(\u001b[22m\u001b[22m::Bool, ::Function, ::GaussianProcesses.GPE, ::RowVector{Float64,StepRangeLen{Float64,Base.TwicePrecision{Float64},Base.TwicePrecision{Float64}}}\u001b[1m)\u001b[22m\u001b[22m at \u001b[1m/raid/user/martint/.julia/v0.6/GaussianProcesses/src/GP.jl:23\u001b[22m\u001b[22m",
      " [2] \u001b[1m(::GaussianProcesses.#kw##predict_f)\u001b[22m\u001b[22m\u001b[1m(\u001b[22m\u001b[22m::Array{Any,1}, ::GaussianProcesses.#predict_f, ::GaussianProcesses.GPE, ::RowVector{Float64,StepRangeLen{Float64,Base.TwicePrecision{Float64},Base.TwicePrecision{Float64}}}\u001b[1m)\u001b[22m\u001b[22m at \u001b[1m./<missing>:0\u001b[22m\u001b[22m",
      " [3] \u001b[1m#predict_y#95\u001b[22m\u001b[22m\u001b[1m(\u001b[22m\u001b[22m::Bool, ::Function, ::GaussianProcesses.GPE, ::RowVector{Float64,StepRangeLen{Float64,Base.TwicePrecision{Float64},Base.TwicePrecision{Float64}}}\u001b[1m)\u001b[22m\u001b[22m at \u001b[1m/raid/user/martint/.julia/v0.6/GaussianProcesses/src/GPE.jl:216\u001b[22m\u001b[22m",
      " [4] \u001b[1m(::GaussianProcesses.#kw##predict_y)\u001b[22m\u001b[22m\u001b[1m(\u001b[22m\u001b[22m::Array{Any,1}, ::GaussianProcesses.#predict_y, ::GaussianProcesses.GPE, ::RowVector{Float64,StepRangeLen{Float64,Base.TwicePrecision{Float64},Base.TwicePrecision{Float64}}}\u001b[1m)\u001b[22m\u001b[22m at \u001b[1m./<missing>:0\u001b[22m\u001b[22m",
      " [5] \u001b[1mpredict_y\u001b[22m\u001b[22m\u001b[1m(\u001b[22m\u001b[22m::GaussianProcesses.GPE, ::StepRangeLen{Float64,Base.TwicePrecision{Float64},Base.TwicePrecision{Float64}}\u001b[1m)\u001b[22m\u001b[22m at \u001b[1m/raid/user/martint/.julia/v0.6/GaussianProcesses/src/GPE.jl:225\u001b[22m\u001b[22m"
     ]
    }
   ],
   "source": [
    "μ, σ² = predict_y(gp,linspace(minimum(X),maximum(X),100));"
   ]
  },
  {
   "cell_type": "code",
   "execution_count": 16,
   "metadata": {},
   "outputs": [
    {
     "data": {
      "text/html": [
       "<?xml version=\"1.0\" encoding=\"utf-8\"?>\n",
       "<svg xmlns=\"http://www.w3.org/2000/svg\" xmlns:xlink=\"http://www.w3.org/1999/xlink\" width=\"1024\" height=\"768\" viewBox=\"0 0 1024 768\">\n",
       "<defs>\n",
       "  <clipPath id=\"clip7700\">\n",
       "    <rect x=\"0\" y=\"0\" width=\"1024\" height=\"768\"/>\n",
       "  </clipPath>\n",
       "</defs>\n",
       "<polygon clip-path=\"url(#clip7700)\" points=\"\n",
       "0,768 1024,768 1024,0 0,0 \n",
       "  \" fill=\"#ffffff\" fill-opacity=\"1\"/>\n",
       "<defs>\n",
       "  <clipPath id=\"clip7701\">\n",
       "    <rect x=\"204\" y=\"0\" width=\"718\" height=\"718\"/>\n",
       "  </clipPath>\n",
       "</defs>\n",
       "<polygon clip-path=\"url(#clip7700)\" points=\"\n",
       "29.2591,742.759 1004.31,742.759 1004.31,31.4961 29.2591,31.4961 \n",
       "  \" fill=\"#ffffff\" fill-opacity=\"1\"/>\n",
       "<defs>\n",
       "  <clipPath id=\"clip7702\">\n",
       "    <rect x=\"29\" y=\"31\" width=\"976\" height=\"712\"/>\n",
       "  </clipPath>\n",
       "</defs>\n",
       "<polyline clip-path=\"url(#clip7702)\" style=\"stroke:#000000; stroke-width:0.5; stroke-opacity:0.1; fill:none\" points=\"\n",
       "  183.503,742.759 183.503,31.4961 \n",
       "  \"/>\n",
       "<polyline clip-path=\"url(#clip7702)\" style=\"stroke:#000000; stroke-width:0.5; stroke-opacity:0.1; fill:none\" points=\"\n",
       "  350.145,742.759 350.145,31.4961 \n",
       "  \"/>\n",
       "<polyline clip-path=\"url(#clip7702)\" style=\"stroke:#000000; stroke-width:0.5; stroke-opacity:0.1; fill:none\" points=\"\n",
       "  516.787,742.759 516.787,31.4961 \n",
       "  \"/>\n",
       "<polyline clip-path=\"url(#clip7702)\" style=\"stroke:#000000; stroke-width:0.5; stroke-opacity:0.1; fill:none\" points=\"\n",
       "  683.429,742.759 683.429,31.4961 \n",
       "  \"/>\n",
       "<polyline clip-path=\"url(#clip7702)\" style=\"stroke:#000000; stroke-width:0.5; stroke-opacity:0.1; fill:none\" points=\"\n",
       "  850.071,742.759 850.071,31.4961 \n",
       "  \"/>\n",
       "<polyline clip-path=\"url(#clip7702)\" style=\"stroke:#000000; stroke-width:0.5; stroke-opacity:0.1; fill:none\" points=\"\n",
       "  29.2591,732.224 1004.31,732.224 \n",
       "  \"/>\n",
       "<polyline clip-path=\"url(#clip7702)\" style=\"stroke:#000000; stroke-width:0.5; stroke-opacity:0.1; fill:none\" points=\"\n",
       "  29.2591,505.358 1004.31,505.358 \n",
       "  \"/>\n",
       "<polyline clip-path=\"url(#clip7702)\" style=\"stroke:#000000; stroke-width:0.5; stroke-opacity:0.1; fill:none\" points=\"\n",
       "  29.2591,278.492 1004.31,278.492 \n",
       "  \"/>\n",
       "<polyline clip-path=\"url(#clip7702)\" style=\"stroke:#000000; stroke-width:0.5; stroke-opacity:0.1; fill:none\" points=\"\n",
       "  29.2591,51.6261 1004.31,51.6261 \n",
       "  \"/>\n",
       "<polyline clip-path=\"url(#clip7700)\" style=\"stroke:#000000; stroke-width:1; stroke-opacity:1; fill:none\" points=\"\n",
       "  29.2591,742.759 1004.31,742.759 \n",
       "  \"/>\n",
       "<polyline clip-path=\"url(#clip7700)\" style=\"stroke:#000000; stroke-width:1; stroke-opacity:1; fill:none\" points=\"\n",
       "  29.2591,742.759 29.2591,31.4961 \n",
       "  \"/>\n",
       "<polyline clip-path=\"url(#clip7700)\" style=\"stroke:#000000; stroke-width:1; stroke-opacity:1; fill:none\" points=\"\n",
       "  183.503,742.759 183.503,732.09 \n",
       "  \"/>\n",
       "<polyline clip-path=\"url(#clip7700)\" style=\"stroke:#000000; stroke-width:1; stroke-opacity:1; fill:none\" points=\"\n",
       "  350.145,742.759 350.145,732.09 \n",
       "  \"/>\n",
       "<polyline clip-path=\"url(#clip7700)\" style=\"stroke:#000000; stroke-width:1; stroke-opacity:1; fill:none\" points=\"\n",
       "  516.787,742.759 516.787,732.09 \n",
       "  \"/>\n",
       "<polyline clip-path=\"url(#clip7700)\" style=\"stroke:#000000; stroke-width:1; stroke-opacity:1; fill:none\" points=\"\n",
       "  683.429,742.759 683.429,732.09 \n",
       "  \"/>\n",
       "<polyline clip-path=\"url(#clip7700)\" style=\"stroke:#000000; stroke-width:1; stroke-opacity:1; fill:none\" points=\"\n",
       "  850.071,742.759 850.071,732.09 \n",
       "  \"/>\n",
       "<polyline clip-path=\"url(#clip7700)\" style=\"stroke:#000000; stroke-width:1; stroke-opacity:1; fill:none\" points=\"\n",
       "  29.2591,732.224 43.885,732.224 \n",
       "  \"/>\n",
       "<polyline clip-path=\"url(#clip7700)\" style=\"stroke:#000000; stroke-width:1; stroke-opacity:1; fill:none\" points=\"\n",
       "  29.2591,505.358 43.885,505.358 \n",
       "  \"/>\n",
       "<polyline clip-path=\"url(#clip7700)\" style=\"stroke:#000000; stroke-width:1; stroke-opacity:1; fill:none\" points=\"\n",
       "  29.2591,278.492 43.885,278.492 \n",
       "  \"/>\n",
       "<polyline clip-path=\"url(#clip7700)\" style=\"stroke:#000000; stroke-width:1; stroke-opacity:1; fill:none\" points=\"\n",
       "  29.2591,51.6261 43.885,51.6261 \n",
       "  \"/>\n",
       "<g clip-path=\"url(#clip7700)\">\n",
       "<text style=\"fill:#000000; fill-opacity:1; font-family:Arial,Helvetica Neue,Helvetica,sans-serif; font-size:12; text-anchor:middle;\" transform=\"rotate(0, 183.503, 758.679)\" x=\"183.503\" y=\"758.679\">10</text>\n",
       "</g>\n",
       "<g clip-path=\"url(#clip7700)\">\n",
       "<text style=\"fill:#000000; fill-opacity:1; font-family:Arial,Helvetica Neue,Helvetica,sans-serif; font-size:12; text-anchor:middle;\" transform=\"rotate(0, 350.145, 758.679)\" x=\"350.145\" y=\"758.679\">20</text>\n",
       "</g>\n",
       "<g clip-path=\"url(#clip7700)\">\n",
       "<text style=\"fill:#000000; fill-opacity:1; font-family:Arial,Helvetica Neue,Helvetica,sans-serif; font-size:12; text-anchor:middle;\" transform=\"rotate(0, 516.787, 758.679)\" x=\"516.787\" y=\"758.679\">30</text>\n",
       "</g>\n",
       "<g clip-path=\"url(#clip7700)\">\n",
       "<text style=\"fill:#000000; fill-opacity:1; font-family:Arial,Helvetica Neue,Helvetica,sans-serif; font-size:12; text-anchor:middle;\" transform=\"rotate(0, 683.429, 758.679)\" x=\"683.429\" y=\"758.679\">40</text>\n",
       "</g>\n",
       "<g clip-path=\"url(#clip7700)\">\n",
       "<text style=\"fill:#000000; fill-opacity:1; font-family:Arial,Helvetica Neue,Helvetica,sans-serif; font-size:12; text-anchor:middle;\" transform=\"rotate(0, 850.071, 758.679)\" x=\"850.071\" y=\"758.679\">50</text>\n",
       "</g>\n",
       "<g clip-path=\"url(#clip7700)\">\n",
       "<text style=\"fill:#000000; fill-opacity:1; font-family:Arial,Helvetica Neue,Helvetica,sans-serif; font-size:12; text-anchor:end;\" transform=\"rotate(0, 19.0191, 736.724)\" x=\"19.0191\" y=\"736.724\">-2</text>\n",
       "</g>\n",
       "<g clip-path=\"url(#clip7700)\">\n",
       "<text style=\"fill:#000000; fill-opacity:1; font-family:Arial,Helvetica Neue,Helvetica,sans-serif; font-size:12; text-anchor:end;\" transform=\"rotate(0, 19.0191, 509.858)\" x=\"19.0191\" y=\"509.858\">-1</text>\n",
       "</g>\n",
       "<g clip-path=\"url(#clip7700)\">\n",
       "<text style=\"fill:#000000; fill-opacity:1; font-family:Arial,Helvetica Neue,Helvetica,sans-serif; font-size:12; text-anchor:end;\" transform=\"rotate(0, 19.0191, 282.992)\" x=\"19.0191\" y=\"282.992\">0</text>\n",
       "</g>\n",
       "<g clip-path=\"url(#clip7700)\">\n",
       "<text style=\"fill:#000000; fill-opacity:1; font-family:Arial,Helvetica Neue,Helvetica,sans-serif; font-size:12; text-anchor:end;\" transform=\"rotate(0, 19.0191, 56.1261)\" x=\"19.0191\" y=\"56.1261\">1</text>\n",
       "</g>\n",
       "<g clip-path=\"url(#clip7700)\">\n",
       "<text style=\"fill:#000000; fill-opacity:1; font-family:Arial,Helvetica Neue,Helvetica,sans-serif; font-size:21; text-anchor:middle;\" transform=\"rotate(0, 516.787, 18)\" x=\"516.787\" y=\"18\">Full GP with SE Kernel and LLH: -125.00088180123245</text>\n",
       "</g>\n",
       "<circle clip-path=\"url(#clip7702)\" style=\"fill:#000000; stroke:none; fill-opacity:1\" cx=\"56.8551\" cy=\"278.492\" r=\"4\"/>\n",
       "<circle clip-path=\"url(#clip7702)\" style=\"fill:#009af9; stroke:none; fill-opacity:1\" cx=\"56.8551\" cy=\"278.492\" r=\"3\"/>\n",
       "<circle clip-path=\"url(#clip7702)\" style=\"fill:#000000; stroke:none; fill-opacity:1\" cx=\"60.1879\" cy=\"282.424\" r=\"4\"/>\n",
       "<circle clip-path=\"url(#clip7702)\" style=\"fill:#009af9; stroke:none; fill-opacity:1\" cx=\"60.1879\" cy=\"282.424\" r=\"3\"/>\n",
       "<circle clip-path=\"url(#clip7702)\" style=\"fill:#000000; stroke:none; fill-opacity:1\" cx=\"70.1864\" cy=\"286.659\" r=\"4\"/>\n",
       "<circle clip-path=\"url(#clip7702)\" style=\"fill:#009af9; stroke:none; fill-opacity:1\" cx=\"70.1864\" cy=\"286.659\" r=\"3\"/>\n",
       "<circle clip-path=\"url(#clip7702)\" style=\"fill:#000000; stroke:none; fill-opacity:1\" cx=\"76.8521\" cy=\"278.492\" r=\"4\"/>\n",
       "<circle clip-path=\"url(#clip7702)\" style=\"fill:#009af9; stroke:none; fill-opacity:1\" cx=\"76.8521\" cy=\"278.492\" r=\"3\"/>\n",
       "<circle clip-path=\"url(#clip7702)\" style=\"fill:#000000; stroke:none; fill-opacity:1\" cx=\"83.5178\" cy=\"286.659\" r=\"4\"/>\n",
       "<circle clip-path=\"url(#clip7702)\" style=\"fill:#009af9; stroke:none; fill-opacity:1\" cx=\"83.5178\" cy=\"286.659\" r=\"3\"/>\n",
       "<circle clip-path=\"url(#clip7702)\" style=\"fill:#000000; stroke:none; fill-opacity:1\" cx=\"120.179\" cy=\"286.659\" r=\"4\"/>\n",
       "<circle clip-path=\"url(#clip7702)\" style=\"fill:#009af9; stroke:none; fill-opacity:1\" cx=\"120.179\" cy=\"286.659\" r=\"3\"/>\n",
       "<circle clip-path=\"url(#clip7702)\" style=\"fill:#000000; stroke:none; fill-opacity:1\" cx=\"126.845\" cy=\"286.659\" r=\"4\"/>\n",
       "<circle clip-path=\"url(#clip7702)\" style=\"fill:#009af9; stroke:none; fill-opacity:1\" cx=\"126.845\" cy=\"286.659\" r=\"3\"/>\n",
       "<circle clip-path=\"url(#clip7702)\" style=\"fill:#000000; stroke:none; fill-opacity:1\" cx=\"130.178\" cy=\"282.424\" r=\"4\"/>\n",
       "<circle clip-path=\"url(#clip7702)\" style=\"fill:#009af9; stroke:none; fill-opacity:1\" cx=\"130.178\" cy=\"282.424\" r=\"3\"/>\n",
       "<circle clip-path=\"url(#clip7702)\" style=\"fill:#000000; stroke:none; fill-opacity:1\" cx=\"146.842\" cy=\"286.659\" r=\"4\"/>\n",
       "<circle clip-path=\"url(#clip7702)\" style=\"fill:#009af9; stroke:none; fill-opacity:1\" cx=\"146.842\" cy=\"286.659\" r=\"3\"/>\n",
       "<circle clip-path=\"url(#clip7702)\" style=\"fill:#000000; stroke:none; fill-opacity:1\" cx=\"153.507\" cy=\"286.659\" r=\"4\"/>\n",
       "<circle clip-path=\"url(#clip7702)\" style=\"fill:#009af9; stroke:none; fill-opacity:1\" cx=\"153.507\" cy=\"286.659\" r=\"3\"/>\n",
       "<circle clip-path=\"url(#clip7702)\" style=\"fill:#000000; stroke:none; fill-opacity:1\" cx=\"163.506\" cy=\"282.424\" r=\"4\"/>\n",
       "<circle clip-path=\"url(#clip7702)\" style=\"fill:#009af9; stroke:none; fill-opacity:1\" cx=\"163.506\" cy=\"282.424\" r=\"3\"/>\n",
       "<circle clip-path=\"url(#clip7702)\" style=\"fill:#000000; stroke:none; fill-opacity:1\" cx=\"176.837\" cy=\"286.659\" r=\"4\"/>\n",
       "<circle clip-path=\"url(#clip7702)\" style=\"fill:#009af9; stroke:none; fill-opacity:1\" cx=\"176.837\" cy=\"286.659\" r=\"3\"/>\n",
       "<circle clip-path=\"url(#clip7702)\" style=\"fill:#000000; stroke:none; fill-opacity:1\" cx=\"183.503\" cy=\"286.659\" r=\"4\"/>\n",
       "<circle clip-path=\"url(#clip7702)\" style=\"fill:#009af9; stroke:none; fill-opacity:1\" cx=\"183.503\" cy=\"286.659\" r=\"3\"/>\n",
       "<circle clip-path=\"url(#clip7702)\" style=\"fill:#000000; stroke:none; fill-opacity:1\" cx=\"186.836\" cy=\"294.826\" r=\"4\"/>\n",
       "<circle clip-path=\"url(#clip7702)\" style=\"fill:#009af9; stroke:none; fill-opacity:1\" cx=\"186.836\" cy=\"294.826\" r=\"3\"/>\n",
       "<circle clip-path=\"url(#clip7702)\" style=\"fill:#000000; stroke:none; fill-opacity:1\" cx=\"193.502\" cy=\"286.659\" r=\"4\"/>\n",
       "<circle clip-path=\"url(#clip7702)\" style=\"fill:#009af9; stroke:none; fill-opacity:1\" cx=\"193.502\" cy=\"286.659\" r=\"3\"/>\n",
       "<circle clip-path=\"url(#clip7702)\" style=\"fill:#000000; stroke:none; fill-opacity:1\" cx=\"200.167\" cy=\"294.826\" r=\"4\"/>\n",
       "<circle clip-path=\"url(#clip7702)\" style=\"fill:#009af9; stroke:none; fill-opacity:1\" cx=\"200.167\" cy=\"294.826\" r=\"3\"/>\n",
       "<circle clip-path=\"url(#clip7702)\" style=\"fill:#000000; stroke:none; fill-opacity:1\" cx=\"206.833\" cy=\"278.492\" r=\"4\"/>\n",
       "<circle clip-path=\"url(#clip7702)\" style=\"fill:#009af9; stroke:none; fill-opacity:1\" cx=\"206.833\" cy=\"278.492\" r=\"3\"/>\n",
       "<circle clip-path=\"url(#clip7702)\" style=\"fill:#000000; stroke:none; fill-opacity:1\" cx=\"236.828\" cy=\"286.659\" r=\"4\"/>\n",
       "<circle clip-path=\"url(#clip7702)\" style=\"fill:#009af9; stroke:none; fill-opacity:1\" cx=\"236.828\" cy=\"286.659\" r=\"3\"/>\n",
       "<circle clip-path=\"url(#clip7702)\" style=\"fill:#000000; stroke:none; fill-opacity:1\" cx=\"243.494\" cy=\"286.659\" r=\"4\"/>\n",
       "<circle clip-path=\"url(#clip7702)\" style=\"fill:#009af9; stroke:none; fill-opacity:1\" cx=\"243.494\" cy=\"286.659\" r=\"3\"/>\n",
       "<circle clip-path=\"url(#clip7702)\" style=\"fill:#000000; stroke:none; fill-opacity:1\" cx=\"246.827\" cy=\"278.492\" r=\"4\"/>\n",
       "<circle clip-path=\"url(#clip7702)\" style=\"fill:#009af9; stroke:none; fill-opacity:1\" cx=\"246.827\" cy=\"278.492\" r=\"3\"/>\n",
       "<circle clip-path=\"url(#clip7702)\" style=\"fill:#000000; stroke:none; fill-opacity:1\" cx=\"260.158\" cy=\"318.723\" r=\"4\"/>\n",
       "<circle clip-path=\"url(#clip7702)\" style=\"fill:#009af9; stroke:none; fill-opacity:1\" cx=\"260.158\" cy=\"318.723\" r=\"3\"/>\n",
       "<circle clip-path=\"url(#clip7702)\" style=\"fill:#000000; stroke:none; fill-opacity:1\" cx=\"263.491\" cy=\"286.659\" r=\"4\"/>\n",
       "<circle clip-path=\"url(#clip7702)\" style=\"fill:#009af9; stroke:none; fill-opacity:1\" cx=\"263.491\" cy=\"286.659\" r=\"3\"/>\n",
       "<circle clip-path=\"url(#clip7702)\" style=\"fill:#000000; stroke:none; fill-opacity:1\" cx=\"273.49\" cy=\"347.459\" r=\"4\"/>\n",
       "<circle clip-path=\"url(#clip7702)\" style=\"fill:#009af9; stroke:none; fill-opacity:1\" cx=\"273.49\" cy=\"347.459\" r=\"3\"/>\n",
       "<circle clip-path=\"url(#clip7702)\" style=\"fill:#000000; stroke:none; fill-opacity:1\" cx=\"276.823\" cy=\"400.092\" r=\"4\"/>\n",
       "<circle clip-path=\"url(#clip7702)\" style=\"fill:#009af9; stroke:none; fill-opacity:1\" cx=\"276.823\" cy=\"400.092\" r=\"3\"/>\n",
       "<circle clip-path=\"url(#clip7702)\" style=\"fill:#000000; stroke:none; fill-opacity:1\" cx=\"280.155\" cy=\"343.527\" r=\"4\"/>\n",
       "<circle clip-path=\"url(#clip7702)\" style=\"fill:#009af9; stroke:none; fill-opacity:1\" cx=\"280.155\" cy=\"343.527\" r=\"3\"/>\n",
       "<circle clip-path=\"url(#clip7702)\" style=\"fill:#000000; stroke:none; fill-opacity:1\" cx=\"283.488\" cy=\"408.259\" r=\"4\"/>\n",
       "<circle clip-path=\"url(#clip7702)\" style=\"fill:#009af9; stroke:none; fill-opacity:1\" cx=\"283.488\" cy=\"408.259\" r=\"3\"/>\n",
       "<circle clip-path=\"url(#clip7702)\" style=\"fill:#000000; stroke:none; fill-opacity:1\" cx=\"286.821\" cy=\"343.527\" r=\"4\"/>\n",
       "<circle clip-path=\"url(#clip7702)\" style=\"fill:#009af9; stroke:none; fill-opacity:1\" cx=\"286.821\" cy=\"343.527\" r=\"3\"/>\n",
       "<circle clip-path=\"url(#clip7702)\" style=\"fill:#000000; stroke:none; fill-opacity:1\" cx=\"290.154\" cy=\"294.826\" r=\"4\"/>\n",
       "<circle clip-path=\"url(#clip7702)\" style=\"fill:#009af9; stroke:none; fill-opacity:1\" cx=\"290.154\" cy=\"294.826\" r=\"3\"/>\n",
       "<circle clip-path=\"url(#clip7702)\" style=\"fill:#000000; stroke:none; fill-opacity:1\" cx=\"293.487\" cy=\"456.96\" r=\"4\"/>\n",
       "<circle clip-path=\"url(#clip7702)\" style=\"fill:#009af9; stroke:none; fill-opacity:1\" cx=\"293.487\" cy=\"456.96\" r=\"3\"/>\n",
       "<circle clip-path=\"url(#clip7702)\" style=\"fill:#000000; stroke:none; fill-opacity:1\" cx=\"296.82\" cy=\"493.258\" r=\"4\"/>\n",
       "<circle clip-path=\"url(#clip7702)\" style=\"fill:#009af9; stroke:none; fill-opacity:1\" cx=\"296.82\" cy=\"493.258\" r=\"3\"/>\n",
       "<circle clip-path=\"url(#clip7702)\" style=\"fill:#000000; stroke:none; fill-opacity:1\" cx=\"310.151\" cy=\"391.925\" r=\"4\"/>\n",
       "<circle clip-path=\"url(#clip7702)\" style=\"fill:#009af9; stroke:none; fill-opacity:1\" cx=\"310.151\" cy=\"391.925\" r=\"3\"/>\n",
       "<circle clip-path=\"url(#clip7702)\" style=\"fill:#000000; stroke:none; fill-opacity:1\" cx=\"313.484\" cy=\"578.258\" r=\"4\"/>\n",
       "<circle clip-path=\"url(#clip7702)\" style=\"fill:#009af9; stroke:none; fill-opacity:1\" cx=\"313.484\" cy=\"578.258\" r=\"3\"/>\n",
       "<circle clip-path=\"url(#clip7702)\" style=\"fill:#000000; stroke:none; fill-opacity:1\" cx=\"326.815\" cy=\"618.791\" r=\"4\"/>\n",
       "<circle clip-path=\"url(#clip7702)\" style=\"fill:#009af9; stroke:none; fill-opacity:1\" cx=\"326.815\" cy=\"618.791\" r=\"3\"/>\n",
       "<circle clip-path=\"url(#clip7702)\" style=\"fill:#000000; stroke:none; fill-opacity:1\" cx=\"336.814\" cy=\"650.855\" r=\"4\"/>\n",
       "<circle clip-path=\"url(#clip7702)\" style=\"fill:#009af9; stroke:none; fill-opacity:1\" cx=\"336.814\" cy=\"650.855\" r=\"3\"/>\n",
       "<circle clip-path=\"url(#clip7702)\" style=\"fill:#000000; stroke:none; fill-opacity:1\" cx=\"340.147\" cy=\"537.422\" r=\"4\"/>\n",
       "<circle clip-path=\"url(#clip7702)\" style=\"fill:#009af9; stroke:none; fill-opacity:1\" cx=\"340.147\" cy=\"537.422\" r=\"3\"/>\n",
       "<circle clip-path=\"url(#clip7702)\" style=\"fill:#000000; stroke:none; fill-opacity:1\" cx=\"343.479\" cy=\"663.257\" r=\"4\"/>\n",
       "<circle clip-path=\"url(#clip7702)\" style=\"fill:#009af9; stroke:none; fill-opacity:1\" cx=\"343.479\" cy=\"663.257\" r=\"3\"/>\n",
       "<circle clip-path=\"url(#clip7702)\" style=\"fill:#000000; stroke:none; fill-opacity:1\" cx=\"353.478\" cy=\"650.855\" r=\"4\"/>\n",
       "<circle clip-path=\"url(#clip7702)\" style=\"fill:#009af9; stroke:none; fill-opacity:1\" cx=\"353.478\" cy=\"650.855\" r=\"3\"/>\n",
       "<circle clip-path=\"url(#clip7702)\" style=\"fill:#000000; stroke:none; fill-opacity:1\" cx=\"356.811\" cy=\"635.125\" r=\"4\"/>\n",
       "<circle clip-path=\"url(#clip7702)\" style=\"fill:#009af9; stroke:none; fill-opacity:1\" cx=\"356.811\" cy=\"635.125\" r=\"3\"/>\n",
       "<circle clip-path=\"url(#clip7702)\" style=\"fill:#000000; stroke:none; fill-opacity:1\" cx=\"370.142\" cy=\"683.826\" r=\"4\"/>\n",
       "<circle clip-path=\"url(#clip7702)\" style=\"fill:#009af9; stroke:none; fill-opacity:1\" cx=\"370.142\" cy=\"683.826\" r=\"3\"/>\n",
       "<circle clip-path=\"url(#clip7702)\" style=\"fill:#000000; stroke:none; fill-opacity:1\" cx=\"373.475\" cy=\"586.727\" r=\"4\"/>\n",
       "<circle clip-path=\"url(#clip7702)\" style=\"fill:#009af9; stroke:none; fill-opacity:1\" cx=\"373.475\" cy=\"586.727\" r=\"3\"/>\n",
       "<circle clip-path=\"url(#clip7702)\" style=\"fill:#000000; stroke:none; fill-opacity:1\" cx=\"380.141\" cy=\"606.389\" r=\"4\"/>\n",
       "<circle clip-path=\"url(#clip7702)\" style=\"fill:#009af9; stroke:none; fill-opacity:1\" cx=\"380.141\" cy=\"606.389\" r=\"3\"/>\n",
       "<circle clip-path=\"url(#clip7702)\" style=\"fill:#000000; stroke:none; fill-opacity:1\" cx=\"383.473\" cy=\"650.855\" r=\"4\"/>\n",
       "<circle clip-path=\"url(#clip7702)\" style=\"fill:#009af9; stroke:none; fill-opacity:1\" cx=\"383.473\" cy=\"650.855\" r=\"3\"/>\n",
       "<circle clip-path=\"url(#clip7702)\" style=\"fill:#000000; stroke:none; fill-opacity:1\" cx=\"403.47\" cy=\"650.855\" r=\"4\"/>\n",
       "<circle clip-path=\"url(#clip7702)\" style=\"fill:#009af9; stroke:none; fill-opacity:1\" cx=\"403.47\" cy=\"650.855\" r=\"3\"/>\n",
       "<circle clip-path=\"url(#clip7702)\" style=\"fill:#000000; stroke:none; fill-opacity:1\" cx=\"406.803\" cy=\"667.189\" r=\"4\"/>\n",
       "<circle clip-path=\"url(#clip7702)\" style=\"fill:#009af9; stroke:none; fill-opacity:1\" cx=\"406.803\" cy=\"667.189\" r=\"3\"/>\n",
       "<circle clip-path=\"url(#clip7702)\" style=\"fill:#000000; stroke:none; fill-opacity:1\" cx=\"416.802\" cy=\"618.791\" r=\"4\"/>\n",
       "<circle clip-path=\"url(#clip7702)\" style=\"fill:#009af9; stroke:none; fill-opacity:1\" cx=\"416.802\" cy=\"618.791\" r=\"3\"/>\n",
       "<circle clip-path=\"url(#clip7702)\" style=\"fill:#000000; stroke:none; fill-opacity:1\" cx=\"420.135\" cy=\"566.158\" r=\"4\"/>\n",
       "<circle clip-path=\"url(#clip7702)\" style=\"fill:#009af9; stroke:none; fill-opacity:1\" cx=\"420.135\" cy=\"566.158\" r=\"3\"/>\n",
       "<circle clip-path=\"url(#clip7702)\" style=\"fill:#000000; stroke:none; fill-opacity:1\" cx=\"426.8\" cy=\"440.323\" r=\"4\"/>\n",
       "<circle clip-path=\"url(#clip7702)\" style=\"fill:#009af9; stroke:none; fill-opacity:1\" cx=\"426.8\" cy=\"440.323\" r=\"3\"/>\n",
       "<circle clip-path=\"url(#clip7702)\" style=\"fill:#000000; stroke:none; fill-opacity:1\" cx=\"433.466\" cy=\"473.294\" r=\"4\"/>\n",
       "<circle clip-path=\"url(#clip7702)\" style=\"fill:#009af9; stroke:none; fill-opacity:1\" cx=\"433.466\" cy=\"473.294\" r=\"3\"/>\n",
       "<circle clip-path=\"url(#clip7702)\" style=\"fill:#000000; stroke:none; fill-opacity:1\" cx=\"440.132\" cy=\"497.191\" r=\"4\"/>\n",
       "<circle clip-path=\"url(#clip7702)\" style=\"fill:#009af9; stroke:none; fill-opacity:1\" cx=\"440.132\" cy=\"497.191\" r=\"3\"/>\n",
       "<circle clip-path=\"url(#clip7702)\" style=\"fill:#000000; stroke:none; fill-opacity:1\" cx=\"443.465\" cy=\"359.559\" r=\"4\"/>\n",
       "<circle clip-path=\"url(#clip7702)\" style=\"fill:#009af9; stroke:none; fill-opacity:1\" cx=\"443.465\" cy=\"359.559\" r=\"3\"/>\n",
       "<circle clip-path=\"url(#clip7702)\" style=\"fill:#000000; stroke:none; fill-opacity:1\" cx=\"450.13\" cy=\"294.826\" r=\"4\"/>\n",
       "<circle clip-path=\"url(#clip7702)\" style=\"fill:#009af9; stroke:none; fill-opacity:1\" cx=\"450.13\" cy=\"294.826\" r=\"3\"/>\n",
       "<circle clip-path=\"url(#clip7702)\" style=\"fill:#000000; stroke:none; fill-opacity:1\" cx=\"453.463\" cy=\"602.457\" r=\"4\"/>\n",
       "<circle clip-path=\"url(#clip7702)\" style=\"fill:#009af9; stroke:none; fill-opacity:1\" cx=\"453.463\" cy=\"602.457\" r=\"3\"/>\n",
       "<circle clip-path=\"url(#clip7702)\" style=\"fill:#000000; stroke:none; fill-opacity:1\" cx=\"456.796\" cy=\"476.924\" r=\"4\"/>\n",
       "<circle clip-path=\"url(#clip7702)\" style=\"fill:#009af9; stroke:none; fill-opacity:1\" cx=\"456.796\" cy=\"476.924\" r=\"3\"/>\n",
       "<circle clip-path=\"url(#clip7702)\" style=\"fill:#000000; stroke:none; fill-opacity:1\" cx=\"466.794\" cy=\"326.89\" r=\"4\"/>\n",
       "<circle clip-path=\"url(#clip7702)\" style=\"fill:#009af9; stroke:none; fill-opacity:1\" cx=\"466.794\" cy=\"326.89\" r=\"3\"/>\n",
       "<circle clip-path=\"url(#clip7702)\" style=\"fill:#000000; stroke:none; fill-opacity:1\" cx=\"470.127\" cy=\"416.427\" r=\"4\"/>\n",
       "<circle clip-path=\"url(#clip7702)\" style=\"fill:#009af9; stroke:none; fill-opacity:1\" cx=\"470.127\" cy=\"416.427\" r=\"3\"/>\n",
       "<circle clip-path=\"url(#clip7702)\" style=\"fill:#000000; stroke:none; fill-opacity:1\" cx=\"476.793\" cy=\"266.393\" r=\"4\"/>\n",
       "<circle clip-path=\"url(#clip7702)\" style=\"fill:#009af9; stroke:none; fill-opacity:1\" cx=\"476.793\" cy=\"266.393\" r=\"3\"/>\n",
       "<circle clip-path=\"url(#clip7702)\" style=\"fill:#000000; stroke:none; fill-opacity:1\" cx=\"486.791\" cy=\"242.193\" r=\"4\"/>\n",
       "<circle clip-path=\"url(#clip7702)\" style=\"fill:#009af9; stroke:none; fill-opacity:1\" cx=\"486.791\" cy=\"242.193\" r=\"3\"/>\n",
       "<circle clip-path=\"url(#clip7702)\" style=\"fill:#000000; stroke:none; fill-opacity:1\" cx=\"490.124\" cy=\"343.527\" r=\"4\"/>\n",
       "<circle clip-path=\"url(#clip7702)\" style=\"fill:#009af9; stroke:none; fill-opacity:1\" cx=\"490.124\" cy=\"343.527\" r=\"3\"/>\n",
       "<circle clip-path=\"url(#clip7702)\" style=\"fill:#000000; stroke:none; fill-opacity:1\" cx=\"493.457\" cy=\"136.625\" r=\"4\"/>\n",
       "<circle clip-path=\"url(#clip7702)\" style=\"fill:#009af9; stroke:none; fill-opacity:1\" cx=\"493.457\" cy=\"136.625\" r=\"3\"/>\n",
       "<circle clip-path=\"url(#clip7702)\" style=\"fill:#000000; stroke:none; fill-opacity:1\" cx=\"506.789\" cy=\"331.125\" r=\"4\"/>\n",
       "<circle clip-path=\"url(#clip7702)\" style=\"fill:#009af9; stroke:none; fill-opacity:1\" cx=\"506.789\" cy=\"331.125\" r=\"3\"/>\n",
       "<circle clip-path=\"url(#clip7702)\" style=\"fill:#000000; stroke:none; fill-opacity:1\" cx=\"520.12\" cy=\"168.991\" r=\"4\"/>\n",
       "<circle clip-path=\"url(#clip7702)\" style=\"fill:#009af9; stroke:none; fill-opacity:1\" cx=\"520.12\" cy=\"168.991\" r=\"3\"/>\n",
       "<circle clip-path=\"url(#clip7702)\" style=\"fill:#000000; stroke:none; fill-opacity:1\" cx=\"533.451\" cy=\"51.6261\" r=\"4\"/>\n",
       "<circle clip-path=\"url(#clip7702)\" style=\"fill:#009af9; stroke:none; fill-opacity:1\" cx=\"533.451\" cy=\"51.6261\" r=\"3\"/>\n",
       "<circle clip-path=\"url(#clip7702)\" style=\"fill:#000000; stroke:none; fill-opacity:1\" cx=\"536.784\" cy=\"253.991\" r=\"4\"/>\n",
       "<circle clip-path=\"url(#clip7702)\" style=\"fill:#009af9; stroke:none; fill-opacity:1\" cx=\"536.784\" cy=\"253.991\" r=\"3\"/>\n",
       "<circle clip-path=\"url(#clip7702)\" style=\"fill:#000000; stroke:none; fill-opacity:1\" cx=\"550.115\" cy=\"112.426\" r=\"4\"/>\n",
       "<circle clip-path=\"url(#clip7702)\" style=\"fill:#009af9; stroke:none; fill-opacity:1\" cx=\"550.115\" cy=\"112.426\" r=\"3\"/>\n",
       "<circle clip-path=\"url(#clip7702)\" style=\"fill:#000000; stroke:none; fill-opacity:1\" cx=\"563.447\" cy=\"136.625\" r=\"4\"/>\n",
       "<circle clip-path=\"url(#clip7702)\" style=\"fill:#009af9; stroke:none; fill-opacity:1\" cx=\"563.447\" cy=\"136.625\" r=\"3\"/>\n",
       "<circle clip-path=\"url(#clip7702)\" style=\"fill:#000000; stroke:none; fill-opacity:1\" cx=\"573.445\" cy=\"230.094\" r=\"4\"/>\n",
       "<circle clip-path=\"url(#clip7702)\" style=\"fill:#009af9; stroke:none; fill-opacity:1\" cx=\"573.445\" cy=\"230.094\" r=\"3\"/>\n",
       "<circle clip-path=\"url(#clip7702)\" style=\"fill:#000000; stroke:none; fill-opacity:1\" cx=\"580.111\" cy=\"140.558\" r=\"4\"/>\n",
       "<circle clip-path=\"url(#clip7702)\" style=\"fill:#009af9; stroke:none; fill-opacity:1\" cx=\"580.111\" cy=\"140.558\" r=\"3\"/>\n",
       "<circle clip-path=\"url(#clip7702)\" style=\"fill:#000000; stroke:none; fill-opacity:1\" cx=\"590.11\" cy=\"274.56\" r=\"4\"/>\n",
       "<circle clip-path=\"url(#clip7702)\" style=\"fill:#009af9; stroke:none; fill-opacity:1\" cx=\"590.11\" cy=\"274.56\" r=\"3\"/>\n",
       "<circle clip-path=\"url(#clip7702)\" style=\"fill:#000000; stroke:none; fill-opacity:1\" cx=\"596.775\" cy=\"51.6261\" r=\"4\"/>\n",
       "<circle clip-path=\"url(#clip7702)\" style=\"fill:#009af9; stroke:none; fill-opacity:1\" cx=\"596.775\" cy=\"51.6261\" r=\"3\"/>\n",
       "<circle clip-path=\"url(#clip7702)\" style=\"fill:#000000; stroke:none; fill-opacity:1\" cx=\"603.441\" cy=\"326.89\" r=\"4\"/>\n",
       "<circle clip-path=\"url(#clip7702)\" style=\"fill:#009af9; stroke:none; fill-opacity:1\" cx=\"603.441\" cy=\"326.89\" r=\"3\"/>\n",
       "<circle clip-path=\"url(#clip7702)\" style=\"fill:#000000; stroke:none; fill-opacity:1\" cx=\"606.774\" cy=\"67.9605\" r=\"4\"/>\n",
       "<circle clip-path=\"url(#clip7702)\" style=\"fill:#009af9; stroke:none; fill-opacity:1\" cx=\"606.774\" cy=\"67.9605\" r=\"3\"/>\n",
       "<circle clip-path=\"url(#clip7702)\" style=\"fill:#000000; stroke:none; fill-opacity:1\" cx=\"610.107\" cy=\"173.226\" r=\"4\"/>\n",
       "<circle clip-path=\"url(#clip7702)\" style=\"fill:#009af9; stroke:none; fill-opacity:1\" cx=\"610.107\" cy=\"173.226\" r=\"3\"/>\n",
       "<circle clip-path=\"url(#clip7702)\" style=\"fill:#000000; stroke:none; fill-opacity:1\" cx=\"620.105\" cy=\"391.925\" r=\"4\"/>\n",
       "<circle clip-path=\"url(#clip7702)\" style=\"fill:#009af9; stroke:none; fill-opacity:1\" cx=\"620.105\" cy=\"391.925\" r=\"3\"/>\n",
       "<circle clip-path=\"url(#clip7702)\" style=\"fill:#000000; stroke:none; fill-opacity:1\" cx=\"650.101\" cy=\"136.625\" r=\"4\"/>\n",
       "<circle clip-path=\"url(#clip7702)\" style=\"fill:#009af9; stroke:none; fill-opacity:1\" cx=\"650.101\" cy=\"136.625\" r=\"3\"/>\n",
       "<circle clip-path=\"url(#clip7702)\" style=\"fill:#000000; stroke:none; fill-opacity:1\" cx=\"670.098\" cy=\"262.158\" r=\"4\"/>\n",
       "<circle clip-path=\"url(#clip7702)\" style=\"fill:#009af9; stroke:none; fill-opacity:1\" cx=\"670.098\" cy=\"262.158\" r=\"3\"/>\n",
       "<circle clip-path=\"url(#clip7702)\" style=\"fill:#000000; stroke:none; fill-opacity:1\" cx=\"673.431\" cy=\"282.424\" r=\"4\"/>\n",
       "<circle clip-path=\"url(#clip7702)\" style=\"fill:#009af9; stroke:none; fill-opacity:1\" cx=\"673.431\" cy=\"282.424\" r=\"3\"/>\n",
       "<circle clip-path=\"url(#clip7702)\" style=\"fill:#000000; stroke:none; fill-opacity:1\" cx=\"683.429\" cy=\"343.527\" r=\"4\"/>\n",
       "<circle clip-path=\"url(#clip7702)\" style=\"fill:#009af9; stroke:none; fill-opacity:1\" cx=\"683.429\" cy=\"343.527\" r=\"3\"/>\n",
       "<circle clip-path=\"url(#clip7702)\" style=\"fill:#000000; stroke:none; fill-opacity:1\" cx=\"690.095\" cy=\"318.723\" r=\"4\"/>\n",
       "<circle clip-path=\"url(#clip7702)\" style=\"fill:#009af9; stroke:none; fill-opacity:1\" cx=\"690.095\" cy=\"318.723\" r=\"3\"/>\n",
       "<circle clip-path=\"url(#clip7702)\" style=\"fill:#000000; stroke:none; fill-opacity:1\" cx=\"710.092\" cy=\"185.326\" r=\"4\"/>\n",
       "<circle clip-path=\"url(#clip7702)\" style=\"fill:#009af9; stroke:none; fill-opacity:1\" cx=\"710.092\" cy=\"185.326\" r=\"3\"/>\n",
       "<circle clip-path=\"url(#clip7702)\" style=\"fill:#000000; stroke:none; fill-opacity:1\" cx=\"723.423\" cy=\"189.561\" r=\"4\"/>\n",
       "<circle clip-path=\"url(#clip7702)\" style=\"fill:#009af9; stroke:none; fill-opacity:1\" cx=\"723.423\" cy=\"189.561\" r=\"3\"/>\n",
       "<circle clip-path=\"url(#clip7702)\" style=\"fill:#000000; stroke:none; fill-opacity:1\" cx=\"730.089\" cy=\"278.492\" r=\"4\"/>\n",
       "<circle clip-path=\"url(#clip7702)\" style=\"fill:#009af9; stroke:none; fill-opacity:1\" cx=\"730.089\" cy=\"278.492\" r=\"3\"/>\n",
       "<circle clip-path=\"url(#clip7702)\" style=\"fill:#000000; stroke:none; fill-opacity:1\" cx=\"733.422\" cy=\"234.026\" r=\"4\"/>\n",
       "<circle clip-path=\"url(#clip7702)\" style=\"fill:#009af9; stroke:none; fill-opacity:1\" cx=\"733.422\" cy=\"234.026\" r=\"3\"/>\n",
       "<circle clip-path=\"url(#clip7702)\" style=\"fill:#000000; stroke:none; fill-opacity:1\" cx=\"750.086\" cy=\"282.424\" r=\"4\"/>\n",
       "<circle clip-path=\"url(#clip7702)\" style=\"fill:#009af9; stroke:none; fill-opacity:1\" cx=\"750.086\" cy=\"282.424\" r=\"3\"/>\n",
       "<circle clip-path=\"url(#clip7702)\" style=\"fill:#000000; stroke:none; fill-opacity:1\" cx=\"756.752\" cy=\"278.492\" r=\"4\"/>\n",
       "<circle clip-path=\"url(#clip7702)\" style=\"fill:#009af9; stroke:none; fill-opacity:1\" cx=\"756.752\" cy=\"278.492\" r=\"3\"/>\n",
       "<circle clip-path=\"url(#clip7702)\" style=\"fill:#000000; stroke:none; fill-opacity:1\" cx=\"766.75\" cy=\"246.126\" r=\"4\"/>\n",
       "<circle clip-path=\"url(#clip7702)\" style=\"fill:#009af9; stroke:none; fill-opacity:1\" cx=\"766.75\" cy=\"246.126\" r=\"3\"/>\n",
       "<circle clip-path=\"url(#clip7702)\" style=\"fill:#000000; stroke:none; fill-opacity:1\" cx=\"793.413\" cy=\"246.126\" r=\"4\"/>\n",
       "<circle clip-path=\"url(#clip7702)\" style=\"fill:#009af9; stroke:none; fill-opacity:1\" cx=\"793.413\" cy=\"246.126\" r=\"3\"/>\n",
       "<circle clip-path=\"url(#clip7702)\" style=\"fill:#000000; stroke:none; fill-opacity:1\" cx=\"813.41\" cy=\"359.559\" r=\"4\"/>\n",
       "<circle clip-path=\"url(#clip7702)\" style=\"fill:#009af9; stroke:none; fill-opacity:1\" cx=\"813.41\" cy=\"359.559\" r=\"3\"/>\n",
       "<circle clip-path=\"url(#clip7702)\" style=\"fill:#000000; stroke:none; fill-opacity:1\" cx=\"830.074\" cy=\"318.723\" r=\"4\"/>\n",
       "<circle clip-path=\"url(#clip7702)\" style=\"fill:#009af9; stroke:none; fill-opacity:1\" cx=\"830.074\" cy=\"318.723\" r=\"3\"/>\n",
       "<circle clip-path=\"url(#clip7702)\" style=\"fill:#000000; stroke:none; fill-opacity:1\" cx=\"860.07\" cy=\"278.492\" r=\"4\"/>\n",
       "<circle clip-path=\"url(#clip7702)\" style=\"fill:#009af9; stroke:none; fill-opacity:1\" cx=\"860.07\" cy=\"278.492\" r=\"3\"/>\n",
       "<circle clip-path=\"url(#clip7702)\" style=\"fill:#000000; stroke:none; fill-opacity:1\" cx=\"883.4\" cy=\"246.126\" r=\"4\"/>\n",
       "<circle clip-path=\"url(#clip7702)\" style=\"fill:#009af9; stroke:none; fill-opacity:1\" cx=\"883.4\" cy=\"246.126\" r=\"3\"/>\n",
       "<circle clip-path=\"url(#clip7702)\" style=\"fill:#000000; stroke:none; fill-opacity:1\" cx=\"903.397\" cy=\"322.958\" r=\"4\"/>\n",
       "<circle clip-path=\"url(#clip7702)\" style=\"fill:#009af9; stroke:none; fill-opacity:1\" cx=\"903.397\" cy=\"322.958\" r=\"3\"/>\n",
       "<circle clip-path=\"url(#clip7702)\" style=\"fill:#000000; stroke:none; fill-opacity:1\" cx=\"933.392\" cy=\"286.659\" r=\"4\"/>\n",
       "<circle clip-path=\"url(#clip7702)\" style=\"fill:#009af9; stroke:none; fill-opacity:1\" cx=\"933.392\" cy=\"286.659\" r=\"3\"/>\n",
       "<circle clip-path=\"url(#clip7702)\" style=\"fill:#000000; stroke:none; fill-opacity:1\" cx=\"940.058\" cy=\"286.659\" r=\"4\"/>\n",
       "<circle clip-path=\"url(#clip7702)\" style=\"fill:#009af9; stroke:none; fill-opacity:1\" cx=\"940.058\" cy=\"286.659\" r=\"3\"/>\n",
       "<circle clip-path=\"url(#clip7702)\" style=\"fill:#000000; stroke:none; fill-opacity:1\" cx=\"976.719\" cy=\"246.126\" r=\"4\"/>\n",
       "<circle clip-path=\"url(#clip7702)\" style=\"fill:#009af9; stroke:none; fill-opacity:1\" cx=\"976.719\" cy=\"246.126\" r=\"3\"/>\n",
       "<polygon clip-path=\"url(#clip7702)\" points=\"\n",
       "56.8551,355.642 66.1466,349.612 75.4382,347.459 84.7297,347.319 94.0213,348.015 103.313,349.073 112.604,350.409 121.896,352.04 131.188,353.885 140.479,355.686 \n",
       "  149.771,357.039 159.062,357.504 168.354,356.741 177.645,354.62 186.937,351.288 196.228,347.182 205.52,343.009 214.812,339.709 224.103,338.394 233.395,340.268 \n",
       "  242.686,346.518 251.978,358.169 261.269,375.934 270.561,400.063 279.852,430.248 289.144,465.587 298.436,504.637 307.727,545.544 317.019,586.221 326.31,624.538 \n",
       "  335.602,658.503 344.893,686.403 354.185,706.907 363.476,719.124 372.768,722.629 382.059,717.448 391.351,704.024 400.643,683.154 409.934,655.903 419.226,623.506 \n",
       "  428.517,587.275 437.809,548.504 447.1,508.412 456.392,468.097 465.683,428.531 474.975,390.563 484.267,354.947 493.558,322.354 502.85,293.388 512.141,268.576 \n",
       "  521.433,248.349 530.724,233.019 540.016,222.749 549.307,217.539 558.599,217.212 567.891,221.421 577.182,229.637 586.474,241.159 595.765,255.109 605.057,270.453 \n",
       "  614.348,286.052 623.64,300.758 632.931,313.532 642.223,323.569 651.515,330.392 660.806,333.901 670.098,334.353 679.389,332.309 688.681,328.54 697.972,323.935 \n",
       "  707.264,319.408 716.555,315.824 725.847,313.92 735.139,314.232 744.43,317.018 753.722,322.215 763.013,329.435 772.305,338.017 781.596,347.131 790.888,355.916 \n",
       "  800.179,363.604 809.471,369.625 818.763,373.659 828.054,375.64 837.346,375.728 846.637,374.253 855.929,371.655 865.22,368.423 874.512,365.031 883.803,361.887 \n",
       "  893.095,359.272 902.387,357.29 911.678,355.838 920.97,354.608 930.261,353.155 939.553,351.045 948.844,348.077 958.136,344.534 967.427,341.35 976.719,340.004 \n",
       "  976.719,173.941 967.427,188.343 958.136,198.094 948.844,204.51 939.553,208.728 930.261,211.556 920.97,213.547 911.678,215.126 902.387,216.665 893.095,218.49 \n",
       "  883.803,220.826 874.512,223.737 865.22,227.074 855.929,230.477 846.637,233.431 837.346,235.361 828.054,235.747 818.763,234.235 809.471,230.709 800.179,225.322 \n",
       "  790.888,218.468 781.596,210.732 772.305,202.804 763.013,195.401 753.722,189.188 744.43,184.708 735.139,182.322 725.847,182.149 716.555,184.023 707.264,187.48 \n",
       "  697.972,191.802 688.681,196.099 679.389,199.438 670.098,200.976 660.806,200.067 651.515,196.326 642.223,189.643 632.931,180.175 623.64,168.311 614.348,154.646 \n",
       "  605.057,139.957 595.765,125.173 586.474,111.337 577.182,99.541 567.891,90.8289 558.599,86.1073 549.307,86.068 540.016,91.149 530.724,101.533 521.433,117.177 \n",
       "  512.141,137.85 502.85,163.181 493.558,192.692 484.267,225.814 474.975,261.906 465.683,300.247 456.392,340.039 447.1,380.398 437.809,420.354 428.517,458.847 \n",
       "  419.226,494.734 409.934,526.81 400.643,553.842 391.351,574.632 382.059,588.103 372.768,593.402 363.476,590.012 354.185,577.855 344.893,557.352 335.602,529.447 \n",
       "  326.31,495.549 317.019,457.435 307.727,417.095 298.436,376.573 289.144,337.804 279.852,302.476 270.561,271.931 261.269,247.091 251.978,228.409 242.686,215.857 \n",
       "  233.395,208.942 224.103,206.768 214.812,208.155 205.52,211.783 196.228,216.366 186.937,220.804 177.645,224.287 168.354,226.34 159.062,226.801 149.771,225.764 \n",
       "  140.479,223.506 131.188,220.45 121.896,217.125 112.604,214.133 103.313,212.062 94.0213,211.339 84.7297,212.01 75.4382,213.466 66.1466,214.189 56.8551,211.835 \n",
       "  \n",
       "  \" fill=\"#e26f46\" fill-opacity=\"0.5\"/>\n",
       "<polyline clip-path=\"url(#clip7702)\" style=\"stroke:#e26f46; stroke-width:1; stroke-opacity:1; fill:none\" points=\"\n",
       "  56.8551,283.739 66.1466,281.9 75.4382,280.463 84.7297,279.664 94.0213,279.677 103.313,280.567 112.604,282.271 121.896,284.583 131.188,287.168 140.479,289.596 \n",
       "  149.771,291.401 159.062,292.153 168.354,291.54 177.645,289.453 186.937,286.046 196.228,281.774 205.52,277.396 214.812,273.932 224.103,272.581 233.395,274.605 \n",
       "  242.686,281.188 251.978,293.289 261.269,311.512 270.561,335.997 279.852,366.362 289.144,401.695 298.436,440.605 307.727,481.319 317.019,521.828 326.31,560.044 \n",
       "  335.602,593.975 344.893,621.878 354.185,642.381 363.476,654.568 372.768,658.015 382.059,652.775 391.351,639.328 400.643,618.498 409.934,591.357 419.226,559.12 \n",
       "  428.517,523.061 437.809,484.429 447.1,444.405 456.392,404.068 465.683,364.389 474.975,326.235 484.267,290.381 493.558,257.523 502.85,228.285 512.141,203.213 \n",
       "  521.433,182.763 530.724,167.276 540.016,156.949 549.307,151.803 558.599,151.66 567.891,156.125 577.182,164.589 586.474,176.248 595.765,190.141 605.057,205.205 \n",
       "  614.348,220.349 623.64,234.535 632.931,246.853 642.223,256.606 651.515,263.359 660.806,266.984 670.098,267.665 679.389,265.873 688.681,262.319 697.972,257.868 \n",
       "  707.264,253.444 716.555,249.923 725.847,248.035 735.139,248.277 744.43,250.863 753.722,255.701 763.013,262.418 772.305,270.411 781.596,278.932 790.888,287.192 \n",
       "  800.179,294.463 809.471,300.167 818.763,303.947 828.054,305.693 837.346,305.544 846.637,303.842 855.929,301.066 865.22,297.748 874.512,294.384 883.803,291.357 \n",
       "  893.095,288.881 902.387,286.978 911.678,285.482 920.97,284.078 930.261,282.356 939.553,279.886 948.844,276.293 958.136,271.314 967.427,264.847 976.719,256.972 \n",
       "  \n",
       "  \"/>\n",
       "<polygon clip-path=\"url(#clip7700)\" points=\"\n",
       "742.756,123.176 973.595,123.176 973.595,77.8161 742.756,77.8161 \n",
       "  \" fill=\"#ffffff\" fill-opacity=\"1\"/>\n",
       "<polyline clip-path=\"url(#clip7700)\" style=\"stroke:#000000; stroke-width:1; stroke-opacity:1; fill:none\" points=\"\n",
       "  742.756,123.176 973.595,123.176 973.595,77.8161 742.756,77.8161 742.756,123.176 \n",
       "  \"/>\n",
       "<circle clip-path=\"url(#clip7700)\" style=\"fill:#000000; stroke:none; fill-opacity:1\" cx=\"788.836\" cy=\"92.9361\" r=\"6\"/>\n",
       "<circle clip-path=\"url(#clip7700)\" style=\"fill:#009af9; stroke:none; fill-opacity:1\" cx=\"788.836\" cy=\"92.9361\" r=\"5\"/>\n",
       "<g clip-path=\"url(#clip7700)\">\n",
       "<text style=\"fill:#000000; fill-opacity:1; font-family:Arial,Helvetica Neue,Helvetica,sans-serif; font-size:12; text-anchor:start;\" transform=\"rotate(0, 824.676, 97.4361)\" x=\"824.676\" y=\"97.4361\">observations</text>\n",
       "</g>\n",
       "<polyline clip-path=\"url(#clip7700)\" style=\"stroke:#e26f46; stroke-width:1; stroke-opacity:1; fill:none\" points=\"\n",
       "  752.996,108.056 814.436,108.056 \n",
       "  \"/>\n",
       "<g clip-path=\"url(#clip7700)\">\n",
       "<text style=\"fill:#000000; fill-opacity:1; font-family:Arial,Helvetica Neue,Helvetica,sans-serif; font-size:12; text-anchor:start;\" transform=\"rotate(0, 824.676, 112.556)\" x=\"824.676\" y=\"112.556\">full GP with 95% interval</text>\n",
       "</g>\n",
       "</svg>\n"
      ]
     },
     "execution_count": 16,
     "metadata": {},
     "output_type": "execute_result"
    }
   ],
   "source": [
    "scatter(X, y, label = \"observations\", title = \"Full GP with SE Kernel and LLH: $(gp.target)\")\n",
    "plot!(linspace(minimum(X),maximum(X),100), μ, ribbon=2*sqrt.(σ²), label = \"full GP with 95% interval\")"
   ]
  },
  {
   "cell_type": "code",
   "execution_count": 17,
   "metadata": {},
   "outputs": [
    {
     "data": {
      "text/plain": [
       "(10000,)"
      ]
     },
     "execution_count": 17,
     "metadata": {},
     "output_type": "execute_result"
    }
   ],
   "source": [
    "yhat = reduce(vcat, [rand(gp, linspace(minimum(X),maximum(X),100)) for k in 1:100]);\n",
    "yhat += rand() * 0.2\n",
    "size(yhat)"
   ]
  },
  {
   "cell_type": "code",
   "execution_count": 18,
   "metadata": {},
   "outputs": [],
   "source": [
    "μ, σ = predict_y(gp,linspace(minimum(X),maximum(X),100));\n",
    "yhat = reduce(hcat, [rand(gp, linspace(minimum(X),maximum(X),100)) for k in 1:100]);\n",
    "\n",
    "scatter(X, y, label = \"observations\", title = \"Full GP with SE Kernel and LLH: $(gp.target)\")\n",
    "plot!(reduce(hcat, [linspace(minimum(X),maximum(X),100) for k in 1:100]), yhat, markersize = 2, markerstrokewidth = 0, legend =false)\n",
    "plot!(linspace(minimum(X),maximum(X),100), μ + 2*σ, color = :green, w = 4, label = \"Full GP mean + 2*std\")\n",
    "plot!(linspace(minimum(X),maximum(X),100), μ - 2*σ, color = :green, w = 4, label = \"Full GP mean - 2*std\")\n",
    "savefig(\"../plots/full_gp_draws.png\")"
   ]
  },
  {
   "cell_type": "markdown",
   "metadata": {},
   "source": [
    "## optimize a full GP"
   ]
  },
  {
   "cell_type": "code",
   "execution_count": 19,
   "metadata": {},
   "outputs": [
    {
     "data": {
      "text/plain": [
       "Results of Optimization Algorithm\n",
       " * Algorithm: L-BFGS\n",
       " * Starting Point: [-2.0,1.6094379124341003,0.0]\n",
       " * Minimizer: [-1.2282746156639477,1.6156825479807913, ...]\n",
       " * Minimum: 3.510034e+01\n",
       " * Iterations: 12\n",
       " * Convergence: true\n",
       "   * |x - x'| < 1.0e-32: false\n",
       "   * |f(x) - f(x')| / |f(x)| < 1.0e-32: false\n",
       "   * |g(x)| < 1.0e-08: true\n",
       "   * f(x) > f(x'): false\n",
       "   * Reached Maximum Number of Iterations: false\n",
       " * Objective Function Calls: 56\n",
       " * Gradient Calls: 56"
      ]
     },
     "execution_count": 19,
     "metadata": {},
     "output_type": "execute_result"
    }
   ],
   "source": [
    "optimize!(gp)"
   ]
  },
  {
   "cell_type": "code",
   "execution_count": 20,
   "metadata": {},
   "outputs": [
    {
     "data": {
      "text/html": [
       "-35.100343169513074"
      ],
      "text/plain": [
       "-35.100343169513074"
      ]
     },
     "execution_count": 20,
     "metadata": {},
     "output_type": "execute_result"
    }
   ],
   "source": [
    "gp.target"
   ]
  },
  {
   "cell_type": "code",
   "execution_count": 21,
   "metadata": {},
   "outputs": [],
   "source": [
    "μ, σ² = predict_y(gp,linspace(minimum(X),maximum(X),100));"
   ]
  },
  {
   "cell_type": "code",
   "execution_count": 22,
   "metadata": {},
   "outputs": [],
   "source": [
    "scatter(X, y, label = \"observations\", title = \"Marginal LLH optimized full GP with SE Kernel and LLH: $(gp.target)\")\n",
    "plot!(linspace(minimum(X),maximum(X),100), μ, ribbon=2*sqrt.(σ²), label = \"optimized full GP with 95% interval\")\n",
    "savefig(\"../plots/optimized_fullGP.png\")"
   ]
  },
  {
   "cell_type": "markdown",
   "metadata": {},
   "source": [
    "# Make a SPN with GP leaves"
   ]
  },
  {
   "cell_type": "code",
   "execution_count": 23,
   "metadata": {},
   "outputs": [
    {
     "data": {
      "text/html": [
       "0"
      ],
      "text/plain": [
       "0"
      ]
     },
     "execution_count": 23,
     "metadata": {},
     "output_type": "execute_result"
    }
   ],
   "source": [
    "global gID = 0"
   ]
  },
  {
   "cell_type": "markdown",
   "metadata": {},
   "source": [
    "Hand-coded 2-layer example"
   ]
  },
  {
   "cell_type": "code",
   "execution_count": 24,
   "metadata": {},
   "outputs": [],
   "source": [
    "srand(12345678)\n",
    "K = 10;\n",
    "numSamples = 0.25;\n",
    "meanFunction = MeanZero();\n",
    "kernelFunction = SE(log(5.0),log(1.0));\n",
    "noise = -1.;"
   ]
  },
  {
   "cell_type": "code",
   "execution_count": 29,
   "metadata": {},
   "outputs": [],
   "source": [
    "root = GPSumNode(nextID(), Int[]);\n",
    "\n",
    "for k in 1:K\n",
    "    \n",
    "    # make random (1D) split\n",
    "    split = rand() * maximum(X) + minimum(X)\n",
    "    n = min(sum(X .>= split), sum(X .< split))\n",
    "    c = 0\n",
    "    \n",
    "    while n < (N * numSamples)\n",
    "        @assert c < 100 \"Could not find a split\"\n",
    "        split = rand() * maximum(X) + minimum(X)\n",
    "        n = min(sum(X .>= split), sum(X .< split))\n",
    "        c += 1\n",
    "    end\n",
    "    \n",
    "    child = FiniteSplitNode(nextID(), Float64[split])\n",
    "    \n",
    "    # append two GP leaves\n",
    "    leaf1 = GPLeaf{Any}(nextID(),\n",
    "            GP(reshape(X[X .<= split], 1, sum(X .<= split)), y[X .<= split], meanFunction, kernelFunction, noise))\n",
    "    leaf1.parents = SPNNode[]\n",
    "    \n",
    "    leaf2 = GPLeaf{Any}(nextID(),\n",
    "            GP(reshape(X[X .> split], 1, sum(X .> split)), y[X .> split], meanFunction, kernelFunction, noise))\n",
    "    leaf2.parents = SPNNode[]\n",
    "    \n",
    "    add!(child, leaf1)\n",
    "    add!(child, leaf2)\n",
    "    \n",
    "    add!(root, child)\n",
    "end"
   ]
  },
  {
   "cell_type": "markdown",
   "metadata": {},
   "source": [
    "## Visualize splits"
   ]
  },
  {
   "cell_type": "code",
   "execution_count": 30,
   "metadata": {},
   "outputs": [],
   "source": [
    "plt = scatter(X, y, label = \"observations\", title = \"Random splits of SPN-GP\")\n",
    "plotSplits!(plt, getAllSplits(root))\n",
    "savefig(\"../plots/randomSplits.png\")"
   ]
  },
  {
   "cell_type": "markdown",
   "metadata": {},
   "source": [
    "## Likelihood of product nodes"
   ]
  },
  {
   "cell_type": "code",
   "execution_count": 38,
   "metadata": {},
   "outputs": [
    {
     "ename": "LoadError",
     "evalue": "\u001b[91mUndefVarError: spn_predict not defined\u001b[39m",
     "output_type": "error",
     "traceback": [
      "\u001b[91mUndefVarError: spn_predict not defined\u001b[39m",
      "",
      "Stacktrace:",
      " [1] \u001b[1mmacro expansion\u001b[22m\u001b[22m at \u001b[1m./In[38]:4\u001b[22m\u001b[22m [inlined]",
      " [2] \u001b[1manonymous\u001b[22m\u001b[22m at \u001b[1m./<missing>:?\u001b[22m\u001b[22m",
      " [3] \u001b[1minclude_string\u001b[22m\u001b[22m\u001b[1m(\u001b[22m\u001b[22m::String, ::String\u001b[1m)\u001b[22m\u001b[22m at \u001b[1m./loading.jl:522\u001b[22m\u001b[22m"
     ]
    }
   ],
   "source": [
    "\n",
    "for (pi, pnode) in enumerate(root.children)\n",
    "    \n",
    "    μ, σ² = spn_predict(pnode, linspace(minimum(X),maximum(X),100));\n",
    "    \n",
    "    plt = scatter(X, y, label = \"observations\", title =\"Prediction of product node $(pi), w: $(root.posterior_weights[pi]), LLH: $(spn_likelihood(pnode))\")\n",
    "    plot!(plt, linspace(minimum(X),maximum(X),100), μ, ribbon=2*sqrt.(σ²), label = \"MoE GP with 95% interval\")\n",
    "    plotSplits!(plt, getAllSplits(pnode))\n",
    "    savefig(\"../plots/productNode$(pi).png\")\n",
    "\n",
    "end"
   ]
  },
  {
   "cell_type": "markdown",
   "metadata": {},
   "source": [
    "## Compute likelihoods"
   ]
  },
  {
   "cell_type": "code",
   "execution_count": 39,
   "metadata": {},
   "outputs": [
    {
     "data": {
      "text/html": [
       "-41.135026567609316"
      ],
      "text/plain": [
       "-41.135026567609316"
      ]
     },
     "execution_count": 39,
     "metadata": {},
     "output_type": "execute_result"
    }
   ],
   "source": [
    "# test\n",
    "n = GPLeaf{Any}(0, GP(reshape(X, 1, N), y, meanFunction, kernelFunction, noise))\n",
    "spn_likelihood(n)"
   ]
  },
  {
   "cell_type": "code",
   "execution_count": 40,
   "metadata": {},
   "outputs": [
    {
     "data": {
      "text/html": [
       "-43.86502087845119"
      ],
      "text/plain": [
       "-43.86502087845119"
      ]
     },
     "execution_count": 40,
     "metadata": {},
     "output_type": "execute_result"
    }
   ],
   "source": [
    "# test\n",
    "n = root.children[3]\n",
    "spn_likelihood(n)"
   ]
  },
  {
   "cell_type": "code",
   "execution_count": 41,
   "metadata": {},
   "outputs": [
    {
     "data": {
      "text/html": [
       "-42.66525472240039"
      ],
      "text/plain": [
       "-42.66525472240039"
      ]
     },
     "execution_count": 41,
     "metadata": {},
     "output_type": "execute_result"
    }
   ],
   "source": [
    "# test\n",
    "spn_likelihood(root)"
   ]
  },
  {
   "cell_type": "markdown",
   "metadata": {},
   "source": [
    "## Update posterior weights"
   ]
  },
  {
   "cell_type": "code",
   "execution_count": 42,
   "metadata": {},
   "outputs": [],
   "source": [
    "root.prior_weights = ones(length(root)) / length(root);"
   ]
  },
  {
   "cell_type": "code",
   "execution_count": 44,
   "metadata": {},
   "outputs": [
    {
     "data": {
      "text/html": [
       "-42.374565858981555"
      ],
      "text/plain": [
       "-42.374565858981555"
      ]
     },
     "execution_count": 44,
     "metadata": {},
     "output_type": "execute_result"
    }
   ],
   "source": [
    "spn_update!(root)"
   ]
  },
  {
   "cell_type": "code",
   "execution_count": 45,
   "metadata": {},
   "outputs": [
    {
     "name": "stdout",
     "output_type": "stream",
     "text": [
      "Gaussian Process Sum Node [ID: 32, \n",
      "\t w_prior: [0.1, 0.1, 0.1, 0.1, 0.1, 0.1, 0.1, 0.1, 0.1, 0.1], \n",
      "\t w_posterior: [0.109, 0.074, 0.023, 0.097, 0.126, 0.104, 0.237, 0.1, 0.097, 0.034]]\n"
     ]
    }
   ],
   "source": [
    "println(root)"
   ]
  },
  {
   "cell_type": "markdown",
   "metadata": {},
   "source": [
    "## Predictions under the model"
   ]
  },
  {
   "cell_type": "code",
   "execution_count": 46,
   "metadata": {},
   "outputs": [
    {
     "ename": "LoadError",
     "evalue": "\u001b[91mUndefVarError: spn_predict not defined\u001b[39m",
     "output_type": "error",
     "traceback": [
      "\u001b[91mUndefVarError: spn_predict not defined\u001b[39m",
      "",
      "Stacktrace:",
      " [1] \u001b[1minclude_string\u001b[22m\u001b[22m\u001b[1m(\u001b[22m\u001b[22m::String, ::String\u001b[1m)\u001b[22m\u001b[22m at \u001b[1m./loading.jl:522\u001b[22m\u001b[22m"
     ]
    }
   ],
   "source": [
    "# test\n",
    "n = root.children[3]\n",
    "μ, σ² = spn_predict(n, linspace(minimum(X),maximum(X),100));\n",
    "\n",
    "plt = scatter(X, y, label = \"observations\", title =\"Prediction of product node 3 only\")\n",
    "plot!(plt, linspace(minimum(X),maximum(X),100), μ, ribbon=2*sqrt.(σ²), label = \"MoE GP with 95% interval\")\n",
    "plotSplits!(plt, getAllSplits(n))\n",
    "savefig(\"../plots/productNode3.png\")"
   ]
  },
  {
   "cell_type": "code",
   "execution_count": 47,
   "metadata": {},
   "outputs": [],
   "source": [
    "@assert sum(root.prior_weights) ≈ 1.\n",
    "@assert sum(root.posterior_weights) ≈ 1."
   ]
  },
  {
   "cell_type": "code",
   "execution_count": 48,
   "metadata": {},
   "outputs": [
    {
     "ename": "LoadError",
     "evalue": "\u001b[91mUndefVarError: spn_predict not defined\u001b[39m",
     "output_type": "error",
     "traceback": [
      "\u001b[91mUndefVarError: spn_predict not defined\u001b[39m",
      "",
      "Stacktrace:",
      " [1] \u001b[1minclude_string\u001b[22m\u001b[22m\u001b[1m(\u001b[22m\u001b[22m::String, ::String\u001b[1m)\u001b[22m\u001b[22m at \u001b[1m./loading.jl:522\u001b[22m\u001b[22m"
     ]
    }
   ],
   "source": [
    "# test\n",
    "n = root\n",
    "μ, σ² = spn_predict(n, linspace(minimum(X),maximum(X),100));\n",
    "\n",
    "plt = scatter(X, y, label = \"observations\", title=\"SPN-GP with $(K) splits and LLH: $(spn_likelihood(root))\")\n",
    "plot!(plt, linspace(minimum(X),maximum(X),100), μ, ribbon=2*sqrt.(σ²), label = \"SPN-GP with 95% interval\")\n",
    "plotSplits!(plt, getAllSplits(n))\n",
    "savefig(\"../plots/spn_gp.png\")"
   ]
  },
  {
   "cell_type": "markdown",
   "metadata": {},
   "source": [
    "## Print SPN"
   ]
  },
  {
   "cell_type": "code",
   "execution_count": 49,
   "metadata": {},
   "outputs": [
    {
     "ename": "LoadError",
     "evalue": "\u001b[91mUndefVarError: order not defined\u001b[39m",
     "output_type": "error",
     "traceback": [
      "\u001b[91mUndefVarError: order not defined\u001b[39m",
      "",
      "Stacktrace:",
      " [1] \u001b[1manonymous\u001b[22m\u001b[22m at \u001b[1m./<missing>:?\u001b[22m\u001b[22m",
      " [2] \u001b[1minclude_string\u001b[22m\u001b[22m\u001b[1m(\u001b[22m\u001b[22m::String, ::String\u001b[1m)\u001b[22m\u001b[22m at \u001b[1m./loading.jl:522\u001b[22m\u001b[22m"
     ]
    }
   ],
   "source": [
    "rDepth = depth(root)\n",
    "for node in reverse(SumProductNetworks.order(root))\n",
    "    print(repeat(\"\\t\", rDepth - depth(node)), \" \", node, \"\\n\")\n",
    "end"
   ]
  },
  {
   "cell_type": "markdown",
   "metadata": {},
   "source": [
    "## Create SPN-GP with flexible depth"
   ]
  },
  {
   "cell_type": "code",
   "execution_count": 50,
   "metadata": {},
   "outputs": [
    {
     "ename": "LoadError",
     "evalue": "\u001b[91mUndefVarError: SPNParameters not defined\u001b[39m",
     "output_type": "error",
     "traceback": [
      "\u001b[91mUndefVarError: SPNParameters not defined\u001b[39m",
      "",
      "Stacktrace:",
      " [1] \u001b[1minclude_string\u001b[22m\u001b[22m\u001b[1m(\u001b[22m\u001b[22m::String, ::String\u001b[1m)\u001b[22m\u001b[22m at \u001b[1m./loading.jl:522\u001b[22m\u001b[22m"
     ]
    }
   ],
   "source": [
    "K = 5;\n",
    "numSamples = 0.25;\n",
    "minSamples = 40;\n",
    "meanFunction = MeanZero();\n",
    "kernelFunction = SE(log(5.0),log(1.0));\n",
    "noise = -1.;\n",
    "maximumDepth = 1\n",
    "\n",
    "param = SPNParameters(K, numSamples, minSamples, kernelFunction, meanFunction, noise)\n",
    "\n",
    "root = makeSumNode(X, y, param, 1, maximumDepth)"
   ]
  },
  {
   "cell_type": "code",
   "execution_count": 595,
   "metadata": {},
   "outputs": [
    {
     "data": {
      "text/html": [
       "-42.29047283482476"
      ],
      "text/plain": [
       "-42.29047283482476"
      ]
     },
     "execution_count": 595,
     "metadata": {},
     "output_type": "execute_result"
    }
   ],
   "source": [
    "spn_update(root)"
   ]
  },
  {
   "cell_type": "code",
   "execution_count": 596,
   "metadata": {},
   "outputs": [
    {
     "data": {
      "text/html": [
       "-42.29047283482476"
      ],
      "text/plain": [
       "-42.29047283482476"
      ]
     },
     "execution_count": 596,
     "metadata": {},
     "output_type": "execute_result"
    }
   ],
   "source": [
    "spn_likelihood(root)"
   ]
  },
  {
   "cell_type": "code",
   "execution_count": 570,
   "metadata": {},
   "outputs": [
    {
     "data": {
      "text/plain": [
       "Gaussian Process Sum Node [ID: 3051258, \n",
       "\t w_prior: [0.1, 0.1, 0.1, 0.1, 0.1, 0.1, 0.1, 0.1, 0.1, 0.1], \n",
       "\t w_posterior: [0.181, 0.028, 0.08, 0.134, 0.176, 0.016, 0.026, 0.071, 0.198, 0.09]]"
      ]
     },
     "execution_count": 570,
     "metadata": {},
     "output_type": "execute_result"
    }
   ],
   "source": [
    "root"
   ]
  },
  {
   "cell_type": "code",
   "execution_count": 571,
   "metadata": {},
   "outputs": [
    {
     "data": {
      "text/html": [
       "4"
      ],
      "text/plain": [
       "4"
      ]
     },
     "execution_count": 571,
     "metadata": {},
     "output_type": "execute_result"
    }
   ],
   "source": [
    "depth(root)"
   ]
  },
  {
   "cell_type": "code",
   "execution_count": 572,
   "metadata": {},
   "outputs": [
    {
     "data": {
      "text/html": [
       "21"
      ],
      "text/plain": [
       "21"
      ]
     },
     "execution_count": 572,
     "metadata": {},
     "output_type": "execute_result"
    }
   ],
   "source": [
    "sum(isa.(SumProductNetworks.order(root), SumNode))"
   ]
  },
  {
   "cell_type": "code",
   "execution_count": 525,
   "metadata": {
    "collapsed": true
   },
   "outputs": [],
   "source": [
    "# test\n",
    "n = root\n",
    "μ, σ² = spn_predict(n, linspace(minimum(X),maximum(X),100));\n",
    "\n",
    "\n",
    "plt = scatter(X, y, label = \"observations\", title=\"SPN-GP with depth $(depth(root)) and $(K) splits and LLH: $(spn_likelihood(root))\")\n",
    "plot!(plt, linspace(minimum(X),maximum(X),100), μ, ribbon=2*sqrt.(σ²), label = \"SPN-GP with 95% interval\")\n",
    "#plotSplits!(plt, getSplits(n, 1))\n",
    "savefig(\"../plots/deep_spn_gp.png\")\n",
    "\n",
    "plt = scatter(X, y, label = \"observations\", title=\"SPN-GP with depth $(depth(root)) and $(K) splits and LLH: $(spn_likelihood(root))\")\n",
    "plot!(plt, linspace(minimum(X),maximum(X),100), μ, ribbon=2*sqrt.(σ²), label = \"SPN-GP with 95% interval\")\n",
    "plotSplits!(plt, getSplits(n, 1))\n",
    "savefig(\"../plots/deep_spn_gp_splits.png\")"
   ]
  },
  {
   "cell_type": "code",
   "execution_count": 500,
   "metadata": {},
   "outputs": [
    {
     "data": {
      "text/plain": [
       "spn2graphviz (generic function with 1 method)"
      ]
     },
     "execution_count": 500,
     "metadata": {},
     "output_type": "execute_result"
    }
   ],
   "source": [
    "include(\"../../infinitesumproductnetworks/src/plotSPN.jl\")"
   ]
  },
  {
   "cell_type": "code",
   "execution_count": 552,
   "metadata": {},
   "outputs": [
    {
     "name": "stdout",
     "output_type": "stream",
     "text": [
      "Gaussian Process Sum Node [ID: 3035894, \n",
      "\t w_prior: [0.02, 0.02, 0.02, 0.02, 0.02, 0.02, 0.02, 0.02, 0.02, 0.02, 0.02, 0.02, 0.02, 0.02, 0.02, 0.02, 0.02, 0.02, 0.02, 0.02, 0.02, 0.02, 0.02, 0.02, 0.02, 0.02, 0.02, 0.02, 0.02, 0.02, 0.02, 0.02, 0.02, 0.02, 0.02, 0.02, 0.02, 0.02, 0.02, 0.02, 0.02, 0.02, 0.02, 0.02, 0.02, 0.02, 0.02, 0.02, 0.02, 0.02], \n",
      "\t w_posterior: [0.03, 0.03, 0.026, 0.019, 0.029, 0.007, 0.014, 0.012, 0.022, 0.007, 0.007, 0.009, 0.032, 0.028, 0.006, 0.017, 0.016, 0.007, 0.016, 0.023, 0.032, 0.021, 0.018, 0.028, 0.019, 0.085, 0.006, 0.008, 0.029, 0.007, 0.006, 0.018, 0.029, 0.03, 0.03, 0.026, 0.02, 0.007, 0.007, 0.03, 0.027, 0.021, 0.018, 0.006, 0.034, 0.027, 0.008, 0.007, 0.022, 0.017]]"
     ]
    }
   ],
   "source": [
    "print(root)"
   ]
  },
  {
   "cell_type": "markdown",
   "metadata": {},
   "source": [
    "## some plots"
   ]
  },
  {
   "cell_type": "markdown",
   "metadata": {},
   "source": [
    "#### Flat SPN"
   ]
  },
  {
   "cell_type": "code",
   "execution_count": 652,
   "metadata": {},
   "outputs": [
    {
     "data": {
      "text/html": [
       "-42.75693752401281"
      ],
      "text/plain": [
       "-42.75693752401281"
      ]
     },
     "execution_count": 652,
     "metadata": {},
     "output_type": "execute_result"
    }
   ],
   "source": [
    "K = 10000;\n",
    "numSamples = 0.25;\n",
    "minSamples = 40;\n",
    "meanFunction = MeanZero();\n",
    "kernelFunction = SE(log(5.0),log(1.0));\n",
    "noise = -1.;\n",
    "maximumDepth = 1\n",
    "\n",
    "param = SPNParameters(K, numSamples, minSamples, kernelFunction, meanFunction, noise)\n",
    "\n",
    "root = makeSumNode(X, y, param, 1, maximumDepth)\n",
    "spn_update(root)"
   ]
  },
  {
   "cell_type": "code",
   "execution_count": null,
   "metadata": {
    "collapsed": true
   },
   "outputs": [],
   "source": [
    "for K in [5, 50, 500, 5_000, 10_000, 50_000]\n",
    "\n",
    "    numSamples = 0.25;\n",
    "    minSamples = 40;\n",
    "    meanFunction = MeanZero();\n",
    "    kernelFunction = SE(log(5.0),log(1.0));\n",
    "    noise = -1.;\n",
    "    maximumDepth = 3\n",
    "\n",
    "    param = SPNParameters(K, numSamples, minSamples, kernelFunction, meanFunction, noise)\n",
    "\n",
    "    root = makeSumNode(X, y, param, 1, maximumDepth)\n",
    "    spn_update(root)\n",
    "\n",
    "    S = 100\n",
    "\n",
    "    x = linspace(minimum(X),maximum(X),100)\n",
    "    xx = reduce(hcat, x for k in 1:S)\n",
    "    yy = reduce(hcat, spn_rand(root, x) for k in 1:S)\n",
    "\n",
    "    μ, σ = predict_y(gp,linspace(minimum(X),maximum(X),100));\n",
    "\n",
    "    plt = scatter(X, y, label = \"observations\", legend = false)\n",
    "    plot!(xx, yy, markersize = 2, markerstrokewidth = 0, label = \"Posterior samples from SPN-GP\");\n",
    "    plot!(linspace(minimum(X),maximum(X),100), w =4, μ + 2*σ, color = :green, label = \"Full GP mean + 2*std\")\n",
    "    plot!(linspace(minimum(X),maximum(X),100), w =4, μ - 2*σ, color = :green, label = \"Full GP mean - 2*std\")\n",
    "    \n",
    "    splits = [child.split[1] for child in children(root)]\n",
    "    \n",
    "    vline!([minimum(splits), maximum(splits)], color = :yellow, w = 4)\n",
    "\n",
    "    plot(plt, size = (1024, 1024), title=\"SPN-GPs with differen $(K) splits\")\n",
    "    savefig(\"../plots/spn_gp_splits_$(K)_$(maximumDepth).png\")\n",
    "    \n",
    "end"
   ]
  },
  {
   "cell_type": "code",
   "execution_count": 670,
   "metadata": {
    "collapsed": true
   },
   "outputs": [],
   "source": [
    "plot(\n",
    "histogram([child.split[1] for child in children(root)], weightss = root.posterior_weights, title= \"posterior weighted\"), \n",
    "histogram([child.split[1] for child in children(root)], title = \"prior over splits\"))\n",
    "savefig(\"../plots/split_weights.png\")"
   ]
  },
  {
   "cell_type": "markdown",
   "metadata": {},
   "source": [
    "#### Deep SPN"
   ]
  },
  {
   "cell_type": "code",
   "execution_count": 625,
   "metadata": {},
   "outputs": [
    {
     "data": {
      "text/html": [
       "-47.93831375543295"
      ],
      "text/plain": [
       "-47.93831375543295"
      ]
     },
     "execution_count": 625,
     "metadata": {},
     "output_type": "execute_result"
    }
   ],
   "source": [
    "K = 5;\n",
    "numSamples = 0.25;\n",
    "minSamples = 40;\n",
    "meanFunction = MeanZero();\n",
    "kernelFunction = SE(log(5.0),log(1.0));\n",
    "noise = -1.;\n",
    "maximumDepth = 100\n",
    "\n",
    "param = SPNParameters(K, numSamples, minSamples, kernelFunction, meanFunction, noise)\n",
    "\n",
    "root = makeSumNode(X, y, param, 1, maximumDepth)\n",
    "spn_update(root)"
   ]
  },
  {
   "cell_type": "code",
   "execution_count": 631,
   "metadata": {
    "collapsed": true
   },
   "outputs": [],
   "source": [
    "S = 100\n",
    "\n",
    "x = linspace(minimum(X),maximum(X),100)\n",
    "xx = reduce(hcat, x for k in 1:S)\n",
    "yy = reduce(hcat, spn_rand(root, x) for k in 1:S)\n",
    "\n",
    "μ, σ = predict_y(gp,linspace(minimum(X),maximum(X),100));\n",
    "\n",
    "plt1 = scatter(X, y, label = \"observations\", legend = false)\n",
    "plot!(xx, yy, markersize = 2, markerstrokewidth = 0, label = \"Posterior samples from SPN-GP\");\n",
    "plot!(linspace(minimum(X),maximum(X),100), μ + 2*σ, color = :green, label = \"Full GP mean + 2*std\")\n",
    "plot!(linspace(minimum(X),maximum(X),100), μ - 2*σ, color = :green, label = \"Full GP mean - 2*std\")\n",
    "\n",
    "plt2 = scatter(X, y, label = \"observations\")\n",
    "plot!(xx, yy, markersize = 2, markerstrokewidth = 0, label = \"Posterior samples from SPN-GP\");\n",
    "plot!(linspace(minimum(X),maximum(X),100), μ + 2*σ, color = :green, label = \"Full GP mean + 2*std\")\n",
    "plot!(linspace(minimum(X),maximum(X),100), μ - 2*σ, color = :green, label = \"Full GP mean - 2*std\")\n",
    "plotSplits!(plt2, getAllSplits(root))\n",
    "\n",
    "plot(plt1, plt2, size = (2024, 768), title=\"SPN-GP with depth $(depth(root) - 1) and $(K) splits per sum node (LLH: $(spn_likelihood(root)))\")\n",
    "savefig(\"../plots/spn_gp_deep.png\")"
   ]
  }
 ],
 "metadata": {
  "anaconda-cloud": {},
  "kernelspec": {
   "display_name": "Julia 0.6.2",
   "language": "julia",
   "name": "julia-0.6"
  },
  "language_info": {
   "file_extension": ".jl",
   "mimetype": "application/julia",
   "name": "julia",
   "version": "0.6.2"
  }
 },
 "nbformat": 4,
 "nbformat_minor": 2
}
