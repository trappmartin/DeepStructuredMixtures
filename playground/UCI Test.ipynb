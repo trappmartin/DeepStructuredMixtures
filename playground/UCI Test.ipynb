{
 "cells": [
  {
   "cell_type": "code",
   "execution_count": 42,
   "metadata": {},
   "outputs": [
    {
     "data": {
      "text/plain": [
       "optimize2! (generic function with 1 method)"
      ]
     },
     "execution_count": 42,
     "metadata": {},
     "output_type": "execute_result"
    }
   ],
   "source": [
    "using GaussianProcesses, PGFPlots, SumProductNetworks\n",
    "using StatsFuns, Distributions, JLD, ProgressMeter, MultivariateStats, FileIO\n",
    "import SumProductNetworks.add!\n",
    "\n",
    "include(\"utilFunctions.jl\")\n",
    "include(\"dataTypes.jl\")\n",
    "include(\"dataTypeUtilFunctions.jl\")\n",
    "include(\"computationFunctions.jl\")\n",
    "include(\"regionGraph.jl\")\n",
    "include(\"regionGraphUtils.jl\")\n",
    "include(\"gpUtils.jl\")"
   ]
  },
  {
   "cell_type": "code",
   "execution_count": 84,
   "metadata": {},
   "outputs": [
    {
     "data": {
      "text/plain": [
       "\"ccpp\""
      ]
     },
     "execution_count": 84,
     "metadata": {},
     "output_type": "execute_result"
    }
   ],
   "source": [
    "dataset = \"ccpp\""
   ]
  },
  {
   "cell_type": "code",
   "execution_count": 85,
   "metadata": {},
   "outputs": [],
   "source": [
    "f = File(format\"JLD\",\"../data/uci/$(dataset)\")\n",
    "data = JLD.load(f);\n",
    "\n",
    "X = Float64.(data[\"X\"])\n",
    "y = Float64.(data[\"y\"]);\n",
    "\n",
    "#Axis([\n",
    "#        PGFPlots.Linear(X[:,1], y[:, 1], onlyMarks=true)\n",
    "#    ])"
   ]
  },
  {
   "cell_type": "code",
   "execution_count": 87,
   "metadata": {},
   "outputs": [
    {
     "data": {
      "text/plain": [
       "(9568, 4)"
      ]
     },
     "execution_count": 87,
     "metadata": {},
     "output_type": "execute_result"
    }
   ],
   "source": [
    "size(X)"
   ]
  },
  {
   "cell_type": "code",
   "execution_count": 58,
   "metadata": {},
   "outputs": [
    {
     "name": "stdout",
     "output_type": "stream",
     "text": [
      "Mean: 16.702849359856497\n",
      "LLS: 10.74452093240198\n",
      "Ridge: 10.745208852871137\n"
     ]
    }
   ],
   "source": [
    "run = 1\n",
    "\n",
    "N = size(X, 1)\n",
    "Int(ceil(N * 0.8)) # 80 / 20 split\n",
    "\n",
    "Ntrain = Int(ceil(N * 0.8))\n",
    "Dy = size(y, 2)\n",
    "\n",
    "srand(1234)\n",
    "ids = collect(1:size(X, 1))\n",
    "trainingIds = shuffle(ids)[1:Ntrain]\n",
    "testingIds = shuffle(setdiff(ids, trainingIds));\n",
    "\n",
    "Xtest = X[testingIds,:]\n",
    "ytest = y[testingIds, :]\n",
    "\n",
    "Xtrain = X[trainingIds, :]\n",
    "ytrain = y[trainingIds, :];\n",
    "\n",
    "# mean prediction\n",
    "meanY = mean(ytrain,1)\n",
    "rmse_mean = sqrt(mean((ytest .- meanY).^2))\n",
    "println(\"Mean: \", rmse_mean)\n",
    "\n",
    "# LLS prediction\n",
    "a = llsq(Xtrain, ytrain, bias = false)\n",
    "\n",
    "yhat = Xtest * a\n",
    "rmse_lls = sqrt(mean((yhat .- ytest).^2))\n",
    "println(\"LLS: \", rmse_lls)\n",
    "\n",
    "# ridge regression prediction\n",
    "α = 0.01\n",
    "a = ridge(Xtrain, ytrain, α, bias = false)\n",
    "\n",
    "yhat = Xtest * a\n",
    "rmse_ridge = sqrt(mean((yhat .- ytest).^2))\n",
    "println(\"Ridge: \", rmse_ridge)"
   ]
  },
  {
   "cell_type": "code",
   "execution_count": 66,
   "metadata": {},
   "outputs": [
    {
     "name": "stdout",
     "output_type": "stream",
     "text": [
      "GP (noise fixed): 6.469543997270663\n",
      "GP (noise opt): 6.469543997270663\n"
     ]
    }
   ],
   "source": [
    "# gaussian process regression (if N < 1000)\n",
    "rmse_gp_fixed_noise = Inf\n",
    "rmse_gp_opt_noise = Inf\n",
    "\n",
    "if Ntrain < 1000\n",
    "    mZero = MeanZero()\n",
    "    kern = SE(-1.0,0.0) \n",
    "    logObsNoise = -1.0\n",
    "\n",
    "    yhat_fixed = zeros(size(ytest))\n",
    "    yhat_opt = zeros(size(ytest))\n",
    "\n",
    "    for yi in 1:Dy\n",
    "\n",
    "        # fixed noise\n",
    "        gp_fixed = GP(Xtrain', vec(ytrain[:,yi]), MeanZero(), SE(-1.0,0.0), -1.)\n",
    "        #optimize2!(gp_fixed, mean = false, kern = true, noise = false, lik=false, iterations = 1, lowerBound = -100, upperBound = 100)\n",
    "        #set_priors!(gp_fixed.k, [Normal(-1.0,1.0),Normal(0.0,1.0)])\n",
    "\n",
    "        #samples = mcmc(gp_fixed, nIter=100,burnin=0,thin=10);\n",
    "        \n",
    "        μ, σ² = predict_y(gp_fixed, Xtest')\n",
    "        yhat_fixed[:,yi] = μ\n",
    "\n",
    "        # optimized noise\n",
    "        gp_opt = GP(Xtrain', vec(ytrain[:,yi]), MeanZero(), SE(-1.0,0.0), -1.)\n",
    "        #optimize2!(gp_opt, mean = false, kern = true, noise = false, lik=false)\n",
    "\n",
    "        μ, σ² = predict_y(gp_opt, Xtest');\n",
    "        yhat_opt[:,yi] = μ\n",
    "    end\n",
    "\n",
    "    rmse_gp_fixed_noise = sqrt(mean((yhat_fixed .- ytest).^2))\n",
    "    rmse_gp_opt_noise = sqrt(mean((yhat_opt .- ytest).^2))\n",
    "end\n",
    "\n",
    "println(\"GP (noise fixed): \", rmse_gp_fixed_noise)\n",
    "println(\"GP (noise opt): \", rmse_gp_opt_noise)"
   ]
  },
  {
   "cell_type": "code",
   "execution_count": 73,
   "metadata": {},
   "outputs": [
    {
     "name": "stdout",
     "output_type": "stream",
     "text": [
      "Samples: 49\n",
      "Samples: 775\n",
      "Samples: 398\n",
      "Samples: 426\n",
      "Samples: 776\n",
      "Samples: 48\n"
     ]
    }
   ],
   "source": [
    "global gID = 1\n",
    "\n",
    "numSums = 1\n",
    "meanFunction = MeanZero();\n",
    "kernelFunctions = [LinIso(log(5.0)), SE(-1., 0.), Mat32Iso(log(5.0), log(1.0))]\n",
    "\n",
    "kernelPriors = []\n",
    "\n",
    "noise = -1.;\n",
    "\n",
    "# data range\n",
    "minX = vec(minimum(X, 1)) - 0.1\n",
    "maxX = vec(maximum(X, 1)) + 0.1\n",
    "\n",
    "# split size\n",
    "δ = (maxX - minX) ./ 4\n",
    "\n",
    "# maximum depth\n",
    "max_depth = 1\n",
    "min_samples = 500\n",
    "\n",
    "overlap = 0.0\n",
    "\n",
    "(rootRegion, sumRegions, gpRegions, allPartitions) = poonDomingos_ND(δ, minX, maxX, max_depth, min_samples, Xtrain);\n",
    "\n",
    "RegionIDs = Dict(r[2] => r[1] for r in enumerate(union(sumRegions, gpRegions)));\n",
    "PartitionIDS = Dict(p[2] => p[1] + maximum(values(RegionIDs)) for p in enumerate(allPartitions));"
   ]
  },
  {
   "cell_type": "code",
   "execution_count": 74,
   "metadata": {},
   "outputs": [],
   "source": [
    "yhat_fixed = zeros(size(ytest))\n",
    "yhat_opt = zeros(size(ytest))\n",
    "\n",
    "for yi in 1:Dy\n",
    "\n",
    "    root_ = convertToSPN_ND(rootRegion, gpRegions, RegionIDs, PartitionIDS, Xtrain, ytrain[:,yi], meanFunction, \n",
    "                    kernelFunctions, kernelPriors, noise; overlap = overlap, do_mcmc = false)\n",
    "    \n",
    "    gpnodes = unique(filter(n -> isa(n, GPLeaf), SumProductNetworks.getOrderedNodes(root_)));\n",
    "    #map(gnode -> optimize2!(gnode.gp, mean = false, kern = true, noise = true, lik=false), gpnodes);\n",
    "\n",
    "    fill!(root_.prior_weights, 1. / length(root_))\n",
    "    fill!(root_.posterior_weights, 1. / length(root_))\n",
    "\n",
    "    spn_update!(root_)\n",
    "    spn_posterior(root_)\n",
    "\n",
    "    μ = predict_spn!(root_, Xtest);\n",
    "    yhat_fixed[:,yi] = μ\n",
    "end"
   ]
  },
  {
   "cell_type": "code",
   "execution_count": 75,
   "metadata": {},
   "outputs": [
    {
     "data": {
      "text/html": [
       "6.358368481348373"
      ],
      "text/plain": [
       "6.358368481348373"
      ]
     },
     "execution_count": 75,
     "metadata": {},
     "output_type": "execute_result"
    }
   ],
   "source": [
    "rmse_spn_fixed_noise = sqrt(mean((yhat_fixed .- ytest).^2))"
   ]
  }
 ],
 "metadata": {
  "anaconda-cloud": {},
  "kernelspec": {
   "display_name": "Julia 0.6.2",
   "language": "julia",
   "name": "julia-0.6"
  },
  "language_info": {
   "file_extension": ".jl",
   "mimetype": "application/julia",
   "name": "julia",
   "version": "0.6.2"
  }
 },
 "nbformat": 4,
 "nbformat_minor": 2
}
