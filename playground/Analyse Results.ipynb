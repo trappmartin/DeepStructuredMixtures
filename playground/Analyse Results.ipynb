{
 "cells": [
  {
   "cell_type": "markdown",
   "metadata": {},
   "source": [
    "# Energy"
   ]
  },
  {
   "cell_type": "code",
   "execution_count": 77,
   "metadata": {},
   "outputs": [],
   "source": [
    "using JLD, FileIO"
   ]
  },
  {
   "cell_type": "code",
   "execution_count": 82,
   "metadata": {},
   "outputs": [
    {
     "name": "stdout",
     "output_type": "stream",
     "text": [
      "Input dimension: (768, 8)\n",
      "Output dimension: (768, 2)\n"
     ]
    }
   ],
   "source": [
    "f = File(format\"JLD\",\"../data/uci/energy\")\n",
    "data = JLD.load(f);\n",
    "println(\"Input dimension: \", size(data[\"X\"]))\n",
    "println(\"Output dimension: \", size(data[\"y\"]))"
   ]
  },
  {
   "cell_type": "code",
   "execution_count": 83,
   "metadata": {},
   "outputs": [],
   "source": [
    "files = map(i -> \"energy_$(i).csv\", 1:5);"
   ]
  },
  {
   "cell_type": "code",
   "execution_count": 84,
   "metadata": {},
   "outputs": [
    {
     "data": {
      "text/plain": [
       "5×5 Array{Float64,2}:\n",
       " 10.1809   3.1203   3.119    2.02348  2.3187 \n",
       "  9.55063  3.05243  3.05173  2.11569  2.57756\n",
       "  9.94643  3.41418  3.41419  2.15133  2.30241\n",
       "  9.38786  3.33076  3.33045  2.03239  2.03221\n",
       "  9.78676  3.3593   3.35922  1.94144  1.94145"
      ]
     },
     "execution_count": 84,
     "metadata": {},
     "output_type": "execute_result"
    }
   ],
   "source": [
    "X = mapreduce(file -> readcsv(file), hcat, files)'"
   ]
  },
  {
   "cell_type": "markdown",
   "metadata": {},
   "source": [
    "header:\n",
    "* mean\n",
    "* LLS\n",
    "* Ridge\n",
    "* GP\n",
    "* SPN-GP "
   ]
  },
  {
   "cell_type": "code",
   "execution_count": 85,
   "metadata": {},
   "outputs": [
    {
     "name": "stdout",
     "output_type": "stream",
     "text": [
      "Mean & $9.77 \\pm 0.14$\n",
      "LLS & $3.26 \\pm 0.07$\n",
      "Ridge & $3.25 \\pm 0.07$\n",
      "GP & $2.05 \\pm 0.04$\n",
      "SPN-GP & $2.23 \\pm 0.11$\n"
     ]
    }
   ],
   "source": [
    "μ = mean(X, 1)\n",
    "σ = std(X, 1) ./ sqrt(size(X, 1))\n",
    "\n",
    "header = [\"Mean\", \"LLS\", \"Ridge\", \"GP\", \"SPN-GP\"]\n",
    "\n",
    "for (i, method) in enumerate(header)\n",
    "    println(method, \" & \\$\", @sprintf(\"%0.2f\", μ[i]), \" \\\\pm \", @sprintf(\"%0.2f\", σ[i]) ,\"\\$\")\n",
    "end"
   ]
  },
  {
   "cell_type": "markdown",
   "metadata": {},
   "source": [
    "Mean & $9.77 \\pm 0.14$\n",
    "LLS & $3.26 \\pm 0.07$\n",
    "Ridge & $3.25 \\pm 0.07$\n",
    "GP & $2.05 \\pm 0.04$\n",
    "SPN-GP & $2.07 \\pm 0.04$"
   ]
  },
  {
   "cell_type": "markdown",
   "metadata": {},
   "source": [
    "# Concrete"
   ]
  },
  {
   "cell_type": "code",
   "execution_count": 90,
   "metadata": {},
   "outputs": [
    {
     "name": "stdout",
     "output_type": "stream",
     "text": [
      "Input dimension: (1030, 8)\n",
      "Output dimension: (1030, 1)\n"
     ]
    }
   ],
   "source": [
    "f = File(format\"JLD\",\"../data/uci/concrete\")\n",
    "data = JLD.load(f);\n",
    "println(\"Input dimension: \", size(data[\"X\"]))\n",
    "println(\"Output dimension: \", size(data[\"y\"]))"
   ]
  },
  {
   "cell_type": "code",
   "execution_count": 91,
   "metadata": {},
   "outputs": [],
   "source": [
    "files = map(i -> \"concrete_$(i).csv\", 1:5);"
   ]
  },
  {
   "cell_type": "code",
   "execution_count": 92,
   "metadata": {},
   "outputs": [
    {
     "data": {
      "text/plain": [
       "5×5 Array{Float64,2}:\n",
       " 16.4522   9.55099   9.55226  6.17692  6.17644\n",
       " 16.6221  10.7554   10.7566   6.38719  6.38748\n",
       " 16.7283  10.386    10.3835   6.40419  6.39088\n",
       " 16.2798  10.9258   10.9256   6.54563  6.55544\n",
       " 16.1821  10.0504   10.0506   5.73197  5.72963"
      ]
     },
     "execution_count": 92,
     "metadata": {},
     "output_type": "execute_result"
    }
   ],
   "source": [
    "X = mapreduce(file -> readcsv(file), hcat, files)'"
   ]
  },
  {
   "cell_type": "code",
   "execution_count": 94,
   "metadata": {},
   "outputs": [
    {
     "name": "stdout",
     "output_type": "stream",
     "text": [
      "Mean & $16.453 \\pm 0.10$\n",
      "LLS & $10.334 \\pm 0.25$\n",
      "Ridge & $10.334 \\pm 0.25$\n",
      "GP & $6.249 \\pm 0.14$\n",
      "SPN-GP & $6.248 \\pm 0.14$\n"
     ]
    }
   ],
   "source": [
    "μ = mean(X, 1)\n",
    "σ = std(X, 1) ./ sqrt(size(X, 1))\n",
    "\n",
    "header = [\"Mean\", \"LLS\", \"Ridge\", \"GP\", \"SPN-GP\"]\n",
    "\n",
    "for (i, method) in enumerate(header)\n",
    "    println(method, \" & \\$\", @sprintf(\"%0.3f\", μ[i]), \" \\\\pm \", @sprintf(\"%0.2f\", σ[i]) ,\"\\$\")\n",
    "end"
   ]
  },
  {
   "cell_type": "markdown",
   "metadata": {},
   "source": [
    "Mean & $16.45 \\pm 0.10$\n",
    "LLS & $10.33 \\pm 0.25$\n",
    "Ridge & $10.33 \\pm 0.25$\n",
    "GP & $6.25 \\pm 0.14$\n",
    "SPN-GP & $6.27 \\pm 0.20$"
   ]
  },
  {
   "cell_type": "markdown",
   "metadata": {},
   "source": [
    "# CCPP"
   ]
  },
  {
   "cell_type": "code",
   "execution_count": 114,
   "metadata": {},
   "outputs": [
    {
     "name": "stdout",
     "output_type": "stream",
     "text": [
      "Input dimension: (9568, 4)\n",
      "Output dimension: (9568, 1)\n"
     ]
    }
   ],
   "source": [
    "f = File(format\"JLD\",\"../data/uci/ccpp\")\n",
    "data = JLD.load(f);\n",
    "println(\"Input dimension: \", size(data[\"X\"]))\n",
    "println(\"Output dimension: \", size(data[\"y\"]))"
   ]
  },
  {
   "cell_type": "code",
   "execution_count": 115,
   "metadata": {},
   "outputs": [],
   "source": [
    "files = map(i -> \"ccpp_$(i).csv\", 1:5);"
   ]
  },
  {
   "cell_type": "code",
   "execution_count": 116,
   "metadata": {},
   "outputs": [
    {
     "data": {
      "text/plain": [
       "5×5 Array{Float64,2}:\n",
       " 17.1013  4.74048  4.74046  Inf  4.2355 \n",
       " 16.9897  4.67634  4.67632  Inf  4.15439\n",
       " 17.0008  4.64335  4.64335  Inf  4.11521\n",
       " 17.0746  4.63464  4.63464  Inf  4.08591\n",
       " 16.7967  4.47135  4.47134  Inf  3.96136"
      ]
     },
     "execution_count": 116,
     "metadata": {},
     "output_type": "execute_result"
    }
   ],
   "source": [
    "X = mapreduce(file -> readcsv(file), hcat, files)'"
   ]
  },
  {
   "cell_type": "code",
   "execution_count": 117,
   "metadata": {},
   "outputs": [
    {
     "name": "stdout",
     "output_type": "stream",
     "text": [
      "Mean & $16.99 \\pm 0.05$\n",
      "LLS & $4.63 \\pm 0.04$\n",
      "Ridge & $4.63 \\pm 0.04$\n",
      "GP & $Inf \\pm NaN$\n",
      "SPN-GP & $4.11 \\pm 0.04$\n"
     ]
    }
   ],
   "source": [
    "μ = mean(X, 1)\n",
    "σ = std(X, 1) ./ sqrt(size(X, 1))\n",
    "\n",
    "header = [\"Mean\", \"LLS\", \"Ridge\", \"GP\", \"SPN-GP\"]\n",
    "\n",
    "for (i, method) in enumerate(header)\n",
    "    println(method, \" & \\$\", @sprintf(\"%0.2f\", μ[i]), \" \\\\pm \", @sprintf(\"%0.2f\", σ[i]) ,\"\\$\")\n",
    "end"
   ]
  },
  {
   "cell_type": "code",
   "execution_count": 118,
   "metadata": {},
   "outputs": [
    {
     "data": {
      "text/plain": [
       "100"
      ]
     },
     "execution_count": 118,
     "metadata": {},
     "output_type": "execute_result"
    }
   ],
   "source": [
    "10^2"
   ]
  }
 ],
 "metadata": {
  "anaconda-cloud": {},
  "kernelspec": {
   "display_name": "Julia 0.6.2",
   "language": "julia",
   "name": "julia-0.6"
  },
  "language_info": {
   "file_extension": ".jl",
   "mimetype": "application/julia",
   "name": "julia",
   "version": "0.6.2"
  }
 },
 "nbformat": 4,
 "nbformat_minor": 2
}
