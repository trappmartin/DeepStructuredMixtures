{
 "cells": [
  {
   "cell_type": "code",
   "execution_count": 1,
   "metadata": {},
   "outputs": [],
   "source": [
    "using DataFrames, JLD"
   ]
  },
  {
   "cell_type": "code",
   "execution_count": 2,
   "metadata": {},
   "outputs": [],
   "source": [
    "data_planes = readtable(\"../../../../datasets/us_flight_2008/plane-data.csv\");"
   ]
  },
  {
   "cell_type": "code",
   "execution_count": 3,
   "metadata": {},
   "outputs": [],
   "source": [
    "data = readtable(\"../../../../datasets/us_flight_2008/2008.csv\");"
   ]
  },
  {
   "cell_type": "code",
   "execution_count": 4,
   "metadata": {},
   "outputs": [],
   "source": [
    "jdata = join(data, data_planes, on = :TailNum);"
   ]
  },
  {
   "cell_type": "markdown",
   "metadata": {},
   "source": [
    "According to Deisenroth & Ng (2015), Gal et al. (2014) and Hensman et al (2013) we use the following columns:\n",
    "\n",
    "* age of aircraft (Year - year) in years\n",
    "* distance to be covered (Distance)\n",
    "* airtime (AirTime)\n",
    "* departure time (DepTime)\n",
    "* arrival time (ArrTime)\n",
    "* day of the week (DayOfWeek)\n",
    "* day of the month (DayOfMonth)\n",
    "* month (Month)\n",
    "\n",
    "to predict the flight delay (in minutes):\n",
    "\n",
    "* ArrDelay ?"
   ]
  },
  {
   "cell_type": "code",
   "execution_count": 5,
   "metadata": {},
   "outputs": [
    {
     "data": {
      "text/plain": [
       "2-element Array{Symbol,1}:\n",
       " :ArrDelay\n",
       " :DepDelay"
      ]
     },
     "execution_count": 5,
     "metadata": {},
     "output_type": "execute_result"
    }
   ],
   "source": [
    "covariate_columns = [:Year, :year, :Distance, :AirTime, :DepTime, :ArrTime, :DayOfWeek, :DayofMonth, :Month]\n",
    "covariate_columns_2 = [:Distance, :AirTime, :DepTime, :ArrTime, :DayOfWeek, :DayofMonth, :Month]\n",
    "y_column = [:ArrDelay, :DepDelay]"
   ]
  },
  {
   "cell_type": "code",
   "execution_count": 6,
   "metadata": {},
   "outputs": [],
   "source": [
    "s = mapreduce(column -> isna.(jdata[column]), hcat, cat(1, covariate_columns, y_column));\n",
    "idx = find(.!any(s, 2));"
   ]
  },
  {
   "cell_type": "code",
   "execution_count": 7,
   "metadata": {},
   "outputs": [],
   "source": [
    "jdata2 = jdata[idx,:];"
   ]
  },
  {
   "cell_type": "code",
   "execution_count": 13,
   "metadata": {},
   "outputs": [],
   "source": [
    "X = jdata2[:, covariate_columns];\n",
    "y = jdata2[:, y_column];"
   ]
  },
  {
   "cell_type": "code",
   "execution_count": 14,
   "metadata": {},
   "outputs": [],
   "source": [
    "age = Array(X[:,:Year]) - Array(X[:,:year]);"
   ]
  },
  {
   "cell_type": "code",
   "execution_count": 15,
   "metadata": {},
   "outputs": [],
   "source": [
    "X = hcat(age, Array(X[:,covariate_columns_2]));"
   ]
  },
  {
   "cell_type": "code",
   "execution_count": 16,
   "metadata": {},
   "outputs": [
    {
     "data": {
      "text/plain": [
       "(5932362, 2)"
      ]
     },
     "execution_count": 16,
     "metadata": {},
     "output_type": "execute_result"
    }
   ],
   "source": [
    "size(y)"
   ]
  },
  {
   "cell_type": "code",
   "execution_count": 17,
   "metadata": {},
   "outputs": [
    {
     "data": {
      "text/plain": [
       "(5932362, 2)"
      ]
     },
     "execution_count": 17,
     "metadata": {},
     "output_type": "execute_result"
    }
   ],
   "source": [
    "y = Array(y);\n",
    "size(y)"
   ]
  },
  {
   "cell_type": "markdown",
   "metadata": {},
   "source": [
    "## store to file"
   ]
  },
  {
   "cell_type": "code",
   "execution_count": 12,
   "metadata": {},
   "outputs": [],
   "source": [
    "save(\"../../../../datasets/us_flight_2008/dataset_1M.jld\", \"X\", X, \"y\", y)"
   ]
  }
 ],
 "metadata": {
  "anaconda-cloud": {},
  "kernelspec": {
   "display_name": "Julia 0.6.2",
   "language": "julia",
   "name": "julia-0.6"
  },
  "language_info": {
   "file_extension": ".jl",
   "mimetype": "application/julia",
   "name": "julia",
   "version": "0.6.2"
  }
 },
 "nbformat": 4,
 "nbformat_minor": 2
}
