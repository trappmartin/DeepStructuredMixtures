{
 "cells": [
  {
   "cell_type": "code",
   "execution_count": 73,
   "metadata": {},
   "outputs": [
    {
     "data": {
      "text/plain": [
       "Results of Optimization Algorithm\n",
       " * Algorithm: BFGS\n",
       " * Starting Point: [0.0,0.0]\n",
       " * Minimizer: [0.9999999926033423,0.9999999852005353]\n",
       " * Minimum: 5.471433e-17\n",
       " * Iterations: 16\n",
       " * Convergence: true\n",
       "   * |x - x'| < 1.0e-32: false\n",
       "   * |f(x) - f(x')| / |f(x)| < 1.0e-32: false\n",
       "   * |g(x)| < 1.0e-08: true\n",
       "   * f(x) > f(x'): false\n",
       "   * Reached Maximum Number of Iterations: false\n",
       " * Objective Function Calls: 69\n",
       " * Gradient Calls: 69"
      ]
     },
     "execution_count": 73,
     "metadata": {},
     "output_type": "execute_result"
    }
   ],
   "source": [
    "using Optim, AutoGrad\n",
    "rosenbrock(x) =  (1.0 - x[1])^2 + 100.0 * (x[2] - x[1]^2)^2\n",
    "result = optimize(rosenbrock, zeros(2), BFGS())"
   ]
  },
  {
   "cell_type": "code",
   "execution_count": 74,
   "metadata": {},
   "outputs": [
    {
     "ename": "LoadError",
     "evalue": "\u001b[91mTypeError: Type{...} expression: expected UnionAll, got Type{Optim.Fminbox}\u001b[39m",
     "output_type": "error",
     "traceback": [
      "\u001b[91mTypeError: Type{...} expression: expected UnionAll, got Type{Optim.Fminbox}\u001b[39m",
      "",
      "Stacktrace:",
      " [1] \u001b[1minclude_string\u001b[22m\u001b[22m\u001b[1m(\u001b[22m\u001b[22m::String, ::String\u001b[1m)\u001b[22m\u001b[22m at \u001b[1m./loading.jl:522\u001b[22m\u001b[22m"
     ]
    }
   ],
   "source": [
    "optimize(rosenbrock, zeros(2), ones(2)*-2, ones(2)*2, Fminbox{GradientDescent}())"
   ]
  },
  {
   "cell_type": "code",
   "execution_count": 75,
   "metadata": {},
   "outputs": [
    {
     "name": "stdout",
     "output_type": "stream",
     "text": [
      "search: \u001b[1mo\u001b[22m\u001b[1mp\u001b[22m\u001b[1mt\u001b[22m\u001b[1mi\u001b[22m\u001b[1mm\u001b[22m\u001b[1mi\u001b[22m\u001b[1mz\u001b[22m\u001b[1me\u001b[22m \u001b[1mO\u001b[22m\u001b[1mp\u001b[22m\u001b[1mt\u001b[22m\u001b[1mi\u001b[22m\u001b[1mm\u001b[22m\u001b[1mi\u001b[22m\u001b[1mz\u001b[22mationTrac\u001b[1me\u001b[22m \u001b[1mO\u001b[22m\u001b[1mp\u001b[22m\u001b[1mt\u001b[22m\u001b[1mi\u001b[22m\u001b[1mm\u001b[22m\u001b[1mi\u001b[22m\u001b[1mz\u001b[22mationStat\u001b[1me\u001b[22m\n",
      "\n"
     ]
    },
    {
     "data": {
      "text/markdown": [
       "No documentation found.\n",
       "\n",
       "`Optim.optimize` is a `Function`.\n",
       "\n",
       "```\n",
       "# 25 methods for generic function \"optimize\":\n",
       "optimize(df::Optim.OnceDifferentiable, initial_x::Array{T,N} where N, l::Array{T,N} where N, u::Array{T,N} where N, ::Optim.Fminbox; x_tol, f_tol, g_tol, allow_f_increases, iterations, store_trace, show_trace, extended_trace, callback, show_every, linesearch!, linesearch, eta, mu0, mufactor, precondprep!, precondprep, optimizer, optimizer_o, nargs...) where T<:AbstractFloat in Optim at /Users/martin/.julia/v0.6/Optim/src/fminbox.jl:136\n",
       "optimize(d::Optim.OnceDifferentiable, initial_x::Array; kwargs...) in Optim at /Users/martin/.julia/v0.6/Optim/src/optimize.jl:32\n",
       "optimize(d::Optim.OnceDifferentiable, initial_x, options::Optim.Options) in Optim at /Users/martin/.julia/v0.6/Optim/src/optimize.jl:50\n",
       "optimize(d::Optim.OnceDifferentiable, initial_x::Array, method::Optim.Newton, options::Optim.Options) in Optim at /Users/martin/.julia/v0.6/Optim/src/optimize.jl:123\n",
       "optimize(d::Optim.OnceDifferentiable, initial_x::Array, method::Optim.NewtonTrustRegion, options::Optim.Options) in Optim at /Users/martin/.julia/v0.6/Optim/src/optimize.jl:136\n",
       "optimize(d::Optim.TwiceDifferentiable, initial_x::Array; kwargs...) in Optim at /Users/martin/.julia/v0.6/Optim/src/optimize.jl:45\n",
       "optimize(d::Optim.TwiceDifferentiable, initial_x, options::Optim.Options) in Optim at /Users/martin/.julia/v0.6/Optim/src/optimize.jl:51\n",
       "optimize(f::F, lower::T, upper::T; method, rel_tol, abs_tol, iterations, store_trace, show_trace, callback, show_every, extended_trace) where {F<:Function, T<:AbstractFloat} in Optim at /Users/martin/.julia/v0.6/Optim/src/optimize.jl:258\n",
       "optimize(f::F, x_lower::T, x_upper::T, mo::Optim.GoldenSection; rel_tol, abs_tol, iterations, store_trace, show_trace, callback, show_every, extended_trace, nargs...) where {F<:Function, T<:AbstractFloat} in Optim at /Users/martin/.julia/v0.6/Optim/src/golden_section.jl:36\n",
       "optimize(f::F, x_lower::T, x_upper::T, mo::Optim.Brent; rel_tol, abs_tol, iterations, store_trace, show_trace, callback, show_every, extended_trace) where {F<:Function, T<:AbstractFloat} in Optim at /Users/martin/.julia/v0.6/Optim/src/brent.jl:37\n",
       "optimize(f::F, initial_x::Array; kwargs...) where F<:Function in Optim at /Users/martin/.julia/v0.6/Optim/src/optimize.jl:23\n",
       "optimize(f::F, g!::G, initial_x::Array; kwargs...) where {F<:Function, G<:Function} in Optim at /Users/martin/.julia/v0.6/Optim/src/optimize.jl:28\n",
       "optimize(f::F, g!::G, h!::H, initial_x::Array; kwargs...) where {F<:Function, G<:Function, H<:Function} in Optim at /Users/martin/.julia/v0.6/Optim/src/optimize.jl:40\n",
       "optimize(d::Function, initial_x, options::Optim.Options) in Optim at /Users/martin/.julia/v0.6/Optim/src/optimize.jl:49\n",
       "optimize(f::F, g!::G, initial_x::Array, method::Optim.Optimizer) where {F<:Function, G<:Function} in Optim at /Users/martin/.julia/v0.6/Optim/src/optimize.jl:58\n",
       "optimize(f::F, g!::G, initial_x::Array, method::Optim.Optimizer, options::Optim.Options) where {F<:Function, G<:Function} in Optim at /Users/martin/.julia/v0.6/Optim/src/optimize.jl:58\n",
       "optimize(f::F, g!::G, initial_x::Array, options::Optim.Options) where {F<:Function, G<:Function} in Optim at /Users/martin/.julia/v0.6/Optim/src/optimize.jl:65\n",
       "optimize(f::F, g!::G, h!::H, initial_x::Array, method::Optim.Optimizer) where {F<:Function, G<:Function, H<:Function} in Optim at /Users/martin/.julia/v0.6/Optim/src/optimize.jl:75\n",
       "optimize(f::F, g!::G, h!::H, initial_x::Array, method::Optim.Optimizer, options::Optim.Options) where {F<:Function, G<:Function, H<:Function} in Optim at /Users/martin/.julia/v0.6/Optim/src/optimize.jl:75\n",
       "optimize(f::F, g!::G, h!::H, initial_x::Array, options) where {F<:Function, G<:Function, H<:Function} in Optim at /Users/martin/.julia/v0.6/Optim/src/optimize.jl:83\n",
       "optimize(f::F, initial_x::Array{T,N} where N, method::M, options::Optim.Options) where {F<:Function, T, M<:Union{Optim.AcceleratedGradientDescent, Optim.BFGS, Optim.ConjugateGradient, Optim.GradientDescent, Optim.LBFGS, Optim.MomentumGradientDescent, Optim.Newton, Optim.NewtonTrustRegion}} in Optim at /Users/martin/.julia/v0.6/Optim/src/optimize.jl:91\n",
       "optimize(f::F, lower::Real, upper::Real; kwargs...) where F<:Function in Optim at /Users/martin/.julia/v0.6/Optim/src/optimize.jl:280\n",
       "optimize(f::F, lower::Real, upper::Real, mo::Union{Optim.Brent, Optim.GoldenSection}; kwargs...) where F<:Function in Optim at /Users/martin/.julia/v0.6/Optim/src/optimize.jl:291\n",
       "optimize(d, initial_x::Array{T,N} where N, method::M) where {T, M<:Optim.Optimizer} in Optim at /Users/martin/.julia/v0.6/Optim/src/optimize.jl:165\n",
       "optimize(d, initial_x::Array{T,N} where N, method::M, options::Optim.Options) where {T, M<:Optim.Optimizer} in Optim at /Users/martin/.julia/v0.6/Optim/src/optimize.jl:165\n",
       "```\n"
      ],
      "text/plain": [
       "No documentation found.\n",
       "\n",
       "`Optim.optimize` is a `Function`.\n",
       "\n",
       "```\n",
       "# 25 methods for generic function \"optimize\":\n",
       "optimize(df::Optim.OnceDifferentiable, initial_x::Array{T,N} where N, l::Array{T,N} where N, u::Array{T,N} where N, ::Optim.Fminbox; x_tol, f_tol, g_tol, allow_f_increases, iterations, store_trace, show_trace, extended_trace, callback, show_every, linesearch!, linesearch, eta, mu0, mufactor, precondprep!, precondprep, optimizer, optimizer_o, nargs...) where T<:AbstractFloat in Optim at /Users/martin/.julia/v0.6/Optim/src/fminbox.jl:136\n",
       "optimize(d::Optim.OnceDifferentiable, initial_x::Array; kwargs...) in Optim at /Users/martin/.julia/v0.6/Optim/src/optimize.jl:32\n",
       "optimize(d::Optim.OnceDifferentiable, initial_x, options::Optim.Options) in Optim at /Users/martin/.julia/v0.6/Optim/src/optimize.jl:50\n",
       "optimize(d::Optim.OnceDifferentiable, initial_x::Array, method::Optim.Newton, options::Optim.Options) in Optim at /Users/martin/.julia/v0.6/Optim/src/optimize.jl:123\n",
       "optimize(d::Optim.OnceDifferentiable, initial_x::Array, method::Optim.NewtonTrustRegion, options::Optim.Options) in Optim at /Users/martin/.julia/v0.6/Optim/src/optimize.jl:136\n",
       "optimize(d::Optim.TwiceDifferentiable, initial_x::Array; kwargs...) in Optim at /Users/martin/.julia/v0.6/Optim/src/optimize.jl:45\n",
       "optimize(d::Optim.TwiceDifferentiable, initial_x, options::Optim.Options) in Optim at /Users/martin/.julia/v0.6/Optim/src/optimize.jl:51\n",
       "optimize(f::F, lower::T, upper::T; method, rel_tol, abs_tol, iterations, store_trace, show_trace, callback, show_every, extended_trace) where {F<:Function, T<:AbstractFloat} in Optim at /Users/martin/.julia/v0.6/Optim/src/optimize.jl:258\n",
       "optimize(f::F, x_lower::T, x_upper::T, mo::Optim.GoldenSection; rel_tol, abs_tol, iterations, store_trace, show_trace, callback, show_every, extended_trace, nargs...) where {F<:Function, T<:AbstractFloat} in Optim at /Users/martin/.julia/v0.6/Optim/src/golden_section.jl:36\n",
       "optimize(f::F, x_lower::T, x_upper::T, mo::Optim.Brent; rel_tol, abs_tol, iterations, store_trace, show_trace, callback, show_every, extended_trace) where {F<:Function, T<:AbstractFloat} in Optim at /Users/martin/.julia/v0.6/Optim/src/brent.jl:37\n",
       "optimize(f::F, initial_x::Array; kwargs...) where F<:Function in Optim at /Users/martin/.julia/v0.6/Optim/src/optimize.jl:23\n",
       "optimize(f::F, g!::G, initial_x::Array; kwargs...) where {F<:Function, G<:Function} in Optim at /Users/martin/.julia/v0.6/Optim/src/optimize.jl:28\n",
       "optimize(f::F, g!::G, h!::H, initial_x::Array; kwargs...) where {F<:Function, G<:Function, H<:Function} in Optim at /Users/martin/.julia/v0.6/Optim/src/optimize.jl:40\n",
       "optimize(d::Function, initial_x, options::Optim.Options) in Optim at /Users/martin/.julia/v0.6/Optim/src/optimize.jl:49\n",
       "optimize(f::F, g!::G, initial_x::Array, method::Optim.Optimizer) where {F<:Function, G<:Function} in Optim at /Users/martin/.julia/v0.6/Optim/src/optimize.jl:58\n",
       "optimize(f::F, g!::G, initial_x::Array, method::Optim.Optimizer, options::Optim.Options) where {F<:Function, G<:Function} in Optim at /Users/martin/.julia/v0.6/Optim/src/optimize.jl:58\n",
       "optimize(f::F, g!::G, initial_x::Array, options::Optim.Options) where {F<:Function, G<:Function} in Optim at /Users/martin/.julia/v0.6/Optim/src/optimize.jl:65\n",
       "optimize(f::F, g!::G, h!::H, initial_x::Array, method::Optim.Optimizer) where {F<:Function, G<:Function, H<:Function} in Optim at /Users/martin/.julia/v0.6/Optim/src/optimize.jl:75\n",
       "optimize(f::F, g!::G, h!::H, initial_x::Array, method::Optim.Optimizer, options::Optim.Options) where {F<:Function, G<:Function, H<:Function} in Optim at /Users/martin/.julia/v0.6/Optim/src/optimize.jl:75\n",
       "optimize(f::F, g!::G, h!::H, initial_x::Array, options) where {F<:Function, G<:Function, H<:Function} in Optim at /Users/martin/.julia/v0.6/Optim/src/optimize.jl:83\n",
       "optimize(f::F, initial_x::Array{T,N} where N, method::M, options::Optim.Options) where {F<:Function, T, M<:Union{Optim.AcceleratedGradientDescent, Optim.BFGS, Optim.ConjugateGradient, Optim.GradientDescent, Optim.LBFGS, Optim.MomentumGradientDescent, Optim.Newton, Optim.NewtonTrustRegion}} in Optim at /Users/martin/.julia/v0.6/Optim/src/optimize.jl:91\n",
       "optimize(f::F, lower::Real, upper::Real; kwargs...) where F<:Function in Optim at /Users/martin/.julia/v0.6/Optim/src/optimize.jl:280\n",
       "optimize(f::F, lower::Real, upper::Real, mo::Union{Optim.Brent, Optim.GoldenSection}; kwargs...) where F<:Function in Optim at /Users/martin/.julia/v0.6/Optim/src/optimize.jl:291\n",
       "optimize(d, initial_x::Array{T,N} where N, method::M) where {T, M<:Optim.Optimizer} in Optim at /Users/martin/.julia/v0.6/Optim/src/optimize.jl:165\n",
       "optimize(d, initial_x::Array{T,N} where N, method::M, options::Optim.Options) where {T, M<:Optim.Optimizer} in Optim at /Users/martin/.julia/v0.6/Optim/src/optimize.jl:165\n",
       "```\n"
      ]
     },
     "execution_count": 75,
     "metadata": {},
     "output_type": "execute_result"
    }
   ],
   "source": [
    "?optimize"
   ]
  },
  {
   "cell_type": "code",
   "execution_count": 69,
   "metadata": {},
   "outputs": [
    {
     "data": {
      "text/plain": [
       "wrosenbrock2 (generic function with 1 method)"
      ]
     },
     "execution_count": 69,
     "metadata": {},
     "output_type": "execute_result"
    }
   ],
   "source": [
    "wrosenbrock2(x) = (1.0 - x[1][1])^2 + 100.0 * (x[2][1] - x[1][1]^2)^2"
   ]
  },
  {
   "cell_type": "code",
   "execution_count": 11,
   "metadata": {},
   "outputs": [
    {
     "ename": "LoadError",
     "evalue": "\u001b[91mMethodError: no method matching finite_difference!(::#wrosenbrock, ::Array{Array{Float64,1},1}, ::Array{Array{Float64,1},1}, ::Symbol)\u001b[0m\nClosest candidates are:\n  finite_difference!(::Function, \u001b[91m::Array{S<:Number,1}\u001b[39m, \u001b[91m::Array{T<:Number,1}\u001b[39m, ::Symbol) where {S<:Number, T<:Number} at /Users/martin/.julia/v0.6/Calculus/src/finite_difference.jl:105\u001b[39m",
     "output_type": "error",
     "traceback": [
      "\u001b[91mMethodError: no method matching finite_difference!(::#wrosenbrock, ::Array{Array{Float64,1},1}, ::Array{Array{Float64,1},1}, ::Symbol)\u001b[0m\nClosest candidates are:\n  finite_difference!(::Function, \u001b[91m::Array{S<:Number,1}\u001b[39m, \u001b[91m::Array{T<:Number,1}\u001b[39m, ::Symbol) where {S<:Number, T<:Number} at /Users/martin/.julia/v0.6/Calculus/src/finite_difference.jl:105\u001b[39m",
      "",
      "Stacktrace:",
      " [1] \u001b[1mg!\u001b[22m\u001b[22m at \u001b[1m/Users/martin/.julia/v0.6/Optim/src/types.jl:192\u001b[22m\u001b[22m [inlined]",
      " [2] \u001b[1m(::Optim.#fg!#3{#wrosenbrock,Optim.#g!#2{#wrosenbrock}})\u001b[22m\u001b[22m\u001b[1m(\u001b[22m\u001b[22m::Array{Array{Float64,1},1}, ::Array{Array{Float64,1},1}\u001b[1m)\u001b[22m\u001b[22m at \u001b[1m/Users/martin/.julia/v0.6/Optim/src/types.jl:196\u001b[22m\u001b[22m",
      " [3] \u001b[1minitial_state\u001b[22m\u001b[22m\u001b[1m(\u001b[22m\u001b[22m::Optim.BFGS{LineSearches.#hagerzhang!,Optim.##37#39}, ::Optim.Options{Void}, ::Optim.OnceDifferentiable, ::Array{Array{Float64,1},1}\u001b[1m)\u001b[22m\u001b[22m at \u001b[1m/Users/martin/.julia/v0.6/Optim/src/bfgs.jl:38\u001b[22m\u001b[22m",
      " [4] \u001b[1moptimize\u001b[22m\u001b[22m\u001b[1m(\u001b[22m\u001b[22m::Optim.OnceDifferentiable, ::Array{Array{Float64,1},1}, ::Optim.BFGS{LineSearches.#hagerzhang!,Optim.##37#39}, ::Optim.Options{Void}\u001b[1m)\u001b[22m\u001b[22m at \u001b[1m/Users/martin/.julia/v0.6/Optim/src/optimize.jl:172\u001b[22m\u001b[22m",
      " [5] \u001b[1moptimize\u001b[22m\u001b[22m\u001b[1m(\u001b[22m\u001b[22m::#wrosenbrock, ::Array{Array{Float64,1},1}, ::Optim.BFGS{LineSearches.#hagerzhang!,Optim.##37#39}, ::Optim.Options{Void}\u001b[1m)\u001b[22m\u001b[22m at \u001b[1m/Users/martin/.julia/v0.6/Optim/src/optimize.jl:116\u001b[22m\u001b[22m",
      " [6] \u001b[1moptimize\u001b[22m\u001b[22m\u001b[1m(\u001b[22m\u001b[22m::Function, ::Array{Array{Float64,1},1}, ::Optim.BFGS{LineSearches.#hagerzhang!,Optim.##37#39}\u001b[1m)\u001b[22m\u001b[22m at \u001b[1m/Users/martin/.julia/v0.6/Optim/src/optimize.jl:165\u001b[22m\u001b[22m",
      " [7] \u001b[1minclude_string\u001b[22m\u001b[22m\u001b[1m(\u001b[22m\u001b[22m::String, ::String\u001b[1m)\u001b[22m\u001b[22m at \u001b[1m./loading.jl:522\u001b[22m\u001b[22m"
     ]
    }
   ],
   "source": [
    "init = Vector{Vector{Float64}}(0)\n",
    "push!(init, zeros(1))\n",
    "push!(init, zeros(1))\n",
    "result = optimize(wrosenbrock, init, BFGS())"
   ]
  },
  {
   "cell_type": "code",
   "execution_count": 31,
   "metadata": {},
   "outputs": [
    {
     "data": {
      "text/plain": [
       "1.0"
      ]
     },
     "execution_count": 31,
     "metadata": {},
     "output_type": "execute_result"
    }
   ],
   "source": [
    "init = Dict(:1 => zeros(Float32, 1), :2 => zeros(Float32, 1))\n",
    "wrosenbrock(init)"
   ]
  },
  {
   "cell_type": "code",
   "execution_count": 70,
   "metadata": {},
   "outputs": [
    {
     "data": {
      "text/plain": [
       "Dict{Any,Any} with 2 entries:\n",
       "  2 => [0.0]\n",
       "  1 => [0.0]"
      ]
     },
     "execution_count": 70,
     "metadata": {},
     "output_type": "execute_result"
    }
   ],
   "source": [
    "init = Dict();\n",
    "init[1] = map(Any, zeros(1))\n",
    "init[2] = map(Any, zeros(1))\n",
    "init"
   ]
  },
  {
   "cell_type": "code",
   "execution_count": 71,
   "metadata": {},
   "outputs": [
    {
     "data": {
      "text/plain": [
       "1.0"
      ]
     },
     "execution_count": 71,
     "metadata": {},
     "output_type": "execute_result"
    }
   ],
   "source": [
    "wrosenbrock2(init)"
   ]
  },
  {
   "cell_type": "code",
   "execution_count": 72,
   "metadata": {},
   "outputs": [
    {
     "data": {
      "text/plain": [
       "Dict{Any,Any} with 2 entries:\n",
       "  2 => [0.0]\n",
       "  1 => [-2.0]"
      ]
     },
     "execution_count": 72,
     "metadata": {},
     "output_type": "execute_result"
    }
   ],
   "source": [
    "gradfun = grad(wrosenbrock2)\n",
    "gradfun(init)"
   ]
  },
  {
   "cell_type": "code",
   "execution_count": 36,
   "metadata": {},
   "outputs": [
    {
     "data": {
      "text/plain": [
       "Dict{Int64,Float64} with 3 entries:\n",
       "  2 => 0.585572\n",
       "  3 => 0.870524\n",
       "  1 => 0.532493"
      ]
     },
     "execution_count": 36,
     "metadata": {},
     "output_type": "execute_result"
    }
   ],
   "source": [
    "g = grad(getindex)\n",
    "d = Dict(1=>rand(), 2=>rand(), 3=> rand())"
   ]
  },
  {
   "cell_type": "code",
   "execution_count": 37,
   "metadata": {},
   "outputs": [
    {
     "data": {
      "text/plain": [
       "Dict{Int64,Float64} with 1 entry:\n",
       "  2 => 1.0"
      ]
     },
     "execution_count": 37,
     "metadata": {},
     "output_type": "execute_result"
    }
   ],
   "source": [
    "g(d,2)"
   ]
  },
  {
   "cell_type": "code",
   "execution_count": 38,
   "metadata": {},
   "outputs": [],
   "source": [
    "# info(\"Test neural net...\")\n",
    "n0(w,x,y)=sum(((w[3]*max.(0,w[1]*x.+w[2]).+w[4])-y).^2)\n",
    "n1 = grad(n0)\n",
    "n1sum(w,x,y)=sum(map(sum,n1(w,x,y)))\n",
    "n1sumd(w,x,y)=sum(map(sum,values(n1(w,x,y))))\n",
    "wa = Any[rand(2,3),rand(2),rand(2,2),rand(2)]\n",
    "wt = (wa...)\n",
    "wd = Dict(); for i=1:length(wa); wd[i]=wa[i]; end"
   ]
  },
  {
   "cell_type": "code",
   "execution_count": 39,
   "metadata": {},
   "outputs": [
    {
     "data": {
      "text/plain": [
       "Dict{Any,Any} with 4 entries:\n",
       "  4 => [0.23676, 0.175377]\n",
       "  2 => [0.344599, 0.833148]\n",
       "  3 => [0.107754 0.0748504; 0.560717 0.964617]\n",
       "  1 => [0.640695 0.283418 0.384279; 0.700509 0.608408 0.418858]"
      ]
     },
     "execution_count": 39,
     "metadata": {},
     "output_type": "execute_result"
    }
   ],
   "source": [
    "wd"
   ]
  },
  {
   "cell_type": "code",
   "execution_count": 40,
   "metadata": {},
   "outputs": [
    {
     "data": {
      "text/plain": [
       "true"
      ]
     },
     "execution_count": 40,
     "metadata": {},
     "output_type": "execute_result"
    }
   ],
   "source": [
    "gradcheckN(n0, wt, rand(3,10), rand(2,10))"
   ]
  },
  {
   "cell_type": "code",
   "execution_count": 42,
   "metadata": {},
   "outputs": [
    {
     "data": {
      "text/plain": [
       "(::gradfun) (generic function with 1 method)"
      ]
     },
     "execution_count": 42,
     "metadata": {},
     "output_type": "execute_result"
    }
   ],
   "source": [
    "gradfunc = grad(n0)"
   ]
  },
  {
   "cell_type": "code",
   "execution_count": 44,
   "metadata": {},
   "outputs": [
    {
     "data": {
      "text/plain": [
       "Dict{Any,Any} with 4 entries:\n",
       "  4 => [-3.00334, 35.9234]\n",
       "  2 => [19.8193, 34.4275]\n",
       "  3 => [-2.48763 -4.52659; 36.9379 63.4567]\n",
       "  1 => [9.48419 12.4267 10.4495; 16.4453 21.5398 18.0593]"
      ]
     },
     "execution_count": 44,
     "metadata": {},
     "output_type": "execute_result"
    }
   ],
   "source": [
    "gradfunc(wd, rand(3,10), rand(2,10))"
   ]
  }
 ],
 "metadata": {
  "kernelspec": {
   "display_name": "Julia 0.6.0",
   "language": "julia",
   "name": "julia-0.6"
  },
  "language_info": {
   "file_extension": ".jl",
   "mimetype": "application/julia",
   "name": "julia",
   "version": "0.6.2"
  }
 },
 "nbformat": 4,
 "nbformat_minor": 2
}
