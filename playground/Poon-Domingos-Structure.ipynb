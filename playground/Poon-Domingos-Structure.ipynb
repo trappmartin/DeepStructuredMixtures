{
 "cells": [
  {
   "cell_type": "code",
   "execution_count": 1,
   "metadata": {},
   "outputs": [
    {
     "name": "stderr",
     "output_type": "stream",
     "text": [
      "WARNING: using SumProductNetworks.eval in module Main conflicts with an existing identifier.\n"
     ]
    }
   ],
   "source": [
    "using GaussianProcesses, Plots, SumProductNetworks, StatsFuns, Distributions\n",
    "using PlotRecipes\n",
    "using TestImages, Images\n",
    "import SumProductNetworks.add!"
   ]
  },
  {
   "cell_type": "markdown",
   "metadata": {},
   "source": [
    "#### include local code"
   ]
  },
  {
   "cell_type": "code",
   "execution_count": 41,
   "metadata": {},
   "outputs": [
    {
     "data": {
      "text/plain": [
       "mcmcKernel (generic function with 1 method)"
      ]
     },
     "execution_count": 41,
     "metadata": {},
     "output_type": "execute_result"
    }
   ],
   "source": [
    "include(\"utilFunctions.jl\")\n",
    "include(\"dataTypes.jl\")\n",
    "include(\"dataTypeUtilFunctions.jl\")\n",
    "include(\"computationFunctions.jl\")\n",
    "include(\"regionGraph.jl\")\n",
    "include(\"regionGraphUtils.jl\")\n",
    "include(\"gpUtils.jl\")"
   ]
  },
  {
   "cell_type": "markdown",
   "metadata": {},
   "source": [
    " "
   ]
  },
  {
   "cell_type": "markdown",
   "metadata": {},
   "source": [
    "# Load data"
   ]
  },
  {
   "cell_type": "code",
   "execution_count": 3,
   "metadata": {},
   "outputs": [
    {
     "data": {
      "text/html": [
       "<?xml version=\"1.0\" encoding=\"utf-8\"?>\n",
       "<svg xmlns=\"http://www.w3.org/2000/svg\" xmlns:xlink=\"http://www.w3.org/1999/xlink\" width=\"600\" height=\"400\" viewBox=\"0 0 600 400\">\n",
       "<defs>\n",
       "  <clipPath id=\"clip0600\">\n",
       "    <rect x=\"0\" y=\"0\" width=\"600\" height=\"400\"/>\n",
       "  </clipPath>\n",
       "</defs>\n",
       "<polygon clip-path=\"url(#clip0600)\" points=\"\n",
       "0,400 600,400 600,0 0,0 \n",
       "  \" fill=\"#ffffff\" fill-opacity=\"1\"/>\n",
       "<defs>\n",
       "  <clipPath id=\"clip0601\">\n",
       "    <rect x=\"120\" y=\"0\" width=\"421\" height=\"400\"/>\n",
       "  </clipPath>\n",
       "</defs>\n",
       "<polygon clip-path=\"url(#clip0600)\" points=\"\n",
       "39.1436,375.813 580.315,375.813 580.315,11.811 39.1436,11.811 \n",
       "  \" fill=\"#ffffff\" fill-opacity=\"1\"/>\n",
       "<defs>\n",
       "  <clipPath id=\"clip0602\">\n",
       "    <rect x=\"39\" y=\"11\" width=\"542\" height=\"365\"/>\n",
       "  </clipPath>\n",
       "</defs>\n",
       "<polyline clip-path=\"url(#clip0602)\" style=\"stroke:#000000; stroke-width:0.5; stroke-opacity:0.1; fill:none\" points=\"\n",
       "  124.751,375.813 124.751,11.811 \n",
       "  \"/>\n",
       "<polyline clip-path=\"url(#clip0602)\" style=\"stroke:#000000; stroke-width:0.5; stroke-opacity:0.1; fill:none\" points=\"\n",
       "  217.24,375.813 217.24,11.811 \n",
       "  \"/>\n",
       "<polyline clip-path=\"url(#clip0602)\" style=\"stroke:#000000; stroke-width:0.5; stroke-opacity:0.1; fill:none\" points=\"\n",
       "  309.729,375.813 309.729,11.811 \n",
       "  \"/>\n",
       "<polyline clip-path=\"url(#clip0602)\" style=\"stroke:#000000; stroke-width:0.5; stroke-opacity:0.1; fill:none\" points=\"\n",
       "  402.218,375.813 402.218,11.811 \n",
       "  \"/>\n",
       "<polyline clip-path=\"url(#clip0602)\" style=\"stroke:#000000; stroke-width:0.5; stroke-opacity:0.1; fill:none\" points=\"\n",
       "  494.707,375.813 494.707,11.811 \n",
       "  \"/>\n",
       "<polyline clip-path=\"url(#clip0602)\" style=\"stroke:#000000; stroke-width:0.5; stroke-opacity:0.1; fill:none\" points=\"\n",
       "  39.1436,330.186 580.315,330.186 \n",
       "  \"/>\n",
       "<polyline clip-path=\"url(#clip0602)\" style=\"stroke:#000000; stroke-width:0.5; stroke-opacity:0.1; fill:none\" points=\"\n",
       "  39.1436,268.571 580.315,268.571 \n",
       "  \"/>\n",
       "<polyline clip-path=\"url(#clip0602)\" style=\"stroke:#000000; stroke-width:0.5; stroke-opacity:0.1; fill:none\" points=\"\n",
       "  39.1436,206.957 580.315,206.957 \n",
       "  \"/>\n",
       "<polyline clip-path=\"url(#clip0602)\" style=\"stroke:#000000; stroke-width:0.5; stroke-opacity:0.1; fill:none\" points=\"\n",
       "  39.1436,145.342 580.315,145.342 \n",
       "  \"/>\n",
       "<polyline clip-path=\"url(#clip0602)\" style=\"stroke:#000000; stroke-width:0.5; stroke-opacity:0.1; fill:none\" points=\"\n",
       "  39.1436,83.7275 580.315,83.7275 \n",
       "  \"/>\n",
       "<polyline clip-path=\"url(#clip0602)\" style=\"stroke:#000000; stroke-width:0.5; stroke-opacity:0.1; fill:none\" points=\"\n",
       "  39.1436,22.113 580.315,22.113 \n",
       "  \"/>\n",
       "<polyline clip-path=\"url(#clip0600)\" style=\"stroke:#000000; stroke-width:1; stroke-opacity:1; fill:none\" points=\"\n",
       "  39.1436,375.813 580.315,375.813 \n",
       "  \"/>\n",
       "<polyline clip-path=\"url(#clip0600)\" style=\"stroke:#000000; stroke-width:1; stroke-opacity:1; fill:none\" points=\"\n",
       "  39.1436,375.813 39.1436,11.811 \n",
       "  \"/>\n",
       "<polyline clip-path=\"url(#clip0600)\" style=\"stroke:#000000; stroke-width:1; stroke-opacity:1; fill:none\" points=\"\n",
       "  124.751,375.813 124.751,370.353 \n",
       "  \"/>\n",
       "<polyline clip-path=\"url(#clip0600)\" style=\"stroke:#000000; stroke-width:1; stroke-opacity:1; fill:none\" points=\"\n",
       "  217.24,375.813 217.24,370.353 \n",
       "  \"/>\n",
       "<polyline clip-path=\"url(#clip0600)\" style=\"stroke:#000000; stroke-width:1; stroke-opacity:1; fill:none\" points=\"\n",
       "  309.729,375.813 309.729,370.353 \n",
       "  \"/>\n",
       "<polyline clip-path=\"url(#clip0600)\" style=\"stroke:#000000; stroke-width:1; stroke-opacity:1; fill:none\" points=\"\n",
       "  402.218,375.813 402.218,370.353 \n",
       "  \"/>\n",
       "<polyline clip-path=\"url(#clip0600)\" style=\"stroke:#000000; stroke-width:1; stroke-opacity:1; fill:none\" points=\"\n",
       "  494.707,375.813 494.707,370.353 \n",
       "  \"/>\n",
       "<polyline clip-path=\"url(#clip0600)\" style=\"stroke:#000000; stroke-width:1; stroke-opacity:1; fill:none\" points=\"\n",
       "  39.1436,330.186 47.2612,330.186 \n",
       "  \"/>\n",
       "<polyline clip-path=\"url(#clip0600)\" style=\"stroke:#000000; stroke-width:1; stroke-opacity:1; fill:none\" points=\"\n",
       "  39.1436,268.571 47.2612,268.571 \n",
       "  \"/>\n",
       "<polyline clip-path=\"url(#clip0600)\" style=\"stroke:#000000; stroke-width:1; stroke-opacity:1; fill:none\" points=\"\n",
       "  39.1436,206.957 47.2612,206.957 \n",
       "  \"/>\n",
       "<polyline clip-path=\"url(#clip0600)\" style=\"stroke:#000000; stroke-width:1; stroke-opacity:1; fill:none\" points=\"\n",
       "  39.1436,145.342 47.2612,145.342 \n",
       "  \"/>\n",
       "<polyline clip-path=\"url(#clip0600)\" style=\"stroke:#000000; stroke-width:1; stroke-opacity:1; fill:none\" points=\"\n",
       "  39.1436,83.7275 47.2612,83.7275 \n",
       "  \"/>\n",
       "<polyline clip-path=\"url(#clip0600)\" style=\"stroke:#000000; stroke-width:1; stroke-opacity:1; fill:none\" points=\"\n",
       "  39.1436,22.113 47.2612,22.113 \n",
       "  \"/>\n",
       "<g clip-path=\"url(#clip0600)\">\n",
       "<text style=\"fill:#000000; fill-opacity:1; font-family:Arial,Helvetica Neue,Helvetica,sans-serif; font-size:12; text-anchor:middle;\" transform=\"rotate(0, 124.751, 389.613)\" x=\"124.751\" y=\"389.613\">10</text>\n",
       "</g>\n",
       "<g clip-path=\"url(#clip0600)\">\n",
       "<text style=\"fill:#000000; fill-opacity:1; font-family:Arial,Helvetica Neue,Helvetica,sans-serif; font-size:12; text-anchor:middle;\" transform=\"rotate(0, 217.24, 389.613)\" x=\"217.24\" y=\"389.613\">20</text>\n",
       "</g>\n",
       "<g clip-path=\"url(#clip0600)\">\n",
       "<text style=\"fill:#000000; fill-opacity:1; font-family:Arial,Helvetica Neue,Helvetica,sans-serif; font-size:12; text-anchor:middle;\" transform=\"rotate(0, 309.729, 389.613)\" x=\"309.729\" y=\"389.613\">30</text>\n",
       "</g>\n",
       "<g clip-path=\"url(#clip0600)\">\n",
       "<text style=\"fill:#000000; fill-opacity:1; font-family:Arial,Helvetica Neue,Helvetica,sans-serif; font-size:12; text-anchor:middle;\" transform=\"rotate(0, 402.218, 389.613)\" x=\"402.218\" y=\"389.613\">40</text>\n",
       "</g>\n",
       "<g clip-path=\"url(#clip0600)\">\n",
       "<text style=\"fill:#000000; fill-opacity:1; font-family:Arial,Helvetica Neue,Helvetica,sans-serif; font-size:12; text-anchor:middle;\" transform=\"rotate(0, 494.707, 389.613)\" x=\"494.707\" y=\"389.613\">50</text>\n",
       "</g>\n",
       "<g clip-path=\"url(#clip0600)\">\n",
       "<text style=\"fill:#000000; fill-opacity:1; font-family:Arial,Helvetica Neue,Helvetica,sans-serif; font-size:12; text-anchor:end;\" transform=\"rotate(0, 33.1436, 334.686)\" x=\"33.1436\" y=\"334.686\">-1.5</text>\n",
       "</g>\n",
       "<g clip-path=\"url(#clip0600)\">\n",
       "<text style=\"fill:#000000; fill-opacity:1; font-family:Arial,Helvetica Neue,Helvetica,sans-serif; font-size:12; text-anchor:end;\" transform=\"rotate(0, 33.1436, 273.071)\" x=\"33.1436\" y=\"273.071\">-1.0</text>\n",
       "</g>\n",
       "<g clip-path=\"url(#clip0600)\">\n",
       "<text style=\"fill:#000000; fill-opacity:1; font-family:Arial,Helvetica Neue,Helvetica,sans-serif; font-size:12; text-anchor:end;\" transform=\"rotate(0, 33.1436, 211.457)\" x=\"33.1436\" y=\"211.457\">-0.5</text>\n",
       "</g>\n",
       "<g clip-path=\"url(#clip0600)\">\n",
       "<text style=\"fill:#000000; fill-opacity:1; font-family:Arial,Helvetica Neue,Helvetica,sans-serif; font-size:12; text-anchor:end;\" transform=\"rotate(0, 33.1436, 149.842)\" x=\"33.1436\" y=\"149.842\">0.0</text>\n",
       "</g>\n",
       "<g clip-path=\"url(#clip0600)\">\n",
       "<text style=\"fill:#000000; fill-opacity:1; font-family:Arial,Helvetica Neue,Helvetica,sans-serif; font-size:12; text-anchor:end;\" transform=\"rotate(0, 33.1436, 88.2275)\" x=\"33.1436\" y=\"88.2275\">0.5</text>\n",
       "</g>\n",
       "<g clip-path=\"url(#clip0600)\">\n",
       "<text style=\"fill:#000000; fill-opacity:1; font-family:Arial,Helvetica Neue,Helvetica,sans-serif; font-size:12; text-anchor:end;\" transform=\"rotate(0, 33.1436, 26.613)\" x=\"33.1436\" y=\"26.613\">1.0</text>\n",
       "</g>\n",
       "<circle clip-path=\"url(#clip0602)\" style=\"fill:#000000; stroke:none; fill-opacity:1\" cx=\"54.4598\" cy=\"145.342\" r=\"4\"/>\n",
       "<circle clip-path=\"url(#clip0602)\" style=\"fill:#009af9; stroke:none; fill-opacity:1\" cx=\"54.4598\" cy=\"145.342\" r=\"3\"/>\n",
       "<circle clip-path=\"url(#clip0602)\" style=\"fill:#000000; stroke:none; fill-opacity:1\" cx=\"56.3095\" cy=\"147.478\" r=\"4\"/>\n",
       "<circle clip-path=\"url(#clip0602)\" style=\"fill:#009af9; stroke:none; fill-opacity:1\" cx=\"56.3095\" cy=\"147.478\" r=\"3\"/>\n",
       "<circle clip-path=\"url(#clip0602)\" style=\"fill:#000000; stroke:none; fill-opacity:1\" cx=\"61.8589\" cy=\"149.778\" r=\"4\"/>\n",
       "<circle clip-path=\"url(#clip0602)\" style=\"fill:#009af9; stroke:none; fill-opacity:1\" cx=\"61.8589\" cy=\"149.778\" r=\"3\"/>\n",
       "<circle clip-path=\"url(#clip0602)\" style=\"fill:#000000; stroke:none; fill-opacity:1\" cx=\"65.5584\" cy=\"145.342\" r=\"4\"/>\n",
       "<circle clip-path=\"url(#clip0602)\" style=\"fill:#009af9; stroke:none; fill-opacity:1\" cx=\"65.5584\" cy=\"145.342\" r=\"3\"/>\n",
       "<circle clip-path=\"url(#clip0602)\" style=\"fill:#000000; stroke:none; fill-opacity:1\" cx=\"69.258\" cy=\"149.778\" r=\"4\"/>\n",
       "<circle clip-path=\"url(#clip0602)\" style=\"fill:#009af9; stroke:none; fill-opacity:1\" cx=\"69.258\" cy=\"149.778\" r=\"3\"/>\n",
       "<circle clip-path=\"url(#clip0602)\" style=\"fill:#000000; stroke:none; fill-opacity:1\" cx=\"89.6056\" cy=\"149.778\" r=\"4\"/>\n",
       "<circle clip-path=\"url(#clip0602)\" style=\"fill:#009af9; stroke:none; fill-opacity:1\" cx=\"89.6056\" cy=\"149.778\" r=\"3\"/>\n",
       "<circle clip-path=\"url(#clip0602)\" style=\"fill:#000000; stroke:none; fill-opacity:1\" cx=\"93.3051\" cy=\"149.778\" r=\"4\"/>\n",
       "<circle clip-path=\"url(#clip0602)\" style=\"fill:#009af9; stroke:none; fill-opacity:1\" cx=\"93.3051\" cy=\"149.778\" r=\"3\"/>\n",
       "<circle clip-path=\"url(#clip0602)\" style=\"fill:#000000; stroke:none; fill-opacity:1\" cx=\"95.1549\" cy=\"147.478\" r=\"4\"/>\n",
       "<circle clip-path=\"url(#clip0602)\" style=\"fill:#009af9; stroke:none; fill-opacity:1\" cx=\"95.1549\" cy=\"147.478\" r=\"3\"/>\n",
       "<circle clip-path=\"url(#clip0602)\" style=\"fill:#000000; stroke:none; fill-opacity:1\" cx=\"104.404\" cy=\"149.778\" r=\"4\"/>\n",
       "<circle clip-path=\"url(#clip0602)\" style=\"fill:#009af9; stroke:none; fill-opacity:1\" cx=\"104.404\" cy=\"149.778\" r=\"3\"/>\n",
       "<circle clip-path=\"url(#clip0602)\" style=\"fill:#000000; stroke:none; fill-opacity:1\" cx=\"108.103\" cy=\"149.778\" r=\"4\"/>\n",
       "<circle clip-path=\"url(#clip0602)\" style=\"fill:#009af9; stroke:none; fill-opacity:1\" cx=\"108.103\" cy=\"149.778\" r=\"3\"/>\n",
       "<circle clip-path=\"url(#clip0602)\" style=\"fill:#000000; stroke:none; fill-opacity:1\" cx=\"113.653\" cy=\"147.478\" r=\"4\"/>\n",
       "<circle clip-path=\"url(#clip0602)\" style=\"fill:#009af9; stroke:none; fill-opacity:1\" cx=\"113.653\" cy=\"147.478\" r=\"3\"/>\n",
       "<circle clip-path=\"url(#clip0602)\" style=\"fill:#000000; stroke:none; fill-opacity:1\" cx=\"121.052\" cy=\"149.778\" r=\"4\"/>\n",
       "<circle clip-path=\"url(#clip0602)\" style=\"fill:#009af9; stroke:none; fill-opacity:1\" cx=\"121.052\" cy=\"149.778\" r=\"3\"/>\n",
       "<circle clip-path=\"url(#clip0602)\" style=\"fill:#000000; stroke:none; fill-opacity:1\" cx=\"124.751\" cy=\"149.778\" r=\"4\"/>\n",
       "<circle clip-path=\"url(#clip0602)\" style=\"fill:#009af9; stroke:none; fill-opacity:1\" cx=\"124.751\" cy=\"149.778\" r=\"3\"/>\n",
       "<circle clip-path=\"url(#clip0602)\" style=\"fill:#000000; stroke:none; fill-opacity:1\" cx=\"126.601\" cy=\"154.215\" r=\"4\"/>\n",
       "<circle clip-path=\"url(#clip0602)\" style=\"fill:#009af9; stroke:none; fill-opacity:1\" cx=\"126.601\" cy=\"154.215\" r=\"3\"/>\n",
       "<circle clip-path=\"url(#clip0602)\" style=\"fill:#000000; stroke:none; fill-opacity:1\" cx=\"130.301\" cy=\"149.778\" r=\"4\"/>\n",
       "<circle clip-path=\"url(#clip0602)\" style=\"fill:#009af9; stroke:none; fill-opacity:1\" cx=\"130.301\" cy=\"149.778\" r=\"3\"/>\n",
       "<circle clip-path=\"url(#clip0602)\" style=\"fill:#000000; stroke:none; fill-opacity:1\" cx=\"134\" cy=\"154.215\" r=\"4\"/>\n",
       "<circle clip-path=\"url(#clip0602)\" style=\"fill:#009af9; stroke:none; fill-opacity:1\" cx=\"134\" cy=\"154.215\" r=\"3\"/>\n",
       "<circle clip-path=\"url(#clip0602)\" style=\"fill:#000000; stroke:none; fill-opacity:1\" cx=\"137.7\" cy=\"145.342\" r=\"4\"/>\n",
       "<circle clip-path=\"url(#clip0602)\" style=\"fill:#009af9; stroke:none; fill-opacity:1\" cx=\"137.7\" cy=\"145.342\" r=\"3\"/>\n",
       "<circle clip-path=\"url(#clip0602)\" style=\"fill:#000000; stroke:none; fill-opacity:1\" cx=\"154.348\" cy=\"149.778\" r=\"4\"/>\n",
       "<circle clip-path=\"url(#clip0602)\" style=\"fill:#009af9; stroke:none; fill-opacity:1\" cx=\"154.348\" cy=\"149.778\" r=\"3\"/>\n",
       "<circle clip-path=\"url(#clip0602)\" style=\"fill:#000000; stroke:none; fill-opacity:1\" cx=\"158.047\" cy=\"149.778\" r=\"4\"/>\n",
       "<circle clip-path=\"url(#clip0602)\" style=\"fill:#009af9; stroke:none; fill-opacity:1\" cx=\"158.047\" cy=\"149.778\" r=\"3\"/>\n",
       "<circle clip-path=\"url(#clip0602)\" style=\"fill:#000000; stroke:none; fill-opacity:1\" cx=\"159.897\" cy=\"145.342\" r=\"4\"/>\n",
       "<circle clip-path=\"url(#clip0602)\" style=\"fill:#009af9; stroke:none; fill-opacity:1\" cx=\"159.897\" cy=\"145.342\" r=\"3\"/>\n",
       "<circle clip-path=\"url(#clip0602)\" style=\"fill:#000000; stroke:none; fill-opacity:1\" cx=\"167.296\" cy=\"167.195\" r=\"4\"/>\n",
       "<circle clip-path=\"url(#clip0602)\" style=\"fill:#009af9; stroke:none; fill-opacity:1\" cx=\"167.296\" cy=\"167.195\" r=\"3\"/>\n",
       "<circle clip-path=\"url(#clip0602)\" style=\"fill:#000000; stroke:none; fill-opacity:1\" cx=\"169.146\" cy=\"149.778\" r=\"4\"/>\n",
       "<circle clip-path=\"url(#clip0602)\" style=\"fill:#009af9; stroke:none; fill-opacity:1\" cx=\"169.146\" cy=\"149.778\" r=\"3\"/>\n",
       "<circle clip-path=\"url(#clip0602)\" style=\"fill:#000000; stroke:none; fill-opacity:1\" cx=\"174.695\" cy=\"182.804\" r=\"4\"/>\n",
       "<circle clip-path=\"url(#clip0602)\" style=\"fill:#009af9; stroke:none; fill-opacity:1\" cx=\"174.695\" cy=\"182.804\" r=\"3\"/>\n",
       "<circle clip-path=\"url(#clip0602)\" style=\"fill:#000000; stroke:none; fill-opacity:1\" cx=\"176.545\" cy=\"211.393\" r=\"4\"/>\n",
       "<circle clip-path=\"url(#clip0602)\" style=\"fill:#009af9; stroke:none; fill-opacity:1\" cx=\"176.545\" cy=\"211.393\" r=\"3\"/>\n",
       "<circle clip-path=\"url(#clip0602)\" style=\"fill:#000000; stroke:none; fill-opacity:1\" cx=\"178.395\" cy=\"180.668\" r=\"4\"/>\n",
       "<circle clip-path=\"url(#clip0602)\" style=\"fill:#009af9; stroke:none; fill-opacity:1\" cx=\"178.395\" cy=\"180.668\" r=\"3\"/>\n",
       "<circle clip-path=\"url(#clip0602)\" style=\"fill:#000000; stroke:none; fill-opacity:1\" cx=\"180.245\" cy=\"215.829\" r=\"4\"/>\n",
       "<circle clip-path=\"url(#clip0602)\" style=\"fill:#009af9; stroke:none; fill-opacity:1\" cx=\"180.245\" cy=\"215.829\" r=\"3\"/>\n",
       "<circle clip-path=\"url(#clip0602)\" style=\"fill:#000000; stroke:none; fill-opacity:1\" cx=\"182.095\" cy=\"180.668\" r=\"4\"/>\n",
       "<circle clip-path=\"url(#clip0602)\" style=\"fill:#009af9; stroke:none; fill-opacity:1\" cx=\"182.095\" cy=\"180.668\" r=\"3\"/>\n",
       "<circle clip-path=\"url(#clip0602)\" style=\"fill:#000000; stroke:none; fill-opacity:1\" cx=\"183.944\" cy=\"154.215\" r=\"4\"/>\n",
       "<circle clip-path=\"url(#clip0602)\" style=\"fill:#009af9; stroke:none; fill-opacity:1\" cx=\"183.944\" cy=\"154.215\" r=\"3\"/>\n",
       "<circle clip-path=\"url(#clip0602)\" style=\"fill:#000000; stroke:none; fill-opacity:1\" cx=\"185.794\" cy=\"242.282\" r=\"4\"/>\n",
       "<circle clip-path=\"url(#clip0602)\" style=\"fill:#009af9; stroke:none; fill-opacity:1\" cx=\"185.794\" cy=\"242.282\" r=\"3\"/>\n",
       "<circle clip-path=\"url(#clip0602)\" style=\"fill:#000000; stroke:none; fill-opacity:1\" cx=\"187.644\" cy=\"261.999\" r=\"4\"/>\n",
       "<circle clip-path=\"url(#clip0602)\" style=\"fill:#009af9; stroke:none; fill-opacity:1\" cx=\"187.644\" cy=\"261.999\" r=\"3\"/>\n",
       "<circle clip-path=\"url(#clip0602)\" style=\"fill:#000000; stroke:none; fill-opacity:1\" cx=\"195.043\" cy=\"206.957\" r=\"4\"/>\n",
       "<circle clip-path=\"url(#clip0602)\" style=\"fill:#009af9; stroke:none; fill-opacity:1\" cx=\"195.043\" cy=\"206.957\" r=\"3\"/>\n",
       "<circle clip-path=\"url(#clip0602)\" style=\"fill:#000000; stroke:none; fill-opacity:1\" cx=\"196.893\" cy=\"308.169\" r=\"4\"/>\n",
       "<circle clip-path=\"url(#clip0602)\" style=\"fill:#009af9; stroke:none; fill-opacity:1\" cx=\"196.893\" cy=\"308.169\" r=\"3\"/>\n",
       "<circle clip-path=\"url(#clip0602)\" style=\"fill:#000000; stroke:none; fill-opacity:1\" cx=\"204.292\" cy=\"330.186\" r=\"4\"/>\n",
       "<circle clip-path=\"url(#clip0602)\" style=\"fill:#009af9; stroke:none; fill-opacity:1\" cx=\"204.292\" cy=\"330.186\" r=\"3\"/>\n",
       "<circle clip-path=\"url(#clip0602)\" style=\"fill:#000000; stroke:none; fill-opacity:1\" cx=\"209.841\" cy=\"347.602\" r=\"4\"/>\n",
       "<circle clip-path=\"url(#clip0602)\" style=\"fill:#009af9; stroke:none; fill-opacity:1\" cx=\"209.841\" cy=\"347.602\" r=\"3\"/>\n",
       "<circle clip-path=\"url(#clip0602)\" style=\"fill:#000000; stroke:none; fill-opacity:1\" cx=\"211.691\" cy=\"285.988\" r=\"4\"/>\n",
       "<circle clip-path=\"url(#clip0602)\" style=\"fill:#009af9; stroke:none; fill-opacity:1\" cx=\"211.691\" cy=\"285.988\" r=\"3\"/>\n",
       "<circle clip-path=\"url(#clip0602)\" style=\"fill:#000000; stroke:none; fill-opacity:1\" cx=\"213.541\" cy=\"354.339\" r=\"4\"/>\n",
       "<circle clip-path=\"url(#clip0602)\" style=\"fill:#009af9; stroke:none; fill-opacity:1\" cx=\"213.541\" cy=\"354.339\" r=\"3\"/>\n",
       "<circle clip-path=\"url(#clip0602)\" style=\"fill:#000000; stroke:none; fill-opacity:1\" cx=\"219.09\" cy=\"347.602\" r=\"4\"/>\n",
       "<circle clip-path=\"url(#clip0602)\" style=\"fill:#009af9; stroke:none; fill-opacity:1\" cx=\"219.09\" cy=\"347.602\" r=\"3\"/>\n",
       "<circle clip-path=\"url(#clip0602)\" style=\"fill:#000000; stroke:none; fill-opacity:1\" cx=\"220.94\" cy=\"339.058\" r=\"4\"/>\n",
       "<circle clip-path=\"url(#clip0602)\" style=\"fill:#009af9; stroke:none; fill-opacity:1\" cx=\"220.94\" cy=\"339.058\" r=\"3\"/>\n",
       "<circle clip-path=\"url(#clip0602)\" style=\"fill:#000000; stroke:none; fill-opacity:1\" cx=\"228.339\" cy=\"365.511\" r=\"4\"/>\n",
       "<circle clip-path=\"url(#clip0602)\" style=\"fill:#009af9; stroke:none; fill-opacity:1\" cx=\"228.339\" cy=\"365.511\" r=\"3\"/>\n",
       "<circle clip-path=\"url(#clip0602)\" style=\"fill:#000000; stroke:none; fill-opacity:1\" cx=\"230.189\" cy=\"312.769\" r=\"4\"/>\n",
       "<circle clip-path=\"url(#clip0602)\" style=\"fill:#009af9; stroke:none; fill-opacity:1\" cx=\"230.189\" cy=\"312.769\" r=\"3\"/>\n",
       "<circle clip-path=\"url(#clip0602)\" style=\"fill:#000000; stroke:none; fill-opacity:1\" cx=\"233.888\" cy=\"323.449\" r=\"4\"/>\n",
       "<circle clip-path=\"url(#clip0602)\" style=\"fill:#009af9; stroke:none; fill-opacity:1\" cx=\"233.888\" cy=\"323.449\" r=\"3\"/>\n",
       "<circle clip-path=\"url(#clip0602)\" style=\"fill:#000000; stroke:none; fill-opacity:1\" cx=\"235.738\" cy=\"347.602\" r=\"4\"/>\n",
       "<circle clip-path=\"url(#clip0602)\" style=\"fill:#009af9; stroke:none; fill-opacity:1\" cx=\"235.738\" cy=\"347.602\" r=\"3\"/>\n",
       "<circle clip-path=\"url(#clip0602)\" style=\"fill:#000000; stroke:none; fill-opacity:1\" cx=\"246.837\" cy=\"347.602\" r=\"4\"/>\n",
       "<circle clip-path=\"url(#clip0602)\" style=\"fill:#009af9; stroke:none; fill-opacity:1\" cx=\"246.837\" cy=\"347.602\" r=\"3\"/>\n",
       "<circle clip-path=\"url(#clip0602)\" style=\"fill:#000000; stroke:none; fill-opacity:1\" cx=\"248.687\" cy=\"356.475\" r=\"4\"/>\n",
       "<circle clip-path=\"url(#clip0602)\" style=\"fill:#009af9; stroke:none; fill-opacity:1\" cx=\"248.687\" cy=\"356.475\" r=\"3\"/>\n",
       "<circle clip-path=\"url(#clip0602)\" style=\"fill:#000000; stroke:none; fill-opacity:1\" cx=\"254.236\" cy=\"330.186\" r=\"4\"/>\n",
       "<circle clip-path=\"url(#clip0602)\" style=\"fill:#009af9; stroke:none; fill-opacity:1\" cx=\"254.236\" cy=\"330.186\" r=\"3\"/>\n",
       "<circle clip-path=\"url(#clip0602)\" style=\"fill:#000000; stroke:none; fill-opacity:1\" cx=\"256.086\" cy=\"301.597\" r=\"4\"/>\n",
       "<circle clip-path=\"url(#clip0602)\" style=\"fill:#009af9; stroke:none; fill-opacity:1\" cx=\"256.086\" cy=\"301.597\" r=\"3\"/>\n",
       "<circle clip-path=\"url(#clip0602)\" style=\"fill:#000000; stroke:none; fill-opacity:1\" cx=\"259.785\" cy=\"233.246\" r=\"4\"/>\n",
       "<circle clip-path=\"url(#clip0602)\" style=\"fill:#009af9; stroke:none; fill-opacity:1\" cx=\"259.785\" cy=\"233.246\" r=\"3\"/>\n",
       "<circle clip-path=\"url(#clip0602)\" style=\"fill:#000000; stroke:none; fill-opacity:1\" cx=\"263.485\" cy=\"251.155\" r=\"4\"/>\n",
       "<circle clip-path=\"url(#clip0602)\" style=\"fill:#009af9; stroke:none; fill-opacity:1\" cx=\"263.485\" cy=\"251.155\" r=\"3\"/>\n",
       "<circle clip-path=\"url(#clip0602)\" style=\"fill:#000000; stroke:none; fill-opacity:1\" cx=\"267.184\" cy=\"264.135\" r=\"4\"/>\n",
       "<circle clip-path=\"url(#clip0602)\" style=\"fill:#009af9; stroke:none; fill-opacity:1\" cx=\"267.184\" cy=\"264.135\" r=\"3\"/>\n",
       "<circle clip-path=\"url(#clip0602)\" style=\"fill:#000000; stroke:none; fill-opacity:1\" cx=\"269.034\" cy=\"189.376\" r=\"4\"/>\n",
       "<circle clip-path=\"url(#clip0602)\" style=\"fill:#009af9; stroke:none; fill-opacity:1\" cx=\"269.034\" cy=\"189.376\" r=\"3\"/>\n",
       "<circle clip-path=\"url(#clip0602)\" style=\"fill:#000000; stroke:none; fill-opacity:1\" cx=\"272.734\" cy=\"154.215\" r=\"4\"/>\n",
       "<circle clip-path=\"url(#clip0602)\" style=\"fill:#009af9; stroke:none; fill-opacity:1\" cx=\"272.734\" cy=\"154.215\" r=\"3\"/>\n",
       "<circle clip-path=\"url(#clip0602)\" style=\"fill:#000000; stroke:none; fill-opacity:1\" cx=\"274.583\" cy=\"321.313\" r=\"4\"/>\n",
       "<circle clip-path=\"url(#clip0602)\" style=\"fill:#009af9; stroke:none; fill-opacity:1\" cx=\"274.583\" cy=\"321.313\" r=\"3\"/>\n",
       "<circle clip-path=\"url(#clip0602)\" style=\"fill:#000000; stroke:none; fill-opacity:1\" cx=\"276.433\" cy=\"253.127\" r=\"4\"/>\n",
       "<circle clip-path=\"url(#clip0602)\" style=\"fill:#009af9; stroke:none; fill-opacity:1\" cx=\"276.433\" cy=\"253.127\" r=\"3\"/>\n",
       "<circle clip-path=\"url(#clip0602)\" style=\"fill:#000000; stroke:none; fill-opacity:1\" cx=\"281.983\" cy=\"171.631\" r=\"4\"/>\n",
       "<circle clip-path=\"url(#clip0602)\" style=\"fill:#009af9; stroke:none; fill-opacity:1\" cx=\"281.983\" cy=\"171.631\" r=\"3\"/>\n",
       "<circle clip-path=\"url(#clip0602)\" style=\"fill:#000000; stroke:none; fill-opacity:1\" cx=\"283.832\" cy=\"220.265\" r=\"4\"/>\n",
       "<circle clip-path=\"url(#clip0602)\" style=\"fill:#009af9; stroke:none; fill-opacity:1\" cx=\"283.832\" cy=\"220.265\" r=\"3\"/>\n",
       "<circle clip-path=\"url(#clip0602)\" style=\"fill:#000000; stroke:none; fill-opacity:1\" cx=\"287.532\" cy=\"138.77\" r=\"4\"/>\n",
       "<circle clip-path=\"url(#clip0602)\" style=\"fill:#009af9; stroke:none; fill-opacity:1\" cx=\"287.532\" cy=\"138.77\" r=\"3\"/>\n",
       "<circle clip-path=\"url(#clip0602)\" style=\"fill:#000000; stroke:none; fill-opacity:1\" cx=\"293.081\" cy=\"125.625\" r=\"4\"/>\n",
       "<circle clip-path=\"url(#clip0602)\" style=\"fill:#009af9; stroke:none; fill-opacity:1\" cx=\"293.081\" cy=\"125.625\" r=\"3\"/>\n",
       "<circle clip-path=\"url(#clip0602)\" style=\"fill:#000000; stroke:none; fill-opacity:1\" cx=\"294.931\" cy=\"180.668\" r=\"4\"/>\n",
       "<circle clip-path=\"url(#clip0602)\" style=\"fill:#009af9; stroke:none; fill-opacity:1\" cx=\"294.931\" cy=\"180.668\" r=\"3\"/>\n",
       "<circle clip-path=\"url(#clip0602)\" style=\"fill:#000000; stroke:none; fill-opacity:1\" cx=\"296.781\" cy=\"68.2828\" r=\"4\"/>\n",
       "<circle clip-path=\"url(#clip0602)\" style=\"fill:#009af9; stroke:none; fill-opacity:1\" cx=\"296.781\" cy=\"68.2828\" r=\"3\"/>\n",
       "<circle clip-path=\"url(#clip0602)\" style=\"fill:#000000; stroke:none; fill-opacity:1\" cx=\"304.18\" cy=\"173.931\" r=\"4\"/>\n",
       "<circle clip-path=\"url(#clip0602)\" style=\"fill:#009af9; stroke:none; fill-opacity:1\" cx=\"304.18\" cy=\"173.931\" r=\"3\"/>\n",
       "<circle clip-path=\"url(#clip0602)\" style=\"fill:#000000; stroke:none; fill-opacity:1\" cx=\"311.579\" cy=\"85.8635\" r=\"4\"/>\n",
       "<circle clip-path=\"url(#clip0602)\" style=\"fill:#009af9; stroke:none; fill-opacity:1\" cx=\"311.579\" cy=\"85.8635\" r=\"3\"/>\n",
       "<circle clip-path=\"url(#clip0602)\" style=\"fill:#000000; stroke:none; fill-opacity:1\" cx=\"318.978\" cy=\"22.113\" r=\"4\"/>\n",
       "<circle clip-path=\"url(#clip0602)\" style=\"fill:#009af9; stroke:none; fill-opacity:1\" cx=\"318.978\" cy=\"22.113\" r=\"3\"/>\n",
       "<circle clip-path=\"url(#clip0602)\" style=\"fill:#000000; stroke:none; fill-opacity:1\" cx=\"320.828\" cy=\"132.033\" r=\"4\"/>\n",
       "<circle clip-path=\"url(#clip0602)\" style=\"fill:#009af9; stroke:none; fill-opacity:1\" cx=\"320.828\" cy=\"132.033\" r=\"3\"/>\n",
       "<circle clip-path=\"url(#clip0602)\" style=\"fill:#000000; stroke:none; fill-opacity:1\" cx=\"328.227\" cy=\"55.1384\" r=\"4\"/>\n",
       "<circle clip-path=\"url(#clip0602)\" style=\"fill:#009af9; stroke:none; fill-opacity:1\" cx=\"328.227\" cy=\"55.1384\" r=\"3\"/>\n",
       "<circle clip-path=\"url(#clip0602)\" style=\"fill:#000000; stroke:none; fill-opacity:1\" cx=\"335.626\" cy=\"68.2828\" r=\"4\"/>\n",
       "<circle clip-path=\"url(#clip0602)\" style=\"fill:#009af9; stroke:none; fill-opacity:1\" cx=\"335.626\" cy=\"68.2828\" r=\"3\"/>\n",
       "<circle clip-path=\"url(#clip0602)\" style=\"fill:#000000; stroke:none; fill-opacity:1\" cx=\"341.176\" cy=\"119.053\" r=\"4\"/>\n",
       "<circle clip-path=\"url(#clip0602)\" style=\"fill:#009af9; stroke:none; fill-opacity:1\" cx=\"341.176\" cy=\"119.053\" r=\"3\"/>\n",
       "<circle clip-path=\"url(#clip0602)\" style=\"fill:#000000; stroke:none; fill-opacity:1\" cx=\"344.875\" cy=\"70.4188\" r=\"4\"/>\n",
       "<circle clip-path=\"url(#clip0602)\" style=\"fill:#009af9; stroke:none; fill-opacity:1\" cx=\"344.875\" cy=\"70.4188\" r=\"3\"/>\n",
       "<circle clip-path=\"url(#clip0602)\" style=\"fill:#000000; stroke:none; fill-opacity:1\" cx=\"350.424\" cy=\"143.206\" r=\"4\"/>\n",
       "<circle clip-path=\"url(#clip0602)\" style=\"fill:#009af9; stroke:none; fill-opacity:1\" cx=\"350.424\" cy=\"143.206\" r=\"3\"/>\n",
       "<circle clip-path=\"url(#clip0602)\" style=\"fill:#000000; stroke:none; fill-opacity:1\" cx=\"354.124\" cy=\"22.113\" r=\"4\"/>\n",
       "<circle clip-path=\"url(#clip0602)\" style=\"fill:#009af9; stroke:none; fill-opacity:1\" cx=\"354.124\" cy=\"22.113\" r=\"3\"/>\n",
       "<circle clip-path=\"url(#clip0602)\" style=\"fill:#000000; stroke:none; fill-opacity:1\" cx=\"357.824\" cy=\"171.631\" r=\"4\"/>\n",
       "<circle clip-path=\"url(#clip0602)\" style=\"fill:#009af9; stroke:none; fill-opacity:1\" cx=\"357.824\" cy=\"171.631\" r=\"3\"/>\n",
       "<circle clip-path=\"url(#clip0602)\" style=\"fill:#000000; stroke:none; fill-opacity:1\" cx=\"359.673\" cy=\"30.9855\" r=\"4\"/>\n",
       "<circle clip-path=\"url(#clip0602)\" style=\"fill:#009af9; stroke:none; fill-opacity:1\" cx=\"359.673\" cy=\"30.9855\" r=\"3\"/>\n",
       "<circle clip-path=\"url(#clip0602)\" style=\"fill:#000000; stroke:none; fill-opacity:1\" cx=\"361.523\" cy=\"88.1638\" r=\"4\"/>\n",
       "<circle clip-path=\"url(#clip0602)\" style=\"fill:#009af9; stroke:none; fill-opacity:1\" cx=\"361.523\" cy=\"88.1638\" r=\"3\"/>\n",
       "<circle clip-path=\"url(#clip0602)\" style=\"fill:#000000; stroke:none; fill-opacity:1\" cx=\"367.072\" cy=\"206.957\" r=\"4\"/>\n",
       "<circle clip-path=\"url(#clip0602)\" style=\"fill:#009af9; stroke:none; fill-opacity:1\" cx=\"367.072\" cy=\"206.957\" r=\"3\"/>\n",
       "<circle clip-path=\"url(#clip0602)\" style=\"fill:#000000; stroke:none; fill-opacity:1\" cx=\"383.72\" cy=\"68.2828\" r=\"4\"/>\n",
       "<circle clip-path=\"url(#clip0602)\" style=\"fill:#009af9; stroke:none; fill-opacity:1\" cx=\"383.72\" cy=\"68.2828\" r=\"3\"/>\n",
       "<circle clip-path=\"url(#clip0602)\" style=\"fill:#000000; stroke:none; fill-opacity:1\" cx=\"394.819\" cy=\"136.47\" r=\"4\"/>\n",
       "<circle clip-path=\"url(#clip0602)\" style=\"fill:#009af9; stroke:none; fill-opacity:1\" cx=\"394.819\" cy=\"136.47\" r=\"3\"/>\n",
       "<circle clip-path=\"url(#clip0602)\" style=\"fill:#000000; stroke:none; fill-opacity:1\" cx=\"396.669\" cy=\"147.478\" r=\"4\"/>\n",
       "<circle clip-path=\"url(#clip0602)\" style=\"fill:#009af9; stroke:none; fill-opacity:1\" cx=\"396.669\" cy=\"147.478\" r=\"3\"/>\n",
       "<circle clip-path=\"url(#clip0602)\" style=\"fill:#000000; stroke:none; fill-opacity:1\" cx=\"402.218\" cy=\"180.668\" r=\"4\"/>\n",
       "<circle clip-path=\"url(#clip0602)\" style=\"fill:#009af9; stroke:none; fill-opacity:1\" cx=\"402.218\" cy=\"180.668\" r=\"3\"/>\n",
       "<circle clip-path=\"url(#clip0602)\" style=\"fill:#000000; stroke:none; fill-opacity:1\" cx=\"405.918\" cy=\"167.195\" r=\"4\"/>\n",
       "<circle clip-path=\"url(#clip0602)\" style=\"fill:#009af9; stroke:none; fill-opacity:1\" cx=\"405.918\" cy=\"167.195\" r=\"3\"/>\n",
       "<circle clip-path=\"url(#clip0602)\" style=\"fill:#000000; stroke:none; fill-opacity:1\" cx=\"417.016\" cy=\"94.736\" r=\"4\"/>\n",
       "<circle clip-path=\"url(#clip0602)\" style=\"fill:#009af9; stroke:none; fill-opacity:1\" cx=\"417.016\" cy=\"94.736\" r=\"3\"/>\n",
       "<circle clip-path=\"url(#clip0602)\" style=\"fill:#000000; stroke:none; fill-opacity:1\" cx=\"424.416\" cy=\"97.0363\" r=\"4\"/>\n",
       "<circle clip-path=\"url(#clip0602)\" style=\"fill:#009af9; stroke:none; fill-opacity:1\" cx=\"424.416\" cy=\"97.0363\" r=\"3\"/>\n",
       "<circle clip-path=\"url(#clip0602)\" style=\"fill:#000000; stroke:none; fill-opacity:1\" cx=\"428.115\" cy=\"145.342\" r=\"4\"/>\n",
       "<circle clip-path=\"url(#clip0602)\" style=\"fill:#009af9; stroke:none; fill-opacity:1\" cx=\"428.115\" cy=\"145.342\" r=\"3\"/>\n",
       "<circle clip-path=\"url(#clip0602)\" style=\"fill:#000000; stroke:none; fill-opacity:1\" cx=\"429.965\" cy=\"121.189\" r=\"4\"/>\n",
       "<circle clip-path=\"url(#clip0602)\" style=\"fill:#009af9; stroke:none; fill-opacity:1\" cx=\"429.965\" cy=\"121.189\" r=\"3\"/>\n",
       "<circle clip-path=\"url(#clip0602)\" style=\"fill:#000000; stroke:none; fill-opacity:1\" cx=\"439.214\" cy=\"147.478\" r=\"4\"/>\n",
       "<circle clip-path=\"url(#clip0602)\" style=\"fill:#009af9; stroke:none; fill-opacity:1\" cx=\"439.214\" cy=\"147.478\" r=\"3\"/>\n",
       "<circle clip-path=\"url(#clip0602)\" style=\"fill:#000000; stroke:none; fill-opacity:1\" cx=\"442.913\" cy=\"145.342\" r=\"4\"/>\n",
       "<circle clip-path=\"url(#clip0602)\" style=\"fill:#009af9; stroke:none; fill-opacity:1\" cx=\"442.913\" cy=\"145.342\" r=\"3\"/>\n",
       "<circle clip-path=\"url(#clip0602)\" style=\"fill:#000000; stroke:none; fill-opacity:1\" cx=\"448.463\" cy=\"127.761\" r=\"4\"/>\n",
       "<circle clip-path=\"url(#clip0602)\" style=\"fill:#009af9; stroke:none; fill-opacity:1\" cx=\"448.463\" cy=\"127.761\" r=\"3\"/>\n",
       "<circle clip-path=\"url(#clip0602)\" style=\"fill:#000000; stroke:none; fill-opacity:1\" cx=\"463.261\" cy=\"127.761\" r=\"4\"/>\n",
       "<circle clip-path=\"url(#clip0602)\" style=\"fill:#009af9; stroke:none; fill-opacity:1\" cx=\"463.261\" cy=\"127.761\" r=\"3\"/>\n",
       "<circle clip-path=\"url(#clip0602)\" style=\"fill:#000000; stroke:none; fill-opacity:1\" cx=\"474.36\" cy=\"189.376\" r=\"4\"/>\n",
       "<circle clip-path=\"url(#clip0602)\" style=\"fill:#009af9; stroke:none; fill-opacity:1\" cx=\"474.36\" cy=\"189.376\" r=\"3\"/>\n",
       "<circle clip-path=\"url(#clip0602)\" style=\"fill:#000000; stroke:none; fill-opacity:1\" cx=\"483.609\" cy=\"167.195\" r=\"4\"/>\n",
       "<circle clip-path=\"url(#clip0602)\" style=\"fill:#009af9; stroke:none; fill-opacity:1\" cx=\"483.609\" cy=\"167.195\" r=\"3\"/>\n",
       "<circle clip-path=\"url(#clip0602)\" style=\"fill:#000000; stroke:none; fill-opacity:1\" cx=\"500.257\" cy=\"145.342\" r=\"4\"/>\n",
       "<circle clip-path=\"url(#clip0602)\" style=\"fill:#009af9; stroke:none; fill-opacity:1\" cx=\"500.257\" cy=\"145.342\" r=\"3\"/>\n",
       "<circle clip-path=\"url(#clip0602)\" style=\"fill:#000000; stroke:none; fill-opacity:1\" cx=\"513.205\" cy=\"127.761\" r=\"4\"/>\n",
       "<circle clip-path=\"url(#clip0602)\" style=\"fill:#009af9; stroke:none; fill-opacity:1\" cx=\"513.205\" cy=\"127.761\" r=\"3\"/>\n",
       "<circle clip-path=\"url(#clip0602)\" style=\"fill:#000000; stroke:none; fill-opacity:1\" cx=\"524.304\" cy=\"169.495\" r=\"4\"/>\n",
       "<circle clip-path=\"url(#clip0602)\" style=\"fill:#009af9; stroke:none; fill-opacity:1\" cx=\"524.304\" cy=\"169.495\" r=\"3\"/>\n",
       "<circle clip-path=\"url(#clip0602)\" style=\"fill:#000000; stroke:none; fill-opacity:1\" cx=\"540.952\" cy=\"149.778\" r=\"4\"/>\n",
       "<circle clip-path=\"url(#clip0602)\" style=\"fill:#009af9; stroke:none; fill-opacity:1\" cx=\"540.952\" cy=\"149.778\" r=\"3\"/>\n",
       "<circle clip-path=\"url(#clip0602)\" style=\"fill:#000000; stroke:none; fill-opacity:1\" cx=\"544.651\" cy=\"149.778\" r=\"4\"/>\n",
       "<circle clip-path=\"url(#clip0602)\" style=\"fill:#009af9; stroke:none; fill-opacity:1\" cx=\"544.651\" cy=\"149.778\" r=\"3\"/>\n",
       "<circle clip-path=\"url(#clip0602)\" style=\"fill:#000000; stroke:none; fill-opacity:1\" cx=\"564.999\" cy=\"127.761\" r=\"4\"/>\n",
       "<circle clip-path=\"url(#clip0602)\" style=\"fill:#009af9; stroke:none; fill-opacity:1\" cx=\"564.999\" cy=\"127.761\" r=\"3\"/>\n",
       "<polygon clip-path=\"url(#clip0600)\" points=\"\n",
       "489.799,62.931 562.315,62.931 562.315,32.691 489.799,32.691 \n",
       "  \" fill=\"#ffffff\" fill-opacity=\"1\"/>\n",
       "<polyline clip-path=\"url(#clip0600)\" style=\"stroke:#000000; stroke-width:1; stroke-opacity:1; fill:none\" points=\"\n",
       "  489.799,62.931 562.315,62.931 562.315,32.691 489.799,32.691 489.799,62.931 \n",
       "  \"/>\n",
       "<circle clip-path=\"url(#clip0600)\" style=\"fill:#000000; stroke:none; fill-opacity:1\" cx=\"516.799\" cy=\"47.811\" r=\"6\"/>\n",
       "<circle clip-path=\"url(#clip0600)\" style=\"fill:#009af9; stroke:none; fill-opacity:1\" cx=\"516.799\" cy=\"47.811\" r=\"5\"/>\n",
       "<g clip-path=\"url(#clip0600)\">\n",
       "<text style=\"fill:#000000; fill-opacity:1; font-family:Arial,Helvetica Neue,Helvetica,sans-serif; font-size:12; text-anchor:start;\" transform=\"rotate(0, 537.799, 52.311)\" x=\"537.799\" y=\"52.311\">y1</text>\n",
       "</g>\n",
       "</svg>\n"
      ]
     },
     "execution_count": 3,
     "metadata": {},
     "output_type": "execute_result"
    }
   ],
   "source": [
    "datapath = \"../data/clean/motor.csv\"\n",
    "(data, header) = readcsv(datapath, header = true)\n",
    "headerDict = Dict(col[2] => col[1] for col in enumerate(header))\n",
    "X = convert(Vector, data[:,headerDict[\"times\"]])\n",
    "y = convert(Vector, data[:,headerDict[\"accel\"]]);\n",
    "y /= maximum(y);\n",
    "scatter(X, y)"
   ]
  },
  {
   "cell_type": "markdown",
   "metadata": {},
   "source": [
    "# Construct a region graph"
   ]
  },
  {
   "cell_type": "markdown",
   "metadata": {},
   "source": [
    "Set some parameters to split up the data using Poon & Domingos Method"
   ]
  },
  {
   "cell_type": "code",
   "execution_count": 60,
   "metadata": {},
   "outputs": [
    {
     "data": {
      "text/html": [
       "60"
      ],
      "text/plain": [
       "60"
      ]
     },
     "execution_count": 60,
     "metadata": {},
     "output_type": "execute_result"
    }
   ],
   "source": [
    "# split size\n",
    "δ = 4\n",
    "\n",
    "# data range\n",
    "minX = 0\n",
    "maxX = 60"
   ]
  },
  {
   "cell_type": "code",
   "execution_count": 61,
   "metadata": {
    "collapsed": true
   },
   "outputs": [],
   "source": [
    "(rootRegion, sumRegions, gpRegions, allPartitions) = poonDomingos(δ, minX, maxX);"
   ]
  },
  {
   "cell_type": "code",
   "execution_count": 62,
   "metadata": {
    "collapsed": true
   },
   "outputs": [],
   "source": [
    "# set IDs for convenients\n",
    "RegionIDs = Dict(r[2] => r[1] for r in enumerate(union(sumRegions, gpRegions)));\n",
    "PartitionIDS = Dict(p[2] => p[1] + maximum(values(RegionIDs)) for p in enumerate(allPartitions));"
   ]
  },
  {
   "cell_type": "code",
   "execution_count": 63,
   "metadata": {},
   "outputs": [
    {
     "name": "stdout",
     "output_type": "stream",
     "text": [
      "Found 105 regions with sum nodes\n",
      "Found 15 regions with gp nodes\n",
      "Found 560 partitions with splitting nodes\n"
     ]
    }
   ],
   "source": [
    "println(\"Found $(length(sumRegions)) regions with sum nodes\")\n",
    "println(\"Found $(length(gpRegions)) regions with gp nodes\")\n",
    "println(\"Found $(length(allPartitions)) partitions with splitting nodes\")"
   ]
  },
  {
   "cell_type": "markdown",
   "metadata": {},
   "source": [
    "## Construct SPN from Region Graph"
   ]
  },
  {
   "cell_type": "markdown",
   "metadata": {},
   "source": [
    "Set some parameters"
   ]
  },
  {
   "cell_type": "code",
   "execution_count": 64,
   "metadata": {},
   "outputs": [
    {
     "data": {
      "text/plain": [
       "2-element Array{Distributions.Normal{Float64},1}:\n",
       " Distributions.Normal{Float64}(μ=1.60944, σ=1.0)\n",
       " Distributions.Normal{Float64}(μ=0.0, σ=1.0)    "
      ]
     },
     "execution_count": 64,
     "metadata": {},
     "output_type": "execute_result"
    }
   ],
   "source": [
    "global gID = 1\n",
    "\n",
    "numGPs = 10\n",
    "numSums = 10\n",
    "meanFunction = MeanZero();\n",
    "kernelFunction = SE(log(5.0),log(1.0));\n",
    "noise = -1.;\n",
    "\n",
    "# put some priors on the parameters\n",
    "set_priors!(kernelFunction, [Normal(log(5.0),1.0), Normal(log(1.0),1.0)])"
   ]
  },
  {
   "cell_type": "code",
   "execution_count": 65,
   "metadata": {},
   "outputs": [
    {
     "name": "stdout",
     "output_type": "stream",
     "text": [
      "BasicMCJob:\n",
      "  Variable [1]: p (BasicContMuvParameter)\n",
      "  GenericModel: 1 variables, 0 dependencies (directed graph)\n",
      "  HMC sampler: number of leaps = 10, leap step = 0.1\n",
      "  VanillaMCTuner: period = 100, verbose = false\n",
      "  BasicMCRange: number of steps = 1100, burnin = 100, thinning = 1BasicMCJob:\n",
      "  Variable [1]: p (BasicContMuvParameter)\n",
      "  GenericModel: 1 variables, 0 dependencies (directed graph)\n",
      "  HMC sampler: number of leaps = 10, leap step = 0.1\n",
      "  VanillaMCTuner: period = 100, verbose = false\n",
      "  BasicMCRange: number of steps = 1100, burnin = 100, thinning = 1BasicMCJob:\n",
      "  Variable [1]: p (BasicContMuvParameter)\n",
      "  GenericModel: 1 variables, 0 dependencies (directed graph)\n",
      "  HMC sampler: number of leaps = 10, leap step = 0.1\n",
      "  VanillaMCTuner: period = 100, verbose = false\n",
      "  BasicMCRange: number of steps = 1100, burnin = 100, thinning = 1BasicMCJob:\n",
      "  Variable [1]: p (BasicContMuvParameter)\n",
      "  GenericModel: 1 variables, 0 dependencies (directed graph)\n",
      "  HMC sampler: number of leaps = 10, leap step = 0.1\n",
      "  VanillaMCTuner: period = 100, verbose = false\n",
      "  BasicMCRange: number of steps = 1100, burnin = 100, thinning = 1BasicMCJob:\n",
      "  Variable [1]: p (BasicContMuvParameter)\n",
      "  GenericModel: 1 variables, 0 dependencies (directed graph)\n",
      "  HMC sampler: number of leaps = 10, leap step = 0.1\n",
      "  VanillaMCTuner: period = 100, verbose = false\n",
      "  BasicMCRange: number of steps = 1100, burnin = 100, thinning = 1BasicMCJob:\n",
      "  Variable [1]: p (BasicContMuvParameter)\n",
      "  GenericModel: 1 variables, 0 dependencies (directed graph)\n",
      "  HMC sampler: number of leaps = 10, leap step = 0.1\n",
      "  VanillaMCTuner: period = 100, verbose = false\n",
      "  BasicMCRange: number of steps = 1100, burnin = 100, thinning = 1BasicMCJob:\n",
      "  Variable [1]: p (BasicContMuvParameter)\n",
      "  GenericModel: 1 variables, 0 dependencies (directed graph)\n",
      "  HMC sampler: number of leaps = 10, leap step = 0.1\n",
      "  VanillaMCTuner: period = 100, verbose = false\n",
      "  BasicMCRange: number of steps = 1100, burnin = 100, thinning = 1BasicMCJob:\n",
      "  Variable [1]: p (BasicContMuvParameter)\n",
      "  GenericModel: 1 variables, 0 dependencies (directed graph)\n",
      "  HMC sampler: number of leaps = 10, leap step = 0.1\n",
      "  VanillaMCTuner: period = 100, verbose = false\n",
      "  BasicMCRange: number of steps = 1100, burnin = 100, thinning = 1BasicMCJob:\n",
      "  Variable [1]: p (BasicContMuvParameter)\n",
      "  GenericModel: 1 variables, 0 dependencies (directed graph)\n",
      "  HMC sampler: number of leaps = 10, leap step = 0.1\n",
      "  VanillaMCTuner: period = 100, verbose = false\n",
      "  BasicMCRange: number of steps = 1100, burnin = 100, thinning = 1BasicMCJob:\n",
      "  Variable [1]: p (BasicContMuvParameter)\n",
      "  GenericModel: 1 variables, 0 dependencies (directed graph)\n",
      "  HMC sampler: number of leaps = 10, leap step = 0.1\n",
      "  VanillaMCTuner: period = 100, verbose = false\n",
      "  BasicMCRange: number of steps = 1100, burnin = 100, thinning = 1BasicMCJob:\n",
      "  Variable [1]: p (BasicContMuvParameter)\n",
      "  GenericModel: 1 variables, 0 dependencies (directed graph)\n",
      "  HMC sampler: number of leaps = 10, leap step = 0.1\n",
      "  VanillaMCTuner: period = 100, verbose = false\n",
      "  BasicMCRange: number of steps = 1100, burnin = 100, thinning = 1BasicMCJob:\n",
      "  Variable [1]: p (BasicContMuvParameter)\n",
      "  GenericModel: 1 variables, 0 dependencies (directed graph)\n",
      "  HMC sampler: number of leaps = 10, leap step = 0.1\n",
      "  VanillaMCTuner: period = 100, verbose = false\n",
      "  BasicMCRange: number of steps = 1100, burnin = 100, thinning = 1BasicMCJob:\n",
      "  Variable [1]: p (BasicContMuvParameter)\n",
      "  GenericModel: 1 variables, 0 dependencies (directed graph)\n",
      "  HMC sampler: number of leaps = 10, leap step = 0.1\n",
      "  VanillaMCTuner: period = 100, verbose = false\n",
      "  BasicMCRange: number of steps = 1100, burnin = 100, thinning = 1BasicMCJob:\n",
      "  Variable [1]: p (BasicContMuvParameter)\n",
      "  GenericModel: 1 variables, 0 dependencies (directed graph)\n",
      "  HMC sampler: number of leaps = 10, leap step = 0.1\n",
      "  VanillaMCTuner: period = 100, verbose = false\n",
      "  BasicMCRange: number of steps = 1100, burnin = 100, thinning = 1BasicMCJob:\n",
      "  Variable [1]: p (BasicContMuvParameter)\n",
      "  GenericModel: 1 variables, 0 dependencies (directed graph)\n",
      "  HMC sampler: number of leaps = 10, leap step = 0.1\n",
      "  VanillaMCTuner: period = 100, verbose = false\n",
      "  BasicMCRange: number of steps = 1100, burnin = 100, thinning = 1"
     ]
    },
    {
     "data": {
      "text/plain": [
       "Gaussian Process Sum Node [ID: 57752, \n",
       "\t w_prior: [0.071, 0.071, 0.071, 0.071, 0.071, 0.071, 0.071, 0.071, 0.071, 0.071, 0.071, 0.071, 0.071, 0.071], \n",
       "\t w_posterior: [0.071, 0.071, 0.071, 0.071, 0.071, 0.071, 0.071, 0.071, 0.071, 0.071, 0.071, 0.071, 0.071, 0.071]]"
      ]
     },
     "execution_count": 65,
     "metadata": {},
     "output_type": "execute_result"
    }
   ],
   "source": [
    "root = convertToSPN(rootRegion, gpRegions, X, y, meanFunction, kernelFunction, noise; sampleNoise = false)"
   ]
  },
  {
   "cell_type": "markdown",
   "metadata": {},
   "source": [
    "# Posterior Inference over SPN-GP"
   ]
  },
  {
   "cell_type": "code",
   "execution_count": 21,
   "metadata": {},
   "outputs": [
    {
     "data": {
      "text/plain": [
       "spn_mcmc (generic function with 1 method)"
      ]
     },
     "execution_count": 21,
     "metadata": {},
     "output_type": "execute_result"
    }
   ],
   "source": [
    "function spn_mcmc(spn::GPSumNode, gpNodes::Vector{GPLeaf};\n",
    "              sampler::Klara.MCSampler=Klara.HMC(),\n",
    "              nIter::Int = 1000,\n",
    "              burnin::Int = 0,\n",
    "              thin::Int = 1)\n",
    "    \n",
    "    gps = map(n -> n.gp, gpNodes)\n",
    "    \n",
    "    function logpost(hyp::Vector{Float64})  #log-target\n",
    "        \n",
    "        for (i, gp) in enumerate(gps)\n",
    "            p = get_params(gp)\n",
    "            e = (i*2)\n",
    "            s = s-1\n",
    "            p[2:3] = hyp[s:e]\n",
    "            set_params!(gp, p)\n",
    "            update_target!(gp)\n",
    "        end\n",
    "        \n",
    "        dirty!(spn)\n",
    "        spn_update!(spn)\n",
    "        return spn_posterior(spn)\n",
    "    end\n",
    "\n",
    "    function dlogpost(hyp::Vector{Float64}) #gradient of the log-target\n",
    "        Kgrad_buffer = Array{Float64}(gp.nobsv, gp.nobsv)\n",
    "        for (i, gp) in enumerate(gps)\n",
    "            p = get_params(gp)\n",
    "            e = (i*2)\n",
    "            s = s-1\n",
    "            p[2:3] = hyp[s:e]\n",
    "            set_params!(gp, p)\n",
    "            update_target_and_dtarget!(gp, noise=false, mean=false, kern=true)\n",
    "            println(gp.dtarget)\n",
    "        end\n",
    "        \n",
    "        dirty!(spn)\n",
    "        spn_update!(spn)\n",
    "        \n",
    "        return gp.dtarget\n",
    "    end\n",
    "    \n",
    "    start = reduce(vcat, map(gp -> get_params(gp)[2:3], gps))\n",
    "    starting = Dict(:p=>start)\n",
    "    q = BasicContMuvParameter(:p, logtarget=logpost, gradlogtarget=dlogpost) \n",
    "    model = likelihood_model(q, false)                               #set-up the model\n",
    "    job = BasicMCJob(model, sampler, BasicMCRange(nsteps=nIter, thinning=thin, burnin=burnin), starting)   #set-up MCMC job\n",
    "    print(job)                                             #display MCMC set-up for the user\n",
    "    \n",
    "    run(job)                          #Run MCMC\n",
    "    chain = Klara.output(job)         # Extract chain\n",
    "    #set_params!(gp,start)      #reset the parameters stored in the GP to original values\n",
    "    return chain\n",
    "end "
   ]
  },
  {
   "cell_type": "code",
   "execution_count": 49,
   "metadata": {},
   "outputs": [
    {
     "ename": "LoadError",
     "evalue": "\u001b[91mInterruptException:\u001b[39m",
     "output_type": "error",
     "traceback": [
      "\u001b[91mInterruptException:\u001b[39m",
      "",
      "Stacktrace:",
      " [1] \u001b[1mfieldnames\u001b[22m\u001b[22m\u001b[1m(\u001b[22m\u001b[22m::DataType\u001b[1m)\u001b[22m\u001b[22m at \u001b[1m./reflection.jl:143\u001b[22m\u001b[22m",
      " [2] \u001b[1mflat!\u001b[22m\u001b[22m\u001b[1m(\u001b[22m\u001b[22m::Array{Any,1}, ::GPLeaf{Any}\u001b[1m)\u001b[22m\u001b[22m at \u001b[1m/home/mt752/.julia/v0.6/SumProductNetworks/src/utilityFunctions.jl:48\u001b[22m\u001b[22m",
      " [3] \u001b[1mflat!\u001b[22m\u001b[22m\u001b[1m(\u001b[22m\u001b[22m::Array{Any,1}, ::FiniteSplitNode\u001b[1m)\u001b[22m\u001b[22m at \u001b[1m/home/mt752/.julia/v0.6/SumProductNetworks/src/utilityFunctions.jl:50\u001b[22m\u001b[22m (repeats 15 times)",
      " [4] \u001b[1morder\u001b[22m\u001b[22m\u001b[1m(\u001b[22m\u001b[22m::GPSumNode\u001b[1m)\u001b[22m\u001b[22m at \u001b[1m/home/mt752/.julia/v0.6/SumProductNetworks/src/utilityFunctions.jl:35\u001b[22m\u001b[22m",
      " [5] \u001b[1minclude_string\u001b[22m\u001b[22m\u001b[1m(\u001b[22m\u001b[22m::String, ::String\u001b[1m)\u001b[22m\u001b[22m at \u001b[1m./loading.jl:522\u001b[22m\u001b[22m"
     ]
    }
   ],
   "source": [
    "nodes = SumProductNetworks.order(root)"
   ]
  },
  {
   "cell_type": "code",
   "execution_count": 23,
   "metadata": {},
   "outputs": [
    {
     "ename": "LoadError",
     "evalue": "\u001b[91mInterruptException:\u001b[39m",
     "output_type": "error",
     "traceback": [
      "\u001b[91mInterruptException:\u001b[39m",
      "",
      "Stacktrace:",
      " [1] \u001b[1mfieldnames\u001b[22m\u001b[22m\u001b[1m(\u001b[22m\u001b[22m::DataType\u001b[1m)\u001b[22m\u001b[22m at \u001b[1m./reflection.jl:143\u001b[22m\u001b[22m",
      " [2] \u001b[1mflat!\u001b[22m\u001b[22m\u001b[1m(\u001b[22m\u001b[22m::Array{Any,1}, ::FiniteSplitNode\u001b[1m)\u001b[22m\u001b[22m at \u001b[1m/home/mt752/.julia/v0.6/SumProductNetworks/src/utilityFunctions.jl:48\u001b[22m\u001b[22m",
      " [3] \u001b[1mflat!\u001b[22m\u001b[22m\u001b[1m(\u001b[22m\u001b[22m::Array{Any,1}, ::GPSumNode\u001b[1m)\u001b[22m\u001b[22m at \u001b[1m/home/mt752/.julia/v0.6/SumProductNetworks/src/utilityFunctions.jl:50\u001b[22m\u001b[22m (repeats 14 times)",
      " [4] \u001b[1morder\u001b[22m\u001b[22m\u001b[1m(\u001b[22m\u001b[22m::GPSumNode\u001b[1m)\u001b[22m\u001b[22m at \u001b[1m/home/mt752/.julia/v0.6/SumProductNetworks/src/utilityFunctions.jl:35\u001b[22m\u001b[22m",
      " [5] \u001b[1minclude_string\u001b[22m\u001b[22m\u001b[1m(\u001b[22m\u001b[22m::String, ::String\u001b[1m)\u001b[22m\u001b[22m at \u001b[1m./loading.jl:522\u001b[22m\u001b[22m"
     ]
    }
   ],
   "source": [
    "leafs = filter(n -> isa(n, GPLeaf), SumProductNetworks.order(root))"
   ]
  },
  {
   "cell_type": "code",
   "execution_count": 22,
   "metadata": {},
   "outputs": [
    {
     "ename": "LoadError",
     "evalue": "\u001b[91mMethodError: no method matching spn_mcmc(::GPSumNode)\u001b[0m\nClosest candidates are:\n  spn_mcmc(::GPSumNode, \u001b[91m::Array{GPLeaf,1}\u001b[39m; sampler, nIter, burnin, thin) at In[21]:7\u001b[39m",
     "output_type": "error",
     "traceback": [
      "\u001b[91mMethodError: no method matching spn_mcmc(::GPSumNode)\u001b[0m\nClosest candidates are:\n  spn_mcmc(::GPSumNode, \u001b[91m::Array{GPLeaf,1}\u001b[39m; sampler, nIter, burnin, thin) at In[21]:7\u001b[39m",
      "",
      "Stacktrace:",
      " [1] \u001b[1minclude_string\u001b[22m\u001b[22m\u001b[1m(\u001b[22m\u001b[22m::String, ::String\u001b[1m)\u001b[22m\u001b[22m at \u001b[1m./loading.jl:522\u001b[22m\u001b[22m"
     ]
    }
   ],
   "source": [
    "spn_mcmc(root)"
   ]
  },
  {
   "cell_type": "markdown",
   "metadata": {},
   "source": [
    "## posterior inference of weights"
   ]
  },
  {
   "cell_type": "code",
   "execution_count": 66,
   "metadata": {},
   "outputs": [
    {
     "data": {
      "text/html": [
       "-44.07970552184925"
      ],
      "text/plain": [
       "-44.07970552184925"
      ]
     },
     "execution_count": 66,
     "metadata": {},
     "output_type": "execute_result"
    }
   ],
   "source": [
    "spn_update!(root)"
   ]
  },
  {
   "cell_type": "code",
   "execution_count": 67,
   "metadata": {},
   "outputs": [
    {
     "data": {
      "text/html": [
       "-41.264276309734385"
      ],
      "text/plain": [
       "-41.264276309734385"
      ]
     },
     "execution_count": 67,
     "metadata": {},
     "output_type": "execute_result"
    }
   ],
   "source": [
    "spn_posterior(root)"
   ]
  },
  {
   "cell_type": "code",
   "execution_count": 14,
   "metadata": {
    "collapsed": true
   },
   "outputs": [],
   "source": [
    "#dirty!(root)"
   ]
  },
  {
   "cell_type": "code",
   "execution_count": 46,
   "metadata": {},
   "outputs": [
    {
     "data": {
      "text/plain": [
       "Gaussian Process Sum Node [ID: 3737, \n",
       "\t w_prior: [0.2, 0.2, 0.2, 0.2, 0.2], \n",
       "\t w_posterior: [0.2, 0.2, 0.2, 0.2, 0.2]]"
      ]
     },
     "execution_count": 46,
     "metadata": {},
     "output_type": "execute_result"
    }
   ],
   "source": [
    "root"
   ]
  },
  {
   "cell_type": "markdown",
   "metadata": {},
   "source": [
    "## Plotting"
   ]
  },
  {
   "cell_type": "code",
   "execution_count": 29,
   "metadata": {},
   "outputs": [
    {
     "data": {
      "text/plain": [
       "SPNGPResult([-0.0189417, -0.0186206, -0.017108, -0.0146442, -0.0123048, -0.0123971, -0.0164547, -0.00610876, -0.00737654, -0.0152851  …  -0.0152851, -0.0152851, -0.0152851, -0.0152851, -0.0152851, -0.0152851, -0.0152851, -0.0152851, -0.0152851, -0.0152851], [0.146119, 0.146555, 0.143913, 0.144794, 0.161469, 0.165718, 0.151064, 0.142178, 0.155329, 0.146985  …  0.146985, 0.146985, 0.146985, 0.146985, 0.146985, 0.146985, 0.146985, 0.146985, 0.146985, 0.146985], [-3.8271, -3.84091, -3.60772, -3.58972, -4.93948, -5.43163, -4.08455, -3.35093, -4.20372, -3.74326  …  -23.1854, -20.5251, -21.5305, -20.4978, -21.6288, -20.6106, -20.6545, -20.4157, -20.9408, -20.7083])"
      ]
     },
     "execution_count": 29,
     "metadata": {},
     "output_type": "execute_result"
    }
   ],
   "source": [
    "x = linspace(minimum(X),maximum(X),S)\n",
    "r = Dict{Int, SPNGPResult}()\n",
    "spn_predictIndep(root, x[1], r)"
   ]
  },
  {
   "cell_type": "code",
   "execution_count": 19,
   "metadata": {},
   "outputs": [
    {
     "data": {
      "text/plain": [
       "spn_predict (generic function with 1 method)"
      ]
     },
     "execution_count": 19,
     "metadata": {},
     "output_type": "execute_result"
    }
   ],
   "source": [
    "function spn_predict(root, x::Vector)\n",
    "    μ = zeros(length(x))\n",
    "    σ = zeros(length(x))\n",
    "    \n",
    "    for (xi, xx) in enumerate(x)\n",
    "        #println(xi)\n",
    "        r = Dict{Int, SPNGPResult}()\n",
    "        spn_predictIndep(root, xx, r)\n",
    "        μi = r[root.id].mean\n",
    "        μ2i = r[root.id].meansqr\n",
    "        σ2i = r[root.id].stdsqr\n",
    "                \n",
    "        μ[xi] = μi\n",
    "        σ[xi] = sqrt(σ2i + μ2i - μi^2)\n",
    "    end\n",
    "    return (μ, σ)\n",
    "end"
   ]
  },
  {
   "cell_type": "code",
   "execution_count": 23,
   "metadata": {},
   "outputs": [],
   "source": [
    "x = Float64.(collect(linspace(minimum(X),maximum(X),100)));"
   ]
  },
  {
   "cell_type": "code",
   "execution_count": 47,
   "metadata": {},
   "outputs": [
    {
     "data": {
      "text/plain": [
       "([-0.0148193, -0.0150404, -0.0152613, -0.0154819, -0.0157018, -0.0159209, -0.0161388, -0.0163554, -0.0165705, -0.0167837  …  0.00430179, 0.00457613, 0.00484808, 0.00511684, 0.00538166, 0.00564182, 0.00589664, 0.00614549, 0.00638776, 0.00662292], [0.149591, 0.149288, 0.149005, 0.148744, 0.148502, 0.148281, 0.14808, 0.147898, 0.147735, 0.14759  …  0.152921, 0.15322, 0.153536, 0.153872, 0.154225, 0.154597, 0.154987, 0.155395, 0.155821, 0.156265])"
      ]
     },
     "execution_count": 47,
     "metadata": {},
     "output_type": "execute_result"
    }
   ],
   "source": [
    "(μ, σ) = spn_predict(root, x)"
   ]
  },
  {
   "cell_type": "code",
   "execution_count": 68,
   "metadata": {},
   "outputs": [
    {
     "data": {
      "text/html": [
       "<?xml version=\"1.0\" encoding=\"utf-8\"?>\n",
       "<svg xmlns=\"http://www.w3.org/2000/svg\" xmlns:xlink=\"http://www.w3.org/1999/xlink\" width=\"1024\" height=\"768\" viewBox=\"0 0 1024 768\">\n",
       "<defs>\n",
       "  <clipPath id=\"clip3900\">\n",
       "    <rect x=\"0\" y=\"0\" width=\"1024\" height=\"768\"/>\n",
       "  </clipPath>\n",
       "</defs>\n",
       "<polygon clip-path=\"url(#clip3900)\" points=\"\n",
       "0,768 1024,768 1024,0 0,0 \n",
       "  \" fill=\"#ffffff\" fill-opacity=\"1\"/>\n",
       "<defs>\n",
       "  <clipPath id=\"clip3901\">\n",
       "    <rect x=\"204\" y=\"0\" width=\"718\" height=\"718\"/>\n",
       "  </clipPath>\n",
       "</defs>\n",
       "<polygon clip-path=\"url(#clip3900)\" points=\"\n",
       "29.2591,742.759 1004.31,742.759 1004.31,31.4961 29.2591,31.4961 \n",
       "  \" fill=\"#ffffff\" fill-opacity=\"1\"/>\n",
       "<defs>\n",
       "  <clipPath id=\"clip3902\">\n",
       "    <rect x=\"29\" y=\"31\" width=\"976\" height=\"712\"/>\n",
       "  </clipPath>\n",
       "</defs>\n",
       "<polyline clip-path=\"url(#clip3902)\" style=\"stroke:#000000; stroke-width:0.5; stroke-opacity:0.1; fill:none\" points=\"\n",
       "  56.8551,742.759 56.8551,31.4961 \n",
       "  \"/>\n",
       "<polyline clip-path=\"url(#clip3902)\" style=\"stroke:#000000; stroke-width:0.5; stroke-opacity:0.1; fill:none\" points=\"\n",
       "  210.166,742.759 210.166,31.4961 \n",
       "  \"/>\n",
       "<polyline clip-path=\"url(#clip3902)\" style=\"stroke:#000000; stroke-width:0.5; stroke-opacity:0.1; fill:none\" points=\"\n",
       "  363.476,742.759 363.476,31.4961 \n",
       "  \"/>\n",
       "<polyline clip-path=\"url(#clip3902)\" style=\"stroke:#000000; stroke-width:0.5; stroke-opacity:0.1; fill:none\" points=\"\n",
       "  516.787,742.759 516.787,31.4961 \n",
       "  \"/>\n",
       "<polyline clip-path=\"url(#clip3902)\" style=\"stroke:#000000; stroke-width:0.5; stroke-opacity:0.1; fill:none\" points=\"\n",
       "  670.098,742.759 670.098,31.4961 \n",
       "  \"/>\n",
       "<polyline clip-path=\"url(#clip3902)\" style=\"stroke:#000000; stroke-width:0.5; stroke-opacity:0.1; fill:none\" points=\"\n",
       "  823.408,742.759 823.408,31.4961 \n",
       "  \"/>\n",
       "<polyline clip-path=\"url(#clip3902)\" style=\"stroke:#000000; stroke-width:0.5; stroke-opacity:0.1; fill:none\" points=\"\n",
       "  976.719,742.759 976.719,31.4961 \n",
       "  \"/>\n",
       "<polyline clip-path=\"url(#clip3902)\" style=\"stroke:#000000; stroke-width:0.5; stroke-opacity:0.1; fill:none\" points=\"\n",
       "  29.2591,699.025 1004.31,699.025 \n",
       "  \"/>\n",
       "<polyline clip-path=\"url(#clip3902)\" style=\"stroke:#000000; stroke-width:0.5; stroke-opacity:0.1; fill:none\" points=\"\n",
       "  29.2591,495.527 1004.31,495.527 \n",
       "  \"/>\n",
       "<polyline clip-path=\"url(#clip3902)\" style=\"stroke:#000000; stroke-width:0.5; stroke-opacity:0.1; fill:none\" points=\"\n",
       "  29.2591,292.03 1004.31,292.03 \n",
       "  \"/>\n",
       "<polyline clip-path=\"url(#clip3902)\" style=\"stroke:#000000; stroke-width:0.5; stroke-opacity:0.1; fill:none\" points=\"\n",
       "  29.2591,88.5325 1004.31,88.5325 \n",
       "  \"/>\n",
       "<polyline clip-path=\"url(#clip3900)\" style=\"stroke:#000000; stroke-width:1; stroke-opacity:1; fill:none\" points=\"\n",
       "  29.2591,742.759 1004.31,742.759 \n",
       "  \"/>\n",
       "<polyline clip-path=\"url(#clip3900)\" style=\"stroke:#000000; stroke-width:1; stroke-opacity:1; fill:none\" points=\"\n",
       "  29.2591,742.759 29.2591,31.4961 \n",
       "  \"/>\n",
       "<polyline clip-path=\"url(#clip3900)\" style=\"stroke:#000000; stroke-width:1; stroke-opacity:1; fill:none\" points=\"\n",
       "  56.8551,742.759 56.8551,732.09 \n",
       "  \"/>\n",
       "<polyline clip-path=\"url(#clip3900)\" style=\"stroke:#000000; stroke-width:1; stroke-opacity:1; fill:none\" points=\"\n",
       "  210.166,742.759 210.166,732.09 \n",
       "  \"/>\n",
       "<polyline clip-path=\"url(#clip3900)\" style=\"stroke:#000000; stroke-width:1; stroke-opacity:1; fill:none\" points=\"\n",
       "  363.476,742.759 363.476,732.09 \n",
       "  \"/>\n",
       "<polyline clip-path=\"url(#clip3900)\" style=\"stroke:#000000; stroke-width:1; stroke-opacity:1; fill:none\" points=\"\n",
       "  516.787,742.759 516.787,732.09 \n",
       "  \"/>\n",
       "<polyline clip-path=\"url(#clip3900)\" style=\"stroke:#000000; stroke-width:1; stroke-opacity:1; fill:none\" points=\"\n",
       "  670.098,742.759 670.098,732.09 \n",
       "  \"/>\n",
       "<polyline clip-path=\"url(#clip3900)\" style=\"stroke:#000000; stroke-width:1; stroke-opacity:1; fill:none\" points=\"\n",
       "  823.408,742.759 823.408,732.09 \n",
       "  \"/>\n",
       "<polyline clip-path=\"url(#clip3900)\" style=\"stroke:#000000; stroke-width:1; stroke-opacity:1; fill:none\" points=\"\n",
       "  976.719,742.759 976.719,732.09 \n",
       "  \"/>\n",
       "<polyline clip-path=\"url(#clip3900)\" style=\"stroke:#000000; stroke-width:1; stroke-opacity:1; fill:none\" points=\"\n",
       "  29.2591,699.025 43.885,699.025 \n",
       "  \"/>\n",
       "<polyline clip-path=\"url(#clip3900)\" style=\"stroke:#000000; stroke-width:1; stroke-opacity:1; fill:none\" points=\"\n",
       "  29.2591,495.527 43.885,495.527 \n",
       "  \"/>\n",
       "<polyline clip-path=\"url(#clip3900)\" style=\"stroke:#000000; stroke-width:1; stroke-opacity:1; fill:none\" points=\"\n",
       "  29.2591,292.03 43.885,292.03 \n",
       "  \"/>\n",
       "<polyline clip-path=\"url(#clip3900)\" style=\"stroke:#000000; stroke-width:1; stroke-opacity:1; fill:none\" points=\"\n",
       "  29.2591,88.5325 43.885,88.5325 \n",
       "  \"/>\n",
       "<g clip-path=\"url(#clip3900)\">\n",
       "<text style=\"fill:#000000; fill-opacity:1; font-family:Arial,Helvetica Neue,Helvetica,sans-serif; font-size:12; text-anchor:middle;\" transform=\"rotate(0, 56.8551, 758.679)\" x=\"56.8551\" y=\"758.679\">0</text>\n",
       "</g>\n",
       "<g clip-path=\"url(#clip3900)\">\n",
       "<text style=\"fill:#000000; fill-opacity:1; font-family:Arial,Helvetica Neue,Helvetica,sans-serif; font-size:12; text-anchor:middle;\" transform=\"rotate(0, 210.166, 758.679)\" x=\"210.166\" y=\"758.679\">10</text>\n",
       "</g>\n",
       "<g clip-path=\"url(#clip3900)\">\n",
       "<text style=\"fill:#000000; fill-opacity:1; font-family:Arial,Helvetica Neue,Helvetica,sans-serif; font-size:12; text-anchor:middle;\" transform=\"rotate(0, 363.476, 758.679)\" x=\"363.476\" y=\"758.679\">20</text>\n",
       "</g>\n",
       "<g clip-path=\"url(#clip3900)\">\n",
       "<text style=\"fill:#000000; fill-opacity:1; font-family:Arial,Helvetica Neue,Helvetica,sans-serif; font-size:12; text-anchor:middle;\" transform=\"rotate(0, 516.787, 758.679)\" x=\"516.787\" y=\"758.679\">30</text>\n",
       "</g>\n",
       "<g clip-path=\"url(#clip3900)\">\n",
       "<text style=\"fill:#000000; fill-opacity:1; font-family:Arial,Helvetica Neue,Helvetica,sans-serif; font-size:12; text-anchor:middle;\" transform=\"rotate(0, 670.098, 758.679)\" x=\"670.098\" y=\"758.679\">40</text>\n",
       "</g>\n",
       "<g clip-path=\"url(#clip3900)\">\n",
       "<text style=\"fill:#000000; fill-opacity:1; font-family:Arial,Helvetica Neue,Helvetica,sans-serif; font-size:12; text-anchor:middle;\" transform=\"rotate(0, 823.408, 758.679)\" x=\"823.408\" y=\"758.679\">50</text>\n",
       "</g>\n",
       "<g clip-path=\"url(#clip3900)\">\n",
       "<text style=\"fill:#000000; fill-opacity:1; font-family:Arial,Helvetica Neue,Helvetica,sans-serif; font-size:12; text-anchor:middle;\" transform=\"rotate(0, 976.719, 758.679)\" x=\"976.719\" y=\"758.679\">60</text>\n",
       "</g>\n",
       "<g clip-path=\"url(#clip3900)\">\n",
       "<text style=\"fill:#000000; fill-opacity:1; font-family:Arial,Helvetica Neue,Helvetica,sans-serif; font-size:12; text-anchor:end;\" transform=\"rotate(0, 19.0191, 703.525)\" x=\"19.0191\" y=\"703.525\">-2</text>\n",
       "</g>\n",
       "<g clip-path=\"url(#clip3900)\">\n",
       "<text style=\"fill:#000000; fill-opacity:1; font-family:Arial,Helvetica Neue,Helvetica,sans-serif; font-size:12; text-anchor:end;\" transform=\"rotate(0, 19.0191, 500.027)\" x=\"19.0191\" y=\"500.027\">-1</text>\n",
       "</g>\n",
       "<g clip-path=\"url(#clip3900)\">\n",
       "<text style=\"fill:#000000; fill-opacity:1; font-family:Arial,Helvetica Neue,Helvetica,sans-serif; font-size:12; text-anchor:end;\" transform=\"rotate(0, 19.0191, 296.53)\" x=\"19.0191\" y=\"296.53\">0</text>\n",
       "</g>\n",
       "<g clip-path=\"url(#clip3900)\">\n",
       "<text style=\"fill:#000000; fill-opacity:1; font-family:Arial,Helvetica Neue,Helvetica,sans-serif; font-size:12; text-anchor:end;\" transform=\"rotate(0, 19.0191, 93.0325)\" x=\"19.0191\" y=\"93.0325\">1</text>\n",
       "</g>\n",
       "<g clip-path=\"url(#clip3900)\">\n",
       "<text style=\"fill:#000000; fill-opacity:1; font-family:Arial,Helvetica Neue,Helvetica,sans-serif; font-size:21; text-anchor:middle;\" transform=\"rotate(0, 516.787, 18)\" x=\"516.787\" y=\"18\">Univariate Gaussian Moment Matching 100 samples</text>\n",
       "</g>\n",
       "<circle clip-path=\"url(#clip3902)\" style=\"fill:#000000; stroke:none; fill-opacity:1\" cx=\"93.6496\" cy=\"292.03\" r=\"4\"/>\n",
       "<circle clip-path=\"url(#clip3902)\" style=\"fill:#009af9; stroke:none; fill-opacity:1\" cx=\"93.6496\" cy=\"292.03\" r=\"3\"/>\n",
       "<circle clip-path=\"url(#clip3902)\" style=\"fill:#000000; stroke:none; fill-opacity:1\" cx=\"96.7158\" cy=\"295.557\" r=\"4\"/>\n",
       "<circle clip-path=\"url(#clip3902)\" style=\"fill:#009af9; stroke:none; fill-opacity:1\" cx=\"96.7158\" cy=\"295.557\" r=\"3\"/>\n",
       "<circle clip-path=\"url(#clip3902)\" style=\"fill:#000000; stroke:none; fill-opacity:1\" cx=\"105.914\" cy=\"299.356\" r=\"4\"/>\n",
       "<circle clip-path=\"url(#clip3902)\" style=\"fill:#009af9; stroke:none; fill-opacity:1\" cx=\"105.914\" cy=\"299.356\" r=\"3\"/>\n",
       "<circle clip-path=\"url(#clip3902)\" style=\"fill:#000000; stroke:none; fill-opacity:1\" cx=\"112.047\" cy=\"292.03\" r=\"4\"/>\n",
       "<circle clip-path=\"url(#clip3902)\" style=\"fill:#009af9; stroke:none; fill-opacity:1\" cx=\"112.047\" cy=\"292.03\" r=\"3\"/>\n",
       "<circle clip-path=\"url(#clip3902)\" style=\"fill:#000000; stroke:none; fill-opacity:1\" cx=\"118.179\" cy=\"299.356\" r=\"4\"/>\n",
       "<circle clip-path=\"url(#clip3902)\" style=\"fill:#009af9; stroke:none; fill-opacity:1\" cx=\"118.179\" cy=\"299.356\" r=\"3\"/>\n",
       "<circle clip-path=\"url(#clip3902)\" style=\"fill:#000000; stroke:none; fill-opacity:1\" cx=\"151.908\" cy=\"299.356\" r=\"4\"/>\n",
       "<circle clip-path=\"url(#clip3902)\" style=\"fill:#009af9; stroke:none; fill-opacity:1\" cx=\"151.908\" cy=\"299.356\" r=\"3\"/>\n",
       "<circle clip-path=\"url(#clip3902)\" style=\"fill:#000000; stroke:none; fill-opacity:1\" cx=\"158.04\" cy=\"299.356\" r=\"4\"/>\n",
       "<circle clip-path=\"url(#clip3902)\" style=\"fill:#009af9; stroke:none; fill-opacity:1\" cx=\"158.04\" cy=\"299.356\" r=\"3\"/>\n",
       "<circle clip-path=\"url(#clip3902)\" style=\"fill:#000000; stroke:none; fill-opacity:1\" cx=\"161.106\" cy=\"295.557\" r=\"4\"/>\n",
       "<circle clip-path=\"url(#clip3902)\" style=\"fill:#009af9; stroke:none; fill-opacity:1\" cx=\"161.106\" cy=\"295.557\" r=\"3\"/>\n",
       "<circle clip-path=\"url(#clip3902)\" style=\"fill:#000000; stroke:none; fill-opacity:1\" cx=\"176.437\" cy=\"299.356\" r=\"4\"/>\n",
       "<circle clip-path=\"url(#clip3902)\" style=\"fill:#009af9; stroke:none; fill-opacity:1\" cx=\"176.437\" cy=\"299.356\" r=\"3\"/>\n",
       "<circle clip-path=\"url(#clip3902)\" style=\"fill:#000000; stroke:none; fill-opacity:1\" cx=\"182.57\" cy=\"299.356\" r=\"4\"/>\n",
       "<circle clip-path=\"url(#clip3902)\" style=\"fill:#009af9; stroke:none; fill-opacity:1\" cx=\"182.57\" cy=\"299.356\" r=\"3\"/>\n",
       "<circle clip-path=\"url(#clip3902)\" style=\"fill:#000000; stroke:none; fill-opacity:1\" cx=\"191.768\" cy=\"295.557\" r=\"4\"/>\n",
       "<circle clip-path=\"url(#clip3902)\" style=\"fill:#009af9; stroke:none; fill-opacity:1\" cx=\"191.768\" cy=\"295.557\" r=\"3\"/>\n",
       "<circle clip-path=\"url(#clip3902)\" style=\"fill:#000000; stroke:none; fill-opacity:1\" cx=\"204.033\" cy=\"299.356\" r=\"4\"/>\n",
       "<circle clip-path=\"url(#clip3902)\" style=\"fill:#009af9; stroke:none; fill-opacity:1\" cx=\"204.033\" cy=\"299.356\" r=\"3\"/>\n",
       "<circle clip-path=\"url(#clip3902)\" style=\"fill:#000000; stroke:none; fill-opacity:1\" cx=\"210.166\" cy=\"299.356\" r=\"4\"/>\n",
       "<circle clip-path=\"url(#clip3902)\" style=\"fill:#009af9; stroke:none; fill-opacity:1\" cx=\"210.166\" cy=\"299.356\" r=\"3\"/>\n",
       "<circle clip-path=\"url(#clip3902)\" style=\"fill:#000000; stroke:none; fill-opacity:1\" cx=\"213.232\" cy=\"306.682\" r=\"4\"/>\n",
       "<circle clip-path=\"url(#clip3902)\" style=\"fill:#009af9; stroke:none; fill-opacity:1\" cx=\"213.232\" cy=\"306.682\" r=\"3\"/>\n",
       "<circle clip-path=\"url(#clip3902)\" style=\"fill:#000000; stroke:none; fill-opacity:1\" cx=\"219.364\" cy=\"299.356\" r=\"4\"/>\n",
       "<circle clip-path=\"url(#clip3902)\" style=\"fill:#009af9; stroke:none; fill-opacity:1\" cx=\"219.364\" cy=\"299.356\" r=\"3\"/>\n",
       "<circle clip-path=\"url(#clip3902)\" style=\"fill:#000000; stroke:none; fill-opacity:1\" cx=\"225.497\" cy=\"306.682\" r=\"4\"/>\n",
       "<circle clip-path=\"url(#clip3902)\" style=\"fill:#009af9; stroke:none; fill-opacity:1\" cx=\"225.497\" cy=\"306.682\" r=\"3\"/>\n",
       "<circle clip-path=\"url(#clip3902)\" style=\"fill:#000000; stroke:none; fill-opacity:1\" cx=\"231.629\" cy=\"292.03\" r=\"4\"/>\n",
       "<circle clip-path=\"url(#clip3902)\" style=\"fill:#009af9; stroke:none; fill-opacity:1\" cx=\"231.629\" cy=\"292.03\" r=\"3\"/>\n",
       "<circle clip-path=\"url(#clip3902)\" style=\"fill:#000000; stroke:none; fill-opacity:1\" cx=\"259.225\" cy=\"299.356\" r=\"4\"/>\n",
       "<circle clip-path=\"url(#clip3902)\" style=\"fill:#009af9; stroke:none; fill-opacity:1\" cx=\"259.225\" cy=\"299.356\" r=\"3\"/>\n",
       "<circle clip-path=\"url(#clip3902)\" style=\"fill:#000000; stroke:none; fill-opacity:1\" cx=\"265.358\" cy=\"299.356\" r=\"4\"/>\n",
       "<circle clip-path=\"url(#clip3902)\" style=\"fill:#009af9; stroke:none; fill-opacity:1\" cx=\"265.358\" cy=\"299.356\" r=\"3\"/>\n",
       "<circle clip-path=\"url(#clip3902)\" style=\"fill:#000000; stroke:none; fill-opacity:1\" cx=\"268.424\" cy=\"292.03\" r=\"4\"/>\n",
       "<circle clip-path=\"url(#clip3902)\" style=\"fill:#009af9; stroke:none; fill-opacity:1\" cx=\"268.424\" cy=\"292.03\" r=\"3\"/>\n",
       "<circle clip-path=\"url(#clip3902)\" style=\"fill:#000000; stroke:none; fill-opacity:1\" cx=\"280.689\" cy=\"328.117\" r=\"4\"/>\n",
       "<circle clip-path=\"url(#clip3902)\" style=\"fill:#009af9; stroke:none; fill-opacity:1\" cx=\"280.689\" cy=\"328.117\" r=\"3\"/>\n",
       "<circle clip-path=\"url(#clip3902)\" style=\"fill:#000000; stroke:none; fill-opacity:1\" cx=\"283.755\" cy=\"299.356\" r=\"4\"/>\n",
       "<circle clip-path=\"url(#clip3902)\" style=\"fill:#009af9; stroke:none; fill-opacity:1\" cx=\"283.755\" cy=\"299.356\" r=\"3\"/>\n",
       "<circle clip-path=\"url(#clip3902)\" style=\"fill:#000000; stroke:none; fill-opacity:1\" cx=\"292.953\" cy=\"353.893\" r=\"4\"/>\n",
       "<circle clip-path=\"url(#clip3902)\" style=\"fill:#009af9; stroke:none; fill-opacity:1\" cx=\"292.953\" cy=\"353.893\" r=\"3\"/>\n",
       "<circle clip-path=\"url(#clip3902)\" style=\"fill:#000000; stroke:none; fill-opacity:1\" cx=\"296.02\" cy=\"401.104\" r=\"4\"/>\n",
       "<circle clip-path=\"url(#clip3902)\" style=\"fill:#009af9; stroke:none; fill-opacity:1\" cx=\"296.02\" cy=\"401.104\" r=\"3\"/>\n",
       "<circle clip-path=\"url(#clip3902)\" style=\"fill:#000000; stroke:none; fill-opacity:1\" cx=\"299.086\" cy=\"350.366\" r=\"4\"/>\n",
       "<circle clip-path=\"url(#clip3902)\" style=\"fill:#009af9; stroke:none; fill-opacity:1\" cx=\"299.086\" cy=\"350.366\" r=\"3\"/>\n",
       "<circle clip-path=\"url(#clip3902)\" style=\"fill:#000000; stroke:none; fill-opacity:1\" cx=\"302.152\" cy=\"408.43\" r=\"4\"/>\n",
       "<circle clip-path=\"url(#clip3902)\" style=\"fill:#009af9; stroke:none; fill-opacity:1\" cx=\"302.152\" cy=\"408.43\" r=\"3\"/>\n",
       "<circle clip-path=\"url(#clip3902)\" style=\"fill:#000000; stroke:none; fill-opacity:1\" cx=\"305.218\" cy=\"350.366\" r=\"4\"/>\n",
       "<circle clip-path=\"url(#clip3902)\" style=\"fill:#009af9; stroke:none; fill-opacity:1\" cx=\"305.218\" cy=\"350.366\" r=\"3\"/>\n",
       "<circle clip-path=\"url(#clip3902)\" style=\"fill:#000000; stroke:none; fill-opacity:1\" cx=\"308.285\" cy=\"306.682\" r=\"4\"/>\n",
       "<circle clip-path=\"url(#clip3902)\" style=\"fill:#009af9; stroke:none; fill-opacity:1\" cx=\"308.285\" cy=\"306.682\" r=\"3\"/>\n",
       "<circle clip-path=\"url(#clip3902)\" style=\"fill:#000000; stroke:none; fill-opacity:1\" cx=\"311.351\" cy=\"452.114\" r=\"4\"/>\n",
       "<circle clip-path=\"url(#clip3902)\" style=\"fill:#009af9; stroke:none; fill-opacity:1\" cx=\"311.351\" cy=\"452.114\" r=\"3\"/>\n",
       "<circle clip-path=\"url(#clip3902)\" style=\"fill:#000000; stroke:none; fill-opacity:1\" cx=\"314.417\" cy=\"484.674\" r=\"4\"/>\n",
       "<circle clip-path=\"url(#clip3902)\" style=\"fill:#009af9; stroke:none; fill-opacity:1\" cx=\"314.417\" cy=\"484.674\" r=\"3\"/>\n",
       "<circle clip-path=\"url(#clip3902)\" style=\"fill:#000000; stroke:none; fill-opacity:1\" cx=\"326.682\" cy=\"393.779\" r=\"4\"/>\n",
       "<circle clip-path=\"url(#clip3902)\" style=\"fill:#009af9; stroke:none; fill-opacity:1\" cx=\"326.682\" cy=\"393.779\" r=\"3\"/>\n",
       "<circle clip-path=\"url(#clip3902)\" style=\"fill:#000000; stroke:none; fill-opacity:1\" cx=\"329.748\" cy=\"560.918\" r=\"4\"/>\n",
       "<circle clip-path=\"url(#clip3902)\" style=\"fill:#009af9; stroke:none; fill-opacity:1\" cx=\"329.748\" cy=\"560.918\" r=\"3\"/>\n",
       "<circle clip-path=\"url(#clip3902)\" style=\"fill:#000000; stroke:none; fill-opacity:1\" cx=\"342.013\" cy=\"597.276\" r=\"4\"/>\n",
       "<circle clip-path=\"url(#clip3902)\" style=\"fill:#009af9; stroke:none; fill-opacity:1\" cx=\"342.013\" cy=\"597.276\" r=\"3\"/>\n",
       "<circle clip-path=\"url(#clip3902)\" style=\"fill:#000000; stroke:none; fill-opacity:1\" cx=\"351.212\" cy=\"626.037\" r=\"4\"/>\n",
       "<circle clip-path=\"url(#clip3902)\" style=\"fill:#009af9; stroke:none; fill-opacity:1\" cx=\"351.212\" cy=\"626.037\" r=\"3\"/>\n",
       "<circle clip-path=\"url(#clip3902)\" style=\"fill:#000000; stroke:none; fill-opacity:1\" cx=\"354.278\" cy=\"524.288\" r=\"4\"/>\n",
       "<circle clip-path=\"url(#clip3902)\" style=\"fill:#009af9; stroke:none; fill-opacity:1\" cx=\"354.278\" cy=\"524.288\" r=\"3\"/>\n",
       "<circle clip-path=\"url(#clip3902)\" style=\"fill:#000000; stroke:none; fill-opacity:1\" cx=\"357.344\" cy=\"637.161\" r=\"4\"/>\n",
       "<circle clip-path=\"url(#clip3902)\" style=\"fill:#009af9; stroke:none; fill-opacity:1\" cx=\"357.344\" cy=\"637.161\" r=\"3\"/>\n",
       "<circle clip-path=\"url(#clip3902)\" style=\"fill:#000000; stroke:none; fill-opacity:1\" cx=\"366.543\" cy=\"626.037\" r=\"4\"/>\n",
       "<circle clip-path=\"url(#clip3902)\" style=\"fill:#009af9; stroke:none; fill-opacity:1\" cx=\"366.543\" cy=\"626.037\" r=\"3\"/>\n",
       "<circle clip-path=\"url(#clip3902)\" style=\"fill:#000000; stroke:none; fill-opacity:1\" cx=\"369.609\" cy=\"611.928\" r=\"4\"/>\n",
       "<circle clip-path=\"url(#clip3902)\" style=\"fill:#009af9; stroke:none; fill-opacity:1\" cx=\"369.609\" cy=\"611.928\" r=\"3\"/>\n",
       "<circle clip-path=\"url(#clip3902)\" style=\"fill:#000000; stroke:none; fill-opacity:1\" cx=\"381.874\" cy=\"655.612\" r=\"4\"/>\n",
       "<circle clip-path=\"url(#clip3902)\" style=\"fill:#009af9; stroke:none; fill-opacity:1\" cx=\"381.874\" cy=\"655.612\" r=\"3\"/>\n",
       "<circle clip-path=\"url(#clip3902)\" style=\"fill:#000000; stroke:none; fill-opacity:1\" cx=\"384.94\" cy=\"568.515\" r=\"4\"/>\n",
       "<circle clip-path=\"url(#clip3902)\" style=\"fill:#009af9; stroke:none; fill-opacity:1\" cx=\"384.94\" cy=\"568.515\" r=\"3\"/>\n",
       "<circle clip-path=\"url(#clip3902)\" style=\"fill:#000000; stroke:none; fill-opacity:1\" cx=\"391.072\" cy=\"586.151\" r=\"4\"/>\n",
       "<circle clip-path=\"url(#clip3902)\" style=\"fill:#009af9; stroke:none; fill-opacity:1\" cx=\"391.072\" cy=\"586.151\" r=\"3\"/>\n",
       "<circle clip-path=\"url(#clip3902)\" style=\"fill:#000000; stroke:none; fill-opacity:1\" cx=\"394.139\" cy=\"626.037\" r=\"4\"/>\n",
       "<circle clip-path=\"url(#clip3902)\" style=\"fill:#009af9; stroke:none; fill-opacity:1\" cx=\"394.139\" cy=\"626.037\" r=\"3\"/>\n",
       "<circle clip-path=\"url(#clip3902)\" style=\"fill:#000000; stroke:none; fill-opacity:1\" cx=\"412.536\" cy=\"626.037\" r=\"4\"/>\n",
       "<circle clip-path=\"url(#clip3902)\" style=\"fill:#009af9; stroke:none; fill-opacity:1\" cx=\"412.536\" cy=\"626.037\" r=\"3\"/>\n",
       "<circle clip-path=\"url(#clip3902)\" style=\"fill:#000000; stroke:none; fill-opacity:1\" cx=\"415.602\" cy=\"640.689\" r=\"4\"/>\n",
       "<circle clip-path=\"url(#clip3902)\" style=\"fill:#009af9; stroke:none; fill-opacity:1\" cx=\"415.602\" cy=\"640.689\" r=\"3\"/>\n",
       "<circle clip-path=\"url(#clip3902)\" style=\"fill:#000000; stroke:none; fill-opacity:1\" cx=\"424.801\" cy=\"597.276\" r=\"4\"/>\n",
       "<circle clip-path=\"url(#clip3902)\" style=\"fill:#009af9; stroke:none; fill-opacity:1\" cx=\"424.801\" cy=\"597.276\" r=\"3\"/>\n",
       "<circle clip-path=\"url(#clip3902)\" style=\"fill:#000000; stroke:none; fill-opacity:1\" cx=\"427.867\" cy=\"550.064\" r=\"4\"/>\n",
       "<circle clip-path=\"url(#clip3902)\" style=\"fill:#009af9; stroke:none; fill-opacity:1\" cx=\"427.867\" cy=\"550.064\" r=\"3\"/>\n",
       "<circle clip-path=\"url(#clip3902)\" style=\"fill:#000000; stroke:none; fill-opacity:1\" cx=\"433.999\" cy=\"437.191\" r=\"4\"/>\n",
       "<circle clip-path=\"url(#clip3902)\" style=\"fill:#009af9; stroke:none; fill-opacity:1\" cx=\"433.999\" cy=\"437.191\" r=\"3\"/>\n",
       "<circle clip-path=\"url(#clip3902)\" style=\"fill:#000000; stroke:none; fill-opacity:1\" cx=\"440.132\" cy=\"466.766\" r=\"4\"/>\n",
       "<circle clip-path=\"url(#clip3902)\" style=\"fill:#009af9; stroke:none; fill-opacity:1\" cx=\"440.132\" cy=\"466.766\" r=\"3\"/>\n",
       "<circle clip-path=\"url(#clip3902)\" style=\"fill:#000000; stroke:none; fill-opacity:1\" cx=\"446.264\" cy=\"488.201\" r=\"4\"/>\n",
       "<circle clip-path=\"url(#clip3902)\" style=\"fill:#009af9; stroke:none; fill-opacity:1\" cx=\"446.264\" cy=\"488.201\" r=\"3\"/>\n",
       "<circle clip-path=\"url(#clip3902)\" style=\"fill:#000000; stroke:none; fill-opacity:1\" cx=\"449.33\" cy=\"364.746\" r=\"4\"/>\n",
       "<circle clip-path=\"url(#clip3902)\" style=\"fill:#009af9; stroke:none; fill-opacity:1\" cx=\"449.33\" cy=\"364.746\" r=\"3\"/>\n",
       "<circle clip-path=\"url(#clip3902)\" style=\"fill:#000000; stroke:none; fill-opacity:1\" cx=\"455.463\" cy=\"306.682\" r=\"4\"/>\n",
       "<circle clip-path=\"url(#clip3902)\" style=\"fill:#009af9; stroke:none; fill-opacity:1\" cx=\"455.463\" cy=\"306.682\" r=\"3\"/>\n",
       "<circle clip-path=\"url(#clip3902)\" style=\"fill:#000000; stroke:none; fill-opacity:1\" cx=\"458.529\" cy=\"582.624\" r=\"4\"/>\n",
       "<circle clip-path=\"url(#clip3902)\" style=\"fill:#009af9; stroke:none; fill-opacity:1\" cx=\"458.529\" cy=\"582.624\" r=\"3\"/>\n",
       "<circle clip-path=\"url(#clip3902)\" style=\"fill:#000000; stroke:none; fill-opacity:1\" cx=\"461.595\" cy=\"470.022\" r=\"4\"/>\n",
       "<circle clip-path=\"url(#clip3902)\" style=\"fill:#009af9; stroke:none; fill-opacity:1\" cx=\"461.595\" cy=\"470.022\" r=\"3\"/>\n",
       "<circle clip-path=\"url(#clip3902)\" style=\"fill:#000000; stroke:none; fill-opacity:1\" cx=\"470.794\" cy=\"335.443\" r=\"4\"/>\n",
       "<circle clip-path=\"url(#clip3902)\" style=\"fill:#009af9; stroke:none; fill-opacity:1\" cx=\"470.794\" cy=\"335.443\" r=\"3\"/>\n",
       "<circle clip-path=\"url(#clip3902)\" style=\"fill:#000000; stroke:none; fill-opacity:1\" cx=\"473.86\" cy=\"415.756\" r=\"4\"/>\n",
       "<circle clip-path=\"url(#clip3902)\" style=\"fill:#009af9; stroke:none; fill-opacity:1\" cx=\"473.86\" cy=\"415.756\" r=\"3\"/>\n",
       "<circle clip-path=\"url(#clip3902)\" style=\"fill:#000000; stroke:none; fill-opacity:1\" cx=\"479.992\" cy=\"281.177\" r=\"4\"/>\n",
       "<circle clip-path=\"url(#clip3902)\" style=\"fill:#009af9; stroke:none; fill-opacity:1\" cx=\"479.992\" cy=\"281.177\" r=\"3\"/>\n",
       "<circle clip-path=\"url(#clip3902)\" style=\"fill:#000000; stroke:none; fill-opacity:1\" cx=\"489.191\" cy=\"259.47\" r=\"4\"/>\n",
       "<circle clip-path=\"url(#clip3902)\" style=\"fill:#009af9; stroke:none; fill-opacity:1\" cx=\"489.191\" cy=\"259.47\" r=\"3\"/>\n",
       "<circle clip-path=\"url(#clip3902)\" style=\"fill:#000000; stroke:none; fill-opacity:1\" cx=\"492.257\" cy=\"350.366\" r=\"4\"/>\n",
       "<circle clip-path=\"url(#clip3902)\" style=\"fill:#009af9; stroke:none; fill-opacity:1\" cx=\"492.257\" cy=\"350.366\" r=\"3\"/>\n",
       "<circle clip-path=\"url(#clip3902)\" style=\"fill:#000000; stroke:none; fill-opacity:1\" cx=\"495.324\" cy=\"164.776\" r=\"4\"/>\n",
       "<circle clip-path=\"url(#clip3902)\" style=\"fill:#009af9; stroke:none; fill-opacity:1\" cx=\"495.324\" cy=\"164.776\" r=\"3\"/>\n",
       "<circle clip-path=\"url(#clip3902)\" style=\"fill:#000000; stroke:none; fill-opacity:1\" cx=\"507.588\" cy=\"339.241\" r=\"4\"/>\n",
       "<circle clip-path=\"url(#clip3902)\" style=\"fill:#009af9; stroke:none; fill-opacity:1\" cx=\"507.588\" cy=\"339.241\" r=\"3\"/>\n",
       "<circle clip-path=\"url(#clip3902)\" style=\"fill:#000000; stroke:none; fill-opacity:1\" cx=\"519.853\" cy=\"193.808\" r=\"4\"/>\n",
       "<circle clip-path=\"url(#clip3902)\" style=\"fill:#009af9; stroke:none; fill-opacity:1\" cx=\"519.853\" cy=\"193.808\" r=\"3\"/>\n",
       "<circle clip-path=\"url(#clip3902)\" style=\"fill:#000000; stroke:none; fill-opacity:1\" cx=\"532.118\" cy=\"88.5325\" r=\"4\"/>\n",
       "<circle clip-path=\"url(#clip3902)\" style=\"fill:#009af9; stroke:none; fill-opacity:1\" cx=\"532.118\" cy=\"88.5325\" r=\"3\"/>\n",
       "<circle clip-path=\"url(#clip3902)\" style=\"fill:#000000; stroke:none; fill-opacity:1\" cx=\"535.184\" cy=\"270.052\" r=\"4\"/>\n",
       "<circle clip-path=\"url(#clip3902)\" style=\"fill:#009af9; stroke:none; fill-opacity:1\" cx=\"535.184\" cy=\"270.052\" r=\"3\"/>\n",
       "<circle clip-path=\"url(#clip3902)\" style=\"fill:#000000; stroke:none; fill-opacity:1\" cx=\"547.449\" cy=\"143.07\" r=\"4\"/>\n",
       "<circle clip-path=\"url(#clip3902)\" style=\"fill:#009af9; stroke:none; fill-opacity:1\" cx=\"547.449\" cy=\"143.07\" r=\"3\"/>\n",
       "<circle clip-path=\"url(#clip3902)\" style=\"fill:#000000; stroke:none; fill-opacity:1\" cx=\"559.714\" cy=\"164.776\" r=\"4\"/>\n",
       "<circle clip-path=\"url(#clip3902)\" style=\"fill:#009af9; stroke:none; fill-opacity:1\" cx=\"559.714\" cy=\"164.776\" r=\"3\"/>\n",
       "<circle clip-path=\"url(#clip3902)\" style=\"fill:#000000; stroke:none; fill-opacity:1\" cx=\"568.913\" cy=\"248.617\" r=\"4\"/>\n",
       "<circle clip-path=\"url(#clip3902)\" style=\"fill:#009af9; stroke:none; fill-opacity:1\" cx=\"568.913\" cy=\"248.617\" r=\"3\"/>\n",
       "<circle clip-path=\"url(#clip3902)\" style=\"fill:#000000; stroke:none; fill-opacity:1\" cx=\"575.045\" cy=\"168.303\" r=\"4\"/>\n",
       "<circle clip-path=\"url(#clip3902)\" style=\"fill:#009af9; stroke:none; fill-opacity:1\" cx=\"575.045\" cy=\"168.303\" r=\"3\"/>\n",
       "<circle clip-path=\"url(#clip3902)\" style=\"fill:#000000; stroke:none; fill-opacity:1\" cx=\"584.244\" cy=\"288.503\" r=\"4\"/>\n",
       "<circle clip-path=\"url(#clip3902)\" style=\"fill:#009af9; stroke:none; fill-opacity:1\" cx=\"584.244\" cy=\"288.503\" r=\"3\"/>\n",
       "<circle clip-path=\"url(#clip3902)\" style=\"fill:#000000; stroke:none; fill-opacity:1\" cx=\"590.376\" cy=\"88.5325\" r=\"4\"/>\n",
       "<circle clip-path=\"url(#clip3902)\" style=\"fill:#009af9; stroke:none; fill-opacity:1\" cx=\"590.376\" cy=\"88.5325\" r=\"3\"/>\n",
       "<circle clip-path=\"url(#clip3902)\" style=\"fill:#000000; stroke:none; fill-opacity:1\" cx=\"596.509\" cy=\"335.443\" r=\"4\"/>\n",
       "<circle clip-path=\"url(#clip3902)\" style=\"fill:#009af9; stroke:none; fill-opacity:1\" cx=\"596.509\" cy=\"335.443\" r=\"3\"/>\n",
       "<circle clip-path=\"url(#clip3902)\" style=\"fill:#000000; stroke:none; fill-opacity:1\" cx=\"599.575\" cy=\"103.184\" r=\"4\"/>\n",
       "<circle clip-path=\"url(#clip3902)\" style=\"fill:#009af9; stroke:none; fill-opacity:1\" cx=\"599.575\" cy=\"103.184\" r=\"3\"/>\n",
       "<circle clip-path=\"url(#clip3902)\" style=\"fill:#000000; stroke:none; fill-opacity:1\" cx=\"602.641\" cy=\"197.607\" r=\"4\"/>\n",
       "<circle clip-path=\"url(#clip3902)\" style=\"fill:#009af9; stroke:none; fill-opacity:1\" cx=\"602.641\" cy=\"197.607\" r=\"3\"/>\n",
       "<circle clip-path=\"url(#clip3902)\" style=\"fill:#000000; stroke:none; fill-opacity:1\" cx=\"611.84\" cy=\"393.779\" r=\"4\"/>\n",
       "<circle clip-path=\"url(#clip3902)\" style=\"fill:#009af9; stroke:none; fill-opacity:1\" cx=\"611.84\" cy=\"393.779\" r=\"3\"/>\n",
       "<circle clip-path=\"url(#clip3902)\" style=\"fill:#000000; stroke:none; fill-opacity:1\" cx=\"639.436\" cy=\"164.776\" r=\"4\"/>\n",
       "<circle clip-path=\"url(#clip3902)\" style=\"fill:#009af9; stroke:none; fill-opacity:1\" cx=\"639.436\" cy=\"164.776\" r=\"3\"/>\n",
       "<circle clip-path=\"url(#clip3902)\" style=\"fill:#000000; stroke:none; fill-opacity:1\" cx=\"657.833\" cy=\"277.378\" r=\"4\"/>\n",
       "<circle clip-path=\"url(#clip3902)\" style=\"fill:#009af9; stroke:none; fill-opacity:1\" cx=\"657.833\" cy=\"277.378\" r=\"3\"/>\n",
       "<circle clip-path=\"url(#clip3902)\" style=\"fill:#000000; stroke:none; fill-opacity:1\" cx=\"660.899\" cy=\"295.557\" r=\"4\"/>\n",
       "<circle clip-path=\"url(#clip3902)\" style=\"fill:#009af9; stroke:none; fill-opacity:1\" cx=\"660.899\" cy=\"295.557\" r=\"3\"/>\n",
       "<circle clip-path=\"url(#clip3902)\" style=\"fill:#000000; stroke:none; fill-opacity:1\" cx=\"670.098\" cy=\"350.366\" r=\"4\"/>\n",
       "<circle clip-path=\"url(#clip3902)\" style=\"fill:#009af9; stroke:none; fill-opacity:1\" cx=\"670.098\" cy=\"350.366\" r=\"3\"/>\n",
       "<circle clip-path=\"url(#clip3902)\" style=\"fill:#000000; stroke:none; fill-opacity:1\" cx=\"676.23\" cy=\"328.117\" r=\"4\"/>\n",
       "<circle clip-path=\"url(#clip3902)\" style=\"fill:#009af9; stroke:none; fill-opacity:1\" cx=\"676.23\" cy=\"328.117\" r=\"3\"/>\n",
       "<circle clip-path=\"url(#clip3902)\" style=\"fill:#000000; stroke:none; fill-opacity:1\" cx=\"694.627\" cy=\"208.46\" r=\"4\"/>\n",
       "<circle clip-path=\"url(#clip3902)\" style=\"fill:#009af9; stroke:none; fill-opacity:1\" cx=\"694.627\" cy=\"208.46\" r=\"3\"/>\n",
       "<circle clip-path=\"url(#clip3902)\" style=\"fill:#000000; stroke:none; fill-opacity:1\" cx=\"706.892\" cy=\"212.259\" r=\"4\"/>\n",
       "<circle clip-path=\"url(#clip3902)\" style=\"fill:#009af9; stroke:none; fill-opacity:1\" cx=\"706.892\" cy=\"212.259\" r=\"3\"/>\n",
       "<circle clip-path=\"url(#clip3902)\" style=\"fill:#000000; stroke:none; fill-opacity:1\" cx=\"713.025\" cy=\"292.03\" r=\"4\"/>\n",
       "<circle clip-path=\"url(#clip3902)\" style=\"fill:#009af9; stroke:none; fill-opacity:1\" cx=\"713.025\" cy=\"292.03\" r=\"3\"/>\n",
       "<circle clip-path=\"url(#clip3902)\" style=\"fill:#000000; stroke:none; fill-opacity:1\" cx=\"716.091\" cy=\"252.144\" r=\"4\"/>\n",
       "<circle clip-path=\"url(#clip3902)\" style=\"fill:#009af9; stroke:none; fill-opacity:1\" cx=\"716.091\" cy=\"252.144\" r=\"3\"/>\n",
       "<circle clip-path=\"url(#clip3902)\" style=\"fill:#000000; stroke:none; fill-opacity:1\" cx=\"731.422\" cy=\"295.557\" r=\"4\"/>\n",
       "<circle clip-path=\"url(#clip3902)\" style=\"fill:#009af9; stroke:none; fill-opacity:1\" cx=\"731.422\" cy=\"295.557\" r=\"3\"/>\n",
       "<circle clip-path=\"url(#clip3902)\" style=\"fill:#000000; stroke:none; fill-opacity:1\" cx=\"737.554\" cy=\"292.03\" r=\"4\"/>\n",
       "<circle clip-path=\"url(#clip3902)\" style=\"fill:#009af9; stroke:none; fill-opacity:1\" cx=\"737.554\" cy=\"292.03\" r=\"3\"/>\n",
       "<circle clip-path=\"url(#clip3902)\" style=\"fill:#000000; stroke:none; fill-opacity:1\" cx=\"746.753\" cy=\"262.998\" r=\"4\"/>\n",
       "<circle clip-path=\"url(#clip3902)\" style=\"fill:#009af9; stroke:none; fill-opacity:1\" cx=\"746.753\" cy=\"262.998\" r=\"3\"/>\n",
       "<circle clip-path=\"url(#clip3902)\" style=\"fill:#000000; stroke:none; fill-opacity:1\" cx=\"771.283\" cy=\"262.998\" r=\"4\"/>\n",
       "<circle clip-path=\"url(#clip3902)\" style=\"fill:#009af9; stroke:none; fill-opacity:1\" cx=\"771.283\" cy=\"262.998\" r=\"3\"/>\n",
       "<circle clip-path=\"url(#clip3902)\" style=\"fill:#000000; stroke:none; fill-opacity:1\" cx=\"789.68\" cy=\"364.746\" r=\"4\"/>\n",
       "<circle clip-path=\"url(#clip3902)\" style=\"fill:#009af9; stroke:none; fill-opacity:1\" cx=\"789.68\" cy=\"364.746\" r=\"3\"/>\n",
       "<circle clip-path=\"url(#clip3902)\" style=\"fill:#000000; stroke:none; fill-opacity:1\" cx=\"805.011\" cy=\"328.117\" r=\"4\"/>\n",
       "<circle clip-path=\"url(#clip3902)\" style=\"fill:#009af9; stroke:none; fill-opacity:1\" cx=\"805.011\" cy=\"328.117\" r=\"3\"/>\n",
       "<circle clip-path=\"url(#clip3902)\" style=\"fill:#000000; stroke:none; fill-opacity:1\" cx=\"832.607\" cy=\"292.03\" r=\"4\"/>\n",
       "<circle clip-path=\"url(#clip3902)\" style=\"fill:#009af9; stroke:none; fill-opacity:1\" cx=\"832.607\" cy=\"292.03\" r=\"3\"/>\n",
       "<circle clip-path=\"url(#clip3902)\" style=\"fill:#000000; stroke:none; fill-opacity:1\" cx=\"854.071\" cy=\"262.998\" r=\"4\"/>\n",
       "<circle clip-path=\"url(#clip3902)\" style=\"fill:#009af9; stroke:none; fill-opacity:1\" cx=\"854.071\" cy=\"262.998\" r=\"3\"/>\n",
       "<circle clip-path=\"url(#clip3902)\" style=\"fill:#000000; stroke:none; fill-opacity:1\" cx=\"872.468\" cy=\"331.915\" r=\"4\"/>\n",
       "<circle clip-path=\"url(#clip3902)\" style=\"fill:#009af9; stroke:none; fill-opacity:1\" cx=\"872.468\" cy=\"331.915\" r=\"3\"/>\n",
       "<circle clip-path=\"url(#clip3902)\" style=\"fill:#000000; stroke:none; fill-opacity:1\" cx=\"900.064\" cy=\"299.356\" r=\"4\"/>\n",
       "<circle clip-path=\"url(#clip3902)\" style=\"fill:#009af9; stroke:none; fill-opacity:1\" cx=\"900.064\" cy=\"299.356\" r=\"3\"/>\n",
       "<circle clip-path=\"url(#clip3902)\" style=\"fill:#000000; stroke:none; fill-opacity:1\" cx=\"906.196\" cy=\"299.356\" r=\"4\"/>\n",
       "<circle clip-path=\"url(#clip3902)\" style=\"fill:#009af9; stroke:none; fill-opacity:1\" cx=\"906.196\" cy=\"299.356\" r=\"3\"/>\n",
       "<circle clip-path=\"url(#clip3902)\" style=\"fill:#000000; stroke:none; fill-opacity:1\" cx=\"939.924\" cy=\"262.998\" r=\"4\"/>\n",
       "<circle clip-path=\"url(#clip3902)\" style=\"fill:#009af9; stroke:none; fill-opacity:1\" cx=\"939.924\" cy=\"262.998\" r=\"3\"/>\n",
       "<polyline clip-path=\"url(#clip3902)\" style=\"stroke:#90ee90; stroke-width:4; stroke-opacity:1; fill:none\" points=\"\n",
       "  93.6496,222.852 102.198,227.577 110.746,230.361 119.294,232.156 127.843,233.69 136.391,235.384 144.939,237.335 153.487,239.377 162.035,241.168 170.584,242.309 \n",
       "  179.132,242.445 187.68,241.356 196.228,239.015 204.777,235.62 213.325,231.6 221.873,227.588 230.421,224.383 238.97,222.877 247.518,223.979 256.066,228.523 \n",
       "  264.614,237.18 273.162,250.394 281.711,268.33 290.259,290.846 298.807,317.494 307.355,347.534 315.904,379.96 324.452,413.549 333,446.914 341.548,478.584 \n",
       "  350.097,507.089 358.645,531.062 367.193,549.333 375.741,561.015 384.289,565.557 392.838,562.768 401.386,552.806 409.934,536.14 418.482,513.493 427.031,485.779 \n",
       "  435.579,454.041 444.127,419.394 452.675,382.977 461.224,345.916 469.772,309.285 478.32,274.077 486.868,241.185 495.416,211.376 503.965,185.284 512.513,163.394 \n",
       "  521.061,146.037 529.609,133.374 538.158,125.391 546.706,121.887 555.254,122.482 563.802,126.627 572.351,133.641 580.899,142.756 589.447,153.178 597.995,164.142 \n",
       "  606.543,174.958 615.092,185.048 623.64,193.959 632.188,201.37 640.736,207.09 649.285,211.062 657.833,213.354 666.381,214.163 674.929,213.796 683.478,212.645 \n",
       "  692.026,211.151 700.574,209.755 709.122,208.847 717.67,208.731 726.219,209.596 734.767,211.509 743.315,214.413 751.863,218.152 760.412,222.485 768.96,227.117 \n",
       "  777.508,231.728 786.056,236.001 794.605,239.654 803.153,242.468 811.701,244.303 820.249,245.105 828.797,244.904 837.346,243.8 845.894,241.939 854.442,239.495 \n",
       "  862.99,236.642 871.539,233.532 880.087,230.267 888.635,226.874 897.183,223.27 905.732,219.242 914.28,214.425 922.828,208.318 931.376,200.315 939.924,189.777 \n",
       "  \n",
       "  \"/>\n",
       "<polyline clip-path=\"url(#clip3902)\" style=\"stroke:#90ee90; stroke-width:4; stroke-opacity:1; fill:none\" points=\"\n",
       "  93.6496,363.513 102.198,359.665 110.746,358.694 119.294,359.605 127.843,361.503 136.391,363.672 144.939,365.595 153.487,366.942 162.035,367.516 170.584,367.218 \n",
       "  179.132,366.011 187.68,363.918 196.228,361.036 204.777,357.557 213.325,353.799 221.873,350.216 230.421,347.402 238.97,346.065 247.518,346.99 256.066,350.978 \n",
       "  264.614,358.77 273.162,370.957 281.711,387.892 290.259,409.612 298.807,435.785 307.355,465.7 315.904,498.298 324.452,532.241 333,566.016 341.548,598.052 \n",
       "  350.097,626.828 358.645,650.978 367.193,669.362 375.741,681.123 384.289,685.722 392.838,682.952 401.386,672.936 409.934,656.11 418.482,633.191 427.031,605.121 \n",
       "  435.579,573.006 444.127,538.043 452.675,501.457 461.224,464.434 469.772,428.075 478.32,393.369 486.868,361.164 495.416,332.158 503.965,306.896 512.513,285.764 \n",
       "  521.061,268.993 529.609,256.661 538.158,248.711 546.706,244.956 555.254,245.094 563.802,248.717 572.351,255.319 580.899,264.299 589.447,274.969 597.995,286.581 \n",
       "  606.543,298.358 615.092,309.552 623.64,319.505 632.188,327.71 640.736,333.859 649.285,337.862 657.833,339.847 666.381,340.121 674.929,339.131 683.478,337.4 \n",
       "  692.026,335.473 700.574,333.87 709.122,333.037 717.67,333.313 726.219,334.898 734.767,337.843 743.315,342.044 751.863,347.262 760.412,353.155 768.96,359.32 \n",
       "  777.508,365.346 786.056,370.854 794.605,375.534 803.153,379.164 811.701,381.623 820.249,382.879 828.797,382.986 837.346,382.06 845.894,380.264 854.442,377.78 \n",
       "  862.99,374.8 871.539,371.506 880.087,368.08 888.635,364.72 897.183,361.668 905.732,359.248 914.28,357.893 922.828,358.156 931.376,360.687 939.924,366.173 \n",
       "  \n",
       "  \"/>\n",
       "<polyline clip-path=\"url(#clip3902)\" style=\"stroke:#ffa500; stroke-width:4; stroke-opacity:1; fill:none\" points=\"\n",
       "  93.6496,293.183 102.198,293.621 110.746,294.527 119.294,295.88 127.843,297.597 136.391,299.528 144.939,301.465 153.487,303.159 162.035,304.342 170.584,304.763 \n",
       "  179.132,304.228 187.68,302.637 196.228,300.025 204.777,296.589 213.325,292.699 221.873,288.902 230.421,285.892 238.97,284.471 247.518,285.485 256.066,289.75 \n",
       "  264.614,297.975 273.162,310.676 281.711,328.111 290.259,350.229 298.807,376.64 307.355,406.617 315.904,439.129 324.452,472.895 333,506.465 341.548,538.318 \n",
       "  350.097,566.959 358.645,591.02 367.193,609.347 375.741,621.069 384.289,625.64 392.838,622.86 401.386,612.871 409.934,596.125 418.482,573.342 427.031,545.45 \n",
       "  435.579,513.523 444.127,478.719 452.675,442.217 461.224,405.175 469.772,368.68 478.32,333.723 486.868,301.174 495.416,271.767 503.965,246.09 512.513,224.579 \n",
       "  521.061,207.515 529.609,195.018 538.158,187.051 546.706,183.422 555.254,183.788 563.802,187.672 572.351,194.48 580.899,203.527 589.447,214.074 597.995,225.361 \n",
       "  606.543,236.658 615.092,247.3 623.64,256.732 632.188,264.54 640.736,270.474 649.285,274.462 657.833,276.6 666.381,277.142 674.929,276.464 683.478,275.022 \n",
       "  692.026,273.312 700.574,271.812 709.122,270.942 717.67,271.022 726.219,272.247 734.767,274.676 743.315,278.229 751.863,282.707 760.412,287.82 768.96,293.219 \n",
       "  777.508,298.537 786.056,303.427 794.605,307.594 803.153,310.816 811.701,312.963 820.249,313.992 828.797,313.945 837.346,312.93 845.894,311.101 854.442,308.638 \n",
       "  862.99,305.721 871.539,302.519 880.087,299.174 888.635,295.797 897.183,292.469 905.732,289.245 914.28,286.159 922.828,283.237 931.376,280.501 939.924,277.975 \n",
       "  \n",
       "  \"/>\n",
       "<polyline clip-path=\"url(#clip3902)\" style=\"stroke:#008000; stroke-width:2; stroke-opacity:1; fill:none\" points=\"\n",
       "  93.6496,231.58 102.198,232.111 110.746,232.099 119.294,217.19 127.843,223.153 136.391,227.598 144.939,230.523 153.487,232.12 162.035,232.589 170.584,232.031 \n",
       "  179.132,230.436 187.68,234.89 196.228,236.248 204.777,237.031 213.325,237.25 221.873,236.771 230.421,235.413 238.97,233.079 247.518,232.509 256.066,243.34 \n",
       "  264.614,253.669 273.162,262.748 281.711,269.817 290.259,274.431 298.807,276.604 307.355,314.033 315.904,365.69 324.452,411.606 333,453.05 341.548,489.453 \n",
       "  350.097,516.375 358.645,524.925 367.193,542.604 375.741,547.506 384.289,550.413 392.838,551.496 401.386,550.838 409.934,548.416 418.482,544.109 427.031,393.952 \n",
       "  435.579,392.34 444.127,383.661 452.675,370.037 461.224,351.357 469.772,326.669 478.32,295.06 486.868,202.574 495.416,196.103 503.965,185.587 512.513,171.95 \n",
       "  521.061,156.311 529.609,140.384 538.158,126.162 546.706,114.555 555.254,140.575 563.802,142.82 572.351,143.91 580.899,144.229 589.447,144.003 597.995,143.167 \n",
       "  606.543,141.451 615.092,231.648 623.64,230.18 632.188,227.58 640.736,225.946 649.285,226.743 657.833,228.785 666.381,229.982 674.929,202.203 683.478,202.871 \n",
       "  692.026,197.524 700.574,194.048 709.122,199.604 717.67,203.823 726.219,203.222 734.767,215.091 743.315,217.887 751.863,219.672 760.412,222.38 768.96,226.562 \n",
       "  777.508,230.527 786.056,231.96 794.605,229.653 803.153,230.88 811.701,231.31 820.249,230.974 828.797,229.969 837.346,228.397 845.894,226.421 854.442,227.179 \n",
       "  862.99,231.42 871.539,234.294 880.087,235.896 888.635,236.281 897.183,235.482 905.732,233.506 914.28,230.335 922.828,186.02 931.376,191.642 939.924,193.337 \n",
       "  \n",
       "  \"/>\n",
       "<polyline clip-path=\"url(#clip3902)\" style=\"stroke:#008000; stroke-width:2; stroke-opacity:1; fill:none\" points=\"\n",
       "  93.6496,356.7 102.198,356.402 110.746,356.528 119.294,372.566 127.843,366.943 136.391,362.817 144.939,360.156 153.487,358.735 162.035,358.332 170.584,358.838 \n",
       "  179.132,360.269 187.68,359.887 196.228,359.107 204.777,358.725 213.325,358.64 221.873,358.94 230.421,359.83 238.97,361.502 247.518,382.424 256.066,382.622 \n",
       "  264.614,384.352 273.162,387.87 281.711,393.309 290.259,400.411 298.807,408.491 307.355,452.273 315.904,493.953 324.452,539.916 333,583.594 341.548,620.62 \n",
       "  350.097,651.519 358.645,682.768 367.193,676.117 375.741,675.112 384.289,674.691 392.838,674.653 401.386,674.903 409.934,675.468 418.482,676.49 427.031,547.832 \n",
       "  435.579,529.489 444.127,511.624 452.675,493.029 461.224,474.554 469.772,458.169 478.32,446.654 486.868,342.075 495.416,328.506 503.965,315.695 512.513,303.895 \n",
       "  521.061,294.173 529.609,287.619 538.158,284.898 546.706,286.82 555.254,279.055 563.802,274.166 572.351,271.397 580.899,270.033 589.447,269.783 597.995,270.988 \n",
       "  606.543,274.31 615.092,362.902 623.64,358.937 632.188,356.24 640.736,354.76 649.285,353.956 657.833,354.253 666.381,355.992 674.929,351.661 683.478,341.243 \n",
       "  692.026,335.01 700.574,333.396 709.122,331.523 717.67,334.541 726.219,340.716 734.767,355.895 743.315,353.424 751.863,354.205 760.412,356.934 768.96,360.918 \n",
       "  777.508,366.704 786.056,374.735 794.605,364.848 803.153,362.68 811.701,360.441 820.249,358.213 828.797,356.199 837.346,354.695 845.894,353.928 854.442,386.058 \n",
       "  862.99,381.685 871.539,378.186 880.087,375.475 888.635,373.544 897.183,372.447 905.732,372.286 914.28,373.199 922.828,370.703 931.376,364.765 939.924,362.962 \n",
       "  \n",
       "  \"/>\n",
       "<polyline clip-path=\"url(#clip3902)\" style=\"stroke:#ff0000; stroke-width:2; stroke-opacity:1; fill:none\" points=\"\n",
       "  93.6496,294.14 102.198,294.256 110.746,294.314 119.294,294.878 127.843,295.048 136.391,295.207 144.939,295.339 153.487,295.427 162.035,295.46 170.584,295.434 \n",
       "  179.132,295.352 187.68,297.388 196.228,297.677 204.777,297.878 213.325,297.945 221.873,297.855 230.421,297.622 238.97,297.291 247.518,307.466 256.066,312.981 \n",
       "  264.614,319.011 273.162,325.309 281.711,331.563 290.259,337.421 298.807,342.547 307.355,383.153 315.904,429.821 324.452,475.761 333,518.322 341.548,555.036 \n",
       "  350.097,583.947 358.645,603.847 367.193,609.361 375.741,611.309 384.289,612.552 392.838,613.075 401.386,612.871 409.934,611.942 418.482,610.3 427.031,470.892 \n",
       "  435.579,460.914 444.127,447.642 452.675,431.533 461.224,412.955 469.772,392.419 478.32,370.857 486.868,272.325 495.416,262.304 503.965,250.641 512.513,237.922 \n",
       "  521.061,225.242 529.609,214.001 538.158,205.53 546.706,200.688 555.254,209.815 563.802,208.493 572.351,207.653 580.899,207.131 589.447,206.893 597.995,207.078 \n",
       "  606.543,207.88 615.092,297.275 623.64,294.559 632.188,291.91 640.736,290.353 649.285,290.349 657.833,291.519 666.381,292.987 674.929,276.932 683.478,272.057 \n",
       "  692.026,266.267 700.574,263.722 709.122,265.564 717.67,269.182 726.219,271.969 734.767,285.493 743.315,285.655 751.863,286.938 760.412,289.657 768.96,293.74 \n",
       "  777.508,298.616 786.056,303.348 794.605,297.25 803.153,296.78 811.701,295.876 820.249,294.593 828.797,293.084 837.346,291.546 845.894,290.175 854.442,306.618 \n",
       "  862.99,306.552 871.539,306.24 880.087,305.686 888.635,304.913 897.183,303.965 905.732,302.896 914.28,301.767 922.828,278.362 931.376,278.203 939.924,278.15 \n",
       "  \n",
       "  \"/>\n",
       "<polyline clip-path=\"url(#clip3902)\" style=\"stroke:#ffa500; stroke-width:1; stroke-opacity:1; fill:none\" points=\"\n",
       "  56.8551,703.638 56.8551,70.6168 \n",
       "  \"/>\n",
       "<polyline clip-path=\"url(#clip3902)\" style=\"stroke:#ffa500; stroke-width:1; stroke-opacity:1; fill:none\" points=\"\n",
       "  118.179,722.629 118.179,51.6261 \n",
       "  \"/>\n",
       "<polyline clip-path=\"url(#clip3902)\" style=\"stroke:#ffa500; stroke-width:1; stroke-opacity:1; fill:none\" points=\"\n",
       "  976.719,722.629 976.719,51.6261 \n",
       "  \"/>\n",
       "<polyline clip-path=\"url(#clip3902)\" style=\"stroke:#ffa500; stroke-width:1; stroke-opacity:1; fill:none\" points=\"\n",
       "  915.395,722.629 915.395,51.6261 \n",
       "  \"/>\n",
       "<polyline clip-path=\"url(#clip3902)\" style=\"stroke:#ffa500; stroke-width:1; stroke-opacity:1; fill:none\" points=\"\n",
       "  854.071,722.629 854.071,51.6261 \n",
       "  \"/>\n",
       "<polyline clip-path=\"url(#clip3902)\" style=\"stroke:#ffa500; stroke-width:1; stroke-opacity:1; fill:none\" points=\"\n",
       "  792.746,722.629 792.746,51.6261 \n",
       "  \"/>\n",
       "<polyline clip-path=\"url(#clip3902)\" style=\"stroke:#ffa500; stroke-width:1; stroke-opacity:1; fill:none\" points=\"\n",
       "  731.422,722.629 731.422,51.6261 \n",
       "  \"/>\n",
       "<polyline clip-path=\"url(#clip3902)\" style=\"stroke:#ffa500; stroke-width:1; stroke-opacity:1; fill:none\" points=\"\n",
       "  670.098,722.629 670.098,51.6261 \n",
       "  \"/>\n",
       "<polyline clip-path=\"url(#clip3902)\" style=\"stroke:#ffa500; stroke-width:1; stroke-opacity:1; fill:none\" points=\"\n",
       "  608.773,722.629 608.773,51.6261 \n",
       "  \"/>\n",
       "<polyline clip-path=\"url(#clip3902)\" style=\"stroke:#ffa500; stroke-width:1; stroke-opacity:1; fill:none\" points=\"\n",
       "  547.449,722.629 547.449,51.6261 \n",
       "  \"/>\n",
       "<polyline clip-path=\"url(#clip3902)\" style=\"stroke:#ffa500; stroke-width:1; stroke-opacity:1; fill:none\" points=\"\n",
       "  486.125,722.629 486.125,51.6261 \n",
       "  \"/>\n",
       "<polyline clip-path=\"url(#clip3902)\" style=\"stroke:#ffa500; stroke-width:1; stroke-opacity:1; fill:none\" points=\"\n",
       "  424.801,722.629 424.801,51.6261 \n",
       "  \"/>\n",
       "<polyline clip-path=\"url(#clip3902)\" style=\"stroke:#ffa500; stroke-width:1; stroke-opacity:1; fill:none\" points=\"\n",
       "  363.476,722.629 363.476,51.6261 \n",
       "  \"/>\n",
       "<polyline clip-path=\"url(#clip3902)\" style=\"stroke:#ffa500; stroke-width:1; stroke-opacity:1; fill:none\" points=\"\n",
       "  302.152,722.629 302.152,51.6261 \n",
       "  \"/>\n",
       "<polyline clip-path=\"url(#clip3902)\" style=\"stroke:#ffa500; stroke-width:1; stroke-opacity:1; fill:none\" points=\"\n",
       "  240.828,722.629 240.828,51.6261 \n",
       "  \"/>\n",
       "<polyline clip-path=\"url(#clip3902)\" style=\"stroke:#ffa500; stroke-width:1; stroke-opacity:1; fill:none\" points=\"\n",
       "  179.504,722.629 179.504,51.6261 \n",
       "  \"/>\n",
       "</svg>\n"
      ]
     },
     "execution_count": 68,
     "metadata": {},
     "output_type": "execute_result"
    }
   ],
   "source": [
    "S = 100\n",
    "\n",
    "#x = linspace(minimum(X),maximum(X),S)\n",
    "#xx = reduce(hcat, x for k in 1:S)\n",
    "#yy = reduce(hcat, spn_randIndep(root, x) for k in 1:S)\n",
    "\n",
    "x = Float64.(collect(linspace(minimum(X),maximum(X),S)));\n",
    "(μ, σ) = spn_predict(root, x)\n",
    "\n",
    "gp = GP(reshape(X, 1, length(X)), y, MeanZero(), SE(log(5.0),log(1.0)), -1.)\n",
    "μgp, σgp = predict_y(gp,linspace(minimum(X),maximum(X),S));\n",
    "\n",
    "plt = scatter(X, y, label = \"observations\", legend = false, size = (1024, 768), title = \"Univariate Gaussian Moment Matching $(S) samples\")\n",
    "#scatter!(xx+(rand(size(xx)) * 0.3), yy, markersize = 2, markerstrokewidth = 0, label = \"Posterior samples from SPN-GP\");\n",
    "\n",
    "\n",
    "\n",
    "plot!(linspace(minimum(X),maximum(X),S), w =4, μgp + 2*σgp, color = :lightgreen, label = \"Full GP mean + 2*std\")\n",
    "plot!(linspace(minimum(X),maximum(X),S), w =4, μgp - 2*σgp, color = :lightgreen, label = \"Full GP mean - 2*std\")\n",
    "plot!(linspace(minimum(X),maximum(X),S), w =4, μgp, color = :orange, label = \"Full GP mean\")\n",
    "\n",
    "\n",
    "plot!(linspace(minimum(X),maximum(X),S), w =2, μ + 2*σ, color = :green, label = \"SPN GP mean + 2*std\")\n",
    "plot!(linspace(minimum(X),maximum(X),S), w =2, μ - 2*σ, color = :green, label = \"SPN GP mean - 2*std\")\n",
    "plot!(linspace(minimum(X),maximum(X),S), w =2, μ, color = :red, label = \"SPN GP mean\")\n",
    "\n",
    "vline!([minimum(map(r -> r.min, gpRegions))], c = :orange)\n",
    "vline!(map(r -> r.max, gpRegions), c = :orange)\n",
    "\n",
    "plt"
   ]
  },
  {
   "cell_type": "code",
   "execution_count": 69,
   "metadata": {
    "collapsed": true
   },
   "outputs": [],
   "source": [
    "savefig(\"../plots/poonDomingos_sharedNoiseModel_moments_large.png\")"
   ]
  },
  {
   "cell_type": "markdown",
   "metadata": {},
   "source": [
    "## Histogram over parameters"
   ]
  },
  {
   "cell_type": "markdown",
   "metadata": {},
   "source": [
    "## Graph Plotting"
   ]
  },
  {
   "cell_type": "code",
   "execution_count": 44,
   "metadata": {
    "collapsed": true
   },
   "outputs": [],
   "source": [
    "sources = Int[]\n",
    "destinations = Int[]\n",
    "\n",
    "# add edges from regions to partitions\n",
    "for r in filter(r -> isa(r, SumRegion), union(sumRegions, gpRegions))\n",
    "    for p in r.partitions\n",
    "        push!(sources, RegionIDs[r])\n",
    "        push!(destinations, PartitionIDS[p])\n",
    "    end\n",
    "end\n",
    "\n",
    "# add edges from partitions to regions\n",
    "for p in allPartitions\n",
    "    for r in p.regions\n",
    "        push!(sources, PartitionIDS[p])\n",
    "        push!(destinations, RegionIDs[r])\n",
    "    end\n",
    "end"
   ]
  },
  {
   "cell_type": "code",
   "execution_count": 45,
   "metadata": {
    "collapsed": true
   },
   "outputs": [],
   "source": [
    "nodenames = vcat(map(r -> string(\"+\"),  union(sumRegions, gpRegions)), map(r -> string(\"*\"), allPartitions));\n",
    "colorings = vcat(map(r -> isa(r, SumRegion) ? :lightblue : :lightgreen,  union(sumRegions, gpRegions)), map(r -> :black, allPartitions));"
   ]
  },
  {
   "cell_type": "code",
   "execution_count": 47,
   "metadata": {
    "collapsed": true
   },
   "outputs": [],
   "source": [
    "#gr(size = (400, 400))\n",
    "#graphplot(sources, destinations, names = nodenames, method = :tree, fontsize = 7, nodesize = 3, m = colorings, nodeshape = :rect)"
   ]
  }
 ],
 "metadata": {
  "kernelspec": {
   "display_name": "Julia 0.6.1",
   "language": "julia",
   "name": "julia-0.6"
  },
  "language_info": {
   "file_extension": ".jl",
   "mimetype": "application/julia",
   "name": "julia",
   "version": "0.6.1"
  }
 },
 "nbformat": 4,
 "nbformat_minor": 2
}
