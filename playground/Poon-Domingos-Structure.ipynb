{
 "cells": [
  {
   "cell_type": "code",
   "execution_count": 24,
   "metadata": {},
   "outputs": [],
   "source": [
    "using GaussianProcesses, Plots, SumProductNetworks, StatsFuns, Distributions\n",
    "using PlotRecipes\n",
    "using TestImages, Images\n",
    "import SumProductNetworks.add!"
   ]
  },
  {
   "cell_type": "markdown",
   "metadata": {},
   "source": [
    "#### include local code"
   ]
  },
  {
   "cell_type": "code",
   "execution_count": 41,
   "metadata": {},
   "outputs": [
    {
     "data": {
      "text/plain": [
       "mcmcKernel (generic function with 1 method)"
      ]
     },
     "execution_count": 41,
     "metadata": {},
     "output_type": "execute_result"
    }
   ],
   "source": [
    "include(\"utilFunctions.jl\")\n",
    "include(\"dataTypes.jl\")\n",
    "include(\"dataTypeUtilFunctions.jl\")\n",
    "include(\"computationFunctions.jl\")\n",
    "include(\"regionGraph.jl\")\n",
    "include(\"regionGraphUtils.jl\")\n",
    "include(\"gpUtils.jl\")"
   ]
  },
  {
   "cell_type": "markdown",
   "metadata": {},
   "source": [
    " "
   ]
  },
  {
   "cell_type": "markdown",
   "metadata": {},
   "source": [
    "# Load data"
   ]
  },
  {
   "cell_type": "code",
   "execution_count": 26,
   "metadata": {},
   "outputs": [
    {
     "data": {
      "text/html": [
       "<?xml version=\"1.0\" encoding=\"utf-8\"?>\n",
       "<svg xmlns=\"http://www.w3.org/2000/svg\" xmlns:xlink=\"http://www.w3.org/1999/xlink\" width=\"600\" height=\"400\" viewBox=\"0 0 600 400\">\n",
       "<defs>\n",
       "  <clipPath id=\"clip3200\">\n",
       "    <rect x=\"0\" y=\"0\" width=\"600\" height=\"400\"/>\n",
       "  </clipPath>\n",
       "</defs>\n",
       "<polygon clip-path=\"url(#clip3200)\" points=\"\n",
       "0,400 600,400 600,0 0,0 \n",
       "  \" fill=\"#ffffff\" fill-opacity=\"1\"/>\n",
       "<defs>\n",
       "  <clipPath id=\"clip3201\">\n",
       "    <rect x=\"120\" y=\"0\" width=\"421\" height=\"400\"/>\n",
       "  </clipPath>\n",
       "</defs>\n",
       "<polygon clip-path=\"url(#clip3200)\" points=\"\n",
       "39.1436,375.813 580.315,375.813 580.315,11.811 39.1436,11.811 \n",
       "  \" fill=\"#ffffff\" fill-opacity=\"1\"/>\n",
       "<defs>\n",
       "  <clipPath id=\"clip3202\">\n",
       "    <rect x=\"39\" y=\"11\" width=\"542\" height=\"365\"/>\n",
       "  </clipPath>\n",
       "</defs>\n",
       "<polyline clip-path=\"url(#clip3202)\" style=\"stroke:#000000; stroke-width:0.5; stroke-opacity:0.1; fill:none\" points=\"\n",
       "  124.751,375.813 124.751,11.811 \n",
       "  \"/>\n",
       "<polyline clip-path=\"url(#clip3202)\" style=\"stroke:#000000; stroke-width:0.5; stroke-opacity:0.1; fill:none\" points=\"\n",
       "  217.24,375.813 217.24,11.811 \n",
       "  \"/>\n",
       "<polyline clip-path=\"url(#clip3202)\" style=\"stroke:#000000; stroke-width:0.5; stroke-opacity:0.1; fill:none\" points=\"\n",
       "  309.729,375.813 309.729,11.811 \n",
       "  \"/>\n",
       "<polyline clip-path=\"url(#clip3202)\" style=\"stroke:#000000; stroke-width:0.5; stroke-opacity:0.1; fill:none\" points=\"\n",
       "  402.218,375.813 402.218,11.811 \n",
       "  \"/>\n",
       "<polyline clip-path=\"url(#clip3202)\" style=\"stroke:#000000; stroke-width:0.5; stroke-opacity:0.1; fill:none\" points=\"\n",
       "  494.707,375.813 494.707,11.811 \n",
       "  \"/>\n",
       "<polyline clip-path=\"url(#clip3202)\" style=\"stroke:#000000; stroke-width:0.5; stroke-opacity:0.1; fill:none\" points=\"\n",
       "  39.1436,330.186 580.315,330.186 \n",
       "  \"/>\n",
       "<polyline clip-path=\"url(#clip3202)\" style=\"stroke:#000000; stroke-width:0.5; stroke-opacity:0.1; fill:none\" points=\"\n",
       "  39.1436,268.571 580.315,268.571 \n",
       "  \"/>\n",
       "<polyline clip-path=\"url(#clip3202)\" style=\"stroke:#000000; stroke-width:0.5; stroke-opacity:0.1; fill:none\" points=\"\n",
       "  39.1436,206.957 580.315,206.957 \n",
       "  \"/>\n",
       "<polyline clip-path=\"url(#clip3202)\" style=\"stroke:#000000; stroke-width:0.5; stroke-opacity:0.1; fill:none\" points=\"\n",
       "  39.1436,145.342 580.315,145.342 \n",
       "  \"/>\n",
       "<polyline clip-path=\"url(#clip3202)\" style=\"stroke:#000000; stroke-width:0.5; stroke-opacity:0.1; fill:none\" points=\"\n",
       "  39.1436,83.7275 580.315,83.7275 \n",
       "  \"/>\n",
       "<polyline clip-path=\"url(#clip3202)\" style=\"stroke:#000000; stroke-width:0.5; stroke-opacity:0.1; fill:none\" points=\"\n",
       "  39.1436,22.113 580.315,22.113 \n",
       "  \"/>\n",
       "<polyline clip-path=\"url(#clip3200)\" style=\"stroke:#000000; stroke-width:1; stroke-opacity:1; fill:none\" points=\"\n",
       "  39.1436,375.813 580.315,375.813 \n",
       "  \"/>\n",
       "<polyline clip-path=\"url(#clip3200)\" style=\"stroke:#000000; stroke-width:1; stroke-opacity:1; fill:none\" points=\"\n",
       "  39.1436,375.813 39.1436,11.811 \n",
       "  \"/>\n",
       "<polyline clip-path=\"url(#clip3200)\" style=\"stroke:#000000; stroke-width:1; stroke-opacity:1; fill:none\" points=\"\n",
       "  124.751,375.813 124.751,370.353 \n",
       "  \"/>\n",
       "<polyline clip-path=\"url(#clip3200)\" style=\"stroke:#000000; stroke-width:1; stroke-opacity:1; fill:none\" points=\"\n",
       "  217.24,375.813 217.24,370.353 \n",
       "  \"/>\n",
       "<polyline clip-path=\"url(#clip3200)\" style=\"stroke:#000000; stroke-width:1; stroke-opacity:1; fill:none\" points=\"\n",
       "  309.729,375.813 309.729,370.353 \n",
       "  \"/>\n",
       "<polyline clip-path=\"url(#clip3200)\" style=\"stroke:#000000; stroke-width:1; stroke-opacity:1; fill:none\" points=\"\n",
       "  402.218,375.813 402.218,370.353 \n",
       "  \"/>\n",
       "<polyline clip-path=\"url(#clip3200)\" style=\"stroke:#000000; stroke-width:1; stroke-opacity:1; fill:none\" points=\"\n",
       "  494.707,375.813 494.707,370.353 \n",
       "  \"/>\n",
       "<polyline clip-path=\"url(#clip3200)\" style=\"stroke:#000000; stroke-width:1; stroke-opacity:1; fill:none\" points=\"\n",
       "  39.1436,330.186 47.2612,330.186 \n",
       "  \"/>\n",
       "<polyline clip-path=\"url(#clip3200)\" style=\"stroke:#000000; stroke-width:1; stroke-opacity:1; fill:none\" points=\"\n",
       "  39.1436,268.571 47.2612,268.571 \n",
       "  \"/>\n",
       "<polyline clip-path=\"url(#clip3200)\" style=\"stroke:#000000; stroke-width:1; stroke-opacity:1; fill:none\" points=\"\n",
       "  39.1436,206.957 47.2612,206.957 \n",
       "  \"/>\n",
       "<polyline clip-path=\"url(#clip3200)\" style=\"stroke:#000000; stroke-width:1; stroke-opacity:1; fill:none\" points=\"\n",
       "  39.1436,145.342 47.2612,145.342 \n",
       "  \"/>\n",
       "<polyline clip-path=\"url(#clip3200)\" style=\"stroke:#000000; stroke-width:1; stroke-opacity:1; fill:none\" points=\"\n",
       "  39.1436,83.7275 47.2612,83.7275 \n",
       "  \"/>\n",
       "<polyline clip-path=\"url(#clip3200)\" style=\"stroke:#000000; stroke-width:1; stroke-opacity:1; fill:none\" points=\"\n",
       "  39.1436,22.113 47.2612,22.113 \n",
       "  \"/>\n",
       "<g clip-path=\"url(#clip3200)\">\n",
       "<text style=\"fill:#000000; fill-opacity:1; font-family:Arial,Helvetica Neue,Helvetica,sans-serif; font-size:12; text-anchor:middle;\" transform=\"rotate(0, 124.751, 389.613)\" x=\"124.751\" y=\"389.613\">10</text>\n",
       "</g>\n",
       "<g clip-path=\"url(#clip3200)\">\n",
       "<text style=\"fill:#000000; fill-opacity:1; font-family:Arial,Helvetica Neue,Helvetica,sans-serif; font-size:12; text-anchor:middle;\" transform=\"rotate(0, 217.24, 389.613)\" x=\"217.24\" y=\"389.613\">20</text>\n",
       "</g>\n",
       "<g clip-path=\"url(#clip3200)\">\n",
       "<text style=\"fill:#000000; fill-opacity:1; font-family:Arial,Helvetica Neue,Helvetica,sans-serif; font-size:12; text-anchor:middle;\" transform=\"rotate(0, 309.729, 389.613)\" x=\"309.729\" y=\"389.613\">30</text>\n",
       "</g>\n",
       "<g clip-path=\"url(#clip3200)\">\n",
       "<text style=\"fill:#000000; fill-opacity:1; font-family:Arial,Helvetica Neue,Helvetica,sans-serif; font-size:12; text-anchor:middle;\" transform=\"rotate(0, 402.218, 389.613)\" x=\"402.218\" y=\"389.613\">40</text>\n",
       "</g>\n",
       "<g clip-path=\"url(#clip3200)\">\n",
       "<text style=\"fill:#000000; fill-opacity:1; font-family:Arial,Helvetica Neue,Helvetica,sans-serif; font-size:12; text-anchor:middle;\" transform=\"rotate(0, 494.707, 389.613)\" x=\"494.707\" y=\"389.613\">50</text>\n",
       "</g>\n",
       "<g clip-path=\"url(#clip3200)\">\n",
       "<text style=\"fill:#000000; fill-opacity:1; font-family:Arial,Helvetica Neue,Helvetica,sans-serif; font-size:12; text-anchor:end;\" transform=\"rotate(0, 33.1436, 334.686)\" x=\"33.1436\" y=\"334.686\">-1.5</text>\n",
       "</g>\n",
       "<g clip-path=\"url(#clip3200)\">\n",
       "<text style=\"fill:#000000; fill-opacity:1; font-family:Arial,Helvetica Neue,Helvetica,sans-serif; font-size:12; text-anchor:end;\" transform=\"rotate(0, 33.1436, 273.071)\" x=\"33.1436\" y=\"273.071\">-1.0</text>\n",
       "</g>\n",
       "<g clip-path=\"url(#clip3200)\">\n",
       "<text style=\"fill:#000000; fill-opacity:1; font-family:Arial,Helvetica Neue,Helvetica,sans-serif; font-size:12; text-anchor:end;\" transform=\"rotate(0, 33.1436, 211.457)\" x=\"33.1436\" y=\"211.457\">-0.5</text>\n",
       "</g>\n",
       "<g clip-path=\"url(#clip3200)\">\n",
       "<text style=\"fill:#000000; fill-opacity:1; font-family:Arial,Helvetica Neue,Helvetica,sans-serif; font-size:12; text-anchor:end;\" transform=\"rotate(0, 33.1436, 149.842)\" x=\"33.1436\" y=\"149.842\">0.0</text>\n",
       "</g>\n",
       "<g clip-path=\"url(#clip3200)\">\n",
       "<text style=\"fill:#000000; fill-opacity:1; font-family:Arial,Helvetica Neue,Helvetica,sans-serif; font-size:12; text-anchor:end;\" transform=\"rotate(0, 33.1436, 88.2275)\" x=\"33.1436\" y=\"88.2275\">0.5</text>\n",
       "</g>\n",
       "<g clip-path=\"url(#clip3200)\">\n",
       "<text style=\"fill:#000000; fill-opacity:1; font-family:Arial,Helvetica Neue,Helvetica,sans-serif; font-size:12; text-anchor:end;\" transform=\"rotate(0, 33.1436, 26.613)\" x=\"33.1436\" y=\"26.613\">1.0</text>\n",
       "</g>\n",
       "<circle clip-path=\"url(#clip3202)\" style=\"fill:#000000; stroke:none; fill-opacity:1\" cx=\"54.4598\" cy=\"145.342\" r=\"4\"/>\n",
       "<circle clip-path=\"url(#clip3202)\" style=\"fill:#009af9; stroke:none; fill-opacity:1\" cx=\"54.4598\" cy=\"145.342\" r=\"3\"/>\n",
       "<circle clip-path=\"url(#clip3202)\" style=\"fill:#000000; stroke:none; fill-opacity:1\" cx=\"56.3095\" cy=\"147.478\" r=\"4\"/>\n",
       "<circle clip-path=\"url(#clip3202)\" style=\"fill:#009af9; stroke:none; fill-opacity:1\" cx=\"56.3095\" cy=\"147.478\" r=\"3\"/>\n",
       "<circle clip-path=\"url(#clip3202)\" style=\"fill:#000000; stroke:none; fill-opacity:1\" cx=\"61.8589\" cy=\"149.778\" r=\"4\"/>\n",
       "<circle clip-path=\"url(#clip3202)\" style=\"fill:#009af9; stroke:none; fill-opacity:1\" cx=\"61.8589\" cy=\"149.778\" r=\"3\"/>\n",
       "<circle clip-path=\"url(#clip3202)\" style=\"fill:#000000; stroke:none; fill-opacity:1\" cx=\"65.5584\" cy=\"145.342\" r=\"4\"/>\n",
       "<circle clip-path=\"url(#clip3202)\" style=\"fill:#009af9; stroke:none; fill-opacity:1\" cx=\"65.5584\" cy=\"145.342\" r=\"3\"/>\n",
       "<circle clip-path=\"url(#clip3202)\" style=\"fill:#000000; stroke:none; fill-opacity:1\" cx=\"69.258\" cy=\"149.778\" r=\"4\"/>\n",
       "<circle clip-path=\"url(#clip3202)\" style=\"fill:#009af9; stroke:none; fill-opacity:1\" cx=\"69.258\" cy=\"149.778\" r=\"3\"/>\n",
       "<circle clip-path=\"url(#clip3202)\" style=\"fill:#000000; stroke:none; fill-opacity:1\" cx=\"89.6056\" cy=\"149.778\" r=\"4\"/>\n",
       "<circle clip-path=\"url(#clip3202)\" style=\"fill:#009af9; stroke:none; fill-opacity:1\" cx=\"89.6056\" cy=\"149.778\" r=\"3\"/>\n",
       "<circle clip-path=\"url(#clip3202)\" style=\"fill:#000000; stroke:none; fill-opacity:1\" cx=\"93.3051\" cy=\"149.778\" r=\"4\"/>\n",
       "<circle clip-path=\"url(#clip3202)\" style=\"fill:#009af9; stroke:none; fill-opacity:1\" cx=\"93.3051\" cy=\"149.778\" r=\"3\"/>\n",
       "<circle clip-path=\"url(#clip3202)\" style=\"fill:#000000; stroke:none; fill-opacity:1\" cx=\"95.1549\" cy=\"147.478\" r=\"4\"/>\n",
       "<circle clip-path=\"url(#clip3202)\" style=\"fill:#009af9; stroke:none; fill-opacity:1\" cx=\"95.1549\" cy=\"147.478\" r=\"3\"/>\n",
       "<circle clip-path=\"url(#clip3202)\" style=\"fill:#000000; stroke:none; fill-opacity:1\" cx=\"104.404\" cy=\"149.778\" r=\"4\"/>\n",
       "<circle clip-path=\"url(#clip3202)\" style=\"fill:#009af9; stroke:none; fill-opacity:1\" cx=\"104.404\" cy=\"149.778\" r=\"3\"/>\n",
       "<circle clip-path=\"url(#clip3202)\" style=\"fill:#000000; stroke:none; fill-opacity:1\" cx=\"108.103\" cy=\"149.778\" r=\"4\"/>\n",
       "<circle clip-path=\"url(#clip3202)\" style=\"fill:#009af9; stroke:none; fill-opacity:1\" cx=\"108.103\" cy=\"149.778\" r=\"3\"/>\n",
       "<circle clip-path=\"url(#clip3202)\" style=\"fill:#000000; stroke:none; fill-opacity:1\" cx=\"113.653\" cy=\"147.478\" r=\"4\"/>\n",
       "<circle clip-path=\"url(#clip3202)\" style=\"fill:#009af9; stroke:none; fill-opacity:1\" cx=\"113.653\" cy=\"147.478\" r=\"3\"/>\n",
       "<circle clip-path=\"url(#clip3202)\" style=\"fill:#000000; stroke:none; fill-opacity:1\" cx=\"121.052\" cy=\"149.778\" r=\"4\"/>\n",
       "<circle clip-path=\"url(#clip3202)\" style=\"fill:#009af9; stroke:none; fill-opacity:1\" cx=\"121.052\" cy=\"149.778\" r=\"3\"/>\n",
       "<circle clip-path=\"url(#clip3202)\" style=\"fill:#000000; stroke:none; fill-opacity:1\" cx=\"124.751\" cy=\"149.778\" r=\"4\"/>\n",
       "<circle clip-path=\"url(#clip3202)\" style=\"fill:#009af9; stroke:none; fill-opacity:1\" cx=\"124.751\" cy=\"149.778\" r=\"3\"/>\n",
       "<circle clip-path=\"url(#clip3202)\" style=\"fill:#000000; stroke:none; fill-opacity:1\" cx=\"126.601\" cy=\"154.215\" r=\"4\"/>\n",
       "<circle clip-path=\"url(#clip3202)\" style=\"fill:#009af9; stroke:none; fill-opacity:1\" cx=\"126.601\" cy=\"154.215\" r=\"3\"/>\n",
       "<circle clip-path=\"url(#clip3202)\" style=\"fill:#000000; stroke:none; fill-opacity:1\" cx=\"130.301\" cy=\"149.778\" r=\"4\"/>\n",
       "<circle clip-path=\"url(#clip3202)\" style=\"fill:#009af9; stroke:none; fill-opacity:1\" cx=\"130.301\" cy=\"149.778\" r=\"3\"/>\n",
       "<circle clip-path=\"url(#clip3202)\" style=\"fill:#000000; stroke:none; fill-opacity:1\" cx=\"134\" cy=\"154.215\" r=\"4\"/>\n",
       "<circle clip-path=\"url(#clip3202)\" style=\"fill:#009af9; stroke:none; fill-opacity:1\" cx=\"134\" cy=\"154.215\" r=\"3\"/>\n",
       "<circle clip-path=\"url(#clip3202)\" style=\"fill:#000000; stroke:none; fill-opacity:1\" cx=\"137.7\" cy=\"145.342\" r=\"4\"/>\n",
       "<circle clip-path=\"url(#clip3202)\" style=\"fill:#009af9; stroke:none; fill-opacity:1\" cx=\"137.7\" cy=\"145.342\" r=\"3\"/>\n",
       "<circle clip-path=\"url(#clip3202)\" style=\"fill:#000000; stroke:none; fill-opacity:1\" cx=\"154.348\" cy=\"149.778\" r=\"4\"/>\n",
       "<circle clip-path=\"url(#clip3202)\" style=\"fill:#009af9; stroke:none; fill-opacity:1\" cx=\"154.348\" cy=\"149.778\" r=\"3\"/>\n",
       "<circle clip-path=\"url(#clip3202)\" style=\"fill:#000000; stroke:none; fill-opacity:1\" cx=\"158.047\" cy=\"149.778\" r=\"4\"/>\n",
       "<circle clip-path=\"url(#clip3202)\" style=\"fill:#009af9; stroke:none; fill-opacity:1\" cx=\"158.047\" cy=\"149.778\" r=\"3\"/>\n",
       "<circle clip-path=\"url(#clip3202)\" style=\"fill:#000000; stroke:none; fill-opacity:1\" cx=\"159.897\" cy=\"145.342\" r=\"4\"/>\n",
       "<circle clip-path=\"url(#clip3202)\" style=\"fill:#009af9; stroke:none; fill-opacity:1\" cx=\"159.897\" cy=\"145.342\" r=\"3\"/>\n",
       "<circle clip-path=\"url(#clip3202)\" style=\"fill:#000000; stroke:none; fill-opacity:1\" cx=\"167.296\" cy=\"167.195\" r=\"4\"/>\n",
       "<circle clip-path=\"url(#clip3202)\" style=\"fill:#009af9; stroke:none; fill-opacity:1\" cx=\"167.296\" cy=\"167.195\" r=\"3\"/>\n",
       "<circle clip-path=\"url(#clip3202)\" style=\"fill:#000000; stroke:none; fill-opacity:1\" cx=\"169.146\" cy=\"149.778\" r=\"4\"/>\n",
       "<circle clip-path=\"url(#clip3202)\" style=\"fill:#009af9; stroke:none; fill-opacity:1\" cx=\"169.146\" cy=\"149.778\" r=\"3\"/>\n",
       "<circle clip-path=\"url(#clip3202)\" style=\"fill:#000000; stroke:none; fill-opacity:1\" cx=\"174.695\" cy=\"182.804\" r=\"4\"/>\n",
       "<circle clip-path=\"url(#clip3202)\" style=\"fill:#009af9; stroke:none; fill-opacity:1\" cx=\"174.695\" cy=\"182.804\" r=\"3\"/>\n",
       "<circle clip-path=\"url(#clip3202)\" style=\"fill:#000000; stroke:none; fill-opacity:1\" cx=\"176.545\" cy=\"211.393\" r=\"4\"/>\n",
       "<circle clip-path=\"url(#clip3202)\" style=\"fill:#009af9; stroke:none; fill-opacity:1\" cx=\"176.545\" cy=\"211.393\" r=\"3\"/>\n",
       "<circle clip-path=\"url(#clip3202)\" style=\"fill:#000000; stroke:none; fill-opacity:1\" cx=\"178.395\" cy=\"180.668\" r=\"4\"/>\n",
       "<circle clip-path=\"url(#clip3202)\" style=\"fill:#009af9; stroke:none; fill-opacity:1\" cx=\"178.395\" cy=\"180.668\" r=\"3\"/>\n",
       "<circle clip-path=\"url(#clip3202)\" style=\"fill:#000000; stroke:none; fill-opacity:1\" cx=\"180.245\" cy=\"215.829\" r=\"4\"/>\n",
       "<circle clip-path=\"url(#clip3202)\" style=\"fill:#009af9; stroke:none; fill-opacity:1\" cx=\"180.245\" cy=\"215.829\" r=\"3\"/>\n",
       "<circle clip-path=\"url(#clip3202)\" style=\"fill:#000000; stroke:none; fill-opacity:1\" cx=\"182.095\" cy=\"180.668\" r=\"4\"/>\n",
       "<circle clip-path=\"url(#clip3202)\" style=\"fill:#009af9; stroke:none; fill-opacity:1\" cx=\"182.095\" cy=\"180.668\" r=\"3\"/>\n",
       "<circle clip-path=\"url(#clip3202)\" style=\"fill:#000000; stroke:none; fill-opacity:1\" cx=\"183.944\" cy=\"154.215\" r=\"4\"/>\n",
       "<circle clip-path=\"url(#clip3202)\" style=\"fill:#009af9; stroke:none; fill-opacity:1\" cx=\"183.944\" cy=\"154.215\" r=\"3\"/>\n",
       "<circle clip-path=\"url(#clip3202)\" style=\"fill:#000000; stroke:none; fill-opacity:1\" cx=\"185.794\" cy=\"242.282\" r=\"4\"/>\n",
       "<circle clip-path=\"url(#clip3202)\" style=\"fill:#009af9; stroke:none; fill-opacity:1\" cx=\"185.794\" cy=\"242.282\" r=\"3\"/>\n",
       "<circle clip-path=\"url(#clip3202)\" style=\"fill:#000000; stroke:none; fill-opacity:1\" cx=\"187.644\" cy=\"261.999\" r=\"4\"/>\n",
       "<circle clip-path=\"url(#clip3202)\" style=\"fill:#009af9; stroke:none; fill-opacity:1\" cx=\"187.644\" cy=\"261.999\" r=\"3\"/>\n",
       "<circle clip-path=\"url(#clip3202)\" style=\"fill:#000000; stroke:none; fill-opacity:1\" cx=\"195.043\" cy=\"206.957\" r=\"4\"/>\n",
       "<circle clip-path=\"url(#clip3202)\" style=\"fill:#009af9; stroke:none; fill-opacity:1\" cx=\"195.043\" cy=\"206.957\" r=\"3\"/>\n",
       "<circle clip-path=\"url(#clip3202)\" style=\"fill:#000000; stroke:none; fill-opacity:1\" cx=\"196.893\" cy=\"308.169\" r=\"4\"/>\n",
       "<circle clip-path=\"url(#clip3202)\" style=\"fill:#009af9; stroke:none; fill-opacity:1\" cx=\"196.893\" cy=\"308.169\" r=\"3\"/>\n",
       "<circle clip-path=\"url(#clip3202)\" style=\"fill:#000000; stroke:none; fill-opacity:1\" cx=\"204.292\" cy=\"330.186\" r=\"4\"/>\n",
       "<circle clip-path=\"url(#clip3202)\" style=\"fill:#009af9; stroke:none; fill-opacity:1\" cx=\"204.292\" cy=\"330.186\" r=\"3\"/>\n",
       "<circle clip-path=\"url(#clip3202)\" style=\"fill:#000000; stroke:none; fill-opacity:1\" cx=\"209.841\" cy=\"347.602\" r=\"4\"/>\n",
       "<circle clip-path=\"url(#clip3202)\" style=\"fill:#009af9; stroke:none; fill-opacity:1\" cx=\"209.841\" cy=\"347.602\" r=\"3\"/>\n",
       "<circle clip-path=\"url(#clip3202)\" style=\"fill:#000000; stroke:none; fill-opacity:1\" cx=\"211.691\" cy=\"285.988\" r=\"4\"/>\n",
       "<circle clip-path=\"url(#clip3202)\" style=\"fill:#009af9; stroke:none; fill-opacity:1\" cx=\"211.691\" cy=\"285.988\" r=\"3\"/>\n",
       "<circle clip-path=\"url(#clip3202)\" style=\"fill:#000000; stroke:none; fill-opacity:1\" cx=\"213.541\" cy=\"354.339\" r=\"4\"/>\n",
       "<circle clip-path=\"url(#clip3202)\" style=\"fill:#009af9; stroke:none; fill-opacity:1\" cx=\"213.541\" cy=\"354.339\" r=\"3\"/>\n",
       "<circle clip-path=\"url(#clip3202)\" style=\"fill:#000000; stroke:none; fill-opacity:1\" cx=\"219.09\" cy=\"347.602\" r=\"4\"/>\n",
       "<circle clip-path=\"url(#clip3202)\" style=\"fill:#009af9; stroke:none; fill-opacity:1\" cx=\"219.09\" cy=\"347.602\" r=\"3\"/>\n",
       "<circle clip-path=\"url(#clip3202)\" style=\"fill:#000000; stroke:none; fill-opacity:1\" cx=\"220.94\" cy=\"339.058\" r=\"4\"/>\n",
       "<circle clip-path=\"url(#clip3202)\" style=\"fill:#009af9; stroke:none; fill-opacity:1\" cx=\"220.94\" cy=\"339.058\" r=\"3\"/>\n",
       "<circle clip-path=\"url(#clip3202)\" style=\"fill:#000000; stroke:none; fill-opacity:1\" cx=\"228.339\" cy=\"365.511\" r=\"4\"/>\n",
       "<circle clip-path=\"url(#clip3202)\" style=\"fill:#009af9; stroke:none; fill-opacity:1\" cx=\"228.339\" cy=\"365.511\" r=\"3\"/>\n",
       "<circle clip-path=\"url(#clip3202)\" style=\"fill:#000000; stroke:none; fill-opacity:1\" cx=\"230.189\" cy=\"312.769\" r=\"4\"/>\n",
       "<circle clip-path=\"url(#clip3202)\" style=\"fill:#009af9; stroke:none; fill-opacity:1\" cx=\"230.189\" cy=\"312.769\" r=\"3\"/>\n",
       "<circle clip-path=\"url(#clip3202)\" style=\"fill:#000000; stroke:none; fill-opacity:1\" cx=\"233.888\" cy=\"323.449\" r=\"4\"/>\n",
       "<circle clip-path=\"url(#clip3202)\" style=\"fill:#009af9; stroke:none; fill-opacity:1\" cx=\"233.888\" cy=\"323.449\" r=\"3\"/>\n",
       "<circle clip-path=\"url(#clip3202)\" style=\"fill:#000000; stroke:none; fill-opacity:1\" cx=\"235.738\" cy=\"347.602\" r=\"4\"/>\n",
       "<circle clip-path=\"url(#clip3202)\" style=\"fill:#009af9; stroke:none; fill-opacity:1\" cx=\"235.738\" cy=\"347.602\" r=\"3\"/>\n",
       "<circle clip-path=\"url(#clip3202)\" style=\"fill:#000000; stroke:none; fill-opacity:1\" cx=\"246.837\" cy=\"347.602\" r=\"4\"/>\n",
       "<circle clip-path=\"url(#clip3202)\" style=\"fill:#009af9; stroke:none; fill-opacity:1\" cx=\"246.837\" cy=\"347.602\" r=\"3\"/>\n",
       "<circle clip-path=\"url(#clip3202)\" style=\"fill:#000000; stroke:none; fill-opacity:1\" cx=\"248.687\" cy=\"356.475\" r=\"4\"/>\n",
       "<circle clip-path=\"url(#clip3202)\" style=\"fill:#009af9; stroke:none; fill-opacity:1\" cx=\"248.687\" cy=\"356.475\" r=\"3\"/>\n",
       "<circle clip-path=\"url(#clip3202)\" style=\"fill:#000000; stroke:none; fill-opacity:1\" cx=\"254.236\" cy=\"330.186\" r=\"4\"/>\n",
       "<circle clip-path=\"url(#clip3202)\" style=\"fill:#009af9; stroke:none; fill-opacity:1\" cx=\"254.236\" cy=\"330.186\" r=\"3\"/>\n",
       "<circle clip-path=\"url(#clip3202)\" style=\"fill:#000000; stroke:none; fill-opacity:1\" cx=\"256.086\" cy=\"301.597\" r=\"4\"/>\n",
       "<circle clip-path=\"url(#clip3202)\" style=\"fill:#009af9; stroke:none; fill-opacity:1\" cx=\"256.086\" cy=\"301.597\" r=\"3\"/>\n",
       "<circle clip-path=\"url(#clip3202)\" style=\"fill:#000000; stroke:none; fill-opacity:1\" cx=\"259.785\" cy=\"233.246\" r=\"4\"/>\n",
       "<circle clip-path=\"url(#clip3202)\" style=\"fill:#009af9; stroke:none; fill-opacity:1\" cx=\"259.785\" cy=\"233.246\" r=\"3\"/>\n",
       "<circle clip-path=\"url(#clip3202)\" style=\"fill:#000000; stroke:none; fill-opacity:1\" cx=\"263.485\" cy=\"251.155\" r=\"4\"/>\n",
       "<circle clip-path=\"url(#clip3202)\" style=\"fill:#009af9; stroke:none; fill-opacity:1\" cx=\"263.485\" cy=\"251.155\" r=\"3\"/>\n",
       "<circle clip-path=\"url(#clip3202)\" style=\"fill:#000000; stroke:none; fill-opacity:1\" cx=\"267.184\" cy=\"264.135\" r=\"4\"/>\n",
       "<circle clip-path=\"url(#clip3202)\" style=\"fill:#009af9; stroke:none; fill-opacity:1\" cx=\"267.184\" cy=\"264.135\" r=\"3\"/>\n",
       "<circle clip-path=\"url(#clip3202)\" style=\"fill:#000000; stroke:none; fill-opacity:1\" cx=\"269.034\" cy=\"189.376\" r=\"4\"/>\n",
       "<circle clip-path=\"url(#clip3202)\" style=\"fill:#009af9; stroke:none; fill-opacity:1\" cx=\"269.034\" cy=\"189.376\" r=\"3\"/>\n",
       "<circle clip-path=\"url(#clip3202)\" style=\"fill:#000000; stroke:none; fill-opacity:1\" cx=\"272.734\" cy=\"154.215\" r=\"4\"/>\n",
       "<circle clip-path=\"url(#clip3202)\" style=\"fill:#009af9; stroke:none; fill-opacity:1\" cx=\"272.734\" cy=\"154.215\" r=\"3\"/>\n",
       "<circle clip-path=\"url(#clip3202)\" style=\"fill:#000000; stroke:none; fill-opacity:1\" cx=\"274.583\" cy=\"321.313\" r=\"4\"/>\n",
       "<circle clip-path=\"url(#clip3202)\" style=\"fill:#009af9; stroke:none; fill-opacity:1\" cx=\"274.583\" cy=\"321.313\" r=\"3\"/>\n",
       "<circle clip-path=\"url(#clip3202)\" style=\"fill:#000000; stroke:none; fill-opacity:1\" cx=\"276.433\" cy=\"253.127\" r=\"4\"/>\n",
       "<circle clip-path=\"url(#clip3202)\" style=\"fill:#009af9; stroke:none; fill-opacity:1\" cx=\"276.433\" cy=\"253.127\" r=\"3\"/>\n",
       "<circle clip-path=\"url(#clip3202)\" style=\"fill:#000000; stroke:none; fill-opacity:1\" cx=\"281.983\" cy=\"171.631\" r=\"4\"/>\n",
       "<circle clip-path=\"url(#clip3202)\" style=\"fill:#009af9; stroke:none; fill-opacity:1\" cx=\"281.983\" cy=\"171.631\" r=\"3\"/>\n",
       "<circle clip-path=\"url(#clip3202)\" style=\"fill:#000000; stroke:none; fill-opacity:1\" cx=\"283.832\" cy=\"220.265\" r=\"4\"/>\n",
       "<circle clip-path=\"url(#clip3202)\" style=\"fill:#009af9; stroke:none; fill-opacity:1\" cx=\"283.832\" cy=\"220.265\" r=\"3\"/>\n",
       "<circle clip-path=\"url(#clip3202)\" style=\"fill:#000000; stroke:none; fill-opacity:1\" cx=\"287.532\" cy=\"138.77\" r=\"4\"/>\n",
       "<circle clip-path=\"url(#clip3202)\" style=\"fill:#009af9; stroke:none; fill-opacity:1\" cx=\"287.532\" cy=\"138.77\" r=\"3\"/>\n",
       "<circle clip-path=\"url(#clip3202)\" style=\"fill:#000000; stroke:none; fill-opacity:1\" cx=\"293.081\" cy=\"125.625\" r=\"4\"/>\n",
       "<circle clip-path=\"url(#clip3202)\" style=\"fill:#009af9; stroke:none; fill-opacity:1\" cx=\"293.081\" cy=\"125.625\" r=\"3\"/>\n",
       "<circle clip-path=\"url(#clip3202)\" style=\"fill:#000000; stroke:none; fill-opacity:1\" cx=\"294.931\" cy=\"180.668\" r=\"4\"/>\n",
       "<circle clip-path=\"url(#clip3202)\" style=\"fill:#009af9; stroke:none; fill-opacity:1\" cx=\"294.931\" cy=\"180.668\" r=\"3\"/>\n",
       "<circle clip-path=\"url(#clip3202)\" style=\"fill:#000000; stroke:none; fill-opacity:1\" cx=\"296.781\" cy=\"68.2828\" r=\"4\"/>\n",
       "<circle clip-path=\"url(#clip3202)\" style=\"fill:#009af9; stroke:none; fill-opacity:1\" cx=\"296.781\" cy=\"68.2828\" r=\"3\"/>\n",
       "<circle clip-path=\"url(#clip3202)\" style=\"fill:#000000; stroke:none; fill-opacity:1\" cx=\"304.18\" cy=\"173.931\" r=\"4\"/>\n",
       "<circle clip-path=\"url(#clip3202)\" style=\"fill:#009af9; stroke:none; fill-opacity:1\" cx=\"304.18\" cy=\"173.931\" r=\"3\"/>\n",
       "<circle clip-path=\"url(#clip3202)\" style=\"fill:#000000; stroke:none; fill-opacity:1\" cx=\"311.579\" cy=\"85.8635\" r=\"4\"/>\n",
       "<circle clip-path=\"url(#clip3202)\" style=\"fill:#009af9; stroke:none; fill-opacity:1\" cx=\"311.579\" cy=\"85.8635\" r=\"3\"/>\n",
       "<circle clip-path=\"url(#clip3202)\" style=\"fill:#000000; stroke:none; fill-opacity:1\" cx=\"318.978\" cy=\"22.113\" r=\"4\"/>\n",
       "<circle clip-path=\"url(#clip3202)\" style=\"fill:#009af9; stroke:none; fill-opacity:1\" cx=\"318.978\" cy=\"22.113\" r=\"3\"/>\n",
       "<circle clip-path=\"url(#clip3202)\" style=\"fill:#000000; stroke:none; fill-opacity:1\" cx=\"320.828\" cy=\"132.033\" r=\"4\"/>\n",
       "<circle clip-path=\"url(#clip3202)\" style=\"fill:#009af9; stroke:none; fill-opacity:1\" cx=\"320.828\" cy=\"132.033\" r=\"3\"/>\n",
       "<circle clip-path=\"url(#clip3202)\" style=\"fill:#000000; stroke:none; fill-opacity:1\" cx=\"328.227\" cy=\"55.1384\" r=\"4\"/>\n",
       "<circle clip-path=\"url(#clip3202)\" style=\"fill:#009af9; stroke:none; fill-opacity:1\" cx=\"328.227\" cy=\"55.1384\" r=\"3\"/>\n",
       "<circle clip-path=\"url(#clip3202)\" style=\"fill:#000000; stroke:none; fill-opacity:1\" cx=\"335.626\" cy=\"68.2828\" r=\"4\"/>\n",
       "<circle clip-path=\"url(#clip3202)\" style=\"fill:#009af9; stroke:none; fill-opacity:1\" cx=\"335.626\" cy=\"68.2828\" r=\"3\"/>\n",
       "<circle clip-path=\"url(#clip3202)\" style=\"fill:#000000; stroke:none; fill-opacity:1\" cx=\"341.176\" cy=\"119.053\" r=\"4\"/>\n",
       "<circle clip-path=\"url(#clip3202)\" style=\"fill:#009af9; stroke:none; fill-opacity:1\" cx=\"341.176\" cy=\"119.053\" r=\"3\"/>\n",
       "<circle clip-path=\"url(#clip3202)\" style=\"fill:#000000; stroke:none; fill-opacity:1\" cx=\"344.875\" cy=\"70.4188\" r=\"4\"/>\n",
       "<circle clip-path=\"url(#clip3202)\" style=\"fill:#009af9; stroke:none; fill-opacity:1\" cx=\"344.875\" cy=\"70.4188\" r=\"3\"/>\n",
       "<circle clip-path=\"url(#clip3202)\" style=\"fill:#000000; stroke:none; fill-opacity:1\" cx=\"350.424\" cy=\"143.206\" r=\"4\"/>\n",
       "<circle clip-path=\"url(#clip3202)\" style=\"fill:#009af9; stroke:none; fill-opacity:1\" cx=\"350.424\" cy=\"143.206\" r=\"3\"/>\n",
       "<circle clip-path=\"url(#clip3202)\" style=\"fill:#000000; stroke:none; fill-opacity:1\" cx=\"354.124\" cy=\"22.113\" r=\"4\"/>\n",
       "<circle clip-path=\"url(#clip3202)\" style=\"fill:#009af9; stroke:none; fill-opacity:1\" cx=\"354.124\" cy=\"22.113\" r=\"3\"/>\n",
       "<circle clip-path=\"url(#clip3202)\" style=\"fill:#000000; stroke:none; fill-opacity:1\" cx=\"357.824\" cy=\"171.631\" r=\"4\"/>\n",
       "<circle clip-path=\"url(#clip3202)\" style=\"fill:#009af9; stroke:none; fill-opacity:1\" cx=\"357.824\" cy=\"171.631\" r=\"3\"/>\n",
       "<circle clip-path=\"url(#clip3202)\" style=\"fill:#000000; stroke:none; fill-opacity:1\" cx=\"359.673\" cy=\"30.9855\" r=\"4\"/>\n",
       "<circle clip-path=\"url(#clip3202)\" style=\"fill:#009af9; stroke:none; fill-opacity:1\" cx=\"359.673\" cy=\"30.9855\" r=\"3\"/>\n",
       "<circle clip-path=\"url(#clip3202)\" style=\"fill:#000000; stroke:none; fill-opacity:1\" cx=\"361.523\" cy=\"88.1638\" r=\"4\"/>\n",
       "<circle clip-path=\"url(#clip3202)\" style=\"fill:#009af9; stroke:none; fill-opacity:1\" cx=\"361.523\" cy=\"88.1638\" r=\"3\"/>\n",
       "<circle clip-path=\"url(#clip3202)\" style=\"fill:#000000; stroke:none; fill-opacity:1\" cx=\"367.072\" cy=\"206.957\" r=\"4\"/>\n",
       "<circle clip-path=\"url(#clip3202)\" style=\"fill:#009af9; stroke:none; fill-opacity:1\" cx=\"367.072\" cy=\"206.957\" r=\"3\"/>\n",
       "<circle clip-path=\"url(#clip3202)\" style=\"fill:#000000; stroke:none; fill-opacity:1\" cx=\"383.72\" cy=\"68.2828\" r=\"4\"/>\n",
       "<circle clip-path=\"url(#clip3202)\" style=\"fill:#009af9; stroke:none; fill-opacity:1\" cx=\"383.72\" cy=\"68.2828\" r=\"3\"/>\n",
       "<circle clip-path=\"url(#clip3202)\" style=\"fill:#000000; stroke:none; fill-opacity:1\" cx=\"394.819\" cy=\"136.47\" r=\"4\"/>\n",
       "<circle clip-path=\"url(#clip3202)\" style=\"fill:#009af9; stroke:none; fill-opacity:1\" cx=\"394.819\" cy=\"136.47\" r=\"3\"/>\n",
       "<circle clip-path=\"url(#clip3202)\" style=\"fill:#000000; stroke:none; fill-opacity:1\" cx=\"396.669\" cy=\"147.478\" r=\"4\"/>\n",
       "<circle clip-path=\"url(#clip3202)\" style=\"fill:#009af9; stroke:none; fill-opacity:1\" cx=\"396.669\" cy=\"147.478\" r=\"3\"/>\n",
       "<circle clip-path=\"url(#clip3202)\" style=\"fill:#000000; stroke:none; fill-opacity:1\" cx=\"402.218\" cy=\"180.668\" r=\"4\"/>\n",
       "<circle clip-path=\"url(#clip3202)\" style=\"fill:#009af9; stroke:none; fill-opacity:1\" cx=\"402.218\" cy=\"180.668\" r=\"3\"/>\n",
       "<circle clip-path=\"url(#clip3202)\" style=\"fill:#000000; stroke:none; fill-opacity:1\" cx=\"405.918\" cy=\"167.195\" r=\"4\"/>\n",
       "<circle clip-path=\"url(#clip3202)\" style=\"fill:#009af9; stroke:none; fill-opacity:1\" cx=\"405.918\" cy=\"167.195\" r=\"3\"/>\n",
       "<circle clip-path=\"url(#clip3202)\" style=\"fill:#000000; stroke:none; fill-opacity:1\" cx=\"417.016\" cy=\"94.736\" r=\"4\"/>\n",
       "<circle clip-path=\"url(#clip3202)\" style=\"fill:#009af9; stroke:none; fill-opacity:1\" cx=\"417.016\" cy=\"94.736\" r=\"3\"/>\n",
       "<circle clip-path=\"url(#clip3202)\" style=\"fill:#000000; stroke:none; fill-opacity:1\" cx=\"424.416\" cy=\"97.0363\" r=\"4\"/>\n",
       "<circle clip-path=\"url(#clip3202)\" style=\"fill:#009af9; stroke:none; fill-opacity:1\" cx=\"424.416\" cy=\"97.0363\" r=\"3\"/>\n",
       "<circle clip-path=\"url(#clip3202)\" style=\"fill:#000000; stroke:none; fill-opacity:1\" cx=\"428.115\" cy=\"145.342\" r=\"4\"/>\n",
       "<circle clip-path=\"url(#clip3202)\" style=\"fill:#009af9; stroke:none; fill-opacity:1\" cx=\"428.115\" cy=\"145.342\" r=\"3\"/>\n",
       "<circle clip-path=\"url(#clip3202)\" style=\"fill:#000000; stroke:none; fill-opacity:1\" cx=\"429.965\" cy=\"121.189\" r=\"4\"/>\n",
       "<circle clip-path=\"url(#clip3202)\" style=\"fill:#009af9; stroke:none; fill-opacity:1\" cx=\"429.965\" cy=\"121.189\" r=\"3\"/>\n",
       "<circle clip-path=\"url(#clip3202)\" style=\"fill:#000000; stroke:none; fill-opacity:1\" cx=\"439.214\" cy=\"147.478\" r=\"4\"/>\n",
       "<circle clip-path=\"url(#clip3202)\" style=\"fill:#009af9; stroke:none; fill-opacity:1\" cx=\"439.214\" cy=\"147.478\" r=\"3\"/>\n",
       "<circle clip-path=\"url(#clip3202)\" style=\"fill:#000000; stroke:none; fill-opacity:1\" cx=\"442.913\" cy=\"145.342\" r=\"4\"/>\n",
       "<circle clip-path=\"url(#clip3202)\" style=\"fill:#009af9; stroke:none; fill-opacity:1\" cx=\"442.913\" cy=\"145.342\" r=\"3\"/>\n",
       "<circle clip-path=\"url(#clip3202)\" style=\"fill:#000000; stroke:none; fill-opacity:1\" cx=\"448.463\" cy=\"127.761\" r=\"4\"/>\n",
       "<circle clip-path=\"url(#clip3202)\" style=\"fill:#009af9; stroke:none; fill-opacity:1\" cx=\"448.463\" cy=\"127.761\" r=\"3\"/>\n",
       "<circle clip-path=\"url(#clip3202)\" style=\"fill:#000000; stroke:none; fill-opacity:1\" cx=\"463.261\" cy=\"127.761\" r=\"4\"/>\n",
       "<circle clip-path=\"url(#clip3202)\" style=\"fill:#009af9; stroke:none; fill-opacity:1\" cx=\"463.261\" cy=\"127.761\" r=\"3\"/>\n",
       "<circle clip-path=\"url(#clip3202)\" style=\"fill:#000000; stroke:none; fill-opacity:1\" cx=\"474.36\" cy=\"189.376\" r=\"4\"/>\n",
       "<circle clip-path=\"url(#clip3202)\" style=\"fill:#009af9; stroke:none; fill-opacity:1\" cx=\"474.36\" cy=\"189.376\" r=\"3\"/>\n",
       "<circle clip-path=\"url(#clip3202)\" style=\"fill:#000000; stroke:none; fill-opacity:1\" cx=\"483.609\" cy=\"167.195\" r=\"4\"/>\n",
       "<circle clip-path=\"url(#clip3202)\" style=\"fill:#009af9; stroke:none; fill-opacity:1\" cx=\"483.609\" cy=\"167.195\" r=\"3\"/>\n",
       "<circle clip-path=\"url(#clip3202)\" style=\"fill:#000000; stroke:none; fill-opacity:1\" cx=\"500.257\" cy=\"145.342\" r=\"4\"/>\n",
       "<circle clip-path=\"url(#clip3202)\" style=\"fill:#009af9; stroke:none; fill-opacity:1\" cx=\"500.257\" cy=\"145.342\" r=\"3\"/>\n",
       "<circle clip-path=\"url(#clip3202)\" style=\"fill:#000000; stroke:none; fill-opacity:1\" cx=\"513.205\" cy=\"127.761\" r=\"4\"/>\n",
       "<circle clip-path=\"url(#clip3202)\" style=\"fill:#009af9; stroke:none; fill-opacity:1\" cx=\"513.205\" cy=\"127.761\" r=\"3\"/>\n",
       "<circle clip-path=\"url(#clip3202)\" style=\"fill:#000000; stroke:none; fill-opacity:1\" cx=\"524.304\" cy=\"169.495\" r=\"4\"/>\n",
       "<circle clip-path=\"url(#clip3202)\" style=\"fill:#009af9; stroke:none; fill-opacity:1\" cx=\"524.304\" cy=\"169.495\" r=\"3\"/>\n",
       "<circle clip-path=\"url(#clip3202)\" style=\"fill:#000000; stroke:none; fill-opacity:1\" cx=\"540.952\" cy=\"149.778\" r=\"4\"/>\n",
       "<circle clip-path=\"url(#clip3202)\" style=\"fill:#009af9; stroke:none; fill-opacity:1\" cx=\"540.952\" cy=\"149.778\" r=\"3\"/>\n",
       "<circle clip-path=\"url(#clip3202)\" style=\"fill:#000000; stroke:none; fill-opacity:1\" cx=\"544.651\" cy=\"149.778\" r=\"4\"/>\n",
       "<circle clip-path=\"url(#clip3202)\" style=\"fill:#009af9; stroke:none; fill-opacity:1\" cx=\"544.651\" cy=\"149.778\" r=\"3\"/>\n",
       "<circle clip-path=\"url(#clip3202)\" style=\"fill:#000000; stroke:none; fill-opacity:1\" cx=\"564.999\" cy=\"127.761\" r=\"4\"/>\n",
       "<circle clip-path=\"url(#clip3202)\" style=\"fill:#009af9; stroke:none; fill-opacity:1\" cx=\"564.999\" cy=\"127.761\" r=\"3\"/>\n",
       "<polygon clip-path=\"url(#clip3200)\" points=\"\n",
       "489.799,62.931 562.315,62.931 562.315,32.691 489.799,32.691 \n",
       "  \" fill=\"#ffffff\" fill-opacity=\"1\"/>\n",
       "<polyline clip-path=\"url(#clip3200)\" style=\"stroke:#000000; stroke-width:1; stroke-opacity:1; fill:none\" points=\"\n",
       "  489.799,62.931 562.315,62.931 562.315,32.691 489.799,32.691 489.799,62.931 \n",
       "  \"/>\n",
       "<circle clip-path=\"url(#clip3200)\" style=\"fill:#000000; stroke:none; fill-opacity:1\" cx=\"516.799\" cy=\"47.811\" r=\"6\"/>\n",
       "<circle clip-path=\"url(#clip3200)\" style=\"fill:#009af9; stroke:none; fill-opacity:1\" cx=\"516.799\" cy=\"47.811\" r=\"5\"/>\n",
       "<g clip-path=\"url(#clip3200)\">\n",
       "<text style=\"fill:#000000; fill-opacity:1; font-family:Arial,Helvetica Neue,Helvetica,sans-serif; font-size:12; text-anchor:start;\" transform=\"rotate(0, 537.799, 52.311)\" x=\"537.799\" y=\"52.311\">y1</text>\n",
       "</g>\n",
       "</svg>\n"
      ]
     },
     "execution_count": 26,
     "metadata": {},
     "output_type": "execute_result"
    }
   ],
   "source": [
    "datapath = \"../data/clean/motor.csv\"\n",
    "(data, header) = readcsv(datapath, header = true)\n",
    "headerDict = Dict(col[2] => col[1] for col in enumerate(header))\n",
    "X = convert(Vector, data[:,headerDict[\"times\"]])\n",
    "y = convert(Vector, data[:,headerDict[\"accel\"]]);\n",
    "y /= maximum(y);\n",
    "scatter(X, y)"
   ]
  },
  {
   "cell_type": "markdown",
   "metadata": {},
   "source": [
    "# Construct a region graph"
   ]
  },
  {
   "cell_type": "markdown",
   "metadata": {},
   "source": [
    "Set some parameters to split up the data using Poon & Domingos Method"
   ]
  },
  {
   "cell_type": "code",
   "execution_count": 4,
   "metadata": {},
   "outputs": [
    {
     "data": {
      "text/html": [
       "60"
      ],
      "text/plain": [
       "60"
      ]
     },
     "execution_count": 4,
     "metadata": {},
     "output_type": "execute_result"
    }
   ],
   "source": [
    "# split size\n",
    "δ = 10\n",
    "\n",
    "# data range\n",
    "minX = 0\n",
    "maxX = 60"
   ]
  },
  {
   "cell_type": "code",
   "execution_count": 5,
   "metadata": {
    "collapsed": true
   },
   "outputs": [],
   "source": [
    "(rootRegion, sumRegions, gpRegions, allPartitions) = poonDomingos(δ, minX, maxX);"
   ]
  },
  {
   "cell_type": "code",
   "execution_count": 6,
   "metadata": {
    "collapsed": true
   },
   "outputs": [],
   "source": [
    "# set IDs for convenients\n",
    "RegionIDs = Dict(r[2] => r[1] for r in enumerate(union(sumRegions, gpRegions)));\n",
    "PartitionIDS = Dict(p[2] => p[1] + maximum(values(RegionIDs)) for p in enumerate(allPartitions));"
   ]
  },
  {
   "cell_type": "code",
   "execution_count": 7,
   "metadata": {},
   "outputs": [
    {
     "name": "stdout",
     "output_type": "stream",
     "text": [
      "Found 15 regions with sum nodes\n",
      "Found 6 regions with gp nodes\n",
      "Found 35 partitions with splitting nodes\n"
     ]
    }
   ],
   "source": [
    "println(\"Found $(length(sumRegions)) regions with sum nodes\")\n",
    "println(\"Found $(length(gpRegions)) regions with gp nodes\")\n",
    "println(\"Found $(length(allPartitions)) partitions with splitting nodes\")"
   ]
  },
  {
   "cell_type": "markdown",
   "metadata": {},
   "source": [
    "## Construct SPN from Region Graph"
   ]
  },
  {
   "cell_type": "markdown",
   "metadata": {},
   "source": [
    "Set some parameters"
   ]
  },
  {
   "cell_type": "code",
   "execution_count": 8,
   "metadata": {},
   "outputs": [
    {
     "data": {
      "text/plain": [
       "2-element Array{Distributions.Normal{Float64},1}:\n",
       " Distributions.Normal{Float64}(μ=1.60944, σ=1.0)\n",
       " Distributions.Normal{Float64}(μ=0.0, σ=1.0)    "
      ]
     },
     "execution_count": 8,
     "metadata": {},
     "output_type": "execute_result"
    }
   ],
   "source": [
    "global gID = 1\n",
    "\n",
    "numGPs = 100\n",
    "numSums = 1\n",
    "meanFunction = MeanZero();\n",
    "kernelFunction = SE(log(5.0),log(1.0));\n",
    "noise = -1.;\n",
    "\n",
    "# put some priors on the parameters\n",
    "set_priors!(kernelFunction, [Normal(log(5.0),1.0), Normal(log(1.0),1.0)])"
   ]
  },
  {
   "cell_type": "code",
   "execution_count": 9,
   "metadata": {},
   "outputs": [
    {
     "name": "stdout",
     "output_type": "stream",
     "text": [
      "BasicMCJob:\n",
      "  Variable [1]: p (BasicContMuvParameter)\n",
      "  GenericModel: 1 variables, 0 dependencies (directed graph)\n",
      "  HMC sampler: number of leaps = 10, leap step = 0.1\n",
      "  VanillaMCTuner: period = 100, verbose = false\n",
      "  BasicMCRange: number of steps = 1100, burnin = 100, thinning = 1BasicMCJob:\n",
      "  Variable [1]: p (BasicContMuvParameter)\n",
      "  GenericModel: 1 variables, 0 dependencies (directed graph)\n",
      "  HMC sampler: number of leaps = 10, leap step = 0.1\n",
      "  VanillaMCTuner: period = 100, verbose = false\n",
      "  BasicMCRange: number of steps = 1100, burnin = 100, thinning = 1BasicMCJob:\n",
      "  Variable [1]: p (BasicContMuvParameter)\n",
      "  GenericModel: 1 variables, 0 dependencies (directed graph)\n",
      "  HMC sampler: number of leaps = 10, leap step = 0.1\n",
      "  VanillaMCTuner: period = 100, verbose = false\n",
      "  BasicMCRange: number of steps = 1100, burnin = 100, thinning = 1BasicMCJob:\n",
      "  Variable [1]: p (BasicContMuvParameter)\n",
      "  GenericModel: 1 variables, 0 dependencies (directed graph)\n",
      "  HMC sampler: number of leaps = 10, leap step = 0.1\n",
      "  VanillaMCTuner: period = 100, verbose = false\n",
      "  BasicMCRange: number of steps = 1100, burnin = 100, thinning = 1BasicMCJob:\n",
      "  Variable [1]: p (BasicContMuvParameter)\n",
      "  GenericModel: 1 variables, 0 dependencies (directed graph)\n",
      "  HMC sampler: number of leaps = 10, leap step = 0.1\n",
      "  VanillaMCTuner: period = 100, verbose = false\n",
      "  BasicMCRange: number of steps = 1100, burnin = 100, thinning = 1BasicMCJob:\n",
      "  Variable [1]: p (BasicContMuvParameter)\n",
      "  GenericModel: 1 variables, 0 dependencies (directed graph)\n",
      "  HMC sampler: number of leaps = 10, leap step = 0.1\n",
      "  VanillaMCTuner: period = 100, verbose = false\n",
      "  BasicMCRange: number of steps = 1100, burnin = 100, thinning = 1"
     ]
    },
    {
     "data": {
      "text/plain": [
       "Gaussian Process Sum Node [ID: 52661, \n",
       "\t w_prior: [0.2, 0.2, 0.2, 0.2, 0.2], \n",
       "\t w_posterior: [0.2, 0.2, 0.2, 0.2, 0.2]]"
      ]
     },
     "execution_count": 9,
     "metadata": {},
     "output_type": "execute_result"
    }
   ],
   "source": [
    "root = convertToSPN(rootRegion, gpRegions, X, y, meanFunction, kernelFunction, noise; sampleNoise = false)"
   ]
  },
  {
   "cell_type": "markdown",
   "metadata": {},
   "source": [
    "# Posterior Inference over SPN-GP"
   ]
  },
  {
   "cell_type": "code",
   "execution_count": 21,
   "metadata": {},
   "outputs": [
    {
     "data": {
      "text/plain": [
       "spn_mcmc (generic function with 1 method)"
      ]
     },
     "execution_count": 21,
     "metadata": {},
     "output_type": "execute_result"
    }
   ],
   "source": [
    "function spn_mcmc(spn::GPSumNode, gpNodes::Vector{GPLeaf};\n",
    "              sampler::Klara.MCSampler=Klara.HMC(),\n",
    "              nIter::Int = 1000,\n",
    "              burnin::Int = 0,\n",
    "              thin::Int = 1)\n",
    "    \n",
    "    gps = map(n -> n.gp, gpNodes)\n",
    "    \n",
    "    function logpost(hyp::Vector{Float64})  #log-target\n",
    "        \n",
    "        for (i, gp) in enumerate(gps)\n",
    "            p = get_params(gp)\n",
    "            e = (i*2)\n",
    "            s = s-1\n",
    "            p[2:3] = hyp[s:e]\n",
    "            set_params!(gp, p)\n",
    "            update_target!(gp)\n",
    "        end\n",
    "        \n",
    "        dirty!(spn)\n",
    "        spn_update!(spn)\n",
    "        return spn_posterior(spn)\n",
    "    end\n",
    "\n",
    "    function dlogpost(hyp::Vector{Float64}) #gradient of the log-target\n",
    "        Kgrad_buffer = Array{Float64}(gp.nobsv, gp.nobsv)\n",
    "        for (i, gp) in enumerate(gps)\n",
    "            p = get_params(gp)\n",
    "            e = (i*2)\n",
    "            s = s-1\n",
    "            p[2:3] = hyp[s:e]\n",
    "            set_params!(gp, p)\n",
    "            update_target_and_dtarget!(gp, noise=false, mean=false, kern=true)\n",
    "            println(gp.dtarget)\n",
    "        end\n",
    "        \n",
    "        dirty!(spn)\n",
    "        spn_update!(spn)\n",
    "        \n",
    "        return gp.dtarget\n",
    "    end\n",
    "    \n",
    "    start = reduce(vcat, map(gp -> get_params(gp)[2:3], gps))\n",
    "    starting = Dict(:p=>start)\n",
    "    q = BasicContMuvParameter(:p, logtarget=logpost, gradlogtarget=dlogpost) \n",
    "    model = likelihood_model(q, false)                               #set-up the model\n",
    "    job = BasicMCJob(model, sampler, BasicMCRange(nsteps=nIter, thinning=thin, burnin=burnin), starting)   #set-up MCMC job\n",
    "    print(job)                                             #display MCMC set-up for the user\n",
    "    \n",
    "    run(job)                          #Run MCMC\n",
    "    chain = Klara.output(job)         # Extract chain\n",
    "    #set_params!(gp,start)      #reset the parameters stored in the GP to original values\n",
    "    return chain\n",
    "end "
   ]
  },
  {
   "cell_type": "code",
   "execution_count": 49,
   "metadata": {},
   "outputs": [
    {
     "ename": "LoadError",
     "evalue": "\u001b[91mInterruptException:\u001b[39m",
     "output_type": "error",
     "traceback": [
      "\u001b[91mInterruptException:\u001b[39m",
      "",
      "Stacktrace:",
      " [1] \u001b[1mfieldnames\u001b[22m\u001b[22m\u001b[1m(\u001b[22m\u001b[22m::DataType\u001b[1m)\u001b[22m\u001b[22m at \u001b[1m./reflection.jl:143\u001b[22m\u001b[22m",
      " [2] \u001b[1mflat!\u001b[22m\u001b[22m\u001b[1m(\u001b[22m\u001b[22m::Array{Any,1}, ::GPLeaf{Any}\u001b[1m)\u001b[22m\u001b[22m at \u001b[1m/home/mt752/.julia/v0.6/SumProductNetworks/src/utilityFunctions.jl:48\u001b[22m\u001b[22m",
      " [3] \u001b[1mflat!\u001b[22m\u001b[22m\u001b[1m(\u001b[22m\u001b[22m::Array{Any,1}, ::FiniteSplitNode\u001b[1m)\u001b[22m\u001b[22m at \u001b[1m/home/mt752/.julia/v0.6/SumProductNetworks/src/utilityFunctions.jl:50\u001b[22m\u001b[22m (repeats 15 times)",
      " [4] \u001b[1morder\u001b[22m\u001b[22m\u001b[1m(\u001b[22m\u001b[22m::GPSumNode\u001b[1m)\u001b[22m\u001b[22m at \u001b[1m/home/mt752/.julia/v0.6/SumProductNetworks/src/utilityFunctions.jl:35\u001b[22m\u001b[22m",
      " [5] \u001b[1minclude_string\u001b[22m\u001b[22m\u001b[1m(\u001b[22m\u001b[22m::String, ::String\u001b[1m)\u001b[22m\u001b[22m at \u001b[1m./loading.jl:522\u001b[22m\u001b[22m"
     ]
    }
   ],
   "source": [
    "nodes = SumProductNetworks.order(root)"
   ]
  },
  {
   "cell_type": "code",
   "execution_count": 23,
   "metadata": {},
   "outputs": [
    {
     "ename": "LoadError",
     "evalue": "\u001b[91mInterruptException:\u001b[39m",
     "output_type": "error",
     "traceback": [
      "\u001b[91mInterruptException:\u001b[39m",
      "",
      "Stacktrace:",
      " [1] \u001b[1mfieldnames\u001b[22m\u001b[22m\u001b[1m(\u001b[22m\u001b[22m::DataType\u001b[1m)\u001b[22m\u001b[22m at \u001b[1m./reflection.jl:143\u001b[22m\u001b[22m",
      " [2] \u001b[1mflat!\u001b[22m\u001b[22m\u001b[1m(\u001b[22m\u001b[22m::Array{Any,1}, ::FiniteSplitNode\u001b[1m)\u001b[22m\u001b[22m at \u001b[1m/home/mt752/.julia/v0.6/SumProductNetworks/src/utilityFunctions.jl:48\u001b[22m\u001b[22m",
      " [3] \u001b[1mflat!\u001b[22m\u001b[22m\u001b[1m(\u001b[22m\u001b[22m::Array{Any,1}, ::GPSumNode\u001b[1m)\u001b[22m\u001b[22m at \u001b[1m/home/mt752/.julia/v0.6/SumProductNetworks/src/utilityFunctions.jl:50\u001b[22m\u001b[22m (repeats 14 times)",
      " [4] \u001b[1morder\u001b[22m\u001b[22m\u001b[1m(\u001b[22m\u001b[22m::GPSumNode\u001b[1m)\u001b[22m\u001b[22m at \u001b[1m/home/mt752/.julia/v0.6/SumProductNetworks/src/utilityFunctions.jl:35\u001b[22m\u001b[22m",
      " [5] \u001b[1minclude_string\u001b[22m\u001b[22m\u001b[1m(\u001b[22m\u001b[22m::String, ::String\u001b[1m)\u001b[22m\u001b[22m at \u001b[1m./loading.jl:522\u001b[22m\u001b[22m"
     ]
    }
   ],
   "source": [
    "leafs = filter(n -> isa(n, GPLeaf), SumProductNetworks.order(root))"
   ]
  },
  {
   "cell_type": "code",
   "execution_count": 22,
   "metadata": {},
   "outputs": [
    {
     "ename": "LoadError",
     "evalue": "\u001b[91mMethodError: no method matching spn_mcmc(::GPSumNode)\u001b[0m\nClosest candidates are:\n  spn_mcmc(::GPSumNode, \u001b[91m::Array{GPLeaf,1}\u001b[39m; sampler, nIter, burnin, thin) at In[21]:7\u001b[39m",
     "output_type": "error",
     "traceback": [
      "\u001b[91mMethodError: no method matching spn_mcmc(::GPSumNode)\u001b[0m\nClosest candidates are:\n  spn_mcmc(::GPSumNode, \u001b[91m::Array{GPLeaf,1}\u001b[39m; sampler, nIter, burnin, thin) at In[21]:7\u001b[39m",
      "",
      "Stacktrace:",
      " [1] \u001b[1minclude_string\u001b[22m\u001b[22m\u001b[1m(\u001b[22m\u001b[22m::String, ::String\u001b[1m)\u001b[22m\u001b[22m at \u001b[1m./loading.jl:522\u001b[22m\u001b[22m"
     ]
    }
   ],
   "source": [
    "spn_mcmc(root)"
   ]
  },
  {
   "cell_type": "markdown",
   "metadata": {},
   "source": [
    "## posterior inference of weights"
   ]
  },
  {
   "cell_type": "code",
   "execution_count": 28,
   "metadata": {},
   "outputs": [
    {
     "data": {
      "text/html": [
       "-40.15978046284878"
      ],
      "text/plain": [
       "-40.15978046284878"
      ]
     },
     "execution_count": 28,
     "metadata": {},
     "output_type": "execute_result"
    }
   ],
   "source": [
    "spn_update!(root)"
   ]
  },
  {
   "cell_type": "code",
   "execution_count": 29,
   "metadata": {},
   "outputs": [
    {
     "data": {
      "text/html": [
       "-38.44777593617354"
      ],
      "text/plain": [
       "-38.44777593617354"
      ]
     },
     "execution_count": 29,
     "metadata": {},
     "output_type": "execute_result"
    }
   ],
   "source": [
    "spn_posterior(root)"
   ]
  },
  {
   "cell_type": "code",
   "execution_count": 27,
   "metadata": {},
   "outputs": [],
   "source": [
    "dirty!(root)"
   ]
  },
  {
   "cell_type": "code",
   "execution_count": 20,
   "metadata": {},
   "outputs": [
    {
     "data": {
      "text/plain": [
       "Gaussian Process Sum Node [ID: 52661, \n",
       "\t w_prior: [0.2, 0.2, 0.2, 0.2, 0.2], \n",
       "\t w_posterior: [0.2, 0.2, 0.2, 0.2, 0.2]]"
      ]
     },
     "execution_count": 20,
     "metadata": {},
     "output_type": "execute_result"
    }
   ],
   "source": [
    "root"
   ]
  },
  {
   "cell_type": "markdown",
   "metadata": {},
   "source": [
    "## Plotting"
   ]
  },
  {
   "cell_type": "code",
   "execution_count": 48,
   "metadata": {},
   "outputs": [],
   "source": [
    "S = 100\n",
    "\n",
    "x = linspace(minimum(X),maximum(X),S)\n",
    "xx = reduce(hcat, x for k in 1:S)\n",
    "yy = reduce(hcat, spn_randIndep(root, x) for k in 1:S)\n",
    "\n",
    "gp = GP(reshape(X, 1, length(X)), y, MeanZero(), SE(log(5.0),log(1.0)), -1.)\n",
    "μ, σ = predict_y(gp,linspace(minimum(X),maximum(X),100));\n",
    "\n",
    "#plt = scatter(X, y, label = \"observations\", legend = false, size = (1024, 768))\n",
    "#scatter!(xx+(rand(size(xx)) * 0.3), yy, markersize = 2, markerstrokewidth = 0, label = \"Posterior samples from SPN-GP\");\n",
    "#plot!(linspace(minimum(X),maximum(X),100), w =4, μ + 2*σ, color = :green, label = \"Full GP mean + 2*std\")\n",
    "#plot!(linspace(minimum(X),maximum(X),100), w =4, μ - 2*σ, color = :green, label = \"Full GP mean - 2*std\")\n",
    "#vline!([minimum(map(r -> r.min, gpRegions))], c = :orange)\n",
    "#vline!(map(r -> r.max, gpRegions), c = :orange)"
   ]
  },
  {
   "cell_type": "code",
   "execution_count": 43,
   "metadata": {
    "collapsed": true
   },
   "outputs": [],
   "source": [
    "savefig(\"../plots/poonDomingos_sharedNoiseModel_scatter.png\")"
   ]
  },
  {
   "cell_type": "markdown",
   "metadata": {},
   "source": [
    "## Histogram over parameters"
   ]
  },
  {
   "cell_type": "markdown",
   "metadata": {},
   "source": [
    "## Graph Plotting"
   ]
  },
  {
   "cell_type": "code",
   "execution_count": 44,
   "metadata": {
    "collapsed": true
   },
   "outputs": [],
   "source": [
    "sources = Int[]\n",
    "destinations = Int[]\n",
    "\n",
    "# add edges from regions to partitions\n",
    "for r in filter(r -> isa(r, SumRegion), union(sumRegions, gpRegions))\n",
    "    for p in r.partitions\n",
    "        push!(sources, RegionIDs[r])\n",
    "        push!(destinations, PartitionIDS[p])\n",
    "    end\n",
    "end\n",
    "\n",
    "# add edges from partitions to regions\n",
    "for p in allPartitions\n",
    "    for r in p.regions\n",
    "        push!(sources, PartitionIDS[p])\n",
    "        push!(destinations, RegionIDs[r])\n",
    "    end\n",
    "end"
   ]
  },
  {
   "cell_type": "code",
   "execution_count": 45,
   "metadata": {
    "collapsed": true
   },
   "outputs": [],
   "source": [
    "nodenames = vcat(map(r -> string(\"+\"),  union(sumRegions, gpRegions)), map(r -> string(\"*\"), allPartitions));\n",
    "colorings = vcat(map(r -> isa(r, SumRegion) ? :lightblue : :lightgreen,  union(sumRegions, gpRegions)), map(r -> :black, allPartitions));"
   ]
  },
  {
   "cell_type": "code",
   "execution_count": 47,
   "metadata": {},
   "outputs": [],
   "source": [
    "#gr(size = (400, 400))\n",
    "#graphplot(sources, destinations, names = nodenames, method = :tree, fontsize = 7, nodesize = 3, m = colorings, nodeshape = :rect)"
   ]
  }
 ],
 "metadata": {
  "kernelspec": {
   "display_name": "Julia 0.6.1",
   "language": "julia",
   "name": "julia-0.6"
  },
  "language_info": {
   "file_extension": ".jl",
   "mimetype": "application/julia",
   "name": "julia",
   "version": "0.6.1"
  }
 },
 "nbformat": 4,
 "nbformat_minor": 2
}
